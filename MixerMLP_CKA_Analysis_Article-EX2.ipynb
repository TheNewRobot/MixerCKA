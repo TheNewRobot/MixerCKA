{
 "cells": [
  {
   "cell_type": "markdown",
   "metadata": {
    "id": "-zSzgroG_Suq"
   },
   "source": [
    "# Study of Image classification with modern MLP Mixer model and CKA\n",
    "\n",
    "**Author:** [Arturo Flores](https://www.linkedin.com/in/afloresalv/)<br>\n",
    "**Based on (MLP-MIXER):**  https://keras.io/examples/vision/mlp_image_classification/"
   ]
  },
  {
   "cell_type": "markdown",
   "metadata": {
    "id": "U087DdDw_Suy"
   },
   "source": [
    "# Setup for the MLP-Mixer Architecture\n",
    "\n",
    "################################################################"
   ]
  },
  {
   "cell_type": "code",
   "execution_count": 1,
   "metadata": {
    "id": "AnTyoluw_Suz"
   },
   "outputs": [
    {
     "name": "stderr",
     "output_type": "stream",
     "text": [
      "C:\\Users\\alach\\AppData\\Roaming\\Python\\Python38\\site-packages\\tensorflow_addons\\utils\\ensure_tf_install.py:53: UserWarning: Tensorflow Addons supports using Python ops for all Tensorflow versions above or equal to 2.5.0 and strictly below 2.8.0 (nightly versions are not supported). \n",
      " The versions of TensorFlow you are currently using is 2.8.0 and is not supported. \n",
      "Some things might work, some things might not.\n",
      "If you were to encounter a bug, do not file an issue.\n",
      "If you want to make sure you're using a tested and supported configuration, either change the TensorFlow version or the TensorFlow Addons's version. \n",
      "You can find the compatibility matrix in TensorFlow Addon's readme:\n",
      "https://github.com/tensorflow/addons\n",
      "  warnings.warn(\n"
     ]
    }
   ],
   "source": [
    "import numpy as np\n",
    "import tensorflow as tf\n",
    "from tensorflow import keras\n",
    "from tensorflow.keras import layers\n",
    "import tensorflow_addons as tfa\n",
    "import matplotlib.pyplot as plt \n",
    "from scipy.stats import norm\n",
    "from matplotlib.ticker import FormatStrFormatter\n",
    "import datetime\n",
    "import pickle\n",
    "# Files imported from the sleected GitHub https://cka-similarity.github.io/\n",
    "from CKA_Google import *\n",
    "import seaborn as sns \n",
    "import random\n",
    "import matplotlib.pyplot as plt "
   ]
  },
  {
   "cell_type": "markdown",
   "metadata": {},
   "source": [
    "# Experiment 2 : Explore the importance of different widths"
   ]
  },
  {
   "cell_type": "markdown",
   "metadata": {
    "id": "8DAOrIHu_Su2"
   },
   "source": [
    "## Configure the hyperparameters"
   ]
  },
  {
   "cell_type": "code",
   "execution_count": 2,
   "metadata": {
    "id": "1iMiVS7o_Su3"
   },
   "outputs": [
    {
     "name": "stdout",
     "output_type": "stream",
     "text": [
      "Image size: 224 X 224 = 50176\n",
      "Patch size: 32 X 32 = 1024 \n",
      "Patches per image: 49\n",
      "Elements per patch (3 channels): 3072\n"
     ]
    },
    {
     "data": {
      "text/plain": [
       "'2022-03-23'"
      ]
     },
     "execution_count": 2,
     "metadata": {},
     "output_type": "execute_result"
    }
   ],
   "source": [
    "weight_decay = 0.0001\n",
    "batch_size = 512 \n",
    "num_epochs = 50\n",
    "dropout_rate = 0.2\n",
    "learning_rate = 0.005\n",
    "\n",
    "## Selected Architecture: B/32\n",
    "\n",
    "image_size = 224  # We'll resize input images to this size. Square\n",
    "patch_size = 32  # Size of the patches to be extracted from the input images. Square\n",
    "num_patches = (image_size // patch_size) ** 2  # Size of the data array, or sequence length (S)\n",
    "embedding_dim = [256,384,512,640]  \n",
    "num_blocks = [12] # Fixed number of layers Dimension\n",
    "\n",
    "print(f\"Image size: {image_size} X {image_size} = {image_size ** 2}\")\n",
    "print(f\"Patch size: {patch_size} X {patch_size} = {patch_size ** 2} \")\n",
    "print(f\"Patches per image: {num_patches}\")\n",
    "print(f\"Elements per patch (3 channels): {(patch_size ** 2) * 3}\")\n",
    "\n",
    "now = datetime.datetime.today()\n",
    "date = now.strftime(\"%Y-%m-%d\")\n",
    "str(date)"
   ]
  },
  {
   "cell_type": "markdown",
   "metadata": {
    "id": "fUuu2OAS_Su0"
   },
   "source": [
    "## Prepare the data"
   ]
  },
  {
   "cell_type": "code",
   "execution_count": 3,
   "metadata": {},
   "outputs": [
    {
     "name": "stdout",
     "output_type": "stream",
     "text": [
      "x_train shape: (50000, 32, 32, 3) - y_train shape: (50000, 1)\n",
      "x_test shape: (10000, 32, 32, 3) - y_test shape: (10000, 1)\n"
     ]
    }
   ],
   "source": [
    "#Dataset for training \n",
    "\n",
    "num_classes = 10\n",
    "input_shape = (32, 32, 3)\n",
    "\n",
    "(x_train, y_train), (x_test, y_test) = keras.datasets.cifar10.load_data()\n",
    "\n",
    "print(f\"x_train shape: {x_train.shape} - y_train shape: {y_train.shape}\")\n",
    "print(f\"x_test shape: {x_test.shape} - y_test shape: {y_test.shape}\")\n",
    "#plt.imshow(x_train[1])"
   ]
  },
  {
   "cell_type": "markdown",
   "metadata": {
    "id": "08mpnEZH_Su5"
   },
   "source": [
    "## Build a classification model"
   ]
  },
  {
   "cell_type": "code",
   "execution_count": 4,
   "metadata": {
    "id": "Ra-bXojQ_Su6"
   },
   "outputs": [],
   "source": [
    "def build_classifier(blocks, embedding_dim, positional_encoding=False):\n",
    "    inputs = layers.Input(shape=input_shape)\n",
    "    # Augment data. \n",
    "    augmented = data_augmentation(inputs)\n",
    "    # Create patches. \n",
    "    patches = Patches(patch_size, num_patches)(augmented)\n",
    "    # Encode patches to generate a [batch_size, num_patches, embedding_dim] tensor.\n",
    "    x = layers.Dense(units=embedding_dim)(patches)\n",
    "    if positional_encoding:\n",
    "        positions = tf.range(start=0, limit=num_patches, delta=1)\n",
    "        position_embedding = layers.Embedding(\n",
    "            input_dim=num_patches, output_dim=embedding_dim\n",
    "        )(positions)\n",
    "        x = x + position_embedding\n",
    "    # Process x using the module blocks. ## (sequential_82)\n",
    "    x = blocks(x)\n",
    "    # Apply global average pooling to generate a [batch_size, embedding_dim] representation tensor. \n",
    "    representation = layers.GlobalAveragePooling1D()(x)\n",
    "    # Apply dropout.\n",
    "    representation = layers.Dropout(rate=dropout_rate)(representation)\n",
    "    # Compute logits outputs.\n",
    "    logits = layers.Dense(num_classes)(representation) \n",
    "    # Create the Keras model.\n",
    "    return keras.Model(inputs=inputs, outputs=logits)\n"
   ]
  },
  {
   "cell_type": "markdown",
   "metadata": {
    "id": "cpQFU8H__Su8"
   },
   "source": [
    "## Define an experiment"
   ]
  },
  {
   "cell_type": "code",
   "execution_count": 5,
   "metadata": {
    "id": "9E1zD2BY_Su8"
   },
   "outputs": [],
   "source": [
    "def run_experiment(model):\n",
    "    # Create Adam optimizer with weight decay. Regularization that penalizes the increase of weight - with a facto alpha - to correct the overfitting\n",
    "    optimizer = tfa.optimizers.AdamW(\n",
    "        learning_rate=learning_rate, weight_decay=weight_decay,\n",
    "    )\n",
    "    # Compile the model.\n",
    "    model.compile(\n",
    "        optimizer=optimizer,\n",
    "        #Negative Log Likelihood = Categorical Cross Entropy\n",
    "        loss=keras.losses.SparseCategoricalCrossentropy(from_logits=True),\n",
    "        metrics=[\n",
    "            keras.metrics.SparseCategoricalAccuracy(name=\"acc\"),\n",
    "            keras.metrics.SparseTopKCategoricalAccuracy(5, name=\"top5-acc\"),\n",
    "        ],\n",
    "    )\n",
    "    # Create a learning rate scheduler callback.\n",
    "    reduce_lr = keras.callbacks.ReduceLROnPlateau(\n",
    "        monitor=\"val_loss\", factor=0.5, patience=5\n",
    "    )\n",
    "    # Create an early stopping regularization callback. \n",
    "    # It ends at a point that corresponds to a minimum of the L2-regularized objective\n",
    "    #early_stopping = tf.keras.callbacks.EarlyStopping(\n",
    "    #    monitor=\"val_loss\", patience=10, restore_best_weights=True\n",
    "    #)\n",
    "    # Fit the model.\n",
    "    history = model.fit(\n",
    "        x=x_train,\n",
    "        y=y_train,\n",
    "        batch_size=batch_size,\n",
    "        epochs=num_epochs,\n",
    "        validation_split=0.1,\n",
    "        callbacks=[reduce_lr],\n",
    "    )\n",
    "\n",
    "    _, accuracy, top_5_accuracy = model.evaluate(x_test, y_test)\n",
    "    print(f\"Test accuracy: {round(accuracy * 100, 2)}%\")\n",
    "    print(f\"Test top 5 accuracy: {round(top_5_accuracy * 100, 2)}%\")\n",
    "\n",
    "    # Return history to plot learning curves.\n",
    "    return history, accuracy, top_5_accuracy"
   ]
  },
  {
   "cell_type": "markdown",
   "metadata": {
    "id": "JxeE0cmM_Su9"
   },
   "source": [
    "## Use data augmentation\n",
    "Their state is not set during training; it must be set before training, either by initializing them from a precomputed constant, or by \"adapting\" them on data."
   ]
  },
  {
   "cell_type": "code",
   "execution_count": 6,
   "metadata": {
    "id": "zh6hFPWX_Su-"
   },
   "outputs": [],
   "source": [
    "data_augmentation = keras.Sequential(\n",
    "    [\n",
    "        layers.Normalization(),\n",
    "        layers.Resizing(image_size, image_size),\n",
    "        layers.RandomFlip(\"horizontal\"),\n",
    "        layers.RandomZoom(\n",
    "            height_factor=0.2, width_factor=0.2\n",
    "        ),\n",
    "    ],\n",
    "    name=\"data_augmentation\",\n",
    ")\n",
    "# Compute the mean and the variance of the training data for normalization.\n",
    "data_augmentation.layers[0].adapt(x_train)\n"
   ]
  },
  {
   "cell_type": "markdown",
   "metadata": {
    "id": "G77cUgiu_Su-"
   },
   "source": [
    "## Implement patch extraction as a layer"
   ]
  },
  {
   "cell_type": "code",
   "execution_count": 7,
   "metadata": {
    "id": "RYKNktXe_Su_"
   },
   "outputs": [],
   "source": [
    "\n",
    "class Patches(layers.Layer):\n",
    "    def __init__(self, patch_size, num_patches):\n",
    "        super(Patches, self).__init__()\n",
    "        self.patch_size = patch_size\n",
    "        self.num_patches = num_patches\n",
    "\n",
    "    def call(self, images):\n",
    "        #Extract the shape dimension in the position 0 = columns\n",
    "        batch_size = tf.shape(images)[0]\n",
    "        patches = tf.image.extract_patches(\n",
    "            images=images,\n",
    "            sizes=[1, self.patch_size, self.patch_size, 1],\n",
    "            #Without overlapping, stride horizontally and vertically\n",
    "            strides=[1, self.patch_size, self.patch_size, 1],\n",
    "            #Rate: Dilation factor [1 1* 1* 1] controls the spacing between the kernel points.\n",
    "            rates=[1, 1, 1, 1],\n",
    "            #Patches contained in the images are considered, no zero padding\n",
    "            padding=\"VALID\",\n",
    "        )\n",
    "        #shape[-1], number of colummns, as well as shape[0]\n",
    "        patch_dims = patches.shape[-1]\n",
    "        patches = tf.reshape(patches, [batch_size, self.num_patches, patch_dims])\n",
    "        return patches\n",
    "\n",
    "    def get_config(self):\n",
    "        config = super(Patches, self).get_config().copy()\n",
    "        config.update ({\n",
    "            'patch_size' : self.patch_size ,\n",
    "            'num_patches' : self.num_patches\n",
    "        })\n",
    "        return config"
   ]
  },
  {
   "cell_type": "markdown",
   "metadata": {
    "id": "l7yehcSS_Su_"
   },
   "source": [
    "## The MLP-Mixer model\n",
    "\n",
    "The MLP-Mixer is an architecture based exclusively on\n",
    "multi-layer perceptrons (MLPs), that contains two types of MLP layers:\n",
    "\n",
    "1. One applied independently to image patches, which mixes the per-location features.\n",
    "2. The other applied across patches (along channels), which mixes spatial information.\n",
    "\n",
    "This is similar to a [depthwise separable convolution based model](https://arxiv.org/pdf/1610.02357.pdf)\n",
    "such as the Xception model, but with two chained dense transforms, no max pooling, and layer normalization\n",
    "instead of batch normalization."
   ]
  },
  {
   "cell_type": "markdown",
   "metadata": {
    "id": "vvwg4e2n_SvA"
   },
   "source": [
    "### Implement the MLP-Mixer module"
   ]
  },
  {
   "cell_type": "code",
   "execution_count": 8,
   "metadata": {
    "id": "dT6wVEki_SvA"
   },
   "outputs": [],
   "source": [
    "\n",
    "class MLPMixerLayer(layers.Layer):\n",
    "    def __init__(self, num_patches, embedding_dim, dropout_rate, *args, **kwargs):\n",
    "        super(MLPMixerLayer, self).__init__(*args, **kwargs)\n",
    "\n",
    "        self.mlp1 = keras.Sequential(\n",
    "            [\n",
    "                layers.Dense(units=num_patches),\n",
    "                tfa.layers.GELU(),\n",
    "                layers.Dense(units=num_patches),\n",
    "                layers.Dropout(rate=dropout_rate),\n",
    "            ]\n",
    "        )\n",
    "\n",
    "        self.mlp2 = keras.Sequential(\n",
    "            [\n",
    "                layers.Dense(units=num_patches),\n",
    "                tfa.layers.GELU(),\n",
    "                layers.Dense(units=embedding_dim),\n",
    "                layers.Dropout(rate=dropout_rate),\n",
    "            ]\n",
    "        )\n",
    "        self.normalize = layers.LayerNormalization(epsilon=1e-6)\n",
    "\n",
    "    def call(self, inputs):\n",
    "        # Apply layer normalization.\n",
    "        x = self.normalize(inputs)\n",
    "        # Transpose inputs from [num_batches, num_patches, hidden_units] to [num_batches, hidden_units, num_patches].\n",
    "        x_channels = tf.linalg.matrix_transpose(x)\n",
    "        # Apply mlp1 on each channel independently.\n",
    "        mlp1_outputs = self.mlp1(x_channels)\n",
    "        # Transpose mlp1_outputs from [num_batches, hidden_dim, num_patches] to [num_batches, num_patches, hidden_units].\n",
    "        mlp1_outputs = tf.linalg.matrix_transpose(mlp1_outputs)\n",
    "        # Add skip connection.\n",
    "        x = mlp1_outputs + inputs\n",
    "        # Apply layer normalization.\n",
    "        x_patches = self.normalize(x)\n",
    "        # Apply mlp2 on each patch independtenly.\n",
    "        mlp2_outputs = self.mlp2(x_patches)\n",
    "        # Add skip connection.\n",
    "        x = x + mlp2_outputs\n",
    "        return x\n",
    "\n",
    "    def get_config(self): \n",
    "        config = super(MLPMixerLayer, self).get_config().copy()\n",
    "        config.update ({\n",
    "            'num_patches' : num_patches,\n",
    "            'embedding_dim' : embedding_dim,\n",
    "            'dropout_rate' : dropout_rate,\n",
    "        })\n",
    "        return config"
   ]
  },
  {
   "cell_type": "markdown",
   "metadata": {
    "id": "zUiufq92_SvA"
   },
   "source": [
    "## Build, train, and evaluate the MLP-Mixer model\n",
    "\n",
    "Note that training the model with the current settings on a V100 GPUs\n",
    "takes around 8 seconds per epoch."
   ]
  },
  {
   "cell_type": "code",
   "execution_count": 9,
   "metadata": {},
   "outputs": [],
   "source": [
    "# Report: Learning Curve\n",
    "def curves(history):\n",
    "    ymax1 = min(history[\"loss\"])\n",
    "    xmax1 = history[\"loss\"].index(ymax1)\n",
    "    ymax2 = min(history[\"val_loss\"])\n",
    "    xmax2 = history[\"val_loss\"].index(ymax2)\n",
    "    plt.title(\"Cross Entropy Loss\")\n",
    "    plt.plot(history[\"loss\"], color = 'blue', label = 'Training')\n",
    "    plt.plot(history[\"val_loss\"], color = 'orange', label = 'Testing')\n",
    "    plt.xlabel(\"Epochs\")\n",
    "    plt.annotate('Max:' + str(round(ymax1,2)) , xy = (xmax1, ymax1), xytext = (xmax1*0.93, 1.07*ymax1), \n",
    "                    arrowprops=dict(facecolor='blue', headwidth= 6, headlength =9))\n",
    "    plt.annotate('Max:' + str(round(ymax2,2)) , xy = (xmax2, ymax2), xytext = (xmax2*0.93, 1.07*ymax2), \n",
    "                    arrowprops=dict(facecolor='goldenrod', headwidth= 6, headlength =9))\n",
    "    plt.xlim([0,num_epochs])\n",
    "    plt.legend()\n",
    "    plt.show()\n",
    "    # Graph accuracy\n",
    "    ymax3 = max(history[\"acc\"])\n",
    "    xmax3 = history[\"acc\"].index(ymax3)\n",
    "    ymax4 = max(history[\"val_acc\"])\n",
    "    xmax4 = history[\"val_acc\"].index(ymax4)\n",
    "    ymax5 = max(history[\"top5-acc\"])\n",
    "    xmax5 = history[\"top5-acc\"].index(ymax5)\n",
    "    ymax6 = max(history[\"val_top5-acc\"])\n",
    "    xmax6 = history[\"val_top5-acc\"].index(ymax6)\n",
    "    plt.subplot(2,1,1)\n",
    "    plt.title('Classification accuracy')\n",
    "    plt.plot(history['acc'], color = 'blue', label = 'Training')\n",
    "    plt.plot(history['val_acc'], color = 'orange', label = 'Testing')\n",
    "    plt.annotate('Max:' + str(round(ymax3,2)) , xy = (xmax3, ymax3), xytext = (xmax3*0.93, 1.2*ymax3), \n",
    "                    arrowprops=dict(facecolor='blue', headwidth= 6, headlength =9))\n",
    "    plt.annotate('Max:' + str(round(ymax4,2)) , xy = (xmax4, ymax4), xytext = (xmax4*0.93, 0.7*ymax4), \n",
    "                    arrowprops=dict(facecolor='goldenrod', headwidth= 6, headlength =9))\n",
    "    plt.subplot(2,1,2)\n",
    "    plt.title('Classification top5-acc')\n",
    "    plt.plot(history['top5-acc'], color = 'blue', label = 'Training')\n",
    "    plt.plot(history['val_top5-acc'], color = 'orange', label = 'Testing')\n",
    "    plt.annotate('Max:' + str(round(ymax5,2)) , xy = (xmax5, ymax5), xytext = (xmax5*0.93, 1.2*ymax5), \n",
    "                    arrowprops=dict(facecolor='blue', headwidth= 6, headlength =9))\n",
    "    plt.annotate('Max:' + str(round(ymax6,2)) , xy = (xmax6, ymax6), xytext = (xmax6*0.87, 1.2*ymax6), \n",
    "                    arrowprops=dict(facecolor='goldenrod', headwidth= 6, headlength =9))\n",
    "    plt.xlim([0,num_epochs])\n",
    "    plt.xlabel(\"Epochs\")\n",
    "    plt.suptitle(\"Learning Curves\")\n",
    "    plt.legend()\n",
    "    plt.tight_layout()\n",
    "    plt.show()"
   ]
  },
  {
   "cell_type": "markdown",
   "metadata": {},
   "source": [
    "## Obtain activations + Visualization"
   ]
  },
  {
   "cell_type": "code",
   "execution_count": 10,
   "metadata": {},
   "outputs": [],
   "source": [
    "# Preprocessing Layers + Patches + One dense layer\n",
    "def Preprocessing(num_example):\n",
    "    augmented = data_augmentation(x_train[num_example])\n",
    "    b = Patches(patch_size, num_patches)(augmented)\n",
    "    a = layers.Dense(units=embedding_dim)(b)\n",
    "    inp = tf.reshape(a,[1,embedding_dim,num_patches])\n",
    "    return inp"
   ]
  },
  {
   "cell_type": "code",
   "execution_count": 11,
   "metadata": {},
   "outputs": [],
   "source": [
    "# Creates a random vector with indexes of a random batch selection and also regularizes the selected batch\n",
    "def Batch_Preprocessing(batch_size):\n",
    "    #Vector with the number of Sample of the Xtrain\n",
    "    a  = list(range(0,x_train.shape[0]))\n",
    "    b = random.sample(a,batch_size)\n",
    "    batch_regularization = list()\n",
    "    for i in range(0,batch_size):\n",
    "        inter_result = Preprocessing(b[i])\n",
    "        batch_regularization.append(inter_result)\n",
    "    return batch_regularization\n"
   ]
  },
  {
   "cell_type": "code",
   "execution_count": 12,
   "metadata": {},
   "outputs": [],
   "source": [
    "def visualize_out(result,layer_number,example):\n",
    "    fig, (ax1, ax2)= plt.subplots(1,2)\n",
    "    ax1.imshow(x_train[example])\n",
    "    ax1.set_title('Original_Figure, Class: #' + str(y_train[example][0]))\n",
    "    ax2.imshow(result[layer_number])\n",
    "    ax2.set_title('Activations of MLP block of the Mixer #: '+ '\"' + str(layer_number) + '\"')\n",
    "    return None"
   ]
  },
  {
   "cell_type": "code",
   "execution_count": 13,
   "metadata": {},
   "outputs": [],
   "source": [
    "def Mixer_Layer_Outputs(model_input, model_output,example):\n",
    "    #The input is fixed to the beginning of the mlp blocks\n",
    "    intermediate_model=tf.keras.models.Model(inputs=model_input.input,outputs=model_output.output)\n",
    "    #This reshape is necessary for the input of the model\n",
    "    example = tf.reshape(example,[1,num_patches,embedding_dim])\n",
    "    #Inference\n",
    "    intermediate_prediction =intermediate_model.predict(example)\n",
    "    #This reshape is standardize the output\n",
    "    layactivation = intermediate_prediction.reshape((embedding_dim,num_patches))\n",
    "    return layactivation"
   ]
  },
  {
   "cell_type": "code",
   "execution_count": 14,
   "metadata": {},
   "outputs": [],
   "source": [
    "## Computes the outputs of each MLP-mixer Layer\n",
    "def Mixer_Activations(model, example):\n",
    "    total_activations = list()\n",
    "    for i in range(num_blocks):\n",
    "        model_input = model.layers[4].layers[0]\n",
    "        model_output = model.layers[4].layers[i]\n",
    "        int_total_activations = Mixer_Layer_Outputs(model_input, model_output, example)\n",
    "        total_activations.append(int_total_activations)\n",
    "    return  total_activations"
   ]
  },
  {
   "cell_type": "code",
   "execution_count": 15,
   "metadata": {},
   "outputs": [],
   "source": [
    "#Average of layer's activation\n",
    "def Prom_Mixer_Activations_Blocks(model,batch_regularization):\n",
    "    sum = list()\n",
    "    for i in range(0,num_blocks):\n",
    "        sum_raw = np.zeros((embedding_dim,num_patches))\n",
    "        sum.append(sum_raw)\n",
    "    for i in range(0,batch_size):\n",
    "        mixer_raw = Mixer_Activations(model,batch_regularization[i])\n",
    "        for i in range(0,num_blocks):\n",
    "            sum[i] = np.add(mixer_raw[i],sum[i])\n",
    "    prom_mixer_activations = [ (number / batch_size)  for number in sum]\n",
    "    return prom_mixer_activations"
   ]
  },
  {
   "cell_type": "markdown",
   "metadata": {},
   "source": [
    "# CKA"
   ]
  },
  {
   "cell_type": "code",
   "execution_count": 16,
   "metadata": {},
   "outputs": [],
   "source": [
    "# Calculates a heatmap according to the selection of a CKA_Kernel (preferred) or CKA_Linear\n",
    "def Heatmap(result,type,sigma):\n",
    "    dim = len(result)\n",
    "    k = (dim - 1)\n",
    "    heatmap_CKA = np.zeros((dim,dim))\n",
    "    for i in range(0,dim):\n",
    "        tr = (dim - 1)\n",
    "        for j in range(0,dim):\n",
    "            if type == 'kernel':\n",
    "                heatmap_CKA[k][tr] = cka(gram_rbf(result[i],sigma),gram_rbf(result[j],sigma))\n",
    "            elif type == 'linear':\n",
    "                heatmap_CKA[k][tr] = cka(gram_linear(result[i]),gram_linear(result[j])) \n",
    "            else:\n",
    "                print('There is no such category, try again')\n",
    "                break\n",
    "\n",
    "            tr -= 1\n",
    "        k -= 1\n",
    "    #print('CKA' + type + 'calculated')\n",
    "    return heatmap_CKA"
   ]
  },
  {
   "cell_type": "code",
   "execution_count": 17,
   "metadata": {},
   "outputs": [],
   "source": [
    "#Average of heatmaps (obsolet)\n",
    "def Prom_Mixer_Heatmaps(batch_result,type):\n",
    "    mat_heatmaps = list()\n",
    "    prom_mixer_heatmap_raw = np.zeros((num_blocks,num_blocks))\n",
    "    for i in range(0,batch_size):\n",
    "        mixer_activations_raw = Mixer_Activations(batch_result[i])\n",
    "        heatmap_raw = Heatmap(mixer_activations_raw, type)\n",
    "        mat_heatmaps.append(heatmap_raw)\n",
    "        prom_mixer_heatmap_raw = np.add(heatmap_raw,prom_mixer_heatmap_raw)\n",
    "    prom_mixer_heatmap =  prom_mixer_heatmap_raw/batch_size  \n",
    "    return prom_mixer_heatmap,mat_heatmaps"
   ]
  },
  {
   "cell_type": "code",
   "execution_count": 18,
   "metadata": {},
   "outputs": [],
   "source": [
    "def visualize_Heatmap(heatmap,type,bl):\n",
    "    #Number of thats that you want to appear in the plot\n",
    "    tri = 4\n",
    "    if type == 'kernel' or type == 'linear':\n",
    "        dim = len(heatmap)\n",
    "        axis_labels = list()\n",
    "        for i in range(0,dim):\n",
    "            axis_labels_inter = str('%i'%(i+1))\n",
    "            axis_labels.append(axis_labels_inter)\n",
    "        _, ax = plt.subplots(figsize=(3,3))\n",
    "        ax = sns.heatmap(heatmap, xticklabels=axis_labels[::-1], yticklabels=axis_labels[::-1], ax = ax, annot=bl)\n",
    "        #sns.heatmap(heatmap, xticklabels=2, yticklabels=2, ax = ax, annot=bl, cbar=True)   \n",
    "        ax.invert_xaxis()\n",
    "        ax.axhline(y = 0, color='k',linewidth = 4)\n",
    "        ax.axhline(y = heatmap.shape[1], color = 'k', linewidth = 4)\n",
    "        ax.axvline(x = 0, color ='k',linewidth = 4)\n",
    "        ax.axvline(x = heatmap.shape[0], color = 'k', linewidth = 4)\n",
    "\n",
    "        ax.set_title(\"CKA-\"+ type)   \n",
    "        ax.set_xlabel(\"Layer\")\n",
    "        ax.set_ylabel(\"Layer\")\n",
    "        plt.yticks(rotation=0)\n",
    "        plt.locator_params(axis='x',nbins=tri)\n",
    "        plt.locator_params(axis='y',nbins=tri)\n",
    "        plt.savefig('CKA_'+ type +'.png', dpi=300)\n",
    "        \n",
    "    else:\n",
    "        print('There is no such category, try again')"
   ]
  },
  {
   "cell_type": "markdown",
   "metadata": {},
   "source": [
    "# Experiment 2 : Explore the importance of different widths"
   ]
  },
  {
   "cell_type": "markdown",
   "metadata": {},
   "source": [
    "## 2A: Different widths"
   ]
  },
  {
   "cell_type": "code",
   "execution_count": 19,
   "metadata": {},
   "outputs": [],
   "source": [
    "#Create different mlpmixers according to an array of widths or depths\n",
    "def mlpmixer_iterations(num_patches,experiment,embedding_dim,num_blocks):\n",
    "    it_widths = len(embedding_dim)\n",
    "    it_blocks = len(num_blocks)\n",
    "    for j in range(it_widths):\n",
    "        for i in range(it_blocks):\n",
    "            mlpmixer_blocks = keras.Sequential(\n",
    "            [MLPMixerLayer(num_patches, embedding_dim[j], dropout_rate) for _ in range(num_blocks[i])] # creates the number of block without a \n",
    "            )\n",
    "            mlpmixer_classifier = build_classifier(mlpmixer_blocks,embedding_dim[j]) # Returns the model\n",
    "            history,accuracy, top_5_accuracy = run_experiment(mlpmixer_classifier)\n",
    "            #Saving Results\n",
    "            pwd = 'Results_Article/'+ str(experiment) +'/mlpmixer_'+ str(num_blocks[i]) + 'ly_' + str(embedding_dim[j]) + 'Dc'\n",
    "            mlpmixer_classifier.save(pwd)\n",
    "            np.save( pwd + '/history.npy',history.history)\n",
    "            with open(pwd + '/accuracy.pkl','wb') as file:\n",
    "                pickle.dump(accuracy,file)\n",
    "            with open(pwd + '/top5-accuracy.pkl','wb') as file:\n",
    "                pickle.dump(top_5_accuracy,file)"
   ]
  },
  {
   "cell_type": "code",
   "execution_count": 20,
   "metadata": {},
   "outputs": [
    {
     "name": "stdout",
     "output_type": "stream",
     "text": [
      "Epoch 1/50\n",
      "88/88 [==============================] - 25s 194ms/step - loss: 3.7234 - acc: 0.2418 - top5-acc: 0.7346 - val_loss: 1.6849 - val_acc: 0.3872 - val_top5-acc: 0.8752 - lr: 0.0050\n",
      "Epoch 2/50\n",
      "88/88 [==============================] - 16s 181ms/step - loss: 1.5863 - acc: 0.4222 - top5-acc: 0.9003 - val_loss: 1.4300 - val_acc: 0.4874 - val_top5-acc: 0.9184 - lr: 0.0050\n",
      "Epoch 3/50\n",
      "88/88 [==============================] - 16s 181ms/step - loss: 1.4588 - acc: 0.4729 - top5-acc: 0.9192 - val_loss: 1.3658 - val_acc: 0.5148 - val_top5-acc: 0.9324 - lr: 0.0050\n",
      "Epoch 4/50\n",
      "88/88 [==============================] - 16s 181ms/step - loss: 1.3656 - acc: 0.5084 - top5-acc: 0.9334 - val_loss: 1.2603 - val_acc: 0.5376 - val_top5-acc: 0.9466 - lr: 0.0050\n",
      "Epoch 5/50\n",
      "88/88 [==============================] - 16s 181ms/step - loss: 1.3025 - acc: 0.5341 - top5-acc: 0.9404 - val_loss: 1.1890 - val_acc: 0.5744 - val_top5-acc: 0.9510 - lr: 0.0050\n",
      "Epoch 6/50\n",
      "88/88 [==============================] - 16s 181ms/step - loss: 1.2556 - acc: 0.5481 - top5-acc: 0.9462 - val_loss: 1.1632 - val_acc: 0.5880 - val_top5-acc: 0.9524 - lr: 0.0050\n",
      "Epoch 7/50\n",
      "88/88 [==============================] - 16s 182ms/step - loss: 1.2215 - acc: 0.5628 - top5-acc: 0.9491 - val_loss: 1.1970 - val_acc: 0.5792 - val_top5-acc: 0.9520 - lr: 0.0050\n",
      "Epoch 8/50\n",
      "88/88 [==============================] - 16s 182ms/step - loss: 1.1905 - acc: 0.5729 - top5-acc: 0.9532 - val_loss: 1.1352 - val_acc: 0.5888 - val_top5-acc: 0.9626 - lr: 0.0050\n",
      "Epoch 9/50\n",
      "88/88 [==============================] - 16s 182ms/step - loss: 1.1596 - acc: 0.5850 - top5-acc: 0.9540 - val_loss: 1.0844 - val_acc: 0.6180 - val_top5-acc: 0.9620 - lr: 0.0050\n",
      "Epoch 10/50\n",
      "88/88 [==============================] - 16s 182ms/step - loss: 1.1528 - acc: 0.5898 - top5-acc: 0.9563 - val_loss: 1.1099 - val_acc: 0.6026 - val_top5-acc: 0.9616 - lr: 0.0050\n",
      "Epoch 11/50\n",
      "88/88 [==============================] - 16s 182ms/step - loss: 1.1101 - acc: 0.6053 - top5-acc: 0.9603 - val_loss: 1.0710 - val_acc: 0.6190 - val_top5-acc: 0.9638 - lr: 0.0050\n",
      "Epoch 12/50\n",
      "88/88 [==============================] - 16s 183ms/step - loss: 1.1002 - acc: 0.6114 - top5-acc: 0.9597 - val_loss: 1.0314 - val_acc: 0.6358 - val_top5-acc: 0.9626 - lr: 0.0050\n",
      "Epoch 13/50\n",
      "88/88 [==============================] - 16s 182ms/step - loss: 1.0867 - acc: 0.6132 - top5-acc: 0.9610 - val_loss: 0.9876 - val_acc: 0.6526 - val_top5-acc: 0.9698 - lr: 0.0050\n",
      "Epoch 14/50\n",
      "88/88 [==============================] - 16s 182ms/step - loss: 1.0583 - acc: 0.6242 - top5-acc: 0.9645 - val_loss: 0.9728 - val_acc: 0.6562 - val_top5-acc: 0.9704 - lr: 0.0050\n",
      "Epoch 15/50\n",
      "88/88 [==============================] - 16s 182ms/step - loss: 1.0344 - acc: 0.6330 - top5-acc: 0.9657 - val_loss: 1.0218 - val_acc: 0.6430 - val_top5-acc: 0.9672 - lr: 0.0050\n",
      "Epoch 16/50\n",
      "88/88 [==============================] - 16s 182ms/step - loss: 1.0252 - acc: 0.6365 - top5-acc: 0.9664 - val_loss: 0.9505 - val_acc: 0.6632 - val_top5-acc: 0.9720 - lr: 0.0050\n",
      "Epoch 17/50\n",
      "88/88 [==============================] - 16s 182ms/step - loss: 1.0153 - acc: 0.6398 - top5-acc: 0.9666 - val_loss: 0.9368 - val_acc: 0.6730 - val_top5-acc: 0.9728 - lr: 0.0050\n",
      "Epoch 18/50\n",
      "88/88 [==============================] - 16s 182ms/step - loss: 1.0027 - acc: 0.6439 - top5-acc: 0.9688 - val_loss: 0.9595 - val_acc: 0.6636 - val_top5-acc: 0.9714 - lr: 0.0050\n",
      "Epoch 19/50\n",
      "88/88 [==============================] - 16s 183ms/step - loss: 0.9908 - acc: 0.6485 - top5-acc: 0.9690 - val_loss: 0.9539 - val_acc: 0.6646 - val_top5-acc: 0.9710 - lr: 0.0050\n",
      "Epoch 20/50\n",
      "88/88 [==============================] - 16s 183ms/step - loss: 0.9741 - acc: 0.6555 - top5-acc: 0.9712 - val_loss: 0.9098 - val_acc: 0.6790 - val_top5-acc: 0.9750 - lr: 0.0050\n",
      "Epoch 21/50\n",
      "88/88 [==============================] - 16s 183ms/step - loss: 0.9777 - acc: 0.6511 - top5-acc: 0.9697 - val_loss: 0.8847 - val_acc: 0.6872 - val_top5-acc: 0.9776 - lr: 0.0050\n",
      "Epoch 22/50\n",
      "88/88 [==============================] - 16s 183ms/step - loss: 0.9445 - acc: 0.6666 - top5-acc: 0.9707 - val_loss: 0.9034 - val_acc: 0.6890 - val_top5-acc: 0.9746 - lr: 0.0050\n",
      "Epoch 23/50\n",
      "88/88 [==============================] - 16s 183ms/step - loss: 0.9272 - acc: 0.6736 - top5-acc: 0.9733 - val_loss: 0.8628 - val_acc: 0.6976 - val_top5-acc: 0.9790 - lr: 0.0050\n",
      "Epoch 24/50\n",
      "88/88 [==============================] - 16s 183ms/step - loss: 0.9109 - acc: 0.6788 - top5-acc: 0.9744 - val_loss: 0.8770 - val_acc: 0.6946 - val_top5-acc: 0.9766 - lr: 0.0050\n",
      "Epoch 25/50\n",
      "88/88 [==============================] - 16s 182ms/step - loss: 0.9158 - acc: 0.6774 - top5-acc: 0.9745 - val_loss: 0.8894 - val_acc: 0.6922 - val_top5-acc: 0.9762 - lr: 0.0050\n",
      "Epoch 26/50\n",
      "88/88 [==============================] - 16s 183ms/step - loss: 0.9084 - acc: 0.6798 - top5-acc: 0.9749 - val_loss: 0.8481 - val_acc: 0.7058 - val_top5-acc: 0.9808 - lr: 0.0050\n",
      "Epoch 27/50\n",
      "88/88 [==============================] - 16s 183ms/step - loss: 0.8889 - acc: 0.6846 - top5-acc: 0.9759 - val_loss: 0.8356 - val_acc: 0.7070 - val_top5-acc: 0.9816 - lr: 0.0050\n",
      "Epoch 28/50\n",
      "88/88 [==============================] - 16s 183ms/step - loss: 0.8893 - acc: 0.6846 - top5-acc: 0.9754 - val_loss: 0.8235 - val_acc: 0.7060 - val_top5-acc: 0.9788 - lr: 0.0050\n",
      "Epoch 29/50\n",
      "88/88 [==============================] - 16s 183ms/step - loss: 0.8920 - acc: 0.6878 - top5-acc: 0.9762 - val_loss: 0.9016 - val_acc: 0.6874 - val_top5-acc: 0.9766 - lr: 0.0050\n",
      "Epoch 30/50\n",
      "88/88 [==============================] - 16s 183ms/step - loss: 0.8671 - acc: 0.6932 - top5-acc: 0.9775 - val_loss: 0.8347 - val_acc: 0.7082 - val_top5-acc: 0.9822 - lr: 0.0050\n",
      "Epoch 31/50\n",
      "88/88 [==============================] - 16s 183ms/step - loss: 0.8368 - acc: 0.7061 - top5-acc: 0.9789 - val_loss: 0.8336 - val_acc: 0.7088 - val_top5-acc: 0.9782 - lr: 0.0050\n",
      "Epoch 32/50\n",
      "88/88 [==============================] - 16s 183ms/step - loss: 0.8437 - acc: 0.7016 - top5-acc: 0.9783 - val_loss: 0.8044 - val_acc: 0.7178 - val_top5-acc: 0.9822 - lr: 0.0050\n",
      "Epoch 33/50\n",
      "88/88 [==============================] - 16s 183ms/step - loss: 0.8284 - acc: 0.7077 - top5-acc: 0.9788 - val_loss: 0.8105 - val_acc: 0.7220 - val_top5-acc: 0.9804 - lr: 0.0050\n",
      "Epoch 34/50\n",
      "88/88 [==============================] - 16s 183ms/step - loss: 0.8231 - acc: 0.7102 - top5-acc: 0.9803 - val_loss: 0.8069 - val_acc: 0.7190 - val_top5-acc: 0.9820 - lr: 0.0050\n",
      "Epoch 35/50\n",
      "88/88 [==============================] - 16s 184ms/step - loss: 0.8128 - acc: 0.7132 - top5-acc: 0.9802 - val_loss: 0.8127 - val_acc: 0.7196 - val_top5-acc: 0.9798 - lr: 0.0050\n",
      "Epoch 36/50\n",
      "88/88 [==============================] - 16s 183ms/step - loss: 0.8235 - acc: 0.7091 - top5-acc: 0.9794 - val_loss: 0.8766 - val_acc: 0.7058 - val_top5-acc: 0.9790 - lr: 0.0050\n",
      "Epoch 37/50\n",
      "88/88 [==============================] - 16s 183ms/step - loss: 0.8097 - acc: 0.7157 - top5-acc: 0.9808 - val_loss: 0.7751 - val_acc: 0.7284 - val_top5-acc: 0.9858 - lr: 0.0050\n",
      "Epoch 38/50\n",
      "88/88 [==============================] - 16s 183ms/step - loss: 0.7984 - acc: 0.7180 - top5-acc: 0.9812 - val_loss: 0.8095 - val_acc: 0.7216 - val_top5-acc: 0.9826 - lr: 0.0050\n",
      "Epoch 39/50\n",
      "88/88 [==============================] - 16s 183ms/step - loss: 0.8036 - acc: 0.7157 - top5-acc: 0.9806 - val_loss: 0.8227 - val_acc: 0.7168 - val_top5-acc: 0.9858 - lr: 0.0050\n",
      "Epoch 40/50\n",
      "88/88 [==============================] - 16s 182ms/step - loss: 0.7961 - acc: 0.7183 - top5-acc: 0.9807 - val_loss: 0.8160 - val_acc: 0.7228 - val_top5-acc: 0.9824 - lr: 0.0050\n",
      "Epoch 41/50\n",
      "88/88 [==============================] - 16s 182ms/step - loss: 0.7979 - acc: 0.7192 - top5-acc: 0.9805 - val_loss: 0.8270 - val_acc: 0.7188 - val_top5-acc: 0.9820 - lr: 0.0050\n",
      "Epoch 42/50\n",
      "88/88 [==============================] - 16s 183ms/step - loss: 0.7781 - acc: 0.7274 - top5-acc: 0.9818 - val_loss: 0.7990 - val_acc: 0.7224 - val_top5-acc: 0.9834 - lr: 0.0050\n",
      "Epoch 43/50\n",
      "88/88 [==============================] - 16s 183ms/step - loss: 0.7001 - acc: 0.7510 - top5-acc: 0.9859 - val_loss: 0.7204 - val_acc: 0.7500 - val_top5-acc: 0.9866 - lr: 0.0025\n",
      "Epoch 44/50\n"
     ]
    },
    {
     "name": "stdout",
     "output_type": "stream",
     "text": [
      "88/88 [==============================] - 16s 181ms/step - loss: 0.6713 - acc: 0.7634 - top5-acc: 0.9871 - val_loss: 0.7163 - val_acc: 0.7536 - val_top5-acc: 0.9870 - lr: 0.0025\n",
      "Epoch 45/50\n",
      "88/88 [==============================] - 16s 182ms/step - loss: 0.6654 - acc: 0.7637 - top5-acc: 0.9878 - val_loss: 0.7324 - val_acc: 0.7544 - val_top5-acc: 0.9846 - lr: 0.0025\n",
      "Epoch 46/50\n",
      "88/88 [==============================] - 16s 182ms/step - loss: 0.6650 - acc: 0.7661 - top5-acc: 0.9875 - val_loss: 0.7100 - val_acc: 0.7584 - val_top5-acc: 0.9856 - lr: 0.0025\n",
      "Epoch 47/50\n",
      "88/88 [==============================] - 16s 181ms/step - loss: 0.6588 - acc: 0.7663 - top5-acc: 0.9883 - val_loss: 0.7270 - val_acc: 0.7492 - val_top5-acc: 0.9866 - lr: 0.0025\n",
      "Epoch 48/50\n",
      "88/88 [==============================] - 16s 182ms/step - loss: 0.6571 - acc: 0.7659 - top5-acc: 0.9879 - val_loss: 0.7224 - val_acc: 0.7510 - val_top5-acc: 0.9870 - lr: 0.0025\n",
      "Epoch 49/50\n",
      "88/88 [==============================] - 16s 182ms/step - loss: 0.6614 - acc: 0.7646 - top5-acc: 0.9885 - val_loss: 0.7213 - val_acc: 0.7542 - val_top5-acc: 0.9858 - lr: 0.0025\n",
      "Epoch 50/50\n",
      "88/88 [==============================] - 16s 182ms/step - loss: 0.6531 - acc: 0.7699 - top5-acc: 0.9881 - val_loss: 0.7296 - val_acc: 0.7504 - val_top5-acc: 0.9866 - lr: 0.0025\n",
      "313/313 [==============================] - 16s 50ms/step - loss: 0.7444 - acc: 0.7508 - top5-acc: 0.9829\n",
      "Test accuracy: 75.08%\n",
      "Test top 5 accuracy: 98.29%\n"
     ]
    },
    {
     "name": "stderr",
     "output_type": "stream",
     "text": [
      "WARNING:absl:Found untraced functions such as layer_normalization_layer_call_fn, layer_normalization_layer_call_and_return_conditional_losses, layer_normalization_1_layer_call_fn, layer_normalization_1_layer_call_and_return_conditional_losses, layer_normalization_2_layer_call_fn while saving (showing 5 of 24). These functions will not be directly callable after loading.\n"
     ]
    },
    {
     "name": "stdout",
     "output_type": "stream",
     "text": [
      "INFO:tensorflow:Assets written to: Results_Article/2A/mlpmixer_12ly_256Dc\\assets\n"
     ]
    },
    {
     "name": "stderr",
     "output_type": "stream",
     "text": [
      "INFO:tensorflow:Assets written to: Results_Article/2A/mlpmixer_12ly_256Dc\\assets\n"
     ]
    },
    {
     "name": "stdout",
     "output_type": "stream",
     "text": [
      "Epoch 1/50\n",
      "88/88 [==============================] - 29s 245ms/step - loss: 4.6180 - acc: 0.2330 - top5-acc: 0.7296 - val_loss: 1.7044 - val_acc: 0.4016 - val_top5-acc: 0.8834 - lr: 0.0050\n",
      "Epoch 2/50\n",
      "88/88 [==============================] - 20s 232ms/step - loss: 1.6088 - acc: 0.4162 - top5-acc: 0.8964 - val_loss: 1.4618 - val_acc: 0.4834 - val_top5-acc: 0.9198 - lr: 0.0050\n",
      "Epoch 3/50\n",
      "88/88 [==============================] - 21s 234ms/step - loss: 1.4576 - acc: 0.4724 - top5-acc: 0.9220 - val_loss: 1.3313 - val_acc: 0.5290 - val_top5-acc: 0.9406 - lr: 0.0050\n",
      "Epoch 4/50\n",
      "88/88 [==============================] - 21s 233ms/step - loss: 1.3850 - acc: 0.5011 - top5-acc: 0.9303 - val_loss: 1.2552 - val_acc: 0.5588 - val_top5-acc: 0.9478 - lr: 0.0050\n",
      "Epoch 5/50\n",
      "88/88 [==============================] - 20s 233ms/step - loss: 1.3146 - acc: 0.5279 - top5-acc: 0.9406 - val_loss: 1.2158 - val_acc: 0.5640 - val_top5-acc: 0.9538 - lr: 0.0050\n",
      "Epoch 6/50\n",
      "88/88 [==============================] - 20s 233ms/step - loss: 1.2681 - acc: 0.5450 - top5-acc: 0.9455 - val_loss: 1.1533 - val_acc: 0.5924 - val_top5-acc: 0.9570 - lr: 0.0050\n",
      "Epoch 7/50\n",
      "88/88 [==============================] - 20s 233ms/step - loss: 1.2371 - acc: 0.5585 - top5-acc: 0.9480 - val_loss: 1.1263 - val_acc: 0.6052 - val_top5-acc: 0.9608 - lr: 0.0050\n",
      "Epoch 8/50\n",
      "88/88 [==============================] - 20s 233ms/step - loss: 1.1979 - acc: 0.5725 - top5-acc: 0.9504 - val_loss: 1.1330 - val_acc: 0.6008 - val_top5-acc: 0.9614 - lr: 0.0050\n",
      "Epoch 9/50\n",
      "88/88 [==============================] - 21s 233ms/step - loss: 1.1671 - acc: 0.5847 - top5-acc: 0.9549 - val_loss: 1.0898 - val_acc: 0.6122 - val_top5-acc: 0.9642 - lr: 0.0050\n",
      "Epoch 10/50\n",
      "88/88 [==============================] - 20s 232ms/step - loss: 1.1355 - acc: 0.5963 - top5-acc: 0.9562 - val_loss: 1.0805 - val_acc: 0.6200 - val_top5-acc: 0.9686 - lr: 0.0050\n",
      "Epoch 11/50\n",
      "88/88 [==============================] - 21s 233ms/step - loss: 1.1204 - acc: 0.6033 - top5-acc: 0.9575 - val_loss: 1.0443 - val_acc: 0.6222 - val_top5-acc: 0.9702 - lr: 0.0050\n",
      "Epoch 12/50\n",
      "88/88 [==============================] - 20s 233ms/step - loss: 1.0946 - acc: 0.6096 - top5-acc: 0.9606 - val_loss: 1.0596 - val_acc: 0.6228 - val_top5-acc: 0.9638 - lr: 0.0050\n",
      "Epoch 13/50\n",
      "88/88 [==============================] - 20s 233ms/step - loss: 1.0773 - acc: 0.6180 - top5-acc: 0.9627 - val_loss: 1.0020 - val_acc: 0.6466 - val_top5-acc: 0.9682 - lr: 0.0050\n",
      "Epoch 14/50\n",
      "88/88 [==============================] - 21s 233ms/step - loss: 1.0555 - acc: 0.6224 - top5-acc: 0.9637 - val_loss: 0.9976 - val_acc: 0.6426 - val_top5-acc: 0.9690 - lr: 0.0050\n",
      "Epoch 15/50\n",
      "88/88 [==============================] - 21s 233ms/step - loss: 1.0281 - acc: 0.6352 - top5-acc: 0.9654 - val_loss: 0.9809 - val_acc: 0.6538 - val_top5-acc: 0.9706 - lr: 0.0050\n",
      "Epoch 16/50\n",
      "88/88 [==============================] - 21s 233ms/step - loss: 1.0151 - acc: 0.6438 - top5-acc: 0.9668 - val_loss: 0.9622 - val_acc: 0.6578 - val_top5-acc: 0.9714 - lr: 0.0050\n",
      "Epoch 17/50\n",
      "88/88 [==============================] - 21s 234ms/step - loss: 0.9938 - acc: 0.6488 - top5-acc: 0.9680 - val_loss: 0.9218 - val_acc: 0.6690 - val_top5-acc: 0.9748 - lr: 0.0050\n",
      "Epoch 18/50\n",
      "88/88 [==============================] - 21s 233ms/step - loss: 0.9772 - acc: 0.6535 - top5-acc: 0.9697 - val_loss: 0.9431 - val_acc: 0.6718 - val_top5-acc: 0.9730 - lr: 0.0050\n",
      "Epoch 19/50\n",
      "88/88 [==============================] - 21s 233ms/step - loss: 0.9861 - acc: 0.6517 - top5-acc: 0.9687 - val_loss: 0.9491 - val_acc: 0.6686 - val_top5-acc: 0.9740 - lr: 0.0050\n",
      "Epoch 20/50\n",
      "88/88 [==============================] - 21s 234ms/step - loss: 0.9437 - acc: 0.6644 - top5-acc: 0.9719 - val_loss: 0.9029 - val_acc: 0.6850 - val_top5-acc: 0.9748 - lr: 0.0050\n",
      "Epoch 21/50\n",
      "88/88 [==============================] - 21s 234ms/step - loss: 0.9341 - acc: 0.6690 - top5-acc: 0.9728 - val_loss: 0.9238 - val_acc: 0.6814 - val_top5-acc: 0.9726 - lr: 0.0050\n",
      "Epoch 22/50\n",
      "88/88 [==============================] - 20s 233ms/step - loss: 0.9206 - acc: 0.6738 - top5-acc: 0.9728 - val_loss: 0.8972 - val_acc: 0.6852 - val_top5-acc: 0.9742 - lr: 0.0050\n",
      "Epoch 23/50\n",
      "88/88 [==============================] - 20s 233ms/step - loss: 0.9146 - acc: 0.6772 - top5-acc: 0.9746 - val_loss: 0.8993 - val_acc: 0.6870 - val_top5-acc: 0.9748 - lr: 0.0050\n",
      "Epoch 24/50\n",
      "88/88 [==============================] - 21s 233ms/step - loss: 0.9129 - acc: 0.6814 - top5-acc: 0.9736 - val_loss: 0.8658 - val_acc: 0.7034 - val_top5-acc: 0.9772 - lr: 0.0050\n",
      "Epoch 25/50\n",
      "88/88 [==============================] - 20s 233ms/step - loss: 0.8988 - acc: 0.6837 - top5-acc: 0.9752 - val_loss: 0.8467 - val_acc: 0.7070 - val_top5-acc: 0.9794 - lr: 0.0050\n",
      "Epoch 26/50\n",
      "88/88 [==============================] - 20s 233ms/step - loss: 0.8854 - acc: 0.6893 - top5-acc: 0.9760 - val_loss: 0.8483 - val_acc: 0.7074 - val_top5-acc: 0.9798 - lr: 0.0050\n",
      "Epoch 27/50\n",
      "88/88 [==============================] - 21s 234ms/step - loss: 0.8950 - acc: 0.6851 - top5-acc: 0.9753 - val_loss: 0.8849 - val_acc: 0.6922 - val_top5-acc: 0.9768 - lr: 0.0050\n",
      "Epoch 28/50\n",
      "88/88 [==============================] - 21s 234ms/step - loss: 0.8634 - acc: 0.6973 - top5-acc: 0.9765 - val_loss: 0.8283 - val_acc: 0.7172 - val_top5-acc: 0.9800 - lr: 0.0050\n",
      "Epoch 29/50\n",
      "88/88 [==============================] - 21s 234ms/step - loss: 0.8566 - acc: 0.6970 - top5-acc: 0.9779 - val_loss: 0.8398 - val_acc: 0.7138 - val_top5-acc: 0.9792 - lr: 0.0050\n",
      "Epoch 30/50\n",
      "88/88 [==============================] - 21s 234ms/step - loss: 0.8338 - acc: 0.7058 - top5-acc: 0.9789 - val_loss: 0.8478 - val_acc: 0.7066 - val_top5-acc: 0.9776 - lr: 0.0050\n",
      "Epoch 31/50\n",
      "88/88 [==============================] - 21s 234ms/step - loss: 0.8495 - acc: 0.7019 - top5-acc: 0.9786 - val_loss: 0.8277 - val_acc: 0.7172 - val_top5-acc: 0.9818 - lr: 0.0050\n",
      "Epoch 32/50\n",
      "88/88 [==============================] - 21s 234ms/step - loss: 0.8424 - acc: 0.7046 - top5-acc: 0.9786 - val_loss: 0.8565 - val_acc: 0.7072 - val_top5-acc: 0.9810 - lr: 0.0050\n",
      "Epoch 33/50\n",
      "88/88 [==============================] - 21s 234ms/step - loss: 0.8198 - acc: 0.7114 - top5-acc: 0.9785 - val_loss: 0.8023 - val_acc: 0.7180 - val_top5-acc: 0.9830 - lr: 0.0050\n",
      "Epoch 34/50\n",
      "88/88 [==============================] - 21s 234ms/step - loss: 0.8211 - acc: 0.7102 - top5-acc: 0.9802 - val_loss: 0.8136 - val_acc: 0.7188 - val_top5-acc: 0.9794 - lr: 0.0050\n",
      "Epoch 35/50\n",
      "88/88 [==============================] - 21s 234ms/step - loss: 0.8088 - acc: 0.7148 - top5-acc: 0.9804 - val_loss: 0.8518 - val_acc: 0.7076 - val_top5-acc: 0.9818 - lr: 0.0050\n",
      "Epoch 36/50\n",
      "88/88 [==============================] - 21s 233ms/step - loss: 0.8015 - acc: 0.7185 - top5-acc: 0.9801 - val_loss: 0.8178 - val_acc: 0.7228 - val_top5-acc: 0.9796 - lr: 0.0050\n",
      "Epoch 37/50\n",
      "88/88 [==============================] - 21s 233ms/step - loss: 0.7959 - acc: 0.7184 - top5-acc: 0.9810 - val_loss: 0.8570 - val_acc: 0.7124 - val_top5-acc: 0.9804 - lr: 0.0050\n",
      "Epoch 38/50\n",
      "88/88 [==============================] - 21s 235ms/step - loss: 0.7839 - acc: 0.7228 - top5-acc: 0.9825 - val_loss: 0.8184 - val_acc: 0.7212 - val_top5-acc: 0.9804 - lr: 0.0050\n",
      "Epoch 39/50\n",
      "88/88 [==============================] - 21s 234ms/step - loss: 0.6958 - acc: 0.7528 - top5-acc: 0.9856 - val_loss: 0.7496 - val_acc: 0.7438 - val_top5-acc: 0.9836 - lr: 0.0025\n",
      "Epoch 40/50\n",
      "88/88 [==============================] - 21s 233ms/step - loss: 0.6724 - acc: 0.7604 - top5-acc: 0.9872 - val_loss: 0.7538 - val_acc: 0.7434 - val_top5-acc: 0.9848 - lr: 0.0025\n",
      "Epoch 41/50\n",
      "88/88 [==============================] - 21s 234ms/step - loss: 0.6608 - acc: 0.7673 - top5-acc: 0.9878 - val_loss: 0.7449 - val_acc: 0.7540 - val_top5-acc: 0.9856 - lr: 0.0025\n",
      "Epoch 42/50\n",
      "88/88 [==============================] - 21s 234ms/step - loss: 0.6594 - acc: 0.7666 - top5-acc: 0.9883 - val_loss: 0.7447 - val_acc: 0.7436 - val_top5-acc: 0.9838 - lr: 0.0025\n",
      "Epoch 43/50\n",
      "88/88 [==============================] - 21s 233ms/step - loss: 0.6466 - acc: 0.7708 - top5-acc: 0.9882 - val_loss: 0.7351 - val_acc: 0.7518 - val_top5-acc: 0.9842 - lr: 0.0025\n",
      "Epoch 44/50\n"
     ]
    },
    {
     "name": "stdout",
     "output_type": "stream",
     "text": [
      "88/88 [==============================] - 21s 233ms/step - loss: 0.6425 - acc: 0.7717 - top5-acc: 0.9882 - val_loss: 0.7315 - val_acc: 0.7518 - val_top5-acc: 0.9858 - lr: 0.0025\n",
      "Epoch 45/50\n",
      "88/88 [==============================] - 20s 233ms/step - loss: 0.6448 - acc: 0.7703 - top5-acc: 0.9886 - val_loss: 0.7440 - val_acc: 0.7490 - val_top5-acc: 0.9818 - lr: 0.0025\n",
      "Epoch 46/50\n",
      "88/88 [==============================] - 21s 234ms/step - loss: 0.6394 - acc: 0.7713 - top5-acc: 0.9886 - val_loss: 0.7422 - val_acc: 0.7590 - val_top5-acc: 0.9842 - lr: 0.0025\n",
      "Epoch 47/50\n",
      "88/88 [==============================] - 21s 233ms/step - loss: 0.6467 - acc: 0.7701 - top5-acc: 0.9886 - val_loss: 0.7471 - val_acc: 0.7458 - val_top5-acc: 0.9850 - lr: 0.0025\n",
      "Epoch 48/50\n",
      "88/88 [==============================] - 21s 233ms/step - loss: 0.6377 - acc: 0.7736 - top5-acc: 0.9888 - val_loss: 0.7433 - val_acc: 0.7480 - val_top5-acc: 0.9840 - lr: 0.0025\n",
      "Epoch 49/50\n",
      "88/88 [==============================] - 21s 233ms/step - loss: 0.6460 - acc: 0.7709 - top5-acc: 0.9882 - val_loss: 0.7411 - val_acc: 0.7492 - val_top5-acc: 0.9834 - lr: 0.0025\n",
      "Epoch 50/50\n",
      "88/88 [==============================] - 21s 233ms/step - loss: 0.5744 - acc: 0.7961 - top5-acc: 0.9907 - val_loss: 0.7165 - val_acc: 0.7644 - val_top5-acc: 0.9846 - lr: 0.0012\n",
      "313/313 [==============================] - 15s 49ms/step - loss: 0.7381 - acc: 0.7573 - top5-acc: 0.9854\n",
      "Test accuracy: 75.73%\n",
      "Test top 5 accuracy: 98.54%\n"
     ]
    },
    {
     "name": "stderr",
     "output_type": "stream",
     "text": [
      "WARNING:absl:Found untraced functions such as layer_normalization_12_layer_call_fn, layer_normalization_12_layer_call_and_return_conditional_losses, layer_normalization_13_layer_call_fn, layer_normalization_13_layer_call_and_return_conditional_losses, layer_normalization_14_layer_call_fn while saving (showing 5 of 24). These functions will not be directly callable after loading.\n"
     ]
    },
    {
     "name": "stdout",
     "output_type": "stream",
     "text": [
      "INFO:tensorflow:Assets written to: Results_Article/2A/mlpmixer_12ly_384Dc\\assets\n"
     ]
    },
    {
     "name": "stderr",
     "output_type": "stream",
     "text": [
      "INFO:tensorflow:Assets written to: Results_Article/2A/mlpmixer_12ly_384Dc\\assets\n"
     ]
    },
    {
     "name": "stdout",
     "output_type": "stream",
     "text": [
      "Epoch 1/50\n",
      "88/88 [==============================] - 35s 304ms/step - loss: 4.3594 - acc: 0.2653 - top5-acc: 0.7480 - val_loss: 1.6683 - val_acc: 0.3988 - val_top5-acc: 0.8914 - lr: 0.0050\n",
      "Epoch 2/50\n",
      "88/88 [==============================] - 26s 291ms/step - loss: 1.5429 - acc: 0.4458 - top5-acc: 0.9050 - val_loss: 1.4154 - val_acc: 0.5006 - val_top5-acc: 0.9310 - lr: 0.0050\n",
      "Epoch 3/50\n",
      "88/88 [==============================] - 26s 292ms/step - loss: 1.4063 - acc: 0.4941 - top5-acc: 0.9267 - val_loss: 1.2971 - val_acc: 0.5348 - val_top5-acc: 0.9468 - lr: 0.0050\n",
      "Epoch 4/50\n",
      "88/88 [==============================] - 26s 292ms/step - loss: 1.3196 - acc: 0.5284 - top5-acc: 0.9372 - val_loss: 1.2448 - val_acc: 0.5566 - val_top5-acc: 0.9558 - lr: 0.0050\n",
      "Epoch 5/50\n",
      "88/88 [==============================] - 26s 291ms/step - loss: 1.2662 - acc: 0.5442 - top5-acc: 0.9441 - val_loss: 1.2595 - val_acc: 0.5682 - val_top5-acc: 0.9500 - lr: 0.0050\n",
      "Epoch 6/50\n",
      "88/88 [==============================] - 26s 292ms/step - loss: 1.2197 - acc: 0.5644 - top5-acc: 0.9478 - val_loss: 1.1981 - val_acc: 0.5718 - val_top5-acc: 0.9548 - lr: 0.0050\n",
      "Epoch 7/50\n",
      "88/88 [==============================] - 26s 291ms/step - loss: 1.1845 - acc: 0.5780 - top5-acc: 0.9511 - val_loss: 1.1470 - val_acc: 0.5966 - val_top5-acc: 0.9626 - lr: 0.0050\n",
      "Epoch 8/50\n",
      "88/88 [==============================] - 26s 291ms/step - loss: 1.1481 - acc: 0.5909 - top5-acc: 0.9556 - val_loss: 1.1227 - val_acc: 0.6044 - val_top5-acc: 0.9604 - lr: 0.0050\n",
      "Epoch 9/50\n",
      "88/88 [==============================] - 26s 291ms/step - loss: 1.1224 - acc: 0.6015 - top5-acc: 0.9586 - val_loss: 1.0568 - val_acc: 0.6326 - val_top5-acc: 0.9664 - lr: 0.0050\n",
      "Epoch 10/50\n",
      "88/88 [==============================] - 26s 291ms/step - loss: 1.0933 - acc: 0.6130 - top5-acc: 0.9596 - val_loss: 1.0412 - val_acc: 0.6294 - val_top5-acc: 0.9706 - lr: 0.0050\n",
      "Epoch 11/50\n",
      "88/88 [==============================] - 26s 292ms/step - loss: 1.0707 - acc: 0.6210 - top5-acc: 0.9632 - val_loss: 1.0081 - val_acc: 0.6426 - val_top5-acc: 0.9684 - lr: 0.0050\n",
      "Epoch 12/50\n",
      "88/88 [==============================] - 26s 292ms/step - loss: 1.0551 - acc: 0.6264 - top5-acc: 0.9628 - val_loss: 1.0053 - val_acc: 0.6486 - val_top5-acc: 0.9686 - lr: 0.0050\n",
      "Epoch 13/50\n",
      "88/88 [==============================] - 26s 292ms/step - loss: 1.0516 - acc: 0.6270 - top5-acc: 0.9645 - val_loss: 0.9624 - val_acc: 0.6566 - val_top5-acc: 0.9714 - lr: 0.0050\n",
      "Epoch 14/50\n",
      "88/88 [==============================] - 26s 292ms/step - loss: 1.0144 - acc: 0.6410 - top5-acc: 0.9675 - val_loss: 0.9408 - val_acc: 0.6706 - val_top5-acc: 0.9736 - lr: 0.0050\n",
      "Epoch 15/50\n",
      "88/88 [==============================] - 26s 291ms/step - loss: 0.9830 - acc: 0.6534 - top5-acc: 0.9684 - val_loss: 0.9554 - val_acc: 0.6682 - val_top5-acc: 0.9720 - lr: 0.0050\n",
      "Epoch 16/50\n",
      "88/88 [==============================] - 26s 291ms/step - loss: 0.9741 - acc: 0.6584 - top5-acc: 0.9689 - val_loss: 0.9401 - val_acc: 0.6722 - val_top5-acc: 0.9772 - lr: 0.0050\n",
      "Epoch 17/50\n",
      "88/88 [==============================] - 26s 292ms/step - loss: 0.9624 - acc: 0.6609 - top5-acc: 0.9694 - val_loss: 0.9647 - val_acc: 0.6700 - val_top5-acc: 0.9710 - lr: 0.0050\n",
      "Epoch 18/50\n",
      "88/88 [==============================] - 26s 292ms/step - loss: 0.9407 - acc: 0.6671 - top5-acc: 0.9713 - val_loss: 0.9542 - val_acc: 0.6768 - val_top5-acc: 0.9742 - lr: 0.0050\n",
      "Epoch 19/50\n",
      "88/88 [==============================] - 26s 291ms/step - loss: 0.9343 - acc: 0.6715 - top5-acc: 0.9719 - val_loss: 0.9160 - val_acc: 0.6814 - val_top5-acc: 0.9790 - lr: 0.0050\n",
      "Epoch 20/50\n",
      "88/88 [==============================] - 26s 292ms/step - loss: 0.9156 - acc: 0.6756 - top5-acc: 0.9738 - val_loss: 0.8619 - val_acc: 0.6986 - val_top5-acc: 0.9750 - lr: 0.0050\n",
      "Epoch 21/50\n",
      "88/88 [==============================] - 26s 291ms/step - loss: 0.9013 - acc: 0.6848 - top5-acc: 0.9750 - val_loss: 0.8992 - val_acc: 0.6910 - val_top5-acc: 0.9774 - lr: 0.0050\n",
      "Epoch 22/50\n",
      "88/88 [==============================] - 26s 292ms/step - loss: 0.8918 - acc: 0.6852 - top5-acc: 0.9763 - val_loss: 0.8383 - val_acc: 0.7048 - val_top5-acc: 0.9758 - lr: 0.0050\n",
      "Epoch 23/50\n",
      "88/88 [==============================] - 26s 292ms/step - loss: 0.8864 - acc: 0.6881 - top5-acc: 0.9753 - val_loss: 0.8760 - val_acc: 0.6954 - val_top5-acc: 0.9778 - lr: 0.0050\n",
      "Epoch 24/50\n",
      "88/88 [==============================] - 26s 292ms/step - loss: 10.4652 - acc: 0.3753 - top5-acc: 0.7952 - val_loss: 1.8018 - val_acc: 0.4032 - val_top5-acc: 0.9092 - lr: 0.0050\n",
      "Epoch 25/50\n",
      "88/88 [==============================] - 26s 292ms/step - loss: 1.4666 - acc: 0.4862 - top5-acc: 0.9216 - val_loss: 1.2123 - val_acc: 0.5758 - val_top5-acc: 0.9516 - lr: 0.0050\n",
      "Epoch 26/50\n",
      "88/88 [==============================] - 26s 292ms/step - loss: 1.2408 - acc: 0.5620 - top5-acc: 0.9462 - val_loss: 1.0697 - val_acc: 0.6220 - val_top5-acc: 0.9658 - lr: 0.0050\n",
      "Epoch 27/50\n",
      "88/88 [==============================] - 26s 292ms/step - loss: 1.1380 - acc: 0.5939 - top5-acc: 0.9572 - val_loss: 1.0149 - val_acc: 0.6412 - val_top5-acc: 0.9674 - lr: 0.0050\n",
      "Epoch 28/50\n",
      "88/88 [==============================] - 26s 291ms/step - loss: 1.0601 - acc: 0.6228 - top5-acc: 0.9633 - val_loss: 0.9732 - val_acc: 0.6576 - val_top5-acc: 0.9702 - lr: 0.0025\n",
      "Epoch 29/50\n",
      "88/88 [==============================] - 26s 292ms/step - loss: 1.0263 - acc: 0.6386 - top5-acc: 0.9660 - val_loss: 0.9497 - val_acc: 0.6646 - val_top5-acc: 0.9724 - lr: 0.0025\n",
      "Epoch 30/50\n",
      "88/88 [==============================] - 26s 292ms/step - loss: 1.0045 - acc: 0.6447 - top5-acc: 0.9681 - val_loss: 0.9279 - val_acc: 0.6712 - val_top5-acc: 0.9734 - lr: 0.0025\n",
      "Epoch 31/50\n",
      "88/88 [==============================] - 26s 293ms/step - loss: 0.9770 - acc: 0.6553 - top5-acc: 0.9689 - val_loss: 0.9244 - val_acc: 0.6712 - val_top5-acc: 0.9740 - lr: 0.0025\n",
      "Epoch 32/50\n",
      "88/88 [==============================] - 26s 292ms/step - loss: 0.9562 - acc: 0.6632 - top5-acc: 0.9703 - val_loss: 0.9188 - val_acc: 0.6766 - val_top5-acc: 0.9752 - lr: 0.0025\n",
      "Epoch 33/50\n",
      "88/88 [==============================] - 26s 292ms/step - loss: 0.9278 - acc: 0.6715 - top5-acc: 0.9723 - val_loss: 0.8887 - val_acc: 0.6894 - val_top5-acc: 0.9760 - lr: 0.0012\n",
      "Epoch 34/50\n",
      "88/88 [==============================] - 26s 292ms/step - loss: 0.9101 - acc: 0.6798 - top5-acc: 0.9740 - val_loss: 0.8765 - val_acc: 0.6912 - val_top5-acc: 0.9778 - lr: 0.0012\n",
      "Epoch 35/50\n",
      "88/88 [==============================] - 26s 292ms/step - loss: 0.8991 - acc: 0.6817 - top5-acc: 0.9752 - val_loss: 0.8719 - val_acc: 0.6928 - val_top5-acc: 0.9784 - lr: 0.0012\n",
      "Epoch 36/50\n",
      "88/88 [==============================] - 26s 292ms/step - loss: 0.8897 - acc: 0.6868 - top5-acc: 0.9750 - val_loss: 0.8599 - val_acc: 0.6966 - val_top5-acc: 0.9778 - lr: 0.0012\n",
      "Epoch 37/50\n",
      "88/88 [==============================] - 26s 292ms/step - loss: 0.8804 - acc: 0.6902 - top5-acc: 0.9762 - val_loss: 0.8447 - val_acc: 0.7022 - val_top5-acc: 0.9778 - lr: 0.0012\n",
      "Epoch 38/50\n",
      "88/88 [==============================] - 26s 292ms/step - loss: 0.8648 - acc: 0.6954 - top5-acc: 0.9764 - val_loss: 0.8468 - val_acc: 0.7048 - val_top5-acc: 0.9800 - lr: 6.2500e-04\n",
      "Epoch 39/50\n",
      "88/88 [==============================] - 26s 292ms/step - loss: 0.8592 - acc: 0.6974 - top5-acc: 0.9778 - val_loss: 0.8384 - val_acc: 0.7052 - val_top5-acc: 0.9800 - lr: 6.2500e-04\n",
      "Epoch 40/50\n",
      "88/88 [==============================] - 26s 293ms/step - loss: 0.8543 - acc: 0.7003 - top5-acc: 0.9782 - val_loss: 0.8330 - val_acc: 0.7086 - val_top5-acc: 0.9794 - lr: 6.2500e-04\n",
      "Epoch 41/50\n",
      "88/88 [==============================] - 26s 293ms/step - loss: 0.8484 - acc: 0.7012 - top5-acc: 0.9779 - val_loss: 0.8300 - val_acc: 0.7080 - val_top5-acc: 0.9806 - lr: 6.2500e-04\n",
      "Epoch 42/50\n",
      "88/88 [==============================] - 26s 292ms/step - loss: 0.8402 - acc: 0.7046 - top5-acc: 0.9786 - val_loss: 0.8231 - val_acc: 0.7106 - val_top5-acc: 0.9804 - lr: 6.2500e-04\n",
      "Epoch 43/50\n",
      "88/88 [==============================] - 26s 292ms/step - loss: 0.8385 - acc: 0.7054 - top5-acc: 0.9789 - val_loss: 0.8167 - val_acc: 0.7128 - val_top5-acc: 0.9796 - lr: 6.2500e-04\n",
      "Epoch 44/50\n"
     ]
    },
    {
     "name": "stdout",
     "output_type": "stream",
     "text": [
      "88/88 [==============================] - 26s 292ms/step - loss: 0.8303 - acc: 0.7088 - top5-acc: 0.9787 - val_loss: 0.8187 - val_acc: 0.7148 - val_top5-acc: 0.9798 - lr: 6.2500e-04\n",
      "Epoch 45/50\n",
      "88/88 [==============================] - 26s 292ms/step - loss: 0.8291 - acc: 0.7087 - top5-acc: 0.9784 - val_loss: 0.8257 - val_acc: 0.7112 - val_top5-acc: 0.9796 - lr: 6.2500e-04\n",
      "Epoch 46/50\n",
      "88/88 [==============================] - 26s 291ms/step - loss: 0.8236 - acc: 0.7122 - top5-acc: 0.9799 - val_loss: 0.8214 - val_acc: 0.7144 - val_top5-acc: 0.9800 - lr: 6.2500e-04\n",
      "Epoch 47/50\n",
      "88/88 [==============================] - 26s 291ms/step - loss: 0.8141 - acc: 0.7147 - top5-acc: 0.9794 - val_loss: 0.8221 - val_acc: 0.7126 - val_top5-acc: 0.9806 - lr: 6.2500e-04\n",
      "Epoch 48/50\n",
      "88/88 [==============================] - 26s 291ms/step - loss: 0.8147 - acc: 0.7133 - top5-acc: 0.9802 - val_loss: 0.8042 - val_acc: 0.7182 - val_top5-acc: 0.9822 - lr: 6.2500e-04\n",
      "Epoch 49/50\n",
      "88/88 [==============================] - 26s 292ms/step - loss: 0.8079 - acc: 0.7177 - top5-acc: 0.9796 - val_loss: 0.7994 - val_acc: 0.7188 - val_top5-acc: 0.9820 - lr: 6.2500e-04\n",
      "Epoch 50/50\n",
      "88/88 [==============================] - 26s 292ms/step - loss: 0.8043 - acc: 0.7162 - top5-acc: 0.9805 - val_loss: 0.7917 - val_acc: 0.7178 - val_top5-acc: 0.9838 - lr: 6.2500e-04\n",
      "313/313 [==============================] - 15s 47ms/step - loss: 0.8250 - acc: 0.7115 - top5-acc: 0.9788\n",
      "Test accuracy: 71.15%\n",
      "Test top 5 accuracy: 97.88%\n"
     ]
    },
    {
     "name": "stderr",
     "output_type": "stream",
     "text": [
      "WARNING:absl:Found untraced functions such as layer_normalization_24_layer_call_fn, layer_normalization_24_layer_call_and_return_conditional_losses, layer_normalization_25_layer_call_fn, layer_normalization_25_layer_call_and_return_conditional_losses, layer_normalization_26_layer_call_fn while saving (showing 5 of 24). These functions will not be directly callable after loading.\n"
     ]
    },
    {
     "name": "stdout",
     "output_type": "stream",
     "text": [
      "INFO:tensorflow:Assets written to: Results_Article/2A/mlpmixer_12ly_512Dc\\assets\n"
     ]
    },
    {
     "name": "stderr",
     "output_type": "stream",
     "text": [
      "INFO:tensorflow:Assets written to: Results_Article/2A/mlpmixer_12ly_512Dc\\assets\n"
     ]
    },
    {
     "name": "stdout",
     "output_type": "stream",
     "text": [
      "Epoch 1/50\n",
      "88/88 [==============================] - 39s 353ms/step - loss: 5.2224 - acc: 0.2304 - top5-acc: 0.7273 - val_loss: 1.7511 - val_acc: 0.3632 - val_top5-acc: 0.8704 - lr: 0.0050\n",
      "Epoch 2/50\n",
      "88/88 [==============================] - 30s 341ms/step - loss: 1.6214 - acc: 0.4148 - top5-acc: 0.8914 - val_loss: 1.4406 - val_acc: 0.4830 - val_top5-acc: 0.9304 - lr: 0.0050\n",
      "Epoch 3/50\n",
      "88/88 [==============================] - 30s 340ms/step - loss: 1.4463 - acc: 0.4795 - top5-acc: 0.9216 - val_loss: 1.4384 - val_acc: 0.4988 - val_top5-acc: 0.9380 - lr: 0.0050\n",
      "Epoch 4/50\n",
      "88/88 [==============================] - 30s 341ms/step - loss: 1.3630 - acc: 0.5088 - top5-acc: 0.9329 - val_loss: 1.2872 - val_acc: 0.5416 - val_top5-acc: 0.9474 - lr: 0.0050\n",
      "Epoch 5/50\n",
      "88/88 [==============================] - 30s 341ms/step - loss: 1.2881 - acc: 0.5385 - top5-acc: 0.9419 - val_loss: 1.2086 - val_acc: 0.5762 - val_top5-acc: 0.9542 - lr: 0.0050\n",
      "Epoch 6/50\n",
      "88/88 [==============================] - 30s 341ms/step - loss: 1.2325 - acc: 0.5600 - top5-acc: 0.9481 - val_loss: 1.1261 - val_acc: 0.6008 - val_top5-acc: 0.9630 - lr: 0.0050\n",
      "Epoch 7/50\n",
      "88/88 [==============================] - 30s 341ms/step - loss: 1.1995 - acc: 0.5732 - top5-acc: 0.9512 - val_loss: 1.1165 - val_acc: 0.6074 - val_top5-acc: 0.9632 - lr: 0.0050\n",
      "Epoch 8/50\n",
      "88/88 [==============================] - 30s 341ms/step - loss: 1.1512 - acc: 0.5913 - top5-acc: 0.9555 - val_loss: 1.1514 - val_acc: 0.6066 - val_top5-acc: 0.9532 - lr: 0.0050\n",
      "Epoch 9/50\n",
      "88/88 [==============================] - 30s 341ms/step - loss: 1.1420 - acc: 0.5935 - top5-acc: 0.9559 - val_loss: 1.1075 - val_acc: 0.6134 - val_top5-acc: 0.9618 - lr: 0.0050\n",
      "Epoch 10/50\n",
      "88/88 [==============================] - 30s 341ms/step - loss: 1.1092 - acc: 0.6045 - top5-acc: 0.9586 - val_loss: 1.0554 - val_acc: 0.6292 - val_top5-acc: 0.9662 - lr: 0.0050\n",
      "Epoch 11/50\n",
      "88/88 [==============================] - 30s 342ms/step - loss: 1.0781 - acc: 0.6184 - top5-acc: 0.9612 - val_loss: 1.0341 - val_acc: 0.6444 - val_top5-acc: 0.9668 - lr: 0.0050\n",
      "Epoch 12/50\n",
      "88/88 [==============================] - 30s 341ms/step - loss: 1.0651 - acc: 0.6228 - top5-acc: 0.9643 - val_loss: 1.0753 - val_acc: 0.6298 - val_top5-acc: 0.9642 - lr: 0.0050\n",
      "Epoch 13/50\n",
      "88/88 [==============================] - 30s 340ms/step - loss: 1.0541 - acc: 0.6259 - top5-acc: 0.9638 - val_loss: 0.9887 - val_acc: 0.6496 - val_top5-acc: 0.9730 - lr: 0.0050\n",
      "Epoch 14/50\n",
      "88/88 [==============================] - 30s 341ms/step - loss: 1.0300 - acc: 0.6352 - top5-acc: 0.9662 - val_loss: 1.0035 - val_acc: 0.6520 - val_top5-acc: 0.9688 - lr: 0.0050\n",
      "Epoch 15/50\n",
      "88/88 [==============================] - 30s 340ms/step - loss: 1.0023 - acc: 0.6437 - top5-acc: 0.9691 - val_loss: 0.9629 - val_acc: 0.6602 - val_top5-acc: 0.9726 - lr: 0.0050\n",
      "Epoch 16/50\n",
      "88/88 [==============================] - 30s 341ms/step - loss: 0.9693 - acc: 0.6584 - top5-acc: 0.9702 - val_loss: 0.9731 - val_acc: 0.6652 - val_top5-acc: 0.9736 - lr: 0.0050\n",
      "Epoch 17/50\n",
      "88/88 [==============================] - 30s 340ms/step - loss: 0.9570 - acc: 0.6608 - top5-acc: 0.9714 - val_loss: 0.9402 - val_acc: 0.6688 - val_top5-acc: 0.9756 - lr: 0.0050\n",
      "Epoch 18/50\n",
      "88/88 [==============================] - 30s 341ms/step - loss: 0.9540 - acc: 0.6636 - top5-acc: 0.9712 - val_loss: 0.9458 - val_acc: 0.6782 - val_top5-acc: 0.9754 - lr: 0.0050\n",
      "Epoch 19/50\n",
      "88/88 [==============================] - 30s 341ms/step - loss: 0.9242 - acc: 0.6731 - top5-acc: 0.9736 - val_loss: 0.9170 - val_acc: 0.6892 - val_top5-acc: 0.9754 - lr: 0.0050\n",
      "Epoch 20/50\n",
      "88/88 [==============================] - 30s 341ms/step - loss: 0.9345 - acc: 0.6672 - top5-acc: 0.9731 - val_loss: 0.8728 - val_acc: 0.6922 - val_top5-acc: 0.9814 - lr: 0.0050\n",
      "Epoch 21/50\n",
      "88/88 [==============================] - 30s 340ms/step - loss: 0.8948 - acc: 0.6830 - top5-acc: 0.9751 - val_loss: 0.8985 - val_acc: 0.6900 - val_top5-acc: 0.9740 - lr: 0.0050\n",
      "Epoch 22/50\n",
      "88/88 [==============================] - 30s 340ms/step - loss: 0.8957 - acc: 0.6840 - top5-acc: 0.9762 - val_loss: 0.8599 - val_acc: 0.7022 - val_top5-acc: 0.9766 - lr: 0.0050\n",
      "Epoch 23/50\n",
      "88/88 [==============================] - 30s 341ms/step - loss: 0.8862 - acc: 0.6868 - top5-acc: 0.9759 - val_loss: 0.8782 - val_acc: 0.6946 - val_top5-acc: 0.9806 - lr: 0.0050\n",
      "Epoch 24/50\n",
      "88/88 [==============================] - 30s 339ms/step - loss: 0.8762 - acc: 0.6895 - top5-acc: 0.9778 - val_loss: 0.9059 - val_acc: 0.6918 - val_top5-acc: 0.9776 - lr: 0.0050\n",
      "Epoch 25/50\n",
      "88/88 [==============================] - 30s 339ms/step - loss: 0.8963 - acc: 0.6842 - top5-acc: 0.9756 - val_loss: 0.8937 - val_acc: 0.7028 - val_top5-acc: 0.9764 - lr: 0.0050\n",
      "Epoch 26/50\n",
      "88/88 [==============================] - 30s 341ms/step - loss: 0.8500 - acc: 0.6994 - top5-acc: 0.9780 - val_loss: 0.8736 - val_acc: 0.7030 - val_top5-acc: 0.9764 - lr: 0.0050\n",
      "Epoch 27/50\n",
      "88/88 [==============================] - 30s 341ms/step - loss: 0.8344 - acc: 0.7057 - top5-acc: 0.9788 - val_loss: 0.9300 - val_acc: 0.6932 - val_top5-acc: 0.9756 - lr: 0.0050\n",
      "Epoch 28/50\n",
      "88/88 [==============================] - 30s 339ms/step - loss: 0.7514 - acc: 0.7331 - top5-acc: 0.9833 - val_loss: 0.7922 - val_acc: 0.7296 - val_top5-acc: 0.9818 - lr: 0.0025\n",
      "Epoch 29/50\n",
      "88/88 [==============================] - 30s 341ms/step - loss: 0.7040 - acc: 0.7525 - top5-acc: 0.9858 - val_loss: 0.7864 - val_acc: 0.7304 - val_top5-acc: 0.9812 - lr: 0.0025\n",
      "Epoch 30/50\n",
      "88/88 [==============================] - 30s 341ms/step - loss: 0.6907 - acc: 0.7569 - top5-acc: 0.9859 - val_loss: 0.7664 - val_acc: 0.7414 - val_top5-acc: 0.9836 - lr: 0.0025\n",
      "Epoch 31/50\n",
      "88/88 [==============================] - 30s 341ms/step - loss: 0.6915 - acc: 0.7554 - top5-acc: 0.9863 - val_loss: 0.7765 - val_acc: 0.7400 - val_top5-acc: 0.9832 - lr: 0.0025\n",
      "Epoch 32/50\n",
      "88/88 [==============================] - 30s 340ms/step - loss: 0.6823 - acc: 0.7587 - top5-acc: 0.9874 - val_loss: 0.8336 - val_acc: 0.7210 - val_top5-acc: 0.9820 - lr: 0.0025\n",
      "Epoch 33/50\n",
      "88/88 [==============================] - 30s 341ms/step - loss: 0.6796 - acc: 0.7601 - top5-acc: 0.9866 - val_loss: 0.8243 - val_acc: 0.7254 - val_top5-acc: 0.9824 - lr: 0.0025\n",
      "Epoch 34/50\n",
      "88/88 [==============================] - 30s 341ms/step - loss: 0.6694 - acc: 0.7626 - top5-acc: 0.9880 - val_loss: 0.8037 - val_acc: 0.7304 - val_top5-acc: 0.9826 - lr: 0.0025\n",
      "Epoch 35/50\n",
      "88/88 [==============================] - 30s 341ms/step - loss: 0.6734 - acc: 0.7598 - top5-acc: 0.9877 - val_loss: 0.7811 - val_acc: 0.7354 - val_top5-acc: 0.9822 - lr: 0.0025\n",
      "Epoch 36/50\n",
      "88/88 [==============================] - 30s 342ms/step - loss: 0.6048 - acc: 0.7848 - top5-acc: 0.9896 - val_loss: 0.7375 - val_acc: 0.7540 - val_top5-acc: 0.9856 - lr: 0.0012\n",
      "Epoch 37/50\n",
      "88/88 [==============================] - 30s 342ms/step - loss: 0.5742 - acc: 0.7972 - top5-acc: 0.9915 - val_loss: 0.7422 - val_acc: 0.7628 - val_top5-acc: 0.9848 - lr: 0.0012\n",
      "Epoch 38/50\n",
      "88/88 [==============================] - 30s 342ms/step - loss: 0.5700 - acc: 0.7987 - top5-acc: 0.9907 - val_loss: 0.7501 - val_acc: 0.7566 - val_top5-acc: 0.9858 - lr: 0.0012\n",
      "Epoch 39/50\n",
      "88/88 [==============================] - 30s 342ms/step - loss: 0.5653 - acc: 0.7981 - top5-acc: 0.9916 - val_loss: 0.7589 - val_acc: 0.7552 - val_top5-acc: 0.9850 - lr: 0.0012\n",
      "Epoch 40/50\n",
      "88/88 [==============================] - 30s 342ms/step - loss: 0.5619 - acc: 0.8019 - top5-acc: 0.9910 - val_loss: 0.7550 - val_acc: 0.7554 - val_top5-acc: 0.9854 - lr: 0.0012\n",
      "Epoch 41/50\n",
      "88/88 [==============================] - 30s 341ms/step - loss: 0.5562 - acc: 0.8020 - top5-acc: 0.9919 - val_loss: 0.7750 - val_acc: 0.7424 - val_top5-acc: 0.9854 - lr: 0.0012\n",
      "Epoch 42/50\n",
      "88/88 [==============================] - 30s 341ms/step - loss: 0.5113 - acc: 0.8172 - top5-acc: 0.9929 - val_loss: 0.7484 - val_acc: 0.7564 - val_top5-acc: 0.9856 - lr: 6.2500e-04\n",
      "Epoch 43/50\n",
      "88/88 [==============================] - 30s 342ms/step - loss: 0.4987 - acc: 0.8237 - top5-acc: 0.9936 - val_loss: 0.7437 - val_acc: 0.7576 - val_top5-acc: 0.9844 - lr: 6.2500e-04\n",
      "Epoch 44/50\n"
     ]
    },
    {
     "name": "stdout",
     "output_type": "stream",
     "text": [
      "88/88 [==============================] - 30s 341ms/step - loss: 0.4909 - acc: 0.8242 - top5-acc: 0.9945 - val_loss: 0.7543 - val_acc: 0.7588 - val_top5-acc: 0.9856 - lr: 6.2500e-04\n",
      "Epoch 45/50\n",
      "88/88 [==============================] - 30s 340ms/step - loss: 0.4870 - acc: 0.8257 - top5-acc: 0.9945 - val_loss: 0.7527 - val_acc: 0.7590 - val_top5-acc: 0.9856 - lr: 6.2500e-04\n",
      "Epoch 46/50\n",
      "88/88 [==============================] - 30s 341ms/step - loss: 0.4779 - acc: 0.8318 - top5-acc: 0.9941 - val_loss: 0.7497 - val_acc: 0.7656 - val_top5-acc: 0.9858 - lr: 6.2500e-04\n",
      "Epoch 47/50\n",
      "88/88 [==============================] - 30s 341ms/step - loss: 0.4524 - acc: 0.8372 - top5-acc: 0.9951 - val_loss: 0.7498 - val_acc: 0.7624 - val_top5-acc: 0.9866 - lr: 3.1250e-04\n",
      "Epoch 48/50\n",
      "88/88 [==============================] - 30s 340ms/step - loss: 0.4494 - acc: 0.8386 - top5-acc: 0.9953 - val_loss: 0.7451 - val_acc: 0.7676 - val_top5-acc: 0.9844 - lr: 3.1250e-04\n",
      "Epoch 49/50\n",
      "88/88 [==============================] - 30s 341ms/step - loss: 0.4390 - acc: 0.8436 - top5-acc: 0.9952 - val_loss: 0.7402 - val_acc: 0.7652 - val_top5-acc: 0.9874 - lr: 3.1250e-04\n",
      "Epoch 50/50\n",
      "88/88 [==============================] - 30s 341ms/step - loss: 0.4379 - acc: 0.8445 - top5-acc: 0.9955 - val_loss: 0.7426 - val_acc: 0.7660 - val_top5-acc: 0.9862 - lr: 3.1250e-04\n",
      "313/313 [==============================] - 15s 48ms/step - loss: 0.7737 - acc: 0.7551 - top5-acc: 0.9848\n",
      "Test accuracy: 75.51%\n",
      "Test top 5 accuracy: 98.48%\n"
     ]
    },
    {
     "name": "stderr",
     "output_type": "stream",
     "text": [
      "WARNING:absl:Found untraced functions such as layer_normalization_36_layer_call_fn, layer_normalization_36_layer_call_and_return_conditional_losses, layer_normalization_37_layer_call_fn, layer_normalization_37_layer_call_and_return_conditional_losses, layer_normalization_38_layer_call_fn while saving (showing 5 of 24). These functions will not be directly callable after loading.\n"
     ]
    },
    {
     "name": "stdout",
     "output_type": "stream",
     "text": [
      "INFO:tensorflow:Assets written to: Results_Article/2A/mlpmixer_12ly_640Dc\\assets\n"
     ]
    },
    {
     "name": "stderr",
     "output_type": "stream",
     "text": [
      "INFO:tensorflow:Assets written to: Results_Article/2A/mlpmixer_12ly_640Dc\\assets\n"
     ]
    }
   ],
   "source": [
    "mlpmixer_iterations(num_patches,'2A', embedding_dim,num_blocks)"
   ]
  },
  {
   "cell_type": "markdown",
   "metadata": {},
   "source": [
    "Batch"
   ]
  },
  {
   "cell_type": "code",
   "execution_count": 21,
   "metadata": {},
   "outputs": [],
   "source": [
    "# Heatmap of Average of layer's activation\n",
    "sigma = 1\n",
    "type = 'kernel'\n",
    "num_blocks = 12\n",
    "embedding_dimension = embedding_dim\n",
    "######################################################"
   ]
  },
  {
   "cell_type": "code",
   "execution_count": 22,
   "metadata": {},
   "outputs": [
    {
     "name": "stdout",
     "output_type": "stream",
     "text": [
      "WARNING:tensorflow:5 out of the last 5 calls to <function Model.make_predict_function.<locals>.predict_function at 0x00000204ABD07CA0> triggered tf.function retracing. Tracing is expensive and the excessive number of tracings could be due to (1) creating @tf.function repeatedly in a loop, (2) passing tensors with different shapes, (3) passing Python objects instead of tensors. For (1), please define your @tf.function outside of the loop. For (2), @tf.function has experimental_relax_shapes=True option that relaxes argument shapes that can avoid unnecessary retracing. For (3), please refer to https://www.tensorflow.org/guide/function#controlling_retracing and https://www.tensorflow.org/api_docs/python/tf/function for  more details.\n"
     ]
    },
    {
     "name": "stderr",
     "output_type": "stream",
     "text": [
      "WARNING:tensorflow:5 out of the last 5 calls to <function Model.make_predict_function.<locals>.predict_function at 0x00000204ABD07CA0> triggered tf.function retracing. Tracing is expensive and the excessive number of tracings could be due to (1) creating @tf.function repeatedly in a loop, (2) passing tensors with different shapes, (3) passing Python objects instead of tensors. For (1), please define your @tf.function outside of the loop. For (2), @tf.function has experimental_relax_shapes=True option that relaxes argument shapes that can avoid unnecessary retracing. For (3), please refer to https://www.tensorflow.org/guide/function#controlling_retracing and https://www.tensorflow.org/api_docs/python/tf/function for  more details.\n"
     ]
    },
    {
     "name": "stdout",
     "output_type": "stream",
     "text": [
      "WARNING:tensorflow:6 out of the last 6 calls to <function Model.make_predict_function.<locals>.predict_function at 0x00000204ABD07670> triggered tf.function retracing. Tracing is expensive and the excessive number of tracings could be due to (1) creating @tf.function repeatedly in a loop, (2) passing tensors with different shapes, (3) passing Python objects instead of tensors. For (1), please define your @tf.function outside of the loop. For (2), @tf.function has experimental_relax_shapes=True option that relaxes argument shapes that can avoid unnecessary retracing. For (3), please refer to https://www.tensorflow.org/guide/function#controlling_retracing and https://www.tensorflow.org/api_docs/python/tf/function for  more details.\n"
     ]
    },
    {
     "name": "stderr",
     "output_type": "stream",
     "text": [
      "WARNING:tensorflow:6 out of the last 6 calls to <function Model.make_predict_function.<locals>.predict_function at 0x00000204ABD07670> triggered tf.function retracing. Tracing is expensive and the excessive number of tracings could be due to (1) creating @tf.function repeatedly in a loop, (2) passing tensors with different shapes, (3) passing Python objects instead of tensors. For (1), please define your @tf.function outside of the loop. For (2), @tf.function has experimental_relax_shapes=True option that relaxes argument shapes that can avoid unnecessary retracing. For (3), please refer to https://www.tensorflow.org/guide/function#controlling_retracing and https://www.tensorflow.org/api_docs/python/tf/function for  more details.\n"
     ]
    },
    {
     "name": "stdout",
     "output_type": "stream",
     "text": [
      "WARNING:tensorflow:Detecting that an object or model or tf.train.Checkpoint is being deleted with unrestored values. See the following logs for the specific values in question. To silence these warnings, use `status.expect_partial()`. See https://www.tensorflow.org/api_docs/python/tf/train/Checkpoint#restorefor details about the status object returned by the restore function.\n"
     ]
    },
    {
     "name": "stderr",
     "output_type": "stream",
     "text": [
      "WARNING:tensorflow:Detecting that an object or model or tf.train.Checkpoint is being deleted with unrestored values. See the following logs for the specific values in question. To silence these warnings, use `status.expect_partial()`. See https://www.tensorflow.org/api_docs/python/tf/train/Checkpoint#restorefor details about the status object returned by the restore function.\n"
     ]
    },
    {
     "name": "stdout",
     "output_type": "stream",
     "text": [
      "WARNING:tensorflow:Value in checkpoint could not be found in the restored object: (root).layer_with_weights-0.layer-2._random_generator._generator._state_var\n"
     ]
    },
    {
     "name": "stderr",
     "output_type": "stream",
     "text": [
      "WARNING:tensorflow:Value in checkpoint could not be found in the restored object: (root).layer_with_weights-0.layer-2._random_generator._generator._state_var\n"
     ]
    },
    {
     "name": "stdout",
     "output_type": "stream",
     "text": [
      "WARNING:tensorflow:Value in checkpoint could not be found in the restored object: (root).layer_with_weights-0.layer-3._random_generator._generator._state_var\n"
     ]
    },
    {
     "name": "stderr",
     "output_type": "stream",
     "text": [
      "WARNING:tensorflow:Value in checkpoint could not be found in the restored object: (root).layer_with_weights-0.layer-3._random_generator._generator._state_var\n"
     ]
    },
    {
     "name": "stdout",
     "output_type": "stream",
     "text": [
      "WARNING:tensorflow:Detecting that an object or model or tf.train.Checkpoint is being deleted with unrestored values. See the following logs for the specific values in question. To silence these warnings, use `status.expect_partial()`. See https://www.tensorflow.org/api_docs/python/tf/train/Checkpoint#restorefor details about the status object returned by the restore function.\n"
     ]
    },
    {
     "name": "stderr",
     "output_type": "stream",
     "text": [
      "WARNING:tensorflow:Detecting that an object or model or tf.train.Checkpoint is being deleted with unrestored values. See the following logs for the specific values in question. To silence these warnings, use `status.expect_partial()`. See https://www.tensorflow.org/api_docs/python/tf/train/Checkpoint#restorefor details about the status object returned by the restore function.\n"
     ]
    },
    {
     "name": "stdout",
     "output_type": "stream",
     "text": [
      "WARNING:tensorflow:Value in checkpoint could not be found in the restored object: (root).layer_with_weights-0.layer-2._random_generator._generator._state_var\n"
     ]
    },
    {
     "name": "stderr",
     "output_type": "stream",
     "text": [
      "WARNING:tensorflow:Value in checkpoint could not be found in the restored object: (root).layer_with_weights-0.layer-2._random_generator._generator._state_var\n"
     ]
    },
    {
     "name": "stdout",
     "output_type": "stream",
     "text": [
      "WARNING:tensorflow:Value in checkpoint could not be found in the restored object: (root).layer_with_weights-0.layer-3._random_generator._generator._state_var\n"
     ]
    },
    {
     "name": "stderr",
     "output_type": "stream",
     "text": [
      "WARNING:tensorflow:Value in checkpoint could not be found in the restored object: (root).layer_with_weights-0.layer-3._random_generator._generator._state_var\n"
     ]
    },
    {
     "name": "stdout",
     "output_type": "stream",
     "text": [
      "WARNING:tensorflow:Detecting that an object or model or tf.train.Checkpoint is being deleted with unrestored values. See the following logs for the specific values in question. To silence these warnings, use `status.expect_partial()`. See https://www.tensorflow.org/api_docs/python/tf/train/Checkpoint#restorefor details about the status object returned by the restore function.\n"
     ]
    },
    {
     "name": "stderr",
     "output_type": "stream",
     "text": [
      "WARNING:tensorflow:Detecting that an object or model or tf.train.Checkpoint is being deleted with unrestored values. See the following logs for the specific values in question. To silence these warnings, use `status.expect_partial()`. See https://www.tensorflow.org/api_docs/python/tf/train/Checkpoint#restorefor details about the status object returned by the restore function.\n"
     ]
    },
    {
     "name": "stdout",
     "output_type": "stream",
     "text": [
      "WARNING:tensorflow:Value in checkpoint could not be found in the restored object: (root).layer_with_weights-0.layer-2._random_generator._generator._state_var\n"
     ]
    },
    {
     "name": "stderr",
     "output_type": "stream",
     "text": [
      "WARNING:tensorflow:Value in checkpoint could not be found in the restored object: (root).layer_with_weights-0.layer-2._random_generator._generator._state_var\n"
     ]
    },
    {
     "name": "stdout",
     "output_type": "stream",
     "text": [
      "WARNING:tensorflow:Value in checkpoint could not be found in the restored object: (root).layer_with_weights-0.layer-3._random_generator._generator._state_var\n"
     ]
    },
    {
     "name": "stderr",
     "output_type": "stream",
     "text": [
      "WARNING:tensorflow:Value in checkpoint could not be found in the restored object: (root).layer_with_weights-0.layer-3._random_generator._generator._state_var\n"
     ]
    }
   ],
   "source": [
    "for item in embedding_dimension:\n",
    "    embedding_dim = item\n",
    "    batch_prepro = Batch_Preprocessing(batch_size)\n",
    "    path = 'Results_Article/2A/mlpmixer_12ly_'+ str(item) + 'Dc'\n",
    "    #Call the folder\n",
    "    tested_model = tf.keras.models.load_model(path)\n",
    "    A1_ave_mixer_activations = Prom_Mixer_Activations_Blocks(tested_model,batch_prepro)\n",
    "    A1_global_heatmap = Heatmap(A1_ave_mixer_activations,type,sigma)\n",
    "    with open(path + '/heatmap_'+ type + '_Sg'+ str(sigma) +'_12ly_'+ str(item) +'Dc.pkl','wb') as file:\n",
    "                pickle.dump(A1_global_heatmap,file)\n",
    "    with open(path + '/activations_'+ type + '_Sg'+ str(sigma) +'_12ly_'+ str(item) +'Dc.pkl','wb') as file:\n",
    "                pickle.dump(A1_ave_mixer_activations,file)"
   ]
  },
  {
   "cell_type": "markdown",
   "metadata": {},
   "source": [
    "# EXPERIMENT 2: VERIFICATIONS (OPTIONAL)"
   ]
  },
  {
   "cell_type": "markdown",
   "metadata": {},
   "source": [
    "## 2A"
   ]
  },
  {
   "cell_type": "markdown",
   "metadata": {},
   "source": [
    "Change paths in this cell"
   ]
  },
  {
   "cell_type": "code",
   "execution_count": 23,
   "metadata": {},
   "outputs": [],
   "source": [
    "#path = 'Results_Article/2A/1/mlpmixer_12ly_640Dc_2022-02-26'\n",
    "path = 'Results_Article/2A/mlpmixer_12ly_256Dc'\n",
    "#Call the file\n",
    "#tested_history=np.load( path + '/history_2022-02-26.npy',allow_pickle='TRUE').item()\n",
    "tested_history=np.load( path + '/history.npy',allow_pickle='TRUE').item()\n",
    "with open(path + '/accuracy.pkl','rb') as file:\n",
    "    tested_accuracy = pickle.load(file)"
   ]
  },
  {
   "cell_type": "code",
   "execution_count": 24,
   "metadata": {},
   "outputs": [
    {
     "data": {
      "image/png": "[encoded data removed]",
      "text/plain": [
       "<Figure size 432x288 with 1 Axes>"
      ]
     },
     "metadata": {
      "needs_background": "light"
     },
     "output_type": "display_data"
    },
    {
     "data": {
      "image/png": "[encoded data removed]",
      "text/plain": [
       "<Figure size 432x288 with 2 Axes>"
      ]
     },
     "metadata": {
      "needs_background": "light"
     },
     "output_type": "display_data"
    }
   ],
   "source": [
    "curves(tested_history)"
   ]
  }
 ],
 "metadata": {
  "colab": {
   "collapsed_sections": [],
   "name": "mlp_image_classification",
   "provenance": [],
   "toc_visible": true
  },
  "kernelspec": {
   "display_name": "Python 3",
   "language": "python",
   "name": "python3"
  },
  "language_info": {
   "codemirror_mode": {
    "name": "ipython",
    "version": 3
   },
   "file_extension": ".py",
   "mimetype": "text/x-python",
   "name": "python",
   "nbconvert_exporter": "python",
   "pygments_lexer": "ipython3",
   "version": "3.8.8"
  }
 },
 "nbformat": 4,
 "nbformat_minor": 1
}
