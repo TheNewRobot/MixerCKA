{
 "cells": [
  {
   "cell_type": "markdown",
   "metadata": {
    "id": "-zSzgroG_Suq"
   },
   "source": [
    "# Study of Image classification with modern MLP Mixer model and CKA\n",
    "\n",
    "**Author:** [Arturo Flores](https://www.linkedin.com/in/afloresalv/)<br>\n",
    "**Based on (MLP-MIXER):**  https://keras.io/examples/vision/mlp_image_classification/"
   ]
  },
  {
   "cell_type": "markdown",
   "metadata": {
    "id": "U087DdDw_Suy"
   },
   "source": [
    "# Setup for the MLP-Mixer Architecture\n",
    "\n",
    "################################################################"
   ]
  },
  {
   "cell_type": "code",
   "execution_count": 1,
   "metadata": {
    "id": "AnTyoluw_Suz"
   },
   "outputs": [
    {
     "name": "stderr",
     "output_type": "stream",
     "text": [
      "C:\\Users\\alach\\AppData\\Roaming\\Python\\Python38\\site-packages\\tensorflow_addons\\utils\\ensure_tf_install.py:53: UserWarning: Tensorflow Addons supports using Python ops for all Tensorflow versions above or equal to 2.5.0 and strictly below 2.8.0 (nightly versions are not supported). \n",
      " The versions of TensorFlow you are currently using is 2.8.0 and is not supported. \n",
      "Some things might work, some things might not.\n",
      "If you were to encounter a bug, do not file an issue.\n",
      "If you want to make sure you're using a tested and supported configuration, either change the TensorFlow version or the TensorFlow Addons's version. \n",
      "You can find the compatibility matrix in TensorFlow Addon's readme:\n",
      "https://github.com/tensorflow/addons\n",
      "  warnings.warn(\n"
     ]
    }
   ],
   "source": [
    "import numpy as np\n",
    "import tensorflow as tf\n",
    "from tensorflow import keras\n",
    "from tensorflow.keras import layers\n",
    "import tensorflow_addons as tfa\n",
    "import matplotlib.pyplot as plt \n",
    "from scipy.stats import norm\n",
    "from matplotlib.ticker import FormatStrFormatter\n",
    "import datetime\n",
    "import pickle\n",
    "# Files imported from the sleected GitHub https://cka-similarity.github.io/\n",
    "from CKA_Google import *\n",
    "import seaborn as sns \n",
    "import random\n",
    "import matplotlib.pyplot as plt "
   ]
  },
  {
   "cell_type": "markdown",
   "metadata": {},
   "source": [
    "# Experiment 3 : Across Datasets"
   ]
  },
  {
   "cell_type": "markdown",
   "metadata": {
    "id": "8DAOrIHu_Su2"
   },
   "source": [
    "## Configure the hyperparameters"
   ]
  },
  {
   "cell_type": "code",
   "execution_count": 2,
   "metadata": {
    "id": "1iMiVS7o_Su3"
   },
   "outputs": [
    {
     "name": "stdout",
     "output_type": "stream",
     "text": [
      "Image size: 224 X 224 = 50176\n",
      "Patch size: 32 X 32 = 1024 \n",
      "Patches per image: 49\n",
      "Elements per patch (3 channels): 3072\n"
     ]
    }
   ],
   "source": [
    "weight_decay = 0.0001\n",
    "batch_size = 512 \n",
    "num_epochs = 50\n",
    "dropout_rate = 0.2\n",
    "learning_rate = 0.005\n",
    "\n",
    "## Selected Architecture: B/32\n",
    "\n",
    "image_size = 224  # We'll resize input images to this size. Square\n",
    "patch_size = 32  # Size of the patches to be extracted from the input images. Square\n",
    "num_patches = (image_size // patch_size) ** 2  # Size of the data array, or sequence length (S)\n",
    "embedding_dim = 384  # Fixed Embedding Dimension\n",
    "num_blocks = 12\n",
    "\n",
    "print(f\"Image size: {image_size} X {image_size} = {image_size ** 2}\")\n",
    "print(f\"Patch size: {patch_size} X {patch_size} = {patch_size ** 2} \")\n",
    "print(f\"Patches per image: {num_patches}\")\n",
    "print(f\"Elements per patch (3 channels): {(patch_size ** 2) * 3}\")\n",
    "\n",
    "now = datetime.datetime.now()\n",
    "date = now.strftime(\"%Y-%m-%d_%H-%M\")\n"
   ]
  },
  {
   "cell_type": "markdown",
   "metadata": {
    "id": "fUuu2OAS_Su0"
   },
   "source": [
    "## Prepare the data"
   ]
  },
  {
   "cell_type": "code",
   "execution_count": 3,
   "metadata": {},
   "outputs": [
    {
     "name": "stdout",
     "output_type": "stream",
     "text": [
      "x_train shape: (50000, 32, 32, 3) - y_train shape: (50000, 1)\n",
      "x_test shape: (10000, 32, 32, 3) - y_test shape: (10000, 1)\n"
     ]
    }
   ],
   "source": [
    "#Dataset for training \n",
    "\n",
    "num_classes = 10\n",
    "input_shape = (32, 32, 3)\n",
    "(x_train, y_train), (x_test, y_test) = keras.datasets.cifar10.load_data()\n",
    "\n",
    "print(f\"x_train shape: {x_train.shape} - y_train shape: {y_train.shape}\")\n",
    "print(f\"x_test shape: {x_test.shape} - y_test shape: {y_test.shape}\")\n",
    "#plt.imshow(x_train[1])"
   ]
  },
  {
   "cell_type": "markdown",
   "metadata": {
    "id": "08mpnEZH_Su5"
   },
   "source": [
    "## Build a classification model"
   ]
  },
  {
   "cell_type": "code",
   "execution_count": 4,
   "metadata": {
    "id": "Ra-bXojQ_Su6"
   },
   "outputs": [],
   "source": [
    "def build_classifier(blocks, embedding_dim, positional_encoding=False):\n",
    "    inputs = layers.Input(shape=input_shape)\n",
    "    # Augment data. \n",
    "    augmented = data_augmentation(inputs)\n",
    "    # Create patches. \n",
    "    patches = Patches(patch_size, num_patches)(augmented)\n",
    "    # Encode patches to generate a [batch_size, num_patches, embedding_dim] tensor.\n",
    "    x = layers.Dense(units=embedding_dim)(patches)\n",
    "    if positional_encoding:\n",
    "        positions = tf.range(start=0, limit=num_patches, delta=1)\n",
    "        position_embedding = layers.Embedding(\n",
    "            input_dim=num_patches, output_dim=embedding_dim\n",
    "        )(positions)\n",
    "        x = x + position_embedding\n",
    "    # Process x using the module blocks. ## (sequential_82)\n",
    "    x = blocks(x)\n",
    "    # Apply global average pooling to generate a [batch_size, embedding_dim] representation tensor. \n",
    "    representation = layers.GlobalAveragePooling1D()(x)\n",
    "    # Apply dropout.\n",
    "    representation = layers.Dropout(rate=dropout_rate)(representation)\n",
    "    # Compute logits outputs.\n",
    "    logits = layers.Dense(num_classes)(representation) \n",
    "    # Create the Keras model.\n",
    "    return keras.Model(inputs=inputs, outputs=logits)\n"
   ]
  },
  {
   "cell_type": "markdown",
   "metadata": {
    "id": "cpQFU8H__Su8"
   },
   "source": [
    "## Define an experiment"
   ]
  },
  {
   "cell_type": "code",
   "execution_count": 5,
   "metadata": {
    "id": "9E1zD2BY_Su8"
   },
   "outputs": [],
   "source": [
    "def run_experiment(model):\n",
    "    # Create Adam optimizer with weight decay. Regularization that penalizes the increase of weight - with a facto alpha - to correct the overfitting\n",
    "    optimizer = tfa.optimizers.AdamW(\n",
    "        learning_rate=learning_rate, weight_decay=weight_decay,\n",
    "    )\n",
    "    # Compile the model.\n",
    "    model.compile(\n",
    "        optimizer=optimizer,\n",
    "        #Negative Log Likelihood = Categorical Cross Entropy\n",
    "        loss=keras.losses.SparseCategoricalCrossentropy(from_logits=True),\n",
    "        metrics=[\n",
    "            keras.metrics.SparseCategoricalAccuracy(name=\"acc\"),\n",
    "            keras.metrics.SparseTopKCategoricalAccuracy(5, name=\"top5-acc\"),\n",
    "        ],\n",
    "    )\n",
    "    # Create a learning rate scheduler callback.\n",
    "    reduce_lr = keras.callbacks.ReduceLROnPlateau(\n",
    "        monitor=\"val_loss\", factor=0.5, patience=5\n",
    "    )\n",
    "    # Create an early stopping regularization callback. \n",
    "    # It ends at a point that corresponds to a minimum of the L2-regularized objective\n",
    "    early_stopping = tf.keras.callbacks.EarlyStopping(\n",
    "        monitor=\"val_loss\", patience=10, restore_best_weights=True\n",
    "    )\n",
    "    # Fit the model.\n",
    "    history = model.fit(\n",
    "        x=x_train,\n",
    "        y=y_train,\n",
    "        batch_size=batch_size,\n",
    "        epochs=num_epochs,\n",
    "        validation_split=0.1,\n",
    "        callbacks=[early_stopping, reduce_lr],\n",
    "    )\n",
    "\n",
    "    _, accuracy, top_5_accuracy = model.evaluate(x_test, y_test)\n",
    "    print(f\"Test accuracy: {round(accuracy * 100, 2)}%\")\n",
    "    print(f\"Test top 5 accuracy: {round(top_5_accuracy * 100, 2)}%\")\n",
    "\n",
    "    # Return history to plot learning curves.\n",
    "    return history, accuracy, top_5_accuracy"
   ]
  },
  {
   "cell_type": "markdown",
   "metadata": {
    "id": "JxeE0cmM_Su9"
   },
   "source": [
    "## Use data augmentation\n",
    "Their state is not set during training; it must be set before training, either by initializing them from a precomputed constant, or by \"adapting\" them on data."
   ]
  },
  {
   "cell_type": "code",
   "execution_count": 6,
   "metadata": {
    "id": "zh6hFPWX_Su-"
   },
   "outputs": [],
   "source": [
    "data_augmentation = keras.Sequential(\n",
    "    [\n",
    "        layers.Normalization(),\n",
    "        layers.Resizing(image_size, image_size),\n",
    "        layers.RandomFlip(\"horizontal\"),\n",
    "        layers.RandomZoom(\n",
    "            height_factor=0.2, width_factor=0.2\n",
    "        ),\n",
    "    ],\n",
    "    name=\"data_augmentation\",\n",
    ")\n",
    "# Compute the mean and the variance of the training data for normalization.\n",
    "data_augmentation.layers[0].adapt(x_train)\n"
   ]
  },
  {
   "cell_type": "markdown",
   "metadata": {
    "id": "G77cUgiu_Su-"
   },
   "source": [
    "## Implement patch extraction as a layer"
   ]
  },
  {
   "cell_type": "code",
   "execution_count": 7,
   "metadata": {
    "id": "RYKNktXe_Su_"
   },
   "outputs": [],
   "source": [
    "\n",
    "class Patches(layers.Layer):\n",
    "    def __init__(self, patch_size, num_patches):\n",
    "        super(Patches, self).__init__()\n",
    "        self.patch_size = patch_size\n",
    "        self.num_patches = num_patches\n",
    "\n",
    "    def call(self, images):\n",
    "        #Extract the shape dimension in the position 0 = columns\n",
    "        batch_size = tf.shape(images)[0]\n",
    "        patches = tf.image.extract_patches(\n",
    "            images=images,\n",
    "            sizes=[1, self.patch_size, self.patch_size, 1],\n",
    "            #Without overlapping, stride horizontally and vertically\n",
    "            strides=[1, self.patch_size, self.patch_size, 1],\n",
    "            #Rate: Dilation factor [1 1* 1* 1] controls the spacing between the kernel points.\n",
    "            rates=[1, 1, 1, 1],\n",
    "            #Patches contained in the images are considered, no zero padding\n",
    "            padding=\"VALID\",\n",
    "        )\n",
    "        #shape[-1], number of colummns, as well as shape[0]\n",
    "        patch_dims = patches.shape[-1]\n",
    "        patches = tf.reshape(patches, [batch_size, self.num_patches, patch_dims])\n",
    "        return patches\n",
    "\n",
    "    def get_config(self):\n",
    "        config = super(Patches, self).get_config().copy()\n",
    "        config.update ({\n",
    "            'patch_size' : self.patch_size ,\n",
    "            'num_patches' : self.num_patches\n",
    "        })\n",
    "        return config"
   ]
  },
  {
   "cell_type": "markdown",
   "metadata": {
    "id": "l7yehcSS_Su_"
   },
   "source": [
    "## The MLP-Mixer model\n",
    "\n",
    "The MLP-Mixer is an architecture based exclusively on\n",
    "multi-layer perceptrons (MLPs), that contains two types of MLP layers:\n",
    "\n",
    "1. One applied independently to image patches, which mixes the per-location features.\n",
    "2. The other applied across patches (along channels), which mixes spatial information.\n",
    "\n",
    "This is similar to a [depthwise separable convolution based model](https://arxiv.org/pdf/1610.02357.pdf)\n",
    "such as the Xception model, but with two chained dense transforms, no max pooling, and layer normalization\n",
    "instead of batch normalization."
   ]
  },
  {
   "cell_type": "markdown",
   "metadata": {
    "id": "vvwg4e2n_SvA"
   },
   "source": [
    "### Implement the MLP-Mixer module"
   ]
  },
  {
   "cell_type": "code",
   "execution_count": 8,
   "metadata": {
    "id": "dT6wVEki_SvA"
   },
   "outputs": [],
   "source": [
    "\n",
    "class MLPMixerLayer(layers.Layer):\n",
    "    def __init__(self, num_patches, embedding_dim, dropout_rate, *args, **kwargs):\n",
    "        super(MLPMixerLayer, self).__init__(*args, **kwargs)\n",
    "\n",
    "        self.mlp1 = keras.Sequential(\n",
    "            [\n",
    "                layers.Dense(units=num_patches),\n",
    "                tfa.layers.GELU(),\n",
    "                layers.Dense(units=num_patches),\n",
    "                layers.Dropout(rate=dropout_rate),\n",
    "            ]\n",
    "        )\n",
    "\n",
    "        self.mlp2 = keras.Sequential(\n",
    "            [\n",
    "                layers.Dense(units=num_patches),\n",
    "                tfa.layers.GELU(),\n",
    "                layers.Dense(units=embedding_dim),\n",
    "                layers.Dropout(rate=dropout_rate),\n",
    "            ]\n",
    "        )\n",
    "        self.normalize = layers.LayerNormalization(epsilon=1e-6)\n",
    "\n",
    "    def call(self, inputs):\n",
    "        # Apply layer normalization.\n",
    "        x = self.normalize(inputs)\n",
    "        # Transpose inputs from [num_batches, num_patches, hidden_units] to [num_batches, hidden_units, num_patches].\n",
    "        x_channels = tf.linalg.matrix_transpose(x)\n",
    "        # Apply mlp1 on each channel independently.\n",
    "        mlp1_outputs = self.mlp1(x_channels)\n",
    "        # Transpose mlp1_outputs from [num_batches, hidden_dim, num_patches] to [num_batches, num_patches, hidden_units].\n",
    "        mlp1_outputs = tf.linalg.matrix_transpose(mlp1_outputs)\n",
    "        # Add skip connection.\n",
    "        x = mlp1_outputs + inputs\n",
    "        # Apply layer normalization.\n",
    "        x_patches = self.normalize(x)\n",
    "        # Apply mlp2 on each patch independtenly.\n",
    "        mlp2_outputs = self.mlp2(x_patches)\n",
    "        # Add skip connection.\n",
    "        x = x + mlp2_outputs\n",
    "        return x\n",
    "\n",
    "    def get_config(self): \n",
    "        config = super(MLPMixerLayer, self).get_config().copy()\n",
    "        config.update ({\n",
    "            'num_patches' : num_patches,\n",
    "            'embedding_dim' : embedding_dim,\n",
    "            'dropout_rate' : dropout_rate,\n",
    "        })\n",
    "        return config"
   ]
  },
  {
   "cell_type": "markdown",
   "metadata": {
    "id": "zUiufq92_SvA"
   },
   "source": [
    "## Build, train, and evaluate the MLP-Mixer model\n",
    "\n",
    "Note that training the model with the current settings on a V100 GPUs\n",
    "takes around 8 seconds per epoch."
   ]
  },
  {
   "cell_type": "code",
   "execution_count": 9,
   "metadata": {},
   "outputs": [],
   "source": [
    "# Report: Learning Curve\n",
    "def curves(history):\n",
    "    ymax1 = min(history[\"loss\"])\n",
    "    xmax1 = history[\"loss\"].index(ymax1)\n",
    "    ymax2 = min(history[\"val_loss\"])\n",
    "    xmax2 = history[\"val_loss\"].index(ymax2)\n",
    "    plt.title(\"Cross Entropy Loss\")\n",
    "    plt.plot(history[\"loss\"], color = 'blue', label = 'Training')\n",
    "    plt.plot(history[\"val_loss\"], color = 'orange', label = 'Testing')\n",
    "    plt.xlabel(\"Epochs\")\n",
    "    plt.annotate('Max:' + str(round(ymax1,2)) , xy = (xmax1, ymax1), xytext = (xmax1*0.93, 1.07*ymax1), \n",
    "                    arrowprops=dict(facecolor='blue', headwidth= 6, headlength =9))\n",
    "    plt.annotate('Max:' + str(round(ymax2,2)) , xy = (xmax2, ymax2), xytext = (xmax2*0.93, 1.07*ymax2), \n",
    "                    arrowprops=dict(facecolor='goldenrod', headwidth= 6, headlength =9))\n",
    "    plt.xlim([0,num_epochs])\n",
    "    plt.legend()\n",
    "    plt.show()\n",
    "    # Graph accuracy\n",
    "    ymax3 = max(history[\"acc\"])\n",
    "    xmax3 = history[\"acc\"].index(ymax3)\n",
    "    ymax4 = max(history[\"val_acc\"])\n",
    "    xmax4 = history[\"val_acc\"].index(ymax4)\n",
    "    ymax5 = max(history[\"top5-acc\"])\n",
    "    xmax5 = history[\"top5-acc\"].index(ymax5)\n",
    "    ymax6 = max(history[\"val_top5-acc\"])\n",
    "    xmax6 = history[\"val_top5-acc\"].index(ymax6)\n",
    "    plt.subplot(2,1,1)\n",
    "    plt.title('Classification accuracy')\n",
    "    plt.plot(history['acc'], color = 'blue', label = 'Training')\n",
    "    plt.plot(history['val_acc'], color = 'orange', label = 'Testing')\n",
    "    plt.annotate('Max:' + str(round(ymax3,2)) , xy = (xmax3, ymax3), xytext = (xmax3*0.93, 1.2*ymax3), \n",
    "                    arrowprops=dict(facecolor='blue', headwidth= 6, headlength =9))\n",
    "    plt.annotate('Max:' + str(round(ymax4,2)) , xy = (xmax4, ymax4), xytext = (xmax4*0.93, 0.7*ymax4), \n",
    "                    arrowprops=dict(facecolor='goldenrod', headwidth= 6, headlength =9))\n",
    "    plt.subplot(2,1,2)\n",
    "    plt.title('Classification top5-acc')\n",
    "    plt.plot(history['top5-acc'], color = 'blue', label = 'Training')\n",
    "    plt.plot(history['val_top5-acc'], color = 'orange', label = 'Testing')\n",
    "    plt.annotate('Max:' + str(round(ymax5,2)) , xy = (xmax5, ymax5), xytext = (xmax5*0.93, 1.2*ymax5), \n",
    "                    arrowprops=dict(facecolor='blue', headwidth= 6, headlength =9))\n",
    "    plt.annotate('Max:' + str(round(ymax6,2)) , xy = (xmax6, ymax6), xytext = (xmax6*0.87, 1.2*ymax6), \n",
    "                    arrowprops=dict(facecolor='goldenrod', headwidth= 6, headlength =9))\n",
    "    plt.xlim([0,num_epochs])\n",
    "    plt.xlabel(\"Epochs\")\n",
    "    plt.suptitle(\"Learning Curves\")\n",
    "    plt.legend()\n",
    "    plt.tight_layout()\n",
    "    plt.show()"
   ]
  },
  {
   "cell_type": "markdown",
   "metadata": {},
   "source": [
    "## Obtain activations + Visualization"
   ]
  },
  {
   "cell_type": "code",
   "execution_count": 10,
   "metadata": {},
   "outputs": [],
   "source": [
    "# Preprocessing Layers + Patches + One dense layer\n",
    "def Preprocessing(num_example):\n",
    "    augmented = data_augmentation(x_train[num_example])\n",
    "    b = Patches(patch_size, num_patches)(augmented)\n",
    "    a = layers.Dense(units=embedding_dim)(b)\n",
    "    inp = tf.reshape(a,[1,embedding_dim,num_patches])\n",
    "    return inp"
   ]
  },
  {
   "cell_type": "code",
   "execution_count": 11,
   "metadata": {},
   "outputs": [],
   "source": [
    "# Creates a random vector with indexes of a random batch selection and also regularizes the selected batch\n",
    "def Batch_Preprocessing(batch_size):\n",
    "    #Vector with the number of Sample of the Xtrain\n",
    "    a  = list(range(0,x_train.shape[0]))\n",
    "    b = random.sample(a,batch_size)\n",
    "    batch_regularization = list()\n",
    "    for i in range(0,batch_size):\n",
    "        inter_result = Preprocessing(b[i])\n",
    "        batch_regularization.append(inter_result)\n",
    "    return batch_regularization\n"
   ]
  },
  {
   "cell_type": "code",
   "execution_count": 12,
   "metadata": {},
   "outputs": [],
   "source": [
    "def visualize_out(result,layer_number,example):\n",
    "    fig, (ax1, ax2)= plt.subplots(1,2)\n",
    "    ax1.imshow(x_train[example])\n",
    "    ax1.set_title('Original_Figure, Class: #' + str(y_train[example][0]))\n",
    "    ax2.imshow(result[layer_number])\n",
    "    ax2.set_title('Activations of MLP block of the Mixer #: '+ '\"' + str(layer_number) + '\"')\n",
    "    return None"
   ]
  },
  {
   "cell_type": "code",
   "execution_count": 13,
   "metadata": {},
   "outputs": [],
   "source": [
    "def Mixer_Layer_Outputs(model_input, model_output,example):\n",
    "    #The input is fixed to the beginning of the mlp blocks\n",
    "    intermediate_model=tf.keras.models.Model(inputs=model_input.input,outputs=model_output.output)\n",
    "    #This reshape is necessary for the input of the model\n",
    "    example = tf.reshape(example,[1,num_patches,embedding_dim])\n",
    "    #Inference\n",
    "    intermediate_prediction =intermediate_model.predict(example)\n",
    "    #This reshape is standardize the output\n",
    "    layactivation = intermediate_prediction.reshape((embedding_dim,num_patches))\n",
    "    return layactivation"
   ]
  },
  {
   "cell_type": "code",
   "execution_count": 14,
   "metadata": {},
   "outputs": [],
   "source": [
    "## Computes the outputs of each MLP-mixer Layer\n",
    "def Mixer_Activations(model, example):\n",
    "    total_activations = list()\n",
    "    for i in range(num_blocks):\n",
    "        model_input = model.layers[4].layers[0]\n",
    "        model_output = model.layers[4].layers[i]\n",
    "        int_total_activations = Mixer_Layer_Outputs(model_input, model_output, example)\n",
    "        total_activations.append(int_total_activations)\n",
    "    return  total_activations"
   ]
  },
  {
   "cell_type": "code",
   "execution_count": 15,
   "metadata": {},
   "outputs": [],
   "source": [
    "#Average of layer's activation\n",
    "def Prom_Mixer_Activations_Blocks(model,batch_regularization):\n",
    "    sum = list()\n",
    "    for i in range(0,num_blocks):\n",
    "        sum_raw = np.zeros((embedding_dim,num_patches))\n",
    "        sum.append(sum_raw)\n",
    "    for i in range(0,batch_size):\n",
    "        mixer_raw = Mixer_Activations(model,batch_regularization[i])\n",
    "        for i in range(0,num_blocks):\n",
    "            sum[i] = np.add(mixer_raw[i],sum[i])\n",
    "    prom_mixer_activations = [ (number / batch_size)  for number in sum]\n",
    "    return prom_mixer_activations"
   ]
  },
  {
   "cell_type": "markdown",
   "metadata": {},
   "source": [
    "# CKA"
   ]
  },
  {
   "cell_type": "code",
   "execution_count": 16,
   "metadata": {},
   "outputs": [],
   "source": [
    "# Calculates a heatmap according to the selection of a CKA_Kernel (preferred) or CKA_Linear\n",
    "def Heatmap(result,type,sigma):\n",
    "    dim = len(result)\n",
    "    k = (dim - 1)\n",
    "    heatmap_CKA = np.zeros((dim,dim))\n",
    "    for i in range(0,dim):\n",
    "        tr = (dim - 1)\n",
    "        for j in range(0,dim):\n",
    "            if type == 'kernel':\n",
    "                heatmap_CKA[k][tr] = cka(gram_rbf(result[i],sigma),gram_rbf(result[j],sigma))\n",
    "            elif type == 'linear':\n",
    "                heatmap_CKA[k][tr] = cka(gram_linear(result[i]),gram_linear(result[j])) \n",
    "            else:\n",
    "                print('There is no such category, try again')\n",
    "                break\n",
    "\n",
    "            tr -= 1\n",
    "        k -= 1\n",
    "    #print('CKA' + type + 'calculated')\n",
    "    return heatmap_CKA"
   ]
  },
  {
   "cell_type": "code",
   "execution_count": 17,
   "metadata": {},
   "outputs": [],
   "source": [
    "#Average of heatmaps (obsolet)\n",
    "def Prom_Mixer_Heatmaps(batch_result,type):\n",
    "    mat_heatmaps = list()\n",
    "    prom_mixer_heatmap_raw = np.zeros((num_blocks,num_blocks))\n",
    "    for i in range(0,batch_size):\n",
    "        mixer_activations_raw = Mixer_Activations(batch_result[i])\n",
    "        heatmap_raw = Heatmap(mixer_activations_raw, type)\n",
    "        mat_heatmaps.append(heatmap_raw)\n",
    "        prom_mixer_heatmap_raw = np.add(heatmap_raw,prom_mixer_heatmap_raw)\n",
    "    prom_mixer_heatmap =  prom_mixer_heatmap_raw/batch_size  \n",
    "    return prom_mixer_heatmap,mat_heatmaps"
   ]
  },
  {
   "cell_type": "code",
   "execution_count": 18,
   "metadata": {},
   "outputs": [],
   "source": [
    "def visualize_Heatmap(heatmap,type,bl):\n",
    "    #Number of thats that you want to appear in the plot\n",
    "    tri = 4\n",
    "    if type == 'kernel' or type == 'linear':\n",
    "        dim = len(heatmap)\n",
    "        axis_labels = list()\n",
    "        for i in range(0,dim):\n",
    "            axis_labels_inter = str('%i'%(i+1))\n",
    "            axis_labels.append(axis_labels_inter)\n",
    "        _, ax = plt.subplots(figsize=(3,3))\n",
    "        ax = sns.heatmap(heatmap, xticklabels=axis_labels[::-1], yticklabels=axis_labels[::-1], ax = ax, annot=bl)\n",
    "        #sns.heatmap(heatmap, xticklabels=2, yticklabels=2, ax = ax, annot=bl, cbar=True)   \n",
    "        ax.invert_xaxis()\n",
    "        ax.axhline(y = 0, color='k',linewidth = 4)\n",
    "        ax.axhline(y = heatmap.shape[1], color = 'k', linewidth = 4)\n",
    "        ax.axvline(x = 0, color ='k',linewidth = 4)\n",
    "        ax.axvline(x = heatmap.shape[0], color = 'k', linewidth = 4)\n",
    "\n",
    "        ax.set_title(\"CKA-\"+ type)   \n",
    "        ax.set_xlabel(\"Layer\")\n",
    "        ax.set_ylabel(\"Layer\")\n",
    "        plt.yticks(rotation=0)\n",
    "        plt.locator_params(axis='x',nbins=tri)\n",
    "        plt.locator_params(axis='y',nbins=tri)\n",
    "        plt.savefig('CKA_'+ type +'.png', dpi=300)\n",
    "        \n",
    "    else:\n",
    "        print('There is no such category, try again')"
   ]
  },
  {
   "cell_type": "markdown",
   "metadata": {},
   "source": [
    "# Experiment 3 : Across datasets"
   ]
  },
  {
   "cell_type": "markdown",
   "metadata": {},
   "source": [
    "Trained with CIFAR 10"
   ]
  },
  {
   "cell_type": "code",
   "execution_count": 19,
   "metadata": {},
   "outputs": [
    {
     "name": "stdout",
     "output_type": "stream",
     "text": [
      "Epoch 1/50\n",
      "88/88 [==============================] - 31s 246ms/step - loss: 3.8681 - acc: 0.2619 - top5-acc: 0.7524 - val_loss: 1.6054 - val_acc: 0.4192 - val_top5-acc: 0.8956 - lr: 0.0050\n",
      "Epoch 2/50\n",
      "88/88 [==============================] - 20s 232ms/step - loss: 1.5740 - acc: 0.4323 - top5-acc: 0.8994 - val_loss: 1.4207 - val_acc: 0.4954 - val_top5-acc: 0.9296 - lr: 0.0050\n",
      "Epoch 3/50\n",
      "88/88 [==============================] - 20s 232ms/step - loss: 1.4183 - acc: 0.4909 - top5-acc: 0.9256 - val_loss: 1.2759 - val_acc: 0.5454 - val_top5-acc: 0.9464 - lr: 0.0050\n",
      "Epoch 4/50\n",
      "88/88 [==============================] - 20s 232ms/step - loss: 1.3187 - acc: 0.5267 - top5-acc: 0.9369 - val_loss: 1.2024 - val_acc: 0.5760 - val_top5-acc: 0.9536 - lr: 0.0050\n",
      "Epoch 5/50\n",
      "88/88 [==============================] - 20s 232ms/step - loss: 1.2663 - acc: 0.5495 - top5-acc: 0.9440 - val_loss: 1.2455 - val_acc: 0.5678 - val_top5-acc: 0.9470 - lr: 0.0050\n",
      "Epoch 6/50\n",
      "88/88 [==============================] - 20s 232ms/step - loss: 1.2289 - acc: 0.5617 - top5-acc: 0.9460 - val_loss: 1.1697 - val_acc: 0.5804 - val_top5-acc: 0.9580 - lr: 0.0050\n",
      "Epoch 7/50\n",
      "88/88 [==============================] - 20s 231ms/step - loss: 1.1758 - acc: 0.5804 - top5-acc: 0.9528 - val_loss: 1.0592 - val_acc: 0.6244 - val_top5-acc: 0.9666 - lr: 0.0050\n",
      "Epoch 8/50\n",
      "88/88 [==============================] - 20s 232ms/step - loss: 1.1559 - acc: 0.5864 - top5-acc: 0.9559 - val_loss: 1.0459 - val_acc: 0.6322 - val_top5-acc: 0.9652 - lr: 0.0050\n",
      "Epoch 9/50\n",
      "88/88 [==============================] - 20s 232ms/step - loss: 1.1434 - acc: 0.5933 - top5-acc: 0.9549 - val_loss: 1.0175 - val_acc: 0.6412 - val_top5-acc: 0.9698 - lr: 0.0050\n",
      "Epoch 10/50\n",
      "88/88 [==============================] - 20s 232ms/step - loss: 1.0956 - acc: 0.6132 - top5-acc: 0.9597 - val_loss: 1.0427 - val_acc: 0.6390 - val_top5-acc: 0.9658 - lr: 0.0050\n",
      "Epoch 11/50\n",
      "88/88 [==============================] - 20s 232ms/step - loss: 1.0842 - acc: 0.6161 - top5-acc: 0.9614 - val_loss: 1.0711 - val_acc: 0.6308 - val_top5-acc: 0.9618 - lr: 0.0050\n",
      "Epoch 12/50\n",
      "88/88 [==============================] - 20s 232ms/step - loss: 1.0519 - acc: 0.6271 - top5-acc: 0.9638 - val_loss: 1.0811 - val_acc: 0.6264 - val_top5-acc: 0.9648 - lr: 0.0050\n",
      "Epoch 13/50\n",
      "88/88 [==============================] - 20s 232ms/step - loss: 1.0483 - acc: 0.6292 - top5-acc: 0.9640 - val_loss: 1.0651 - val_acc: 0.6332 - val_top5-acc: 0.9676 - lr: 0.0050\n",
      "Epoch 14/50\n",
      "88/88 [==============================] - 20s 232ms/step - loss: 1.0202 - acc: 0.6387 - top5-acc: 0.9662 - val_loss: 0.9823 - val_acc: 0.6542 - val_top5-acc: 0.9708 - lr: 0.0050\n",
      "Epoch 15/50\n",
      "88/88 [==============================] - 20s 232ms/step - loss: 1.0110 - acc: 0.6442 - top5-acc: 0.9675 - val_loss: 0.9603 - val_acc: 0.6690 - val_top5-acc: 0.9684 - lr: 0.0050\n",
      "Epoch 16/50\n",
      "88/88 [==============================] - 20s 232ms/step - loss: 0.9866 - acc: 0.6515 - top5-acc: 0.9683 - val_loss: 0.9427 - val_acc: 0.6718 - val_top5-acc: 0.9728 - lr: 0.0050\n",
      "Epoch 17/50\n",
      "88/88 [==============================] - 21s 233ms/step - loss: 0.9791 - acc: 0.6555 - top5-acc: 0.9693 - val_loss: 0.9224 - val_acc: 0.6852 - val_top5-acc: 0.9716 - lr: 0.0050\n",
      "Epoch 18/50\n",
      "88/88 [==============================] - 20s 232ms/step - loss: 0.9493 - acc: 0.6667 - top5-acc: 0.9720 - val_loss: 0.9211 - val_acc: 0.6836 - val_top5-acc: 0.9726 - lr: 0.0050\n",
      "Epoch 19/50\n",
      "88/88 [==============================] - 20s 233ms/step - loss: 0.9479 - acc: 0.6659 - top5-acc: 0.9713 - val_loss: 0.9081 - val_acc: 0.6780 - val_top5-acc: 0.9756 - lr: 0.0050\n",
      "Epoch 20/50\n",
      "88/88 [==============================] - 20s 232ms/step - loss: 0.9263 - acc: 0.6711 - top5-acc: 0.9730 - val_loss: 0.9277 - val_acc: 0.6838 - val_top5-acc: 0.9740 - lr: 0.0050\n",
      "Epoch 21/50\n",
      "88/88 [==============================] - 20s 233ms/step - loss: 0.9244 - acc: 0.6751 - top5-acc: 0.9740 - val_loss: 0.8645 - val_acc: 0.6984 - val_top5-acc: 0.9802 - lr: 0.0050\n",
      "Epoch 22/50\n",
      "88/88 [==============================] - 21s 234ms/step - loss: 0.9010 - acc: 0.6802 - top5-acc: 0.9746 - val_loss: 0.8358 - val_acc: 0.7122 - val_top5-acc: 0.9800 - lr: 0.0050\n",
      "Epoch 23/50\n",
      "88/88 [==============================] - 21s 234ms/step - loss: 0.8939 - acc: 0.6861 - top5-acc: 0.9754 - val_loss: 1.0092 - val_acc: 0.6542 - val_top5-acc: 0.9738 - lr: 0.0050\n",
      "Epoch 24/50\n",
      "88/88 [==============================] - 21s 234ms/step - loss: 0.9002 - acc: 0.6843 - top5-acc: 0.9749 - val_loss: 0.8082 - val_acc: 0.7172 - val_top5-acc: 0.9782 - lr: 0.0050\n",
      "Epoch 25/50\n",
      "88/88 [==============================] - 21s 234ms/step - loss: 0.8661 - acc: 0.6959 - top5-acc: 0.9773 - val_loss: 0.8257 - val_acc: 0.7168 - val_top5-acc: 0.9784 - lr: 0.0050\n",
      "Epoch 26/50\n",
      "88/88 [==============================] - 21s 234ms/step - loss: 0.8563 - acc: 0.6979 - top5-acc: 0.9778 - val_loss: 0.8311 - val_acc: 0.7110 - val_top5-acc: 0.9800 - lr: 0.0050\n",
      "Epoch 27/50\n",
      "88/88 [==============================] - 21s 234ms/step - loss: 0.8518 - acc: 0.7023 - top5-acc: 0.9776 - val_loss: 0.8711 - val_acc: 0.6986 - val_top5-acc: 0.9754 - lr: 0.0050\n",
      "Epoch 28/50\n",
      "88/88 [==============================] - 21s 234ms/step - loss: 0.8460 - acc: 0.7033 - top5-acc: 0.9789 - val_loss: 0.8316 - val_acc: 0.7208 - val_top5-acc: 0.9798 - lr: 0.0050\n",
      "Epoch 29/50\n",
      "88/88 [==============================] - 21s 234ms/step - loss: 0.8321 - acc: 0.7095 - top5-acc: 0.9790 - val_loss: 0.8072 - val_acc: 0.7258 - val_top5-acc: 0.9824 - lr: 0.0050\n",
      "Epoch 30/50\n",
      "88/88 [==============================] - 21s 235ms/step - loss: 0.8263 - acc: 0.7088 - top5-acc: 0.9796 - val_loss: 0.8294 - val_acc: 0.7108 - val_top5-acc: 0.9816 - lr: 0.0050\n",
      "Epoch 31/50\n",
      "88/88 [==============================] - 21s 235ms/step - loss: 0.9046 - acc: 0.6930 - top5-acc: 0.9745 - val_loss: 1.8384 - val_acc: 0.5700 - val_top5-acc: 0.9552 - lr: 0.0050\n",
      "Epoch 32/50\n",
      "88/88 [==============================] - 21s 235ms/step - loss: 15.7246 - acc: 0.3280 - top5-acc: 0.7901 - val_loss: 1.3734 - val_acc: 0.5108 - val_top5-acc: 0.9398 - lr: 0.0050\n",
      "Epoch 33/50\n",
      "88/88 [==============================] - 21s 235ms/step - loss: 1.3120 - acc: 0.5282 - top5-acc: 0.9405 - val_loss: 1.1392 - val_acc: 0.5898 - val_top5-acc: 0.9598 - lr: 0.0050\n",
      "Epoch 34/50\n",
      "88/88 [==============================] - 21s 234ms/step - loss: 1.1582 - acc: 0.5897 - top5-acc: 0.9550 - val_loss: 1.0224 - val_acc: 0.6380 - val_top5-acc: 0.9676 - lr: 0.0050\n",
      "Epoch 35/50\n",
      "88/88 [==============================] - 21s 233ms/step - loss: 1.0699 - acc: 0.6198 - top5-acc: 0.9623 - val_loss: 0.9793 - val_acc: 0.6540 - val_top5-acc: 0.9698 - lr: 0.0025\n",
      "Epoch 36/50\n",
      "88/88 [==============================] - 21s 233ms/step - loss: 1.0202 - acc: 0.6416 - top5-acc: 0.9653 - val_loss: 0.9579 - val_acc: 0.6644 - val_top5-acc: 0.9730 - lr: 0.0025\n",
      "Epoch 37/50\n",
      "88/88 [==============================] - 21s 233ms/step - loss: 0.9812 - acc: 0.6528 - top5-acc: 0.9695 - val_loss: 0.9101 - val_acc: 0.6786 - val_top5-acc: 0.9734 - lr: 0.0025\n",
      "Epoch 38/50\n",
      "88/88 [==============================] - 20s 232ms/step - loss: 0.9538 - acc: 0.6629 - top5-acc: 0.9712 - val_loss: 0.8830 - val_acc: 0.6910 - val_top5-acc: 0.9752 - lr: 0.0025\n",
      "Epoch 39/50\n",
      "88/88 [==============================] - 21s 233ms/step - loss: 0.9231 - acc: 0.6752 - top5-acc: 0.9730 - val_loss: 0.8669 - val_acc: 0.6946 - val_top5-acc: 0.9800 - lr: 0.0025\n",
      "313/313 [==============================] - 14s 46ms/step - loss: 0.8321 - acc: 0.7119 - top5-acc: 0.9777\n",
      "Test accuracy: 71.19%\n",
      "Test top 5 accuracy: 97.77%\n"
     ]
    },
    {
     "name": "stderr",
     "output_type": "stream",
     "text": [
      "WARNING:absl:Found untraced functions such as layer_normalization_layer_call_fn, layer_normalization_layer_call_and_return_conditional_losses, layer_normalization_1_layer_call_fn, layer_normalization_1_layer_call_and_return_conditional_losses, layer_normalization_2_layer_call_fn while saving (showing 5 of 24). These functions will not be directly callable after loading.\n"
     ]
    },
    {
     "name": "stdout",
     "output_type": "stream",
     "text": [
      "INFO:tensorflow:Assets written to: Results_Article/3A/mlpmixer_CF10_1\\assets\n"
     ]
    },
    {
     "name": "stderr",
     "output_type": "stream",
     "text": [
      "INFO:tensorflow:Assets written to: Results_Article/3A/mlpmixer_CF10_1\\assets\n"
     ]
    },
    {
     "name": "stdout",
     "output_type": "stream",
     "text": [
      "Epoch 1/50\n",
      "88/88 [==============================] - 30s 245ms/step - loss: 4.3536 - acc: 0.2489 - top5-acc: 0.7437 - val_loss: 1.7261 - val_acc: 0.4014 - val_top5-acc: 0.8672 - lr: 0.0050\n",
      "Epoch 2/50\n",
      "88/88 [==============================] - 20s 233ms/step - loss: 1.5719 - acc: 0.4315 - top5-acc: 0.9015 - val_loss: 1.4193 - val_acc: 0.4880 - val_top5-acc: 0.9294 - lr: 0.0050\n",
      "Epoch 3/50\n",
      "88/88 [==============================] - 20s 233ms/step - loss: 1.4415 - acc: 0.4818 - top5-acc: 0.9225 - val_loss: 1.3099 - val_acc: 0.5272 - val_top5-acc: 0.9404 - lr: 0.0050\n",
      "Epoch 4/50\n",
      "88/88 [==============================] - 21s 234ms/step - loss: 1.3526 - acc: 0.5144 - top5-acc: 0.9355 - val_loss: 1.2562 - val_acc: 0.5458 - val_top5-acc: 0.9516 - lr: 0.0050\n",
      "Epoch 5/50\n",
      "88/88 [==============================] - 20s 232ms/step - loss: 1.2928 - acc: 0.5332 - top5-acc: 0.9404 - val_loss: 1.2389 - val_acc: 0.5626 - val_top5-acc: 0.9464 - lr: 0.0050\n",
      "Epoch 6/50\n",
      "88/88 [==============================] - 20s 233ms/step - loss: 1.2652 - acc: 0.5459 - top5-acc: 0.9444 - val_loss: 1.1388 - val_acc: 0.5948 - val_top5-acc: 0.9580 - lr: 0.0050\n",
      "Epoch 7/50\n",
      "88/88 [==============================] - 20s 232ms/step - loss: 1.2085 - acc: 0.5677 - top5-acc: 0.9507 - val_loss: 1.1449 - val_acc: 0.5958 - val_top5-acc: 0.9574 - lr: 0.0050\n",
      "Epoch 8/50\n",
      "88/88 [==============================] - 20s 233ms/step - loss: 1.1848 - acc: 0.5787 - top5-acc: 0.9523 - val_loss: 1.1353 - val_acc: 0.6022 - val_top5-acc: 0.9548 - lr: 0.0050\n",
      "Epoch 9/50\n",
      "88/88 [==============================] - 20s 233ms/step - loss: 1.1587 - acc: 0.5878 - top5-acc: 0.9561 - val_loss: 1.0726 - val_acc: 0.6160 - val_top5-acc: 0.9618 - lr: 0.0050\n",
      "Epoch 10/50\n",
      "88/88 [==============================] - 20s 233ms/step - loss: 1.1230 - acc: 0.5986 - top5-acc: 0.9593 - val_loss: 1.0823 - val_acc: 0.6066 - val_top5-acc: 0.9656 - lr: 0.0050\n",
      "Epoch 11/50\n",
      "88/88 [==============================] - 20s 233ms/step - loss: 1.0952 - acc: 0.6128 - top5-acc: 0.9610 - val_loss: 1.0346 - val_acc: 0.6322 - val_top5-acc: 0.9658 - lr: 0.0050\n",
      "Epoch 12/50\n",
      "88/88 [==============================] - 20s 232ms/step - loss: 1.0834 - acc: 0.6166 - top5-acc: 0.9618 - val_loss: 1.0831 - val_acc: 0.6200 - val_top5-acc: 0.9640 - lr: 0.0050\n",
      "Epoch 13/50\n",
      "88/88 [==============================] - 20s 233ms/step - loss: 1.0740 - acc: 0.6203 - top5-acc: 0.9626 - val_loss: 1.0317 - val_acc: 0.6434 - val_top5-acc: 0.9672 - lr: 0.0050\n",
      "Epoch 14/50\n",
      "88/88 [==============================] - 20s 233ms/step - loss: 1.0487 - acc: 0.6295 - top5-acc: 0.9644 - val_loss: 0.9975 - val_acc: 0.6492 - val_top5-acc: 0.9684 - lr: 0.0050\n",
      "Epoch 15/50\n",
      "88/88 [==============================] - 20s 232ms/step - loss: 1.0382 - acc: 0.6323 - top5-acc: 0.9658 - val_loss: 1.0004 - val_acc: 0.6462 - val_top5-acc: 0.9682 - lr: 0.0050\n",
      "Epoch 16/50\n",
      "88/88 [==============================] - 20s 233ms/step - loss: 1.0163 - acc: 0.6402 - top5-acc: 0.9661 - val_loss: 0.9707 - val_acc: 0.6556 - val_top5-acc: 0.9738 - lr: 0.0050\n",
      "Epoch 17/50\n",
      "88/88 [==============================] - 20s 233ms/step - loss: 0.9934 - acc: 0.6486 - top5-acc: 0.9692 - val_loss: 0.9659 - val_acc: 0.6606 - val_top5-acc: 0.9732 - lr: 0.0050\n",
      "Epoch 18/50\n",
      "88/88 [==============================] - 20s 233ms/step - loss: 0.9836 - acc: 0.6534 - top5-acc: 0.9695 - val_loss: 0.9534 - val_acc: 0.6658 - val_top5-acc: 0.9766 - lr: 0.0050\n",
      "Epoch 19/50\n",
      "88/88 [==============================] - 20s 232ms/step - loss: 0.9646 - acc: 0.6583 - top5-acc: 0.9710 - val_loss: 0.9527 - val_acc: 0.6684 - val_top5-acc: 0.9700 - lr: 0.0050\n",
      "Epoch 20/50\n",
      "88/88 [==============================] - 20s 233ms/step - loss: 0.9675 - acc: 0.6586 - top5-acc: 0.9709 - val_loss: 0.9119 - val_acc: 0.6808 - val_top5-acc: 0.9762 - lr: 0.0050\n",
      "Epoch 21/50\n",
      "88/88 [==============================] - 20s 232ms/step - loss: 0.9256 - acc: 0.6740 - top5-acc: 0.9741 - val_loss: 0.8772 - val_acc: 0.7036 - val_top5-acc: 0.9760 - lr: 0.0050\n",
      "Epoch 22/50\n",
      "88/88 [==============================] - 20s 232ms/step - loss: 0.9286 - acc: 0.6719 - top5-acc: 0.9727 - val_loss: 0.9030 - val_acc: 0.6830 - val_top5-acc: 0.9760 - lr: 0.0050\n",
      "Epoch 23/50\n",
      "88/88 [==============================] - 20s 233ms/step - loss: 0.9207 - acc: 0.6733 - top5-acc: 0.9737 - val_loss: 0.8749 - val_acc: 0.6948 - val_top5-acc: 0.9766 - lr: 0.0050\n",
      "Epoch 24/50\n",
      "88/88 [==============================] - 20s 232ms/step - loss: 0.9235 - acc: 0.6756 - top5-acc: 0.9740 - val_loss: 0.9238 - val_acc: 0.6858 - val_top5-acc: 0.9752 - lr: 0.0050\n",
      "Epoch 25/50\n",
      "88/88 [==============================] - 20s 232ms/step - loss: 0.9032 - acc: 0.6820 - top5-acc: 0.9754 - val_loss: 0.8508 - val_acc: 0.7008 - val_top5-acc: 0.9810 - lr: 0.0050\n",
      "Epoch 26/50\n",
      "88/88 [==============================] - 20s 232ms/step - loss: 0.8870 - acc: 0.6856 - top5-acc: 0.9769 - val_loss: 0.8738 - val_acc: 0.6952 - val_top5-acc: 0.9784 - lr: 0.0050\n",
      "Epoch 27/50\n",
      "88/88 [==============================] - 20s 233ms/step - loss: 0.8767 - acc: 0.6918 - top5-acc: 0.9774 - val_loss: 0.8769 - val_acc: 0.6964 - val_top5-acc: 0.9786 - lr: 0.0050\n",
      "Epoch 28/50\n",
      "88/88 [==============================] - 20s 232ms/step - loss: 0.9165 - acc: 0.6797 - top5-acc: 0.9734 - val_loss: 0.8867 - val_acc: 0.6898 - val_top5-acc: 0.9778 - lr: 0.0050\n",
      "Epoch 29/50\n",
      "88/88 [==============================] - 20s 232ms/step - loss: 0.8673 - acc: 0.6931 - top5-acc: 0.9770 - val_loss: 0.8566 - val_acc: 0.7056 - val_top5-acc: 0.9800 - lr: 0.0050\n",
      "Epoch 30/50\n",
      "88/88 [==============================] - 20s 232ms/step - loss: 0.8396 - acc: 0.7051 - top5-acc: 0.9788 - val_loss: 0.8222 - val_acc: 0.7110 - val_top5-acc: 0.9822 - lr: 0.0050\n",
      "Epoch 31/50\n",
      "88/88 [==============================] - 20s 231ms/step - loss: 0.8486 - acc: 0.7025 - top5-acc: 0.9780 - val_loss: 0.8335 - val_acc: 0.7150 - val_top5-acc: 0.9788 - lr: 0.0050\n",
      "Epoch 32/50\n",
      "88/88 [==============================] - 20s 232ms/step - loss: 0.8512 - acc: 0.7003 - top5-acc: 0.9788 - val_loss: 0.8256 - val_acc: 0.7150 - val_top5-acc: 0.9834 - lr: 0.0050\n",
      "Epoch 33/50\n",
      "88/88 [==============================] - 20s 232ms/step - loss: 0.8266 - acc: 0.7068 - top5-acc: 0.9796 - val_loss: 0.8423 - val_acc: 0.7178 - val_top5-acc: 0.9796 - lr: 0.0050\n",
      "Epoch 34/50\n",
      "88/88 [==============================] - 20s 232ms/step - loss: 0.8117 - acc: 0.7159 - top5-acc: 0.9797 - val_loss: 0.8417 - val_acc: 0.7078 - val_top5-acc: 0.9818 - lr: 0.0050\n",
      "Epoch 35/50\n",
      "88/88 [==============================] - 20s 232ms/step - loss: 0.8112 - acc: 0.7150 - top5-acc: 0.9813 - val_loss: 0.8340 - val_acc: 0.7144 - val_top5-acc: 0.9804 - lr: 0.0050\n",
      "Epoch 36/50\n",
      "88/88 [==============================] - 20s 233ms/step - loss: 0.7221 - acc: 0.7449 - top5-acc: 0.9856 - val_loss: 0.7299 - val_acc: 0.7474 - val_top5-acc: 0.9844 - lr: 0.0025\n",
      "Epoch 37/50\n",
      "88/88 [==============================] - 20s 232ms/step - loss: 0.6955 - acc: 0.7531 - top5-acc: 0.9859 - val_loss: 0.7454 - val_acc: 0.7468 - val_top5-acc: 0.9828 - lr: 0.0025\n",
      "Epoch 38/50\n",
      "88/88 [==============================] - 20s 231ms/step - loss: 0.6869 - acc: 0.7581 - top5-acc: 0.9869 - val_loss: 0.7652 - val_acc: 0.7426 - val_top5-acc: 0.9842 - lr: 0.0025\n",
      "Epoch 39/50\n",
      "88/88 [==============================] - 20s 232ms/step - loss: 0.6847 - acc: 0.7570 - top5-acc: 0.9868 - val_loss: 0.7499 - val_acc: 0.7448 - val_top5-acc: 0.9872 - lr: 0.0025\n",
      "Epoch 40/50\n",
      "88/88 [==============================] - 20s 232ms/step - loss: 0.6794 - acc: 0.7600 - top5-acc: 0.9868 - val_loss: 0.7781 - val_acc: 0.7344 - val_top5-acc: 0.9836 - lr: 0.0025\n",
      "Epoch 41/50\n",
      "88/88 [==============================] - 20s 232ms/step - loss: 0.6785 - acc: 0.7632 - top5-acc: 0.9866 - val_loss: 0.7569 - val_acc: 0.7400 - val_top5-acc: 0.9834 - lr: 0.0025\n",
      "Epoch 42/50\n",
      "88/88 [==============================] - 20s 232ms/step - loss: 0.6302 - acc: 0.7767 - top5-acc: 0.9895 - val_loss: 0.7043 - val_acc: 0.7640 - val_top5-acc: 0.9854 - lr: 0.0012\n",
      "Epoch 43/50\n",
      "88/88 [==============================] - 20s 232ms/step - loss: 0.6110 - acc: 0.7844 - top5-acc: 0.9899 - val_loss: 0.7235 - val_acc: 0.7554 - val_top5-acc: 0.9852 - lr: 0.0012\n",
      "Epoch 44/50\n"
     ]
    },
    {
     "name": "stdout",
     "output_type": "stream",
     "text": [
      "88/88 [==============================] - 20s 232ms/step - loss: 0.6033 - acc: 0.7864 - top5-acc: 0.9899 - val_loss: 0.7167 - val_acc: 0.7624 - val_top5-acc: 0.9850 - lr: 0.0012\n",
      "Epoch 45/50\n",
      "88/88 [==============================] - 20s 233ms/step - loss: 0.5936 - acc: 0.7920 - top5-acc: 0.9908 - val_loss: 0.7264 - val_acc: 0.7576 - val_top5-acc: 0.9866 - lr: 0.0012\n",
      "Epoch 46/50\n",
      "88/88 [==============================] - 20s 232ms/step - loss: 0.5889 - acc: 0.7916 - top5-acc: 0.9906 - val_loss: 0.7139 - val_acc: 0.7632 - val_top5-acc: 0.9866 - lr: 0.0012\n",
      "Epoch 47/50\n",
      "88/88 [==============================] - 20s 232ms/step - loss: 0.5890 - acc: 0.7932 - top5-acc: 0.9907 - val_loss: 0.7192 - val_acc: 0.7590 - val_top5-acc: 0.9852 - lr: 0.0012\n",
      "Epoch 48/50\n",
      "88/88 [==============================] - 20s 232ms/step - loss: 0.5587 - acc: 0.8036 - top5-acc: 0.9922 - val_loss: 0.6885 - val_acc: 0.7638 - val_top5-acc: 0.9864 - lr: 6.2500e-04\n",
      "Epoch 49/50\n",
      "88/88 [==============================] - 20s 231ms/step - loss: 0.5431 - acc: 0.8084 - top5-acc: 0.9920 - val_loss: 0.7007 - val_acc: 0.7642 - val_top5-acc: 0.9864 - lr: 6.2500e-04\n",
      "Epoch 50/50\n",
      "88/88 [==============================] - 20s 232ms/step - loss: 0.5474 - acc: 0.8068 - top5-acc: 0.9919 - val_loss: 0.7115 - val_acc: 0.7676 - val_top5-acc: 0.9864 - lr: 6.2500e-04\n",
      "313/313 [==============================] - 14s 46ms/step - loss: 0.7342 - acc: 0.7596 - top5-acc: 0.9841\n",
      "Test accuracy: 75.96%\n",
      "Test top 5 accuracy: 98.41%\n"
     ]
    },
    {
     "name": "stderr",
     "output_type": "stream",
     "text": [
      "WARNING:absl:Found untraced functions such as layer_normalization_12_layer_call_fn, layer_normalization_12_layer_call_and_return_conditional_losses, layer_normalization_13_layer_call_fn, layer_normalization_13_layer_call_and_return_conditional_losses, layer_normalization_14_layer_call_fn while saving (showing 5 of 24). These functions will not be directly callable after loading.\n"
     ]
    },
    {
     "name": "stdout",
     "output_type": "stream",
     "text": [
      "INFO:tensorflow:Assets written to: Results_Article/3A/mlpmixer_CF10_2\\assets\n"
     ]
    },
    {
     "name": "stderr",
     "output_type": "stream",
     "text": [
      "INFO:tensorflow:Assets written to: Results_Article/3A/mlpmixer_CF10_2\\assets\n"
     ]
    }
   ],
   "source": [
    "for k in range(2):\n",
    "    mlpmixer_blocks = keras.Sequential(\n",
    "    [MLPMixerLayer(num_patches, embedding_dim, dropout_rate) for _ in range(num_blocks)] # creates the number of block without a \n",
    "    )\n",
    "    mlpmixer_classifier = build_classifier(mlpmixer_blocks,embedding_dim) # Returns the model\n",
    "    history,accuracy,top_5_accuracy = run_experiment(mlpmixer_classifier)\n",
    "    #Saving Results\n",
    "    #pwd = 'Results_Article/3A/mlpmixer_' + str(date) + '_CF10_' + str(k+1)\n",
    "    pwd = 'Results_Article/3A/mlpmixer_CF10_' + str(k+1)\n",
    "    mlpmixer_classifier.save(pwd)\n",
    "    np.save( pwd + '/history.npy',history.history)\n",
    "    with open(pwd + '/accuracy.pkl','wb') as file:\n",
    "        pickle.dump(accuracy,file)\n",
    "    with open(pwd + '/top5-accuracy.pkl','wb') as file:\n",
    "        pickle.dump(top_5_accuracy,file)"
   ]
  },
  {
   "cell_type": "markdown",
   "metadata": {},
   "source": [
    "Trained with CIFAR 100"
   ]
  },
  {
   "cell_type": "code",
   "execution_count": 20,
   "metadata": {},
   "outputs": [],
   "source": [
    "#Dataset for training \n",
    "num_classes = 100\n",
    "input_shape = (32, 32, 3)\n",
    "(x_train, y_train), (x_test, y_test) = keras.datasets.cifar100.load_data()"
   ]
  },
  {
   "cell_type": "code",
   "execution_count": 21,
   "metadata": {},
   "outputs": [
    {
     "name": "stdout",
     "output_type": "stream",
     "text": [
      "Epoch 1/50\n",
      "88/88 [==============================] - 30s 246ms/step - loss: 5.9549 - acc: 0.0449 - top5-acc: 0.1633 - val_loss: 4.2852 - val_acc: 0.0838 - val_top5-acc: 0.2530 - lr: 0.0050\n",
      "Epoch 2/50\n",
      "88/88 [==============================] - 20s 233ms/step - loss: 3.7323 - acc: 0.1265 - top5-acc: 0.3540 - val_loss: 3.6955 - val_acc: 0.1658 - val_top5-acc: 0.4130 - lr: 0.0050\n",
      "Epoch 3/50\n",
      "88/88 [==============================] - 20s 233ms/step - loss: 3.4536 - acc: 0.1731 - top5-acc: 0.4380 - val_loss: 3.3434 - val_acc: 0.2104 - val_top5-acc: 0.4864 - lr: 0.0050\n",
      "Epoch 4/50\n",
      "88/88 [==============================] - 20s 233ms/step - loss: 3.2946 - acc: 0.2037 - top5-acc: 0.4863 - val_loss: 3.2993 - val_acc: 0.2238 - val_top5-acc: 0.5006 - lr: 0.0050\n",
      "Epoch 5/50\n",
      "88/88 [==============================] - 20s 233ms/step - loss: 3.1404 - acc: 0.2314 - top5-acc: 0.5237 - val_loss: 3.1267 - val_acc: 0.2480 - val_top5-acc: 0.5400 - lr: 0.0050\n",
      "Epoch 6/50\n",
      "88/88 [==============================] - 21s 233ms/step - loss: 3.0393 - acc: 0.2514 - top5-acc: 0.5505 - val_loss: 2.9957 - val_acc: 0.2750 - val_top5-acc: 0.5712 - lr: 0.0050\n",
      "Epoch 7/50\n",
      "88/88 [==============================] - 21s 234ms/step - loss: 2.9231 - acc: 0.2731 - top5-acc: 0.5757 - val_loss: 2.9300 - val_acc: 0.2866 - val_top5-acc: 0.5782 - lr: 0.0050\n",
      "Epoch 8/50\n",
      "88/88 [==============================] - 21s 234ms/step - loss: 2.8628 - acc: 0.2847 - top5-acc: 0.5926 - val_loss: 2.7857 - val_acc: 0.3114 - val_top5-acc: 0.6116 - lr: 0.0050\n",
      "Epoch 9/50\n",
      "88/88 [==============================] - 21s 233ms/step - loss: 2.7959 - acc: 0.3016 - top5-acc: 0.6072 - val_loss: 2.7675 - val_acc: 0.3110 - val_top5-acc: 0.6220 - lr: 0.0050\n",
      "Epoch 10/50\n",
      "88/88 [==============================] - 21s 234ms/step - loss: 2.7211 - acc: 0.3141 - top5-acc: 0.6252 - val_loss: 2.7343 - val_acc: 0.3272 - val_top5-acc: 0.6254 - lr: 0.0050\n",
      "Epoch 11/50\n",
      "88/88 [==============================] - 21s 234ms/step - loss: 2.6662 - acc: 0.3241 - top5-acc: 0.6406 - val_loss: 2.6346 - val_acc: 0.3410 - val_top5-acc: 0.6486 - lr: 0.0050\n",
      "Epoch 12/50\n",
      "88/88 [==============================] - 21s 234ms/step - loss: 2.6222 - acc: 0.3356 - top5-acc: 0.6485 - val_loss: 2.6095 - val_acc: 0.3418 - val_top5-acc: 0.6546 - lr: 0.0050\n",
      "Epoch 13/50\n",
      "88/88 [==============================] - 21s 234ms/step - loss: 2.5867 - acc: 0.3430 - top5-acc: 0.6542 - val_loss: 2.5997 - val_acc: 0.3460 - val_top5-acc: 0.6622 - lr: 0.0050\n",
      "Epoch 14/50\n",
      "88/88 [==============================] - 21s 234ms/step - loss: 2.5491 - acc: 0.3521 - top5-acc: 0.6626 - val_loss: 2.5707 - val_acc: 0.3560 - val_top5-acc: 0.6688 - lr: 0.0050\n",
      "Epoch 15/50\n",
      "88/88 [==============================] - 21s 233ms/step - loss: 2.4828 - acc: 0.3652 - top5-acc: 0.6785 - val_loss: 2.5136 - val_acc: 0.3728 - val_top5-acc: 0.6738 - lr: 0.0050\n",
      "Epoch 16/50\n",
      "88/88 [==============================] - 21s 234ms/step - loss: 2.4537 - acc: 0.3715 - top5-acc: 0.6853 - val_loss: 2.5332 - val_acc: 0.3588 - val_top5-acc: 0.6696 - lr: 0.0050\n",
      "Epoch 17/50\n",
      "88/88 [==============================] - 21s 233ms/step - loss: 2.4133 - acc: 0.3804 - top5-acc: 0.6938 - val_loss: 2.4975 - val_acc: 0.3752 - val_top5-acc: 0.6860 - lr: 0.0050\n",
      "Epoch 18/50\n",
      "88/88 [==============================] - 20s 233ms/step - loss: 2.4194 - acc: 0.3797 - top5-acc: 0.6935 - val_loss: 2.3784 - val_acc: 0.3934 - val_top5-acc: 0.7042 - lr: 0.0050\n",
      "Epoch 19/50\n",
      "88/88 [==============================] - 20s 232ms/step - loss: 2.4186 - acc: 0.3797 - top5-acc: 0.6970 - val_loss: 2.3481 - val_acc: 0.4074 - val_top5-acc: 0.7182 - lr: 0.0050\n",
      "Epoch 20/50\n",
      "88/88 [==============================] - 21s 234ms/step - loss: 2.3543 - acc: 0.3897 - top5-acc: 0.7066 - val_loss: 2.3777 - val_acc: 0.4056 - val_top5-acc: 0.7018 - lr: 0.0050\n",
      "Epoch 21/50\n",
      "88/88 [==============================] - 21s 234ms/step - loss: 2.3174 - acc: 0.3987 - top5-acc: 0.7154 - val_loss: 2.4667 - val_acc: 0.3942 - val_top5-acc: 0.7012 - lr: 0.0050\n",
      "Epoch 22/50\n",
      "88/88 [==============================] - 21s 234ms/step - loss: 2.3466 - acc: 0.3993 - top5-acc: 0.7108 - val_loss: 2.5206 - val_acc: 0.3846 - val_top5-acc: 0.6922 - lr: 0.0050\n",
      "Epoch 23/50\n",
      "88/88 [==============================] - 20s 233ms/step - loss: 7.1884 - acc: 0.2268 - top5-acc: 0.4844 - val_loss: 3.3004 - val_acc: 0.2892 - val_top5-acc: 0.6054 - lr: 0.0050\n",
      "Epoch 24/50\n",
      "88/88 [==============================] - 20s 233ms/step - loss: 2.4327 - acc: 0.3864 - top5-acc: 0.6986 - val_loss: 2.3076 - val_acc: 0.4126 - val_top5-acc: 0.7240 - lr: 0.0050\n",
      "Epoch 25/50\n",
      "88/88 [==============================] - 20s 233ms/step - loss: 2.1611 - acc: 0.4333 - top5-acc: 0.7439 - val_loss: 2.2488 - val_acc: 0.4318 - val_top5-acc: 0.7332 - lr: 0.0050\n",
      "Epoch 26/50\n",
      "88/88 [==============================] - 20s 233ms/step - loss: 2.0844 - acc: 0.4495 - top5-acc: 0.7567 - val_loss: 2.2129 - val_acc: 0.4410 - val_top5-acc: 0.7430 - lr: 0.0050\n",
      "Epoch 27/50\n",
      "88/88 [==============================] - 20s 233ms/step - loss: 2.0374 - acc: 0.4629 - top5-acc: 0.7671 - val_loss: 2.2133 - val_acc: 0.4378 - val_top5-acc: 0.7406 - lr: 0.0050\n",
      "Epoch 28/50\n",
      "88/88 [==============================] - 21s 233ms/step - loss: 2.0106 - acc: 0.4649 - top5-acc: 0.7726 - val_loss: 2.2302 - val_acc: 0.4330 - val_top5-acc: 0.7388 - lr: 0.0050\n",
      "Epoch 29/50\n",
      "88/88 [==============================] - 21s 233ms/step - loss: 1.9915 - acc: 0.4686 - top5-acc: 0.7748 - val_loss: 2.2031 - val_acc: 0.4394 - val_top5-acc: 0.7508 - lr: 0.0050\n",
      "Epoch 30/50\n",
      "88/88 [==============================] - 21s 233ms/step - loss: 1.9827 - acc: 0.4701 - top5-acc: 0.7789 - val_loss: 2.1750 - val_acc: 0.4480 - val_top5-acc: 0.7416 - lr: 0.0050\n",
      "Epoch 31/50\n",
      "88/88 [==============================] - 20s 233ms/step - loss: 1.9661 - acc: 0.4743 - top5-acc: 0.7818 - val_loss: 2.1746 - val_acc: 0.4478 - val_top5-acc: 0.7496 - lr: 0.0050\n",
      "Epoch 32/50\n",
      "88/88 [==============================] - 20s 233ms/step - loss: 1.9430 - acc: 0.4797 - top5-acc: 0.7857 - val_loss: 2.1919 - val_acc: 0.4406 - val_top5-acc: 0.7452 - lr: 0.0050\n",
      "Epoch 33/50\n",
      "88/88 [==============================] - 20s 233ms/step - loss: 1.9289 - acc: 0.4805 - top5-acc: 0.7880 - val_loss: 2.1991 - val_acc: 0.4468 - val_top5-acc: 0.7502 - lr: 0.0050\n",
      "Epoch 34/50\n",
      "88/88 [==============================] - 21s 233ms/step - loss: 1.9222 - acc: 0.4834 - top5-acc: 0.7895 - val_loss: 2.1801 - val_acc: 0.4450 - val_top5-acc: 0.7508 - lr: 0.0050\n",
      "Epoch 35/50\n",
      "88/88 [==============================] - 21s 233ms/step - loss: 1.9085 - acc: 0.4859 - top5-acc: 0.7908 - val_loss: 2.1602 - val_acc: 0.4488 - val_top5-acc: 0.7540 - lr: 0.0050\n",
      "Epoch 36/50\n",
      "88/88 [==============================] - 20s 233ms/step - loss: 1.8916 - acc: 0.4909 - top5-acc: 0.7927 - val_loss: 2.2080 - val_acc: 0.4506 - val_top5-acc: 0.7464 - lr: 0.0050\n",
      "Epoch 37/50\n",
      "88/88 [==============================] - 20s 233ms/step - loss: 1.8915 - acc: 0.4881 - top5-acc: 0.7949 - val_loss: 2.1739 - val_acc: 0.4582 - val_top5-acc: 0.7514 - lr: 0.0050\n",
      "Epoch 38/50\n",
      "88/88 [==============================] - 20s 233ms/step - loss: 1.8951 - acc: 0.4888 - top5-acc: 0.7958 - val_loss: 2.1560 - val_acc: 0.4492 - val_top5-acc: 0.7580 - lr: 0.0050\n",
      "Epoch 39/50\n",
      "88/88 [==============================] - 21s 234ms/step - loss: 1.8791 - acc: 0.4924 - top5-acc: 0.7993 - val_loss: 2.1442 - val_acc: 0.4538 - val_top5-acc: 0.7566 - lr: 0.0050\n",
      "Epoch 40/50\n",
      "88/88 [==============================] - 21s 234ms/step - loss: 1.8781 - acc: 0.4920 - top5-acc: 0.7987 - val_loss: 2.1865 - val_acc: 0.4436 - val_top5-acc: 0.7528 - lr: 0.0050\n",
      "Epoch 41/50\n",
      "88/88 [==============================] - 21s 233ms/step - loss: 1.8804 - acc: 0.4936 - top5-acc: 0.8002 - val_loss: 2.1744 - val_acc: 0.4544 - val_top5-acc: 0.7510 - lr: 0.0050\n",
      "Epoch 42/50\n",
      "88/88 [==============================] - 21s 233ms/step - loss: 1.8637 - acc: 0.4966 - top5-acc: 0.8024 - val_loss: 2.1724 - val_acc: 0.4574 - val_top5-acc: 0.7612 - lr: 0.0050\n",
      "Epoch 43/50\n",
      "88/88 [==============================] - 21s 233ms/step - loss: 1.8551 - acc: 0.4965 - top5-acc: 0.8031 - val_loss: 2.1367 - val_acc: 0.4598 - val_top5-acc: 0.7628 - lr: 0.0050\n",
      "Epoch 44/50\n"
     ]
    },
    {
     "name": "stdout",
     "output_type": "stream",
     "text": [
      "88/88 [==============================] - 20s 233ms/step - loss: 1.8532 - acc: 0.4996 - top5-acc: 0.8031 - val_loss: 2.1572 - val_acc: 0.4564 - val_top5-acc: 0.7604 - lr: 0.0050\n",
      "Epoch 45/50\n",
      "88/88 [==============================] - 20s 233ms/step - loss: 1.8320 - acc: 0.5024 - top5-acc: 0.8088 - val_loss: 2.2362 - val_acc: 0.4374 - val_top5-acc: 0.7448 - lr: 0.0050\n",
      "Epoch 46/50\n",
      "88/88 [==============================] - 20s 232ms/step - loss: 1.8670 - acc: 0.4964 - top5-acc: 0.8049 - val_loss: 2.1778 - val_acc: 0.4462 - val_top5-acc: 0.7608 - lr: 0.0050\n",
      "Epoch 47/50\n",
      "88/88 [==============================] - 20s 232ms/step - loss: 1.8298 - acc: 0.5050 - top5-acc: 0.8088 - val_loss: 2.1879 - val_acc: 0.4530 - val_top5-acc: 0.7596 - lr: 0.0050\n",
      "Epoch 48/50\n",
      "88/88 [==============================] - 20s 232ms/step - loss: 1.8112 - acc: 0.5093 - top5-acc: 0.8122 - val_loss: 2.1490 - val_acc: 0.4660 - val_top5-acc: 0.7634 - lr: 0.0050\n",
      "Epoch 49/50\n",
      "88/88 [==============================] - 21s 234ms/step - loss: 1.5983 - acc: 0.5562 - top5-acc: 0.8457 - val_loss: 2.0746 - val_acc: 0.4800 - val_top5-acc: 0.7750 - lr: 0.0025\n",
      "Epoch 50/50\n",
      "88/88 [==============================] - 20s 233ms/step - loss: 1.5504 - acc: 0.5706 - top5-acc: 0.8535 - val_loss: 2.0322 - val_acc: 0.4876 - val_top5-acc: 0.7780 - lr: 0.0025\n",
      "313/313 [==============================] - 15s 47ms/step - loss: 1.9821 - acc: 0.5021 - top5-acc: 0.7815\n",
      "Test accuracy: 50.21%\n",
      "Test top 5 accuracy: 78.15%\n"
     ]
    },
    {
     "name": "stderr",
     "output_type": "stream",
     "text": [
      "WARNING:absl:Found untraced functions such as layer_normalization_24_layer_call_fn, layer_normalization_24_layer_call_and_return_conditional_losses, layer_normalization_25_layer_call_fn, layer_normalization_25_layer_call_and_return_conditional_losses, layer_normalization_26_layer_call_fn while saving (showing 5 of 24). These functions will not be directly callable after loading.\n"
     ]
    },
    {
     "name": "stdout",
     "output_type": "stream",
     "text": [
      "INFO:tensorflow:Assets written to: Results_Article/3A/mlpmixer_CF100_1\\assets\n"
     ]
    },
    {
     "name": "stderr",
     "output_type": "stream",
     "text": [
      "INFO:tensorflow:Assets written to: Results_Article/3A/mlpmixer_CF100_1\\assets\n"
     ]
    },
    {
     "name": "stdout",
     "output_type": "stream",
     "text": [
      "Epoch 1/50\n",
      "88/88 [==============================] - 30s 245ms/step - loss: 5.9199 - acc: 0.0468 - top5-acc: 0.1671 - val_loss: 4.1968 - val_acc: 0.0962 - val_top5-acc: 0.2720 - lr: 0.0050\n",
      "Epoch 2/50\n",
      "88/88 [==============================] - 20s 232ms/step - loss: 3.8033 - acc: 0.1177 - top5-acc: 0.3373 - val_loss: 3.8455 - val_acc: 0.1546 - val_top5-acc: 0.3812 - lr: 0.0050\n",
      "Epoch 3/50\n",
      "88/88 [==============================] - 20s 232ms/step - loss: 3.4949 - acc: 0.1661 - top5-acc: 0.4259 - val_loss: 3.3983 - val_acc: 0.1970 - val_top5-acc: 0.4694 - lr: 0.0050\n",
      "Epoch 4/50\n",
      "88/88 [==============================] - 20s 232ms/step - loss: 3.3274 - acc: 0.1960 - top5-acc: 0.4721 - val_loss: 3.1773 - val_acc: 0.2250 - val_top5-acc: 0.5188 - lr: 0.0050\n",
      "Epoch 5/50\n",
      "88/88 [==============================] - 20s 232ms/step - loss: 3.1749 - acc: 0.2259 - top5-acc: 0.5163 - val_loss: 3.1870 - val_acc: 0.2386 - val_top5-acc: 0.5322 - lr: 0.0050\n",
      "Epoch 6/50\n",
      "88/88 [==============================] - 20s 233ms/step - loss: 3.0251 - acc: 0.2528 - top5-acc: 0.5520 - val_loss: 2.9310 - val_acc: 0.2774 - val_top5-acc: 0.5770 - lr: 0.0050\n",
      "Epoch 7/50\n",
      "88/88 [==============================] - 20s 233ms/step - loss: 2.9277 - acc: 0.2722 - top5-acc: 0.5766 - val_loss: 2.9440 - val_acc: 0.2804 - val_top5-acc: 0.5834 - lr: 0.0050\n",
      "Epoch 8/50\n",
      "88/88 [==============================] - 20s 232ms/step - loss: 2.8506 - acc: 0.2892 - top5-acc: 0.5946 - val_loss: 2.7712 - val_acc: 0.3172 - val_top5-acc: 0.6226 - lr: 0.0050\n",
      "Epoch 9/50\n",
      "88/88 [==============================] - 20s 232ms/step - loss: 2.7620 - acc: 0.3077 - top5-acc: 0.6165 - val_loss: 2.6840 - val_acc: 0.3300 - val_top5-acc: 0.6262 - lr: 0.0050\n",
      "Epoch 10/50\n",
      "88/88 [==============================] - 20s 232ms/step - loss: 2.7211 - acc: 0.3145 - top5-acc: 0.6230 - val_loss: 2.7655 - val_acc: 0.3138 - val_top5-acc: 0.6320 - lr: 0.0050\n",
      "Epoch 11/50\n",
      "88/88 [==============================] - 20s 232ms/step - loss: 2.6627 - acc: 0.3277 - top5-acc: 0.6385 - val_loss: 2.6330 - val_acc: 0.3390 - val_top5-acc: 0.6500 - lr: 0.0050\n",
      "Epoch 12/50\n",
      "88/88 [==============================] - 20s 232ms/step - loss: 2.6299 - acc: 0.3331 - top5-acc: 0.6475 - val_loss: 2.6166 - val_acc: 0.3472 - val_top5-acc: 0.6546 - lr: 0.0050\n",
      "Epoch 13/50\n",
      "88/88 [==============================] - 20s 232ms/step - loss: 2.5835 - acc: 0.3445 - top5-acc: 0.6552 - val_loss: 2.5612 - val_acc: 0.3544 - val_top5-acc: 0.6670 - lr: 0.0050\n",
      "Epoch 14/50\n",
      "88/88 [==============================] - 20s 232ms/step - loss: 2.5482 - acc: 0.3505 - top5-acc: 0.6661 - val_loss: 2.5159 - val_acc: 0.3618 - val_top5-acc: 0.6762 - lr: 0.0050\n",
      "Epoch 15/50\n",
      "88/88 [==============================] - 20s 232ms/step - loss: 2.5139 - acc: 0.3577 - top5-acc: 0.6706 - val_loss: 2.5472 - val_acc: 0.3540 - val_top5-acc: 0.6724 - lr: 0.0050\n",
      "Epoch 16/50\n",
      "88/88 [==============================] - 20s 233ms/step - loss: 2.4971 - acc: 0.3627 - top5-acc: 0.6777 - val_loss: 2.5715 - val_acc: 0.3570 - val_top5-acc: 0.6768 - lr: 0.0050\n",
      "Epoch 17/50\n",
      "88/88 [==============================] - 20s 233ms/step - loss: 2.4261 - acc: 0.3761 - top5-acc: 0.6914 - val_loss: 2.4366 - val_acc: 0.3774 - val_top5-acc: 0.7006 - lr: 0.0050\n",
      "Epoch 18/50\n",
      "88/88 [==============================] - 20s 232ms/step - loss: 13.3189 - acc: 0.2817 - top5-acc: 0.5387 - val_loss: 25.9403 - val_acc: 0.0462 - val_top5-acc: 0.1560 - lr: 0.0050\n",
      "Epoch 19/50\n",
      "88/88 [==============================] - 20s 232ms/step - loss: 9.0909 - acc: 0.1524 - top5-acc: 0.3685 - val_loss: 3.0671 - val_acc: 0.2648 - val_top5-acc: 0.5554 - lr: 0.0050\n",
      "Epoch 20/50\n",
      "88/88 [==============================] - 20s 231ms/step - loss: 2.8983 - acc: 0.2834 - top5-acc: 0.5858 - val_loss: 2.7410 - val_acc: 0.3200 - val_top5-acc: 0.6340 - lr: 0.0050\n",
      "Epoch 21/50\n",
      "88/88 [==============================] - 20s 232ms/step - loss: 2.6704 - acc: 0.3254 - top5-acc: 0.6381 - val_loss: 2.6160 - val_acc: 0.3402 - val_top5-acc: 0.6580 - lr: 0.0050\n",
      "Epoch 22/50\n",
      "88/88 [==============================] - 20s 232ms/step - loss: 2.5296 - acc: 0.3572 - top5-acc: 0.6689 - val_loss: 2.5551 - val_acc: 0.3594 - val_top5-acc: 0.6760 - lr: 0.0050\n",
      "Epoch 23/50\n",
      "88/88 [==============================] - 20s 232ms/step - loss: 2.4031 - acc: 0.3813 - top5-acc: 0.6933 - val_loss: 2.4485 - val_acc: 0.3822 - val_top5-acc: 0.6968 - lr: 0.0025\n",
      "Epoch 24/50\n",
      "88/88 [==============================] - 20s 232ms/step - loss: 2.3464 - acc: 0.3927 - top5-acc: 0.7072 - val_loss: 2.3920 - val_acc: 0.3914 - val_top5-acc: 0.7044 - lr: 0.0025\n",
      "Epoch 25/50\n",
      "88/88 [==============================] - 20s 232ms/step - loss: 2.3058 - acc: 0.4002 - top5-acc: 0.7142 - val_loss: 2.3691 - val_acc: 0.3974 - val_top5-acc: 0.7044 - lr: 0.0025\n",
      "Epoch 26/50\n",
      "88/88 [==============================] - 20s 233ms/step - loss: 2.2597 - acc: 0.4117 - top5-acc: 0.7244 - val_loss: 2.3404 - val_acc: 0.3994 - val_top5-acc: 0.7164 - lr: 0.0025\n",
      "Epoch 27/50\n",
      "88/88 [==============================] - 20s 232ms/step - loss: 2.2293 - acc: 0.4169 - top5-acc: 0.7290 - val_loss: 2.3159 - val_acc: 0.4090 - val_top5-acc: 0.7184 - lr: 0.0025\n",
      "Epoch 28/50\n",
      "88/88 [==============================] - 20s 233ms/step - loss: 2.1967 - acc: 0.4244 - top5-acc: 0.7366 - val_loss: 2.3067 - val_acc: 0.4112 - val_top5-acc: 0.7200 - lr: 0.0025\n",
      "Epoch 29/50\n",
      "88/88 [==============================] - 20s 232ms/step - loss: 2.1649 - acc: 0.4311 - top5-acc: 0.7437 - val_loss: 2.2883 - val_acc: 0.4152 - val_top5-acc: 0.7270 - lr: 0.0025\n",
      "Epoch 30/50\n",
      "88/88 [==============================] - 20s 232ms/step - loss: 2.1419 - acc: 0.4348 - top5-acc: 0.7498 - val_loss: 2.2560 - val_acc: 0.4230 - val_top5-acc: 0.7270 - lr: 0.0025\n",
      "Epoch 31/50\n",
      "88/88 [==============================] - 20s 232ms/step - loss: 2.1186 - acc: 0.4424 - top5-acc: 0.7521 - val_loss: 2.2558 - val_acc: 0.4182 - val_top5-acc: 0.7288 - lr: 0.0025\n",
      "Epoch 32/50\n",
      "88/88 [==============================] - 20s 232ms/step - loss: 2.0894 - acc: 0.4465 - top5-acc: 0.7576 - val_loss: 2.2164 - val_acc: 0.4320 - val_top5-acc: 0.7362 - lr: 0.0025\n",
      "Epoch 33/50\n",
      "88/88 [==============================] - 20s 232ms/step - loss: 2.0694 - acc: 0.4533 - top5-acc: 0.7614 - val_loss: 2.2105 - val_acc: 0.4314 - val_top5-acc: 0.7392 - lr: 0.0025\n",
      "Epoch 34/50\n",
      "88/88 [==============================] - 21s 233ms/step - loss: 2.0525 - acc: 0.4564 - top5-acc: 0.7654 - val_loss: 2.2056 - val_acc: 0.4350 - val_top5-acc: 0.7440 - lr: 0.0025\n",
      "Epoch 35/50\n",
      "88/88 [==============================] - 21s 233ms/step - loss: 2.0350 - acc: 0.4576 - top5-acc: 0.7704 - val_loss: 2.1851 - val_acc: 0.4330 - val_top5-acc: 0.7408 - lr: 0.0025\n",
      "Epoch 36/50\n",
      "88/88 [==============================] - 20s 232ms/step - loss: 2.0145 - acc: 0.4628 - top5-acc: 0.7710 - val_loss: 2.1971 - val_acc: 0.4290 - val_top5-acc: 0.7392 - lr: 0.0025\n",
      "Epoch 37/50\n",
      "88/88 [==============================] - 20s 233ms/step - loss: 2.0006 - acc: 0.4668 - top5-acc: 0.7720 - val_loss: 2.1543 - val_acc: 0.4440 - val_top5-acc: 0.7480 - lr: 0.0025\n",
      "Epoch 38/50\n",
      "88/88 [==============================] - 20s 233ms/step - loss: 1.9743 - acc: 0.4720 - top5-acc: 0.7796 - val_loss: 2.1729 - val_acc: 0.4414 - val_top5-acc: 0.7506 - lr: 0.0025\n",
      "Epoch 39/50\n",
      "88/88 [==============================] - 20s 233ms/step - loss: 1.9777 - acc: 0.4732 - top5-acc: 0.7802 - val_loss: 2.1569 - val_acc: 0.4438 - val_top5-acc: 0.7556 - lr: 0.0025\n",
      "Epoch 40/50\n",
      "88/88 [==============================] - 21s 234ms/step - loss: 1.9495 - acc: 0.4798 - top5-acc: 0.7842 - val_loss: 2.1378 - val_acc: 0.4460 - val_top5-acc: 0.7508 - lr: 0.0025\n",
      "Epoch 41/50\n",
      "88/88 [==============================] - 21s 233ms/step - loss: 1.9401 - acc: 0.4794 - top5-acc: 0.7854 - val_loss: 2.1269 - val_acc: 0.4512 - val_top5-acc: 0.7482 - lr: 0.0025\n",
      "Epoch 42/50\n",
      "88/88 [==============================] - 20s 232ms/step - loss: 1.9167 - acc: 0.4840 - top5-acc: 0.7910 - val_loss: 2.1487 - val_acc: 0.4522 - val_top5-acc: 0.7460 - lr: 0.0025\n",
      "Epoch 43/50\n",
      "88/88 [==============================] - 20s 232ms/step - loss: 1.9158 - acc: 0.4865 - top5-acc: 0.7892 - val_loss: 2.1334 - val_acc: 0.4562 - val_top5-acc: 0.7520 - lr: 0.0025\n",
      "Epoch 44/50\n"
     ]
    },
    {
     "name": "stdout",
     "output_type": "stream",
     "text": [
      "88/88 [==============================] - 20s 232ms/step - loss: 1.8917 - acc: 0.4923 - top5-acc: 0.7962 - val_loss: 2.1546 - val_acc: 0.4496 - val_top5-acc: 0.7542 - lr: 0.0025\n",
      "Epoch 45/50\n",
      "88/88 [==============================] - 20s 232ms/step - loss: 1.8985 - acc: 0.4845 - top5-acc: 0.7950 - val_loss: 2.1273 - val_acc: 0.4492 - val_top5-acc: 0.7540 - lr: 0.0025\n",
      "Epoch 46/50\n",
      "88/88 [==============================] - 20s 232ms/step - loss: 1.8888 - acc: 0.4920 - top5-acc: 0.7947 - val_loss: 2.1287 - val_acc: 0.4514 - val_top5-acc: 0.7536 - lr: 0.0025\n",
      "Epoch 47/50\n",
      "88/88 [==============================] - 20s 232ms/step - loss: 1.7778 - acc: 0.5180 - top5-acc: 0.8149 - val_loss: 2.0581 - val_acc: 0.4704 - val_top5-acc: 0.7698 - lr: 0.0012\n",
      "Epoch 48/50\n",
      "88/88 [==============================] - 20s 232ms/step - loss: 1.7528 - acc: 0.5224 - top5-acc: 0.8193 - val_loss: 2.0621 - val_acc: 0.4722 - val_top5-acc: 0.7672 - lr: 0.0012\n",
      "Epoch 49/50\n",
      "88/88 [==============================] - 20s 232ms/step - loss: 1.7419 - acc: 0.5242 - top5-acc: 0.8198 - val_loss: 2.0626 - val_acc: 0.4752 - val_top5-acc: 0.7630 - lr: 0.0012\n",
      "Epoch 50/50\n",
      "88/88 [==============================] - 20s 232ms/step - loss: 1.7291 - acc: 0.5286 - top5-acc: 0.8215 - val_loss: 2.0697 - val_acc: 0.4748 - val_top5-acc: 0.7656 - lr: 0.0012\n",
      "313/313 [==============================] - 15s 47ms/step - loss: 1.9954 - acc: 0.4830 - top5-acc: 0.7766\n",
      "Test accuracy: 48.3%\n",
      "Test top 5 accuracy: 77.66%\n"
     ]
    },
    {
     "name": "stderr",
     "output_type": "stream",
     "text": [
      "WARNING:absl:Found untraced functions such as layer_normalization_36_layer_call_fn, layer_normalization_36_layer_call_and_return_conditional_losses, layer_normalization_37_layer_call_fn, layer_normalization_37_layer_call_and_return_conditional_losses, layer_normalization_38_layer_call_fn while saving (showing 5 of 24). These functions will not be directly callable after loading.\n"
     ]
    },
    {
     "name": "stdout",
     "output_type": "stream",
     "text": [
      "INFO:tensorflow:Assets written to: Results_Article/3A/mlpmixer_CF100_2\\assets\n"
     ]
    },
    {
     "name": "stderr",
     "output_type": "stream",
     "text": [
      "INFO:tensorflow:Assets written to: Results_Article/3A/mlpmixer_CF100_2\\assets\n"
     ]
    }
   ],
   "source": [
    "for k in range(2):\n",
    "    mlpmixer_blocks = keras.Sequential(\n",
    "    [MLPMixerLayer(num_patches, embedding_dim, dropout_rate) for _ in range(num_blocks)] # creates the number of block without a \n",
    "    )\n",
    "    mlpmixer_classifier = build_classifier(mlpmixer_blocks,embedding_dim) # Returns the model\n",
    "    history,accuracy,top_5_accuracy = run_experiment(mlpmixer_classifier)\n",
    "    #Saving Results\n",
    "    pwd = 'Results_Article/3A/mlpmixer_CF100_' + str(k+1)\n",
    "    mlpmixer_classifier.save(pwd)\n",
    "    np.save( pwd + '/history_' + str(date) +'.npy',history.history)\n",
    "    with open(pwd + '/accuracy.pkl','wb') as file:\n",
    "        pickle.dump(accuracy,file)\n",
    "    with open(pwd + '/top5-accuracy.pkl','wb') as file:\n",
    "        pickle.dump(top_5_accuracy,file)"
   ]
  },
  {
   "cell_type": "markdown",
   "metadata": {},
   "source": [
    "Untrained"
   ]
  },
  {
   "cell_type": "code",
   "execution_count": 22,
   "metadata": {},
   "outputs": [
    {
     "name": "stdout",
     "output_type": "stream",
     "text": [
      "WARNING:tensorflow:Compiled the loaded model, but the compiled metrics have yet to be built. `model.compile_metrics` will be empty until you train or evaluate the model.\n"
     ]
    },
    {
     "name": "stderr",
     "output_type": "stream",
     "text": [
      "WARNING:tensorflow:Compiled the loaded model, but the compiled metrics have yet to be built. `model.compile_metrics` will be empty until you train or evaluate the model.\n",
      "WARNING:absl:Found untraced functions such as layer_normalization_48_layer_call_fn, layer_normalization_48_layer_call_and_return_conditional_losses, layer_normalization_49_layer_call_fn, layer_normalization_49_layer_call_and_return_conditional_losses, layer_normalization_50_layer_call_fn while saving (showing 5 of 24). These functions will not be directly callable after loading.\n"
     ]
    },
    {
     "name": "stdout",
     "output_type": "stream",
     "text": [
      "INFO:tensorflow:Assets written to: Results_Article/3A/mlpmixer_Untrained\\assets\n"
     ]
    },
    {
     "name": "stderr",
     "output_type": "stream",
     "text": [
      "INFO:tensorflow:Assets written to: Results_Article/3A/mlpmixer_Untrained\\assets\n"
     ]
    }
   ],
   "source": [
    "mlpmixer_blocks = keras.Sequential(\n",
    "[MLPMixerLayer(num_patches, embedding_dim, dropout_rate) for _ in range(num_blocks)] # creates the number of block without a \n",
    ")\n",
    "mlpmixer_classifier = build_classifier(mlpmixer_blocks,embedding_dim) # Returns the model\n",
    "pwd = 'Results_Article/3A/mlpmixer_Untrained'\n",
    "mlpmixer_classifier.save(pwd)\n",
    "#np.save( pwd + '/history_' + str(date) +'.npy',history.history)\n",
    "#with open(pwd + '/accuracy.pkl','wb') as file:\n",
    "#    pickle.dump(accuracy,file)\n",
    "#with open(pwd + '/top5-accuracy.pkl','wb') as file:\n",
    "#    pickle.dump(top_5_accuracy,file)"
   ]
  },
  {
   "cell_type": "markdown",
   "metadata": {},
   "source": [
    "# Load the models"
   ]
  },
  {
   "cell_type": "markdown",
   "metadata": {},
   "source": [
    "Change the path below"
   ]
  },
  {
   "cell_type": "code",
   "execution_count": 23,
   "metadata": {},
   "outputs": [
    {
     "name": "stdout",
     "output_type": "stream",
     "text": [
      "WARNING:tensorflow:No training configuration found in save file, so the model was *not* compiled. Compile it manually.\n"
     ]
    },
    {
     "name": "stderr",
     "output_type": "stream",
     "text": [
      "WARNING:tensorflow:No training configuration found in save file, so the model was *not* compiled. Compile it manually.\n"
     ]
    }
   ],
   "source": [
    "path = 'Results_Article/3A/mlpmixer_'\n",
    "global_models = list()\n",
    "#Call the folder\n",
    "C10_mlpmixer_1 = tf.keras.models.load_model(path + 'CF10_1')\n",
    "global_models.append(C10_mlpmixer_1)\n",
    "C10_mlpmixer_2 = tf.keras.models.load_model(path + 'CF10_2')\n",
    "global_models.append(C10_mlpmixer_2)\n",
    "C100_mlpmixer_1 = tf.keras.models.load_model(path + 'CF100_1')\n",
    "global_models.append(C100_mlpmixer_1)\n",
    "C100_mlpmixer_2 = tf.keras.models.load_model(path + 'CF100_2')\n",
    "global_models.append(C100_mlpmixer_2)\n",
    "Unt_mlpmixer = tf.keras.models.load_model(path + 'Untrained')\n",
    "global_models.append(Unt_mlpmixer)"
   ]
  },
  {
   "cell_type": "markdown",
   "metadata": {},
   "source": [
    "## Intialization before testing"
   ]
  },
  {
   "cell_type": "code",
   "execution_count": 24,
   "metadata": {},
   "outputs": [],
   "source": [
    "def across_datasets(global_models,batch_prepro,type,sigma):\n",
    "    total_activations = list()\n",
    "    plot_raw = list()\n",
    "    plot_total = list()\n",
    "    for k in range(len(global_models)):\n",
    "        tested_model = global_models[k] \n",
    "        ave_mixer_activations = Prom_Mixer_Activations_Blocks(tested_model,batch_prepro)\n",
    "        total_activations.append(ave_mixer_activations)\n",
    "        \n",
    "    for pairs in set:\n",
    "        comp_1 = total_activations[pairs[0]]\n",
    "        comp_2 = total_activations[pairs[1]]\n",
    "        plot_raw = list()\n",
    "        for i in range(num_blocks):\n",
    "            if type == 'rbf':\n",
    "                inter_row = cka(gram_rbf(comp_1[i],sigma),gram_rbf(comp_2[i],sigma))\n",
    "            elif type == 'linear':\n",
    "                inter_row = cka(gram_linear(comp_1[i]),gram_linear(comp_2[i]))\n",
    "            plot_raw.append(inter_row)\n",
    "        plot_total.append(plot_raw)\n",
    "    return plot_total"
   ]
  },
  {
   "cell_type": "code",
   "execution_count": 25,
   "metadata": {},
   "outputs": [],
   "source": [
    "# The experiment on the paper is with the linear type!\n",
    "#######################################################\n",
    "\n",
    "sigma = None\n",
    "type = 'linear'\n",
    "\n",
    "#Pairs of models that are going to be compared according to the order in the matrix\n",
    "set = [[0,1],[2,3],[0,2],[0,4],[2,4]]\n",
    "label_set = ['CIFAR-10 Net vs. CIFAR-10 Net',\n",
    "            'CIFAR-100 Net vs. CIFAR-100 Net',\n",
    "            'CIFAR-10 Net vs. CIFAR-100 Net ',\n",
    "            'CIFAR-10 Net vs. Untrained',\n",
    "            'CIFAR-100 Net vs. Untrained']\n",
    "num_models_set = len(set)\n"
   ]
  },
  {
   "cell_type": "markdown",
   "metadata": {},
   "source": [
    "### Tested on CIFAR 10"
   ]
  },
  {
   "cell_type": "code",
   "execution_count": 26,
   "metadata": {},
   "outputs": [],
   "source": [
    "# Dataset for testing\n",
    "\n",
    "num_classes = 10\n",
    "input_shape = (32, 32, 3)\n",
    "(x_train, y_train), _ = keras.datasets.cifar10.load_data()"
   ]
  },
  {
   "cell_type": "code",
   "execution_count": 27,
   "metadata": {},
   "outputs": [],
   "source": [
    "#Run Once to Avoid Randomness after setting the testing dataset\n",
    "batch_prepro = Batch_Preprocessing(batch_size)"
   ]
  },
  {
   "cell_type": "code",
   "execution_count": 28,
   "metadata": {},
   "outputs": [
    {
     "name": "stdout",
     "output_type": "stream",
     "text": [
      "WARNING:tensorflow:5 out of the last 5 calls to <function Model.make_predict_function.<locals>.predict_function at 0x000001962643F040> triggered tf.function retracing. Tracing is expensive and the excessive number of tracings could be due to (1) creating @tf.function repeatedly in a loop, (2) passing tensors with different shapes, (3) passing Python objects instead of tensors. For (1), please define your @tf.function outside of the loop. For (2), @tf.function has experimental_relax_shapes=True option that relaxes argument shapes that can avoid unnecessary retracing. For (3), please refer to https://www.tensorflow.org/guide/function#controlling_retracing and https://www.tensorflow.org/api_docs/python/tf/function for  more details.\n"
     ]
    },
    {
     "name": "stderr",
     "output_type": "stream",
     "text": [
      "WARNING:tensorflow:5 out of the last 5 calls to <function Model.make_predict_function.<locals>.predict_function at 0x000001962643F040> triggered tf.function retracing. Tracing is expensive and the excessive number of tracings could be due to (1) creating @tf.function repeatedly in a loop, (2) passing tensors with different shapes, (3) passing Python objects instead of tensors. For (1), please define your @tf.function outside of the loop. For (2), @tf.function has experimental_relax_shapes=True option that relaxes argument shapes that can avoid unnecessary retracing. For (3), please refer to https://www.tensorflow.org/guide/function#controlling_retracing and https://www.tensorflow.org/api_docs/python/tf/function for  more details.\n"
     ]
    },
    {
     "name": "stdout",
     "output_type": "stream",
     "text": [
      "WARNING:tensorflow:6 out of the last 6 calls to <function Model.make_predict_function.<locals>.predict_function at 0x000001962643F5E0> triggered tf.function retracing. Tracing is expensive and the excessive number of tracings could be due to (1) creating @tf.function repeatedly in a loop, (2) passing tensors with different shapes, (3) passing Python objects instead of tensors. For (1), please define your @tf.function outside of the loop. For (2), @tf.function has experimental_relax_shapes=True option that relaxes argument shapes that can avoid unnecessary retracing. For (3), please refer to https://www.tensorflow.org/guide/function#controlling_retracing and https://www.tensorflow.org/api_docs/python/tf/function for  more details.\n"
     ]
    },
    {
     "name": "stderr",
     "output_type": "stream",
     "text": [
      "WARNING:tensorflow:6 out of the last 6 calls to <function Model.make_predict_function.<locals>.predict_function at 0x000001962643F5E0> triggered tf.function retracing. Tracing is expensive and the excessive number of tracings could be due to (1) creating @tf.function repeatedly in a loop, (2) passing tensors with different shapes, (3) passing Python objects instead of tensors. For (1), please define your @tf.function outside of the loop. For (2), @tf.function has experimental_relax_shapes=True option that relaxes argument shapes that can avoid unnecessary retracing. For (3), please refer to https://www.tensorflow.org/guide/function#controlling_retracing and https://www.tensorflow.org/api_docs/python/tf/function for  more details.\n"
     ]
    }
   ],
   "source": [
    "# The experiment on the paper is with the linear type\n",
    "plot_total_1 = across_datasets(global_models,batch_prepro,type,sigma)\n",
    "with open('Results_Article/3A/plot_total_C10.pkl','wb') as file:\n",
    "    pickle.dump(plot_total_1,file)"
   ]
  },
  {
   "cell_type": "markdown",
   "metadata": {},
   "source": [
    "### Tested on CIFAR 100"
   ]
  },
  {
   "cell_type": "code",
   "execution_count": 29,
   "metadata": {},
   "outputs": [],
   "source": [
    "# Dataset for testing\n",
    "\n",
    "num_classes = 100\n",
    "input_shape = (32, 32, 3)\n",
    "(x_train, y_train), _ = keras.datasets.cifar100.load_data()"
   ]
  },
  {
   "cell_type": "code",
   "execution_count": 30,
   "metadata": {},
   "outputs": [],
   "source": [
    "#Run Once to Avoid Randomness after setting the testing dataset\n",
    "batch_prepro = Batch_Preprocessing(batch_size)"
   ]
  },
  {
   "cell_type": "code",
   "execution_count": 31,
   "metadata": {},
   "outputs": [],
   "source": [
    "# The experiment on the paper is with the linear type\n",
    "plot_total_2 = across_datasets(global_models,batch_prepro,type,sigma)\n",
    "with open('Results_Article/3A/plot_total_C100.pkl','wb') as file:\n",
    "    pickle.dump(plot_total_2,file)"
   ]
  },
  {
   "cell_type": "markdown",
   "metadata": {},
   "source": [
    "### Tested on MNIST: (Appendix 6A)"
   ]
  },
  {
   "cell_type": "code",
   "execution_count": 32,
   "metadata": {},
   "outputs": [],
   "source": [
    "# Dataset for testing\n",
    "\n",
    "#num_classes = 10\n",
    "#input_shape = (28, 28)\n",
    "#(x_train, y_train), _ = keras.datasets.mnist.load_data()"
   ]
  },
  {
   "cell_type": "code",
   "execution_count": 33,
   "metadata": {},
   "outputs": [],
   "source": [
    "#Run Once to Avoid Randomness after setting the testing dataset\n",
    "#batch_prepro = Batch_Preprocessing(batch_size)"
   ]
  },
  {
   "cell_type": "code",
   "execution_count": 34,
   "metadata": {},
   "outputs": [],
   "source": [
    "#plot_total_3 = across_datasets(global_models,batch_prepro,type,sigma)\n",
    "#with open('Results_Article/6A/plot_total_MNIST.pkl','wb') as file:\n",
    "#    pickle.dump(plot_total_3,file)"
   ]
  },
  {
   "cell_type": "markdown",
   "metadata": {},
   "source": [
    "# EXPERIMENT 3: VERIFICATIONS (OPTIONAL)"
   ]
  },
  {
   "cell_type": "code",
   "execution_count": 35,
   "metadata": {},
   "outputs": [
    {
     "data": {
      "image/png": "[encoded data removed]",
      "text/plain": [
       "<Figure size 432x288 with 1 Axes>"
      ]
     },
     "metadata": {
      "needs_background": "light"
     },
     "output_type": "display_data"
    }
   ],
   "source": [
    "tested_plot = plot_total_1\n",
    "name = '_tested_C10'\n",
    "######################################################\n",
    "x = list(range(1,num_blocks+1))\n",
    "for j in range(num_models_set):\n",
    "    plt.plot(x,tested_plot[j], label = label_set[j])\n",
    "plt.xlabel('Layer')\n",
    "plt.ylabel('CKA ('+ type +')')\n",
    "plt.locator_params(axis='x', nbins=num_blocks)\n",
    "plt.title('Similarity on CIFAR-10')\n",
    "plt.tight_layout()\n",
    "plt.legend()\n",
    "plt.savefig('Results_Article/3A/Similarity_'+ type + name +'.png') \n",
    "plt.show()"
   ]
  }
 ],
 "metadata": {
  "colab": {
   "collapsed_sections": [],
   "name": "mlp_image_classification",
   "provenance": [],
   "toc_visible": true
  },
  "kernelspec": {
   "display_name": "Python 3",
   "language": "python",
   "name": "python3"
  },
  "language_info": {
   "codemirror_mode": {
    "name": "ipython",
    "version": 3
   },
   "file_extension": ".py",
   "mimetype": "text/x-python",
   "name": "python",
   "nbconvert_exporter": "python",
   "pygments_lexer": "ipython3",
   "version": "3.8.8"
  }
 },
 "nbformat": 4,
 "nbformat_minor": 1
}
