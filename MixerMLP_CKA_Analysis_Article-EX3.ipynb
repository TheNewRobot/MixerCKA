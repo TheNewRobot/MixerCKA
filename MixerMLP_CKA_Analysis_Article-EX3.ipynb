{
 "cells": [
  {
   "cell_type": "markdown",
   "metadata": {
    "id": "-zSzgroG_Suq"
   },
   "source": [
    "# Study of Image classification with modern MLP Mixer model and CKA\n",
    "\n",
    "**Author:** [Arturo Flores](https://www.linkedin.com/in/afloresalv/)<br>\n",
    "**Based on (MLP-MIXER):**  https://keras.io/examples/vision/mlp_image_classification/"
   ]
  },
  {
   "cell_type": "markdown",
   "metadata": {
    "id": "U087DdDw_Suy"
   },
   "source": [
    "# Setup for the MLP-Mixer Architecture\n",
    "\n",
    "################################################################"
   ]
  },
  {
   "cell_type": "code",
   "execution_count": 1,
   "metadata": {
    "id": "AnTyoluw_Suz"
   },
   "outputs": [
    {
     "name": "stderr",
     "output_type": "stream",
     "text": [
      "C:\\Users\\alach\\AppData\\Roaming\\Python\\Python38\\site-packages\\tensorflow_addons\\utils\\ensure_tf_install.py:53: UserWarning: Tensorflow Addons supports using Python ops for all Tensorflow versions above or equal to 2.5.0 and strictly below 2.8.0 (nightly versions are not supported). \n",
      " The versions of TensorFlow you are currently using is 2.8.0 and is not supported. \n",
      "Some things might work, some things might not.\n",
      "If you were to encounter a bug, do not file an issue.\n",
      "If you want to make sure you're using a tested and supported configuration, either change the TensorFlow version or the TensorFlow Addons's version. \n",
      "You can find the compatibility matrix in TensorFlow Addon's readme:\n",
      "https://github.com/tensorflow/addons\n",
      "  warnings.warn(\n"
     ]
    }
   ],
   "source": [
    "import numpy as np\n",
    "import tensorflow as tf\n",
    "from tensorflow import keras\n",
    "from tensorflow.keras import layers\n",
    "import tensorflow_addons as tfa\n",
    "import matplotlib.pyplot as plt \n",
    "from scipy.stats import norm\n",
    "from matplotlib.ticker import FormatStrFormatter\n",
    "import datetime\n",
    "import pickle\n",
    "# Files imported from the sleected GitHub https://cka-similarity.github.io/\n",
    "from CKA_Google import *\n",
    "import seaborn as sns \n",
    "import random\n",
    "import matplotlib.pyplot as plt "
   ]
  },
  {
   "cell_type": "markdown",
   "metadata": {},
   "source": [
    "# Experiment 3 : Across Datasets"
   ]
  },
  {
   "cell_type": "markdown",
   "metadata": {
    "id": "8DAOrIHu_Su2"
   },
   "source": [
    "## Configure the hyperparameters"
   ]
  },
  {
   "cell_type": "code",
   "execution_count": 2,
   "metadata": {
    "id": "1iMiVS7o_Su3"
   },
   "outputs": [
    {
     "name": "stdout",
     "output_type": "stream",
     "text": [
      "Image size: 224 X 224 = 50176\n",
      "Patch size: 32 X 32 = 1024 \n",
      "Patches per image: 49\n",
      "Elements per patch (3 channels): 3072\n"
     ]
    }
   ],
   "source": [
    "weight_decay = 0.0001\n",
    "batch_size = 512 \n",
    "num_epochs = 50\n",
    "dropout_rate = 0.2\n",
    "learning_rate = 0.005\n",
    "\n",
    "## Selected Architecture: B/32\n",
    "\n",
    "image_size = 224  # We'll resize input images to this size. Square\n",
    "patch_size = 32  # Size of the patches to be extracted from the input images. Square\n",
    "num_patches = (image_size // patch_size) ** 2  # Size of the data array, or sequence length (S)\n",
    "embedding_dim = 384  # Fixed Embedding Dimension\n",
    "num_blocks = 12\n",
    "\n",
    "print(f\"Image size: {image_size} X {image_size} = {image_size ** 2}\")\n",
    "print(f\"Patch size: {patch_size} X {patch_size} = {patch_size ** 2} \")\n",
    "print(f\"Patches per image: {num_patches}\")\n",
    "print(f\"Elements per patch (3 channels): {(patch_size ** 2) * 3}\")\n",
    "\n",
    "now = datetime.datetime.now()\n",
    "date = now.strftime(\"%Y-%m-%d_%H-%M\")\n"
   ]
  },
  {
   "cell_type": "markdown",
   "metadata": {
    "id": "fUuu2OAS_Su0"
   },
   "source": [
    "## Prepare the data"
   ]
  },
  {
   "cell_type": "code",
   "execution_count": 3,
   "metadata": {},
   "outputs": [
    {
     "name": "stdout",
     "output_type": "stream",
     "text": [
      "x_train shape: (50000, 32, 32, 3) - y_train shape: (50000, 1)\n",
      "x_test shape: (10000, 32, 32, 3) - y_test shape: (10000, 1)\n"
     ]
    }
   ],
   "source": [
    "#Dataset for training \n",
    "\n",
    "num_classes = 10\n",
    "input_shape = (32, 32, 3)\n",
    "(x_train, y_train), (x_test, y_test) = keras.datasets.cifar10.load_data()\n",
    "\n",
    "print(f\"x_train shape: {x_train.shape} - y_train shape: {y_train.shape}\")\n",
    "print(f\"x_test shape: {x_test.shape} - y_test shape: {y_test.shape}\")\n",
    "#plt.imshow(x_train[1])"
   ]
  },
  {
   "cell_type": "markdown",
   "metadata": {
    "id": "08mpnEZH_Su5"
   },
   "source": [
    "## Build a classification model"
   ]
  },
  {
   "cell_type": "code",
   "execution_count": 4,
   "metadata": {
    "id": "Ra-bXojQ_Su6"
   },
   "outputs": [],
   "source": [
    "def build_classifier(blocks, embedding_dim, positional_encoding=False):\n",
    "    inputs = layers.Input(shape=input_shape)\n",
    "    # Augment data. \n",
    "    augmented = data_augmentation(inputs)\n",
    "    # Create patches. \n",
    "    patches = Patches(patch_size, num_patches)(augmented)\n",
    "    # Encode patches to generate a [batch_size, num_patches, embedding_dim] tensor.\n",
    "    x = layers.Dense(units=embedding_dim)(patches)\n",
    "    if positional_encoding:\n",
    "        positions = tf.range(start=0, limit=num_patches, delta=1)\n",
    "        position_embedding = layers.Embedding(\n",
    "            input_dim=num_patches, output_dim=embedding_dim\n",
    "        )(positions)\n",
    "        x = x + position_embedding\n",
    "    # Process x using the module blocks. ## (sequential_82)\n",
    "    x = blocks(x)\n",
    "    # Apply global average pooling to generate a [batch_size, embedding_dim] representation tensor. \n",
    "    representation = layers.GlobalAveragePooling1D()(x)\n",
    "    # Apply dropout.\n",
    "    representation = layers.Dropout(rate=dropout_rate)(representation)\n",
    "    # Compute logits outputs.\n",
    "    logits = layers.Dense(num_classes)(representation) \n",
    "    # Create the Keras model.\n",
    "    return keras.Model(inputs=inputs, outputs=logits)\n"
   ]
  },
  {
   "cell_type": "markdown",
   "metadata": {
    "id": "cpQFU8H__Su8"
   },
   "source": [
    "## Define an experiment"
   ]
  },
  {
   "cell_type": "code",
   "execution_count": 5,
   "metadata": {
    "id": "9E1zD2BY_Su8"
   },
   "outputs": [],
   "source": [
    "def run_experiment(model):\n",
    "    # Create Adam optimizer with weight decay. Regularization that penalizes the increase of weight - with a facto alpha - to correct the overfitting\n",
    "    optimizer = tfa.optimizers.AdamW(\n",
    "        learning_rate=learning_rate, weight_decay=weight_decay,\n",
    "    )\n",
    "    # Compile the model.\n",
    "    model.compile(\n",
    "        optimizer=optimizer,\n",
    "        #Negative Log Likelihood = Categorical Cross Entropy\n",
    "        loss=keras.losses.SparseCategoricalCrossentropy(from_logits=True),\n",
    "        metrics=[\n",
    "            keras.metrics.SparseCategoricalAccuracy(name=\"acc\"),\n",
    "            keras.metrics.SparseTopKCategoricalAccuracy(5, name=\"top5-acc\"),\n",
    "        ],\n",
    "    )\n",
    "    # Create a learning rate scheduler callback.\n",
    "    reduce_lr = keras.callbacks.ReduceLROnPlateau(\n",
    "        monitor=\"val_loss\", factor=0.5, patience=5\n",
    "    )\n",
    "    # Create an early stopping regularization callback. \n",
    "    # It ends at a point that corresponds to a minimum of the L2-regularized objective\n",
    "    #early_stopping = tf.keras.callbacks.EarlyStopping(\n",
    "    #    monitor=\"val_loss\", patience=10, restore_best_weights=True\n",
    "    #)\n",
    "    # Fit the model.\n",
    "    history = model.fit(\n",
    "        x=x_train,\n",
    "        y=y_train,\n",
    "        batch_size=batch_size,\n",
    "        epochs=num_epochs,\n",
    "        validation_split=0.1,\n",
    "        callbacks=[reduce_lr],\n",
    "    )\n",
    "\n",
    "    _, accuracy, top_5_accuracy = model.evaluate(x_test, y_test)\n",
    "    print(f\"Test accuracy: {round(accuracy * 100, 2)}%\")\n",
    "    print(f\"Test top 5 accuracy: {round(top_5_accuracy * 100, 2)}%\")\n",
    "\n",
    "    # Return history to plot learning curves.\n",
    "    return history, accuracy, top_5_accuracy"
   ]
  },
  {
   "cell_type": "markdown",
   "metadata": {
    "id": "JxeE0cmM_Su9"
   },
   "source": [
    "## Use data augmentation\n",
    "Their state is not set during training; it must be set before training, either by initializing them from a precomputed constant, or by \"adapting\" them on data."
   ]
  },
  {
   "cell_type": "code",
   "execution_count": 6,
   "metadata": {
    "id": "zh6hFPWX_Su-"
   },
   "outputs": [],
   "source": [
    "data_augmentation = keras.Sequential(\n",
    "    [\n",
    "        layers.Normalization(),\n",
    "        layers.Resizing(image_size, image_size),\n",
    "        layers.RandomFlip(\"horizontal\"),\n",
    "        layers.RandomZoom(\n",
    "            height_factor=0.2, width_factor=0.2\n",
    "        ),\n",
    "    ],\n",
    "    name=\"data_augmentation\",\n",
    ")\n",
    "# Compute the mean and the variance of the training data for normalization.\n",
    "data_augmentation.layers[0].adapt(x_train)\n"
   ]
  },
  {
   "cell_type": "markdown",
   "metadata": {
    "id": "G77cUgiu_Su-"
   },
   "source": [
    "## Implement patch extraction as a layer"
   ]
  },
  {
   "cell_type": "code",
   "execution_count": 7,
   "metadata": {
    "id": "RYKNktXe_Su_"
   },
   "outputs": [],
   "source": [
    "\n",
    "class Patches(layers.Layer):\n",
    "    def __init__(self, patch_size, num_patches):\n",
    "        super(Patches, self).__init__()\n",
    "        self.patch_size = patch_size\n",
    "        self.num_patches = num_patches\n",
    "\n",
    "    def call(self, images):\n",
    "        #Extract the shape dimension in the position 0 = columns\n",
    "        batch_size = tf.shape(images)[0]\n",
    "        patches = tf.image.extract_patches(\n",
    "            images=images,\n",
    "            sizes=[1, self.patch_size, self.patch_size, 1],\n",
    "            #Without overlapping, stride horizontally and vertically\n",
    "            strides=[1, self.patch_size, self.patch_size, 1],\n",
    "            #Rate: Dilation factor [1 1* 1* 1] controls the spacing between the kernel points.\n",
    "            rates=[1, 1, 1, 1],\n",
    "            #Patches contained in the images are considered, no zero padding\n",
    "            padding=\"VALID\",\n",
    "        )\n",
    "        #shape[-1], number of colummns, as well as shape[0]\n",
    "        patch_dims = patches.shape[-1]\n",
    "        patches = tf.reshape(patches, [batch_size, self.num_patches, patch_dims])\n",
    "        return patches\n",
    "\n",
    "    def get_config(self):\n",
    "        config = super(Patches, self).get_config().copy()\n",
    "        config.update ({\n",
    "            'patch_size' : self.patch_size ,\n",
    "            'num_patches' : self.num_patches\n",
    "        })\n",
    "        return config"
   ]
  },
  {
   "cell_type": "markdown",
   "metadata": {
    "id": "l7yehcSS_Su_"
   },
   "source": [
    "## The MLP-Mixer model\n",
    "\n",
    "The MLP-Mixer is an architecture based exclusively on\n",
    "multi-layer perceptrons (MLPs), that contains two types of MLP layers:\n",
    "\n",
    "1. One applied independently to image patches, which mixes the per-location features.\n",
    "2. The other applied across patches (along channels), which mixes spatial information.\n",
    "\n",
    "This is similar to a [depthwise separable convolution based model](https://arxiv.org/pdf/1610.02357.pdf)\n",
    "such as the Xception model, but with two chained dense transforms, no max pooling, and layer normalization\n",
    "instead of batch normalization."
   ]
  },
  {
   "cell_type": "markdown",
   "metadata": {
    "id": "vvwg4e2n_SvA"
   },
   "source": [
    "### Implement the MLP-Mixer module"
   ]
  },
  {
   "cell_type": "code",
   "execution_count": 8,
   "metadata": {
    "id": "dT6wVEki_SvA"
   },
   "outputs": [],
   "source": [
    "\n",
    "class MLPMixerLayer(layers.Layer):\n",
    "    def __init__(self, num_patches, embedding_dim, dropout_rate, *args, **kwargs):\n",
    "        super(MLPMixerLayer, self).__init__(*args, **kwargs)\n",
    "\n",
    "        self.mlp1 = keras.Sequential(\n",
    "            [\n",
    "                layers.Dense(units=num_patches),\n",
    "                tfa.layers.GELU(),\n",
    "                layers.Dense(units=num_patches),\n",
    "                layers.Dropout(rate=dropout_rate),\n",
    "            ]\n",
    "        )\n",
    "\n",
    "        self.mlp2 = keras.Sequential(\n",
    "            [\n",
    "                layers.Dense(units=num_patches),\n",
    "                tfa.layers.GELU(),\n",
    "                layers.Dense(units=embedding_dim),\n",
    "                layers.Dropout(rate=dropout_rate),\n",
    "            ]\n",
    "        )\n",
    "        self.normalize = layers.LayerNormalization(epsilon=1e-6)\n",
    "\n",
    "    def call(self, inputs):\n",
    "        # Apply layer normalization.\n",
    "        x = self.normalize(inputs)\n",
    "        # Transpose inputs from [num_batches, num_patches, hidden_units] to [num_batches, hidden_units, num_patches].\n",
    "        x_channels = tf.linalg.matrix_transpose(x)\n",
    "        # Apply mlp1 on each channel independently.\n",
    "        mlp1_outputs = self.mlp1(x_channels)\n",
    "        # Transpose mlp1_outputs from [num_batches, hidden_dim, num_patches] to [num_batches, num_patches, hidden_units].\n",
    "        mlp1_outputs = tf.linalg.matrix_transpose(mlp1_outputs)\n",
    "        # Add skip connection.\n",
    "        x = mlp1_outputs + inputs\n",
    "        # Apply layer normalization.\n",
    "        x_patches = self.normalize(x)\n",
    "        # Apply mlp2 on each patch independtenly.\n",
    "        mlp2_outputs = self.mlp2(x_patches)\n",
    "        # Add skip connection.\n",
    "        x = x + mlp2_outputs\n",
    "        return x\n",
    "\n",
    "    def get_config(self): \n",
    "        config = super(MLPMixerLayer, self).get_config().copy()\n",
    "        config.update ({\n",
    "            'num_patches' : num_patches,\n",
    "            'embedding_dim' : embedding_dim,\n",
    "            'dropout_rate' : dropout_rate,\n",
    "        })\n",
    "        return config"
   ]
  },
  {
   "cell_type": "markdown",
   "metadata": {
    "id": "zUiufq92_SvA"
   },
   "source": [
    "## Build, train, and evaluate the MLP-Mixer model\n",
    "\n",
    "Note that training the model with the current settings on a V100 GPUs\n",
    "takes around 8 seconds per epoch."
   ]
  },
  {
   "cell_type": "code",
   "execution_count": 9,
   "metadata": {},
   "outputs": [],
   "source": [
    "# Report: Learning Curve\n",
    "def curves(history):\n",
    "    ymax1 = min(history[\"loss\"])\n",
    "    xmax1 = history[\"loss\"].index(ymax1)\n",
    "    ymax2 = min(history[\"val_loss\"])\n",
    "    xmax2 = history[\"val_loss\"].index(ymax2)\n",
    "    plt.title(\"Cross Entropy Loss\")\n",
    "    plt.plot(history[\"loss\"], color = 'blue', label = 'Training')\n",
    "    plt.plot(history[\"val_loss\"], color = 'orange', label = 'Testing')\n",
    "    plt.xlabel(\"Epochs\")\n",
    "    plt.annotate('Max:' + str(round(ymax1,2)) , xy = (xmax1, ymax1), xytext = (xmax1*0.93, 1.07*ymax1), \n",
    "                    arrowprops=dict(facecolor='blue', headwidth= 6, headlength =9))\n",
    "    plt.annotate('Max:' + str(round(ymax2,2)) , xy = (xmax2, ymax2), xytext = (xmax2*0.93, 1.07*ymax2), \n",
    "                    arrowprops=dict(facecolor='goldenrod', headwidth= 6, headlength =9))\n",
    "    plt.xlim([0,num_epochs])\n",
    "    plt.legend()\n",
    "    plt.show()\n",
    "    # Graph accuracy\n",
    "    ymax3 = max(history[\"acc\"])\n",
    "    xmax3 = history[\"acc\"].index(ymax3)\n",
    "    ymax4 = max(history[\"val_acc\"])\n",
    "    xmax4 = history[\"val_acc\"].index(ymax4)\n",
    "    ymax5 = max(history[\"top5-acc\"])\n",
    "    xmax5 = history[\"top5-acc\"].index(ymax5)\n",
    "    ymax6 = max(history[\"val_top5-acc\"])\n",
    "    xmax6 = history[\"val_top5-acc\"].index(ymax6)\n",
    "    plt.subplot(2,1,1)\n",
    "    plt.title('Classification accuracy')\n",
    "    plt.plot(history['acc'], color = 'blue', label = 'Training')\n",
    "    plt.plot(history['val_acc'], color = 'orange', label = 'Testing')\n",
    "    plt.annotate('Max:' + str(round(ymax3,2)) , xy = (xmax3, ymax3), xytext = (xmax3*0.93, 1.2*ymax3), \n",
    "                    arrowprops=dict(facecolor='blue', headwidth= 6, headlength =9))\n",
    "    plt.annotate('Max:' + str(round(ymax4,2)) , xy = (xmax4, ymax4), xytext = (xmax4*0.93, 0.7*ymax4), \n",
    "                    arrowprops=dict(facecolor='goldenrod', headwidth= 6, headlength =9))\n",
    "    plt.subplot(2,1,2)\n",
    "    plt.title('Classification top5-acc')\n",
    "    plt.plot(history['top5-acc'], color = 'blue', label = 'Training')\n",
    "    plt.plot(history['val_top5-acc'], color = 'orange', label = 'Testing')\n",
    "    plt.annotate('Max:' + str(round(ymax5,2)) , xy = (xmax5, ymax5), xytext = (xmax5*0.93, 1.2*ymax5), \n",
    "                    arrowprops=dict(facecolor='blue', headwidth= 6, headlength =9))\n",
    "    plt.annotate('Max:' + str(round(ymax6,2)) , xy = (xmax6, ymax6), xytext = (xmax6*0.87, 1.2*ymax6), \n",
    "                    arrowprops=dict(facecolor='goldenrod', headwidth= 6, headlength =9))\n",
    "    plt.xlim([0,num_epochs])\n",
    "    plt.xlabel(\"Epochs\")\n",
    "    plt.suptitle(\"Learning Curves\")\n",
    "    plt.legend()\n",
    "    plt.tight_layout()\n",
    "    plt.show()"
   ]
  },
  {
   "cell_type": "markdown",
   "metadata": {},
   "source": [
    "## Obtain activations + Visualization"
   ]
  },
  {
   "cell_type": "code",
   "execution_count": 10,
   "metadata": {},
   "outputs": [],
   "source": [
    "# Preprocessing Layers + Patches + One dense layer\n",
    "def Preprocessing(num_example):\n",
    "    augmented = data_augmentation(x_train[num_example])\n",
    "    b = Patches(patch_size, num_patches)(augmented)\n",
    "    a = layers.Dense(units=embedding_dim)(b)\n",
    "    inp = tf.reshape(a,[1,embedding_dim,num_patches])\n",
    "    return inp"
   ]
  },
  {
   "cell_type": "code",
   "execution_count": 11,
   "metadata": {},
   "outputs": [],
   "source": [
    "# Creates a random vector with indexes of a random batch selection and also regularizes the selected batch\n",
    "def Batch_Preprocessing(batch_size):\n",
    "    #Vector with the number of Sample of the Xtrain\n",
    "    a  = list(range(0,x_train.shape[0]))\n",
    "    b = random.sample(a,batch_size)\n",
    "    batch_regularization = list()\n",
    "    for i in range(0,batch_size):\n",
    "        inter_result = Preprocessing(b[i])\n",
    "        batch_regularization.append(inter_result)\n",
    "    return batch_regularization\n"
   ]
  },
  {
   "cell_type": "code",
   "execution_count": 12,
   "metadata": {},
   "outputs": [],
   "source": [
    "def visualize_out(result,layer_number,example):\n",
    "    fig, (ax1, ax2)= plt.subplots(1,2)\n",
    "    ax1.imshow(x_train[example])\n",
    "    ax1.set_title('Original_Figure, Class: #' + str(y_train[example][0]))\n",
    "    ax2.imshow(result[layer_number])\n",
    "    ax2.set_title('Activations of MLP block of the Mixer #: '+ '\"' + str(layer_number) + '\"')\n",
    "    return None"
   ]
  },
  {
   "cell_type": "code",
   "execution_count": 13,
   "metadata": {},
   "outputs": [],
   "source": [
    "def Mixer_Layer_Outputs(model_input, model_output,example):\n",
    "    #The input is fixed to the beginning of the mlp blocks\n",
    "    intermediate_model=tf.keras.models.Model(inputs=model_input.input,outputs=model_output.output)\n",
    "    #This reshape is necessary for the input of the model\n",
    "    example = tf.reshape(example,[1,num_patches,embedding_dim])\n",
    "    #Inference\n",
    "    intermediate_prediction =intermediate_model.predict(example)\n",
    "    #This reshape is standardize the output\n",
    "    layactivation = intermediate_prediction.reshape((embedding_dim,num_patches))\n",
    "    return layactivation"
   ]
  },
  {
   "cell_type": "code",
   "execution_count": 14,
   "metadata": {},
   "outputs": [],
   "source": [
    "## Computes the outputs of each MLP-mixer Layer\n",
    "def Mixer_Activations(model, example):\n",
    "    total_activations = list()\n",
    "    for i in range(num_blocks):\n",
    "        model_input = model.layers[4].layers[0]\n",
    "        model_output = model.layers[4].layers[i]\n",
    "        int_total_activations = Mixer_Layer_Outputs(model_input, model_output, example)\n",
    "        total_activations.append(int_total_activations)\n",
    "    return  total_activations"
   ]
  },
  {
   "cell_type": "code",
   "execution_count": 15,
   "metadata": {},
   "outputs": [],
   "source": [
    "#Average of layer's activation\n",
    "def Prom_Mixer_Activations_Blocks(model,batch_regularization):\n",
    "    sum = list()\n",
    "    for i in range(0,num_blocks):\n",
    "        sum_raw = np.zeros((embedding_dim,num_patches))\n",
    "        sum.append(sum_raw)\n",
    "    for i in range(0,batch_size):\n",
    "        mixer_raw = Mixer_Activations(model,batch_regularization[i])\n",
    "        for i in range(0,num_blocks):\n",
    "            sum[i] = np.add(mixer_raw[i],sum[i])\n",
    "    prom_mixer_activations = [ (number / batch_size)  for number in sum]\n",
    "    return prom_mixer_activations"
   ]
  },
  {
   "cell_type": "markdown",
   "metadata": {},
   "source": [
    "# CKA"
   ]
  },
  {
   "cell_type": "code",
   "execution_count": 16,
   "metadata": {},
   "outputs": [],
   "source": [
    "# Calculates a heatmap according to the selection of a CKA_Kernel (preferred) or CKA_Linear\n",
    "def Heatmap(result,type,sigma):\n",
    "    dim = len(result)\n",
    "    k = (dim - 1)\n",
    "    heatmap_CKA = np.zeros((dim,dim))\n",
    "    for i in range(0,dim):\n",
    "        tr = (dim - 1)\n",
    "        for j in range(0,dim):\n",
    "            if type == 'kernel':\n",
    "                heatmap_CKA[k][tr] = cka(gram_rbf(result[i],sigma),gram_rbf(result[j],sigma))\n",
    "            elif type == 'linear':\n",
    "                heatmap_CKA[k][tr] = cka(gram_linear(result[i]),gram_linear(result[j])) \n",
    "            else:\n",
    "                print('There is no such category, try again')\n",
    "                break\n",
    "\n",
    "            tr -= 1\n",
    "        k -= 1\n",
    "    #print('CKA' + type + 'calculated')\n",
    "    return heatmap_CKA"
   ]
  },
  {
   "cell_type": "code",
   "execution_count": 17,
   "metadata": {},
   "outputs": [],
   "source": [
    "#Average of heatmaps (obsolet)\n",
    "def Prom_Mixer_Heatmaps(batch_result,type):\n",
    "    mat_heatmaps = list()\n",
    "    prom_mixer_heatmap_raw = np.zeros((num_blocks,num_blocks))\n",
    "    for i in range(0,batch_size):\n",
    "        mixer_activations_raw = Mixer_Activations(batch_result[i])\n",
    "        heatmap_raw = Heatmap(mixer_activations_raw, type)\n",
    "        mat_heatmaps.append(heatmap_raw)\n",
    "        prom_mixer_heatmap_raw = np.add(heatmap_raw,prom_mixer_heatmap_raw)\n",
    "    prom_mixer_heatmap =  prom_mixer_heatmap_raw/batch_size  \n",
    "    return prom_mixer_heatmap,mat_heatmaps"
   ]
  },
  {
   "cell_type": "code",
   "execution_count": 18,
   "metadata": {},
   "outputs": [],
   "source": [
    "def visualize_Heatmap(heatmap,type,bl):\n",
    "    #Number of thats that you want to appear in the plot\n",
    "    tri = 4\n",
    "    if type == 'kernel' or type == 'linear':\n",
    "        dim = len(heatmap)\n",
    "        axis_labels = list()\n",
    "        for i in range(0,dim):\n",
    "            axis_labels_inter = str('%i'%(i+1))\n",
    "            axis_labels.append(axis_labels_inter)\n",
    "        _, ax = plt.subplots(figsize=(3,3))\n",
    "        ax = sns.heatmap(heatmap, xticklabels=axis_labels[::-1], yticklabels=axis_labels[::-1], ax = ax, annot=bl)\n",
    "        #sns.heatmap(heatmap, xticklabels=2, yticklabels=2, ax = ax, annot=bl, cbar=True)   \n",
    "        ax.invert_xaxis()\n",
    "        ax.axhline(y = 0, color='k',linewidth = 4)\n",
    "        ax.axhline(y = heatmap.shape[1], color = 'k', linewidth = 4)\n",
    "        ax.axvline(x = 0, color ='k',linewidth = 4)\n",
    "        ax.axvline(x = heatmap.shape[0], color = 'k', linewidth = 4)\n",
    "\n",
    "        ax.set_title(\"CKA-\"+ type)   \n",
    "        ax.set_xlabel(\"Layer\")\n",
    "        ax.set_ylabel(\"Layer\")\n",
    "        plt.yticks(rotation=0)\n",
    "        plt.locator_params(axis='x',nbins=tri)\n",
    "        plt.locator_params(axis='y',nbins=tri)\n",
    "        plt.savefig('CKA_'+ type +'.png', dpi=300)\n",
    "        \n",
    "    else:\n",
    "        print('There is no such category, try again')"
   ]
  },
  {
   "cell_type": "markdown",
   "metadata": {},
   "source": [
    "# Experiment 3 : Across datasets"
   ]
  },
  {
   "cell_type": "markdown",
   "metadata": {},
   "source": [
    "Trained with CIFAR 10"
   ]
  },
  {
   "cell_type": "code",
   "execution_count": 19,
   "metadata": {},
   "outputs": [
    {
     "name": "stdout",
     "output_type": "stream",
     "text": [
      "Epoch 1/50\n",
      "88/88 [==============================] - 29s 244ms/step - loss: 3.9389 - acc: 0.2483 - top5-acc: 0.7411 - val_loss: 1.8100 - val_acc: 0.3736 - val_top5-acc: 0.8580 - lr: 0.0050\n",
      "Epoch 2/50\n",
      "88/88 [==============================] - 20s 232ms/step - loss: 1.5981 - acc: 0.4225 - top5-acc: 0.8957 - val_loss: 1.4520 - val_acc: 0.4810 - val_top5-acc: 0.9244 - lr: 0.0050\n",
      "Epoch 3/50\n",
      "88/88 [==============================] - 20s 230ms/step - loss: 1.4260 - acc: 0.4867 - top5-acc: 0.9242 - val_loss: 1.2642 - val_acc: 0.5486 - val_top5-acc: 0.9460 - lr: 0.0050\n",
      "Epoch 4/50\n",
      "88/88 [==============================] - 20s 231ms/step - loss: 1.3296 - acc: 0.5213 - top5-acc: 0.9367 - val_loss: 1.2582 - val_acc: 0.5598 - val_top5-acc: 0.9464 - lr: 0.0050\n",
      "Epoch 5/50\n",
      "88/88 [==============================] - 20s 232ms/step - loss: 1.2696 - acc: 0.5472 - top5-acc: 0.9442 - val_loss: 1.1736 - val_acc: 0.5830 - val_top5-acc: 0.9566 - lr: 0.0050\n",
      "Epoch 6/50\n",
      "88/88 [==============================] - 20s 232ms/step - loss: 1.2185 - acc: 0.5677 - top5-acc: 0.9491 - val_loss: 1.1446 - val_acc: 0.5996 - val_top5-acc: 0.9588 - lr: 0.0050\n",
      "Epoch 7/50\n",
      "88/88 [==============================] - 20s 232ms/step - loss: 1.1793 - acc: 0.5811 - top5-acc: 0.9535 - val_loss: 1.0834 - val_acc: 0.6212 - val_top5-acc: 0.9602 - lr: 0.0050\n",
      "Epoch 8/50\n",
      "88/88 [==============================] - 20s 232ms/step - loss: 1.1663 - acc: 0.5862 - top5-acc: 0.9535 - val_loss: 1.0527 - val_acc: 0.6328 - val_top5-acc: 0.9666 - lr: 0.0050\n",
      "Epoch 9/50\n",
      "88/88 [==============================] - 20s 232ms/step - loss: 1.1227 - acc: 0.6009 - top5-acc: 0.9592 - val_loss: 1.0300 - val_acc: 0.6402 - val_top5-acc: 0.9682 - lr: 0.0050\n",
      "Epoch 10/50\n",
      "88/88 [==============================] - 20s 232ms/step - loss: 1.0799 - acc: 0.6188 - top5-acc: 0.9624 - val_loss: 1.0208 - val_acc: 0.6386 - val_top5-acc: 0.9700 - lr: 0.0050\n",
      "Epoch 11/50\n",
      "88/88 [==============================] - 21s 233ms/step - loss: 1.0548 - acc: 0.6267 - top5-acc: 0.9640 - val_loss: 1.0118 - val_acc: 0.6432 - val_top5-acc: 0.9684 - lr: 0.0050\n",
      "Epoch 12/50\n",
      "88/88 [==============================] - 20s 232ms/step - loss: 1.0324 - acc: 0.6340 - top5-acc: 0.9636 - val_loss: 0.9921 - val_acc: 0.6576 - val_top5-acc: 0.9686 - lr: 0.0050\n",
      "Epoch 13/50\n",
      "88/88 [==============================] - 20s 232ms/step - loss: 1.0110 - acc: 0.6428 - top5-acc: 0.9657 - val_loss: 0.9504 - val_acc: 0.6708 - val_top5-acc: 0.9718 - lr: 0.0050\n",
      "Epoch 14/50\n",
      "88/88 [==============================] - 20s 232ms/step - loss: 1.0012 - acc: 0.6485 - top5-acc: 0.9676 - val_loss: 0.9772 - val_acc: 0.6588 - val_top5-acc: 0.9714 - lr: 0.0050\n",
      "Epoch 15/50\n",
      "88/88 [==============================] - 20s 232ms/step - loss: 0.9908 - acc: 0.6541 - top5-acc: 0.9673 - val_loss: 0.9124 - val_acc: 0.6892 - val_top5-acc: 0.9706 - lr: 0.0050\n",
      "Epoch 16/50\n",
      "88/88 [==============================] - 20s 232ms/step - loss: 0.9720 - acc: 0.6579 - top5-acc: 0.9688 - val_loss: 0.9110 - val_acc: 0.6772 - val_top5-acc: 0.9736 - lr: 0.0050\n",
      "Epoch 17/50\n",
      "88/88 [==============================] - 20s 233ms/step - loss: 0.9378 - acc: 0.6718 - top5-acc: 0.9716 - val_loss: 0.9335 - val_acc: 0.6790 - val_top5-acc: 0.9750 - lr: 0.0050\n",
      "Epoch 18/50\n",
      "88/88 [==============================] - 20s 232ms/step - loss: 0.9283 - acc: 0.6742 - top5-acc: 0.9733 - val_loss: 0.8703 - val_acc: 0.6940 - val_top5-acc: 0.9732 - lr: 0.0050\n",
      "Epoch 19/50\n",
      "88/88 [==============================] - 20s 233ms/step - loss: 0.9178 - acc: 0.6768 - top5-acc: 0.9726 - val_loss: 0.8869 - val_acc: 0.6920 - val_top5-acc: 0.9748 - lr: 0.0050\n",
      "Epoch 20/50\n",
      "88/88 [==============================] - 20s 232ms/step - loss: 0.9037 - acc: 0.6806 - top5-acc: 0.9745 - val_loss: 0.8847 - val_acc: 0.6866 - val_top5-acc: 0.9778 - lr: 0.0050\n",
      "Epoch 21/50\n",
      "88/88 [==============================] - 20s 232ms/step - loss: 0.8928 - acc: 0.6858 - top5-acc: 0.9750 - val_loss: 0.8667 - val_acc: 0.6990 - val_top5-acc: 0.9774 - lr: 0.0050\n",
      "Epoch 22/50\n",
      "88/88 [==============================] - 20s 233ms/step - loss: 0.8771 - acc: 0.6911 - top5-acc: 0.9766 - val_loss: 0.8390 - val_acc: 0.7146 - val_top5-acc: 0.9814 - lr: 0.0050\n",
      "Epoch 23/50\n",
      "88/88 [==============================] - 20s 233ms/step - loss: 0.8809 - acc: 0.6908 - top5-acc: 0.9761 - val_loss: 0.8645 - val_acc: 0.7068 - val_top5-acc: 0.9774 - lr: 0.0050\n",
      "Epoch 24/50\n",
      "88/88 [==============================] - 20s 232ms/step - loss: 0.8746 - acc: 0.6925 - top5-acc: 0.9770 - val_loss: 0.8725 - val_acc: 0.7090 - val_top5-acc: 0.9756 - lr: 0.0050\n",
      "Epoch 25/50\n",
      "88/88 [==============================] - 20s 233ms/step - loss: 0.8442 - acc: 0.7040 - top5-acc: 0.9778 - val_loss: 0.8285 - val_acc: 0.7174 - val_top5-acc: 0.9806 - lr: 0.0050\n",
      "Epoch 26/50\n",
      "88/88 [==============================] - 20s 233ms/step - loss: 0.8443 - acc: 0.7017 - top5-acc: 0.9780 - val_loss: 0.8323 - val_acc: 0.7054 - val_top5-acc: 0.9774 - lr: 0.0050\n",
      "Epoch 27/50\n",
      "88/88 [==============================] - 20s 233ms/step - loss: 0.8244 - acc: 0.7115 - top5-acc: 0.9794 - val_loss: 0.8340 - val_acc: 0.7130 - val_top5-acc: 0.9780 - lr: 0.0050\n",
      "Epoch 28/50\n",
      "88/88 [==============================] - 20s 233ms/step - loss: 0.8386 - acc: 0.7044 - top5-acc: 0.9787 - val_loss: 0.8190 - val_acc: 0.7268 - val_top5-acc: 0.9780 - lr: 0.0050\n",
      "Epoch 29/50\n",
      "88/88 [==============================] - 21s 233ms/step - loss: 0.8106 - acc: 0.7157 - top5-acc: 0.9799 - val_loss: 0.8368 - val_acc: 0.7214 - val_top5-acc: 0.9800 - lr: 0.0050\n",
      "Epoch 30/50\n",
      "88/88 [==============================] - 20s 233ms/step - loss: 0.8224 - acc: 0.7091 - top5-acc: 0.9798 - val_loss: 0.8067 - val_acc: 0.7230 - val_top5-acc: 0.9788 - lr: 0.0050\n",
      "Epoch 31/50\n",
      "88/88 [==============================] - 20s 233ms/step - loss: 0.7907 - acc: 0.7237 - top5-acc: 0.9818 - val_loss: 0.7816 - val_acc: 0.7320 - val_top5-acc: 0.9844 - lr: 0.0050\n",
      "Epoch 32/50\n",
      "88/88 [==============================] - 20s 233ms/step - loss: 0.7881 - acc: 0.7224 - top5-acc: 0.9815 - val_loss: 0.8740 - val_acc: 0.7116 - val_top5-acc: 0.9808 - lr: 0.0050\n",
      "Epoch 33/50\n",
      "88/88 [==============================] - 20s 233ms/step - loss: 0.7976 - acc: 0.7202 - top5-acc: 0.9813 - val_loss: 0.8051 - val_acc: 0.7338 - val_top5-acc: 0.9832 - lr: 0.0050\n",
      "Epoch 34/50\n",
      "88/88 [==============================] - 21s 233ms/step - loss: 0.7817 - acc: 0.7258 - top5-acc: 0.9821 - val_loss: 0.8141 - val_acc: 0.7296 - val_top5-acc: 0.9814 - lr: 0.0050\n",
      "Epoch 35/50\n",
      "88/88 [==============================] - 20s 233ms/step - loss: 0.7752 - acc: 0.7290 - top5-acc: 0.9824 - val_loss: 0.8140 - val_acc: 0.7310 - val_top5-acc: 0.9794 - lr: 0.0050\n",
      "Epoch 36/50\n",
      "88/88 [==============================] - 20s 233ms/step - loss: 16.0484 - acc: 0.3231 - top5-acc: 0.7654 - val_loss: 1.5275 - val_acc: 0.4480 - val_top5-acc: 0.9116 - lr: 0.0050\n",
      "Epoch 37/50\n",
      "88/88 [==============================] - 21s 233ms/step - loss: 1.4763 - acc: 0.4722 - top5-acc: 0.9174 - val_loss: 1.2905 - val_acc: 0.5400 - val_top5-acc: 0.9442 - lr: 0.0025\n",
      "Epoch 38/50\n",
      "88/88 [==============================] - 21s 233ms/step - loss: 1.3299 - acc: 0.5226 - top5-acc: 0.9373 - val_loss: 1.1826 - val_acc: 0.5832 - val_top5-acc: 0.9534 - lr: 0.0025\n",
      "Epoch 39/50\n",
      "88/88 [==============================] - 21s 233ms/step - loss: 1.2333 - acc: 0.5620 - top5-acc: 0.9477 - val_loss: 1.0974 - val_acc: 0.6124 - val_top5-acc: 0.9618 - lr: 0.0025\n",
      "Epoch 40/50\n",
      "88/88 [==============================] - 21s 233ms/step - loss: 1.1649 - acc: 0.5851 - top5-acc: 0.9536 - val_loss: 1.0355 - val_acc: 0.6380 - val_top5-acc: 0.9684 - lr: 0.0025\n",
      "Epoch 41/50\n",
      "88/88 [==============================] - 20s 233ms/step - loss: 1.1070 - acc: 0.6069 - top5-acc: 0.9601 - val_loss: 1.0078 - val_acc: 0.6430 - val_top5-acc: 0.9698 - lr: 0.0025\n",
      "Epoch 42/50\n",
      "88/88 [==============================] - 21s 233ms/step - loss: 1.0550 - acc: 0.6265 - top5-acc: 0.9646 - val_loss: 0.9631 - val_acc: 0.6608 - val_top5-acc: 0.9728 - lr: 0.0012\n",
      "Epoch 43/50\n",
      "88/88 [==============================] - 20s 233ms/step - loss: 1.0320 - acc: 0.6354 - top5-acc: 0.9668 - val_loss: 0.9518 - val_acc: 0.6666 - val_top5-acc: 0.9734 - lr: 0.0012\n",
      "Epoch 44/50\n"
     ]
    },
    {
     "name": "stdout",
     "output_type": "stream",
     "text": [
      "88/88 [==============================] - 20s 231ms/step - loss: 1.0110 - acc: 0.6433 - top5-acc: 0.9675 - val_loss: 0.9282 - val_acc: 0.6750 - val_top5-acc: 0.9750 - lr: 0.0012\n",
      "Epoch 45/50\n",
      "88/88 [==============================] - 20s 233ms/step - loss: 0.9844 - acc: 0.6515 - top5-acc: 0.9700 - val_loss: 0.9134 - val_acc: 0.6764 - val_top5-acc: 0.9768 - lr: 0.0012\n",
      "Epoch 46/50\n",
      "88/88 [==============================] - 20s 233ms/step - loss: 0.9731 - acc: 0.6560 - top5-acc: 0.9712 - val_loss: 0.8996 - val_acc: 0.6856 - val_top5-acc: 0.9768 - lr: 0.0012\n",
      "Epoch 47/50\n",
      "88/88 [==============================] - 20s 232ms/step - loss: 0.9497 - acc: 0.6654 - top5-acc: 0.9726 - val_loss: 0.8877 - val_acc: 0.6854 - val_top5-acc: 0.9770 - lr: 6.2500e-04\n",
      "Epoch 48/50\n",
      "88/88 [==============================] - 20s 232ms/step - loss: 0.9326 - acc: 0.6683 - top5-acc: 0.9735 - val_loss: 0.8821 - val_acc: 0.6890 - val_top5-acc: 0.9772 - lr: 6.2500e-04\n",
      "Epoch 49/50\n",
      "88/88 [==============================] - 20s 232ms/step - loss: 0.9337 - acc: 0.6725 - top5-acc: 0.9728 - val_loss: 0.8839 - val_acc: 0.6902 - val_top5-acc: 0.9772 - lr: 6.2500e-04\n",
      "Epoch 50/50\n",
      "88/88 [==============================] - 20s 232ms/step - loss: 0.9184 - acc: 0.6762 - top5-acc: 0.9749 - val_loss: 0.8615 - val_acc: 0.6944 - val_top5-acc: 0.9774 - lr: 6.2500e-04\n",
      "313/313 [==============================] - 15s 47ms/step - loss: 0.8908 - acc: 0.6877 - top5-acc: 0.9740\n",
      "Test accuracy: 68.77%\n",
      "Test top 5 accuracy: 97.4%\n"
     ]
    },
    {
     "name": "stderr",
     "output_type": "stream",
     "text": [
      "WARNING:absl:Found untraced functions such as layer_normalization_layer_call_fn, layer_normalization_layer_call_and_return_conditional_losses, layer_normalization_1_layer_call_fn, layer_normalization_1_layer_call_and_return_conditional_losses, layer_normalization_2_layer_call_fn while saving (showing 5 of 24). These functions will not be directly callable after loading.\n"
     ]
    },
    {
     "name": "stdout",
     "output_type": "stream",
     "text": [
      "INFO:tensorflow:Assets written to: Results_Article/3A/mlpmixer_CF10_1\\assets\n"
     ]
    },
    {
     "name": "stderr",
     "output_type": "stream",
     "text": [
      "INFO:tensorflow:Assets written to: Results_Article/3A/mlpmixer_CF10_1\\assets\n"
     ]
    },
    {
     "name": "stdout",
     "output_type": "stream",
     "text": [
      "Epoch 1/50\n",
      "88/88 [==============================] - 29s 246ms/step - loss: 4.1068 - acc: 0.2574 - top5-acc: 0.7468 - val_loss: 1.6281 - val_acc: 0.4094 - val_top5-acc: 0.8948 - lr: 0.0050\n",
      "Epoch 2/50\n",
      "88/88 [==============================] - 20s 231ms/step - loss: 1.5560 - acc: 0.4362 - top5-acc: 0.9036 - val_loss: 1.4308 - val_acc: 0.4878 - val_top5-acc: 0.9318 - lr: 0.0050\n",
      "Epoch 3/50\n",
      "88/88 [==============================] - 20s 232ms/step - loss: 1.4239 - acc: 0.4872 - top5-acc: 0.9229 - val_loss: 1.3277 - val_acc: 0.5326 - val_top5-acc: 0.9468 - lr: 0.0050\n",
      "Epoch 4/50\n",
      "88/88 [==============================] - 20s 232ms/step - loss: 1.3354 - acc: 0.5233 - top5-acc: 0.9358 - val_loss: 1.2464 - val_acc: 0.5492 - val_top5-acc: 0.9528 - lr: 0.0050\n",
      "Epoch 5/50\n",
      "88/88 [==============================] - 20s 232ms/step - loss: 1.2770 - acc: 0.5413 - top5-acc: 0.9432 - val_loss: 1.2270 - val_acc: 0.5626 - val_top5-acc: 0.9514 - lr: 0.0050\n",
      "Epoch 6/50\n",
      "88/88 [==============================] - 20s 232ms/step - loss: 1.2296 - acc: 0.5618 - top5-acc: 0.9468 - val_loss: 1.1233 - val_acc: 0.6034 - val_top5-acc: 0.9604 - lr: 0.0050\n",
      "Epoch 7/50\n",
      "88/88 [==============================] - 20s 232ms/step - loss: 1.1975 - acc: 0.5738 - top5-acc: 0.9486 - val_loss: 1.1012 - val_acc: 0.6050 - val_top5-acc: 0.9642 - lr: 0.0050\n",
      "Epoch 8/50\n",
      "88/88 [==============================] - 20s 232ms/step - loss: 1.1533 - acc: 0.5924 - top5-acc: 0.9546 - val_loss: 1.0688 - val_acc: 0.6136 - val_top5-acc: 0.9670 - lr: 0.0050\n",
      "Epoch 9/50\n",
      "88/88 [==============================] - 20s 232ms/step - loss: 1.1500 - acc: 0.5924 - top5-acc: 0.9555 - val_loss: 1.0804 - val_acc: 0.6156 - val_top5-acc: 0.9676 - lr: 0.0050\n",
      "Epoch 10/50\n",
      "88/88 [==============================] - 20s 231ms/step - loss: 1.1170 - acc: 0.6039 - top5-acc: 0.9587 - val_loss: 1.0392 - val_acc: 0.6294 - val_top5-acc: 0.9674 - lr: 0.0050\n",
      "Epoch 11/50\n",
      "88/88 [==============================] - 20s 232ms/step - loss: 1.0837 - acc: 0.6162 - top5-acc: 0.9607 - val_loss: 0.9875 - val_acc: 0.6516 - val_top5-acc: 0.9704 - lr: 0.0050\n",
      "Epoch 12/50\n",
      "88/88 [==============================] - 20s 232ms/step - loss: 1.0640 - acc: 0.6208 - top5-acc: 0.9631 - val_loss: 0.9899 - val_acc: 0.6580 - val_top5-acc: 0.9714 - lr: 0.0050\n",
      "Epoch 13/50\n",
      "88/88 [==============================] - 20s 232ms/step - loss: 1.0515 - acc: 0.6256 - top5-acc: 0.9640 - val_loss: 0.9821 - val_acc: 0.6548 - val_top5-acc: 0.9716 - lr: 0.0050\n",
      "Epoch 14/50\n",
      "88/88 [==============================] - 20s 232ms/step - loss: 1.0267 - acc: 0.6361 - top5-acc: 0.9661 - val_loss: 0.9597 - val_acc: 0.6564 - val_top5-acc: 0.9742 - lr: 0.0050\n",
      "Epoch 15/50\n",
      "88/88 [==============================] - 20s 231ms/step - loss: 1.0078 - acc: 0.6437 - top5-acc: 0.9662 - val_loss: 0.9553 - val_acc: 0.6630 - val_top5-acc: 0.9710 - lr: 0.0050\n",
      "Epoch 16/50\n",
      "88/88 [==============================] - 20s 232ms/step - loss: 1.0027 - acc: 0.6469 - top5-acc: 0.9675 - val_loss: 0.9297 - val_acc: 0.6788 - val_top5-acc: 0.9770 - lr: 0.0050\n",
      "Epoch 17/50\n",
      "88/88 [==============================] - 20s 232ms/step - loss: 0.9736 - acc: 0.6564 - top5-acc: 0.9698 - val_loss: 0.9643 - val_acc: 0.6628 - val_top5-acc: 0.9718 - lr: 0.0050\n",
      "Epoch 18/50\n",
      "88/88 [==============================] - 20s 232ms/step - loss: 0.9699 - acc: 0.6554 - top5-acc: 0.9698 - val_loss: 0.9024 - val_acc: 0.6816 - val_top5-acc: 0.9772 - lr: 0.0050\n",
      "Epoch 19/50\n",
      "88/88 [==============================] - 20s 232ms/step - loss: 0.9458 - acc: 0.6671 - top5-acc: 0.9714 - val_loss: 0.8866 - val_acc: 0.6930 - val_top5-acc: 0.9770 - lr: 0.0050\n",
      "Epoch 20/50\n",
      "88/88 [==============================] - 20s 232ms/step - loss: 0.9347 - acc: 0.6697 - top5-acc: 0.9724 - val_loss: 0.9590 - val_acc: 0.6634 - val_top5-acc: 0.9752 - lr: 0.0050\n",
      "Epoch 21/50\n",
      "88/88 [==============================] - 20s 232ms/step - loss: 0.9346 - acc: 0.6699 - top5-acc: 0.9727 - val_loss: 0.8551 - val_acc: 0.6922 - val_top5-acc: 0.9800 - lr: 0.0050\n",
      "Epoch 22/50\n",
      "88/88 [==============================] - 20s 232ms/step - loss: 0.9029 - acc: 0.6805 - top5-acc: 0.9738 - val_loss: 0.8429 - val_acc: 0.7052 - val_top5-acc: 0.9786 - lr: 0.0050\n",
      "Epoch 23/50\n",
      "88/88 [==============================] - 20s 232ms/step - loss: 0.8867 - acc: 0.6848 - top5-acc: 0.9754 - val_loss: 0.8487 - val_acc: 0.7000 - val_top5-acc: 0.9808 - lr: 0.0050\n",
      "Epoch 24/50\n",
      "88/88 [==============================] - 20s 232ms/step - loss: 0.8826 - acc: 0.6882 - top5-acc: 0.9758 - val_loss: 0.8316 - val_acc: 0.7086 - val_top5-acc: 0.9820 - lr: 0.0050\n",
      "Epoch 25/50\n",
      "88/88 [==============================] - 20s 232ms/step - loss: 0.8749 - acc: 0.6928 - top5-acc: 0.9768 - val_loss: 0.8603 - val_acc: 0.7032 - val_top5-acc: 0.9776 - lr: 0.0050\n",
      "Epoch 26/50\n",
      "88/88 [==============================] - 20s 232ms/step - loss: 0.8807 - acc: 0.6905 - top5-acc: 0.9762 - val_loss: 0.8962 - val_acc: 0.6930 - val_top5-acc: 0.9752 - lr: 0.0050\n",
      "Epoch 27/50\n",
      "88/88 [==============================] - 20s 232ms/step - loss: 0.8645 - acc: 0.6968 - top5-acc: 0.9759 - val_loss: 0.8522 - val_acc: 0.7068 - val_top5-acc: 0.9814 - lr: 0.0050\n",
      "Epoch 28/50\n",
      "88/88 [==============================] - 20s 232ms/step - loss: 0.8506 - acc: 0.6985 - top5-acc: 0.9782 - val_loss: 0.8257 - val_acc: 0.7142 - val_top5-acc: 0.9794 - lr: 0.0050\n",
      "Epoch 29/50\n",
      "88/88 [==============================] - 20s 232ms/step - loss: 0.8399 - acc: 0.7058 - top5-acc: 0.9780 - val_loss: 0.9629 - val_acc: 0.6846 - val_top5-acc: 0.9710 - lr: 0.0050\n",
      "Epoch 30/50\n",
      "88/88 [==============================] - 20s 233ms/step - loss: 0.8583 - acc: 0.6993 - top5-acc: 0.9769 - val_loss: 0.8125 - val_acc: 0.7190 - val_top5-acc: 0.9830 - lr: 0.0050\n",
      "Epoch 31/50\n",
      "88/88 [==============================] - 21s 233ms/step - loss: 0.8277 - acc: 0.7097 - top5-acc: 0.9795 - val_loss: 0.8208 - val_acc: 0.7254 - val_top5-acc: 0.9778 - lr: 0.0050\n",
      "Epoch 32/50\n",
      "88/88 [==============================] - 20s 233ms/step - loss: 0.8088 - acc: 0.7136 - top5-acc: 0.9794 - val_loss: 0.8452 - val_acc: 0.7188 - val_top5-acc: 0.9784 - lr: 0.0050\n",
      "Epoch 33/50\n",
      "88/88 [==============================] - 20s 233ms/step - loss: 0.8145 - acc: 0.7132 - top5-acc: 0.9807 - val_loss: 0.8351 - val_acc: 0.7114 - val_top5-acc: 0.9796 - lr: 0.0050\n",
      "Epoch 34/50\n",
      "88/88 [==============================] - 20s 233ms/step - loss: 0.8020 - acc: 0.7193 - top5-acc: 0.9807 - val_loss: 0.8120 - val_acc: 0.7190 - val_top5-acc: 0.9804 - lr: 0.0050\n",
      "Epoch 35/50\n",
      "88/88 [==============================] - 21s 234ms/step - loss: 0.7958 - acc: 0.7174 - top5-acc: 0.9811 - val_loss: 0.8145 - val_acc: 0.7304 - val_top5-acc: 0.9794 - lr: 0.0050\n",
      "Epoch 36/50\n",
      "88/88 [==============================] - 20s 233ms/step - loss: 0.8182 - acc: 0.7124 - top5-acc: 0.9805 - val_loss: 0.7980 - val_acc: 0.7298 - val_top5-acc: 0.9786 - lr: 0.0050\n",
      "Epoch 37/50\n",
      "88/88 [==============================] - 20s 233ms/step - loss: 0.7882 - acc: 0.7224 - top5-acc: 0.9818 - val_loss: 0.8130 - val_acc: 0.7294 - val_top5-acc: 0.9804 - lr: 0.0050\n",
      "Epoch 38/50\n",
      "88/88 [==============================] - 20s 232ms/step - loss: 0.7741 - acc: 0.7282 - top5-acc: 0.9817 - val_loss: 0.8033 - val_acc: 0.7328 - val_top5-acc: 0.9812 - lr: 0.0050\n",
      "Epoch 39/50\n",
      "88/88 [==============================] - 20s 232ms/step - loss: 0.7502 - acc: 0.7334 - top5-acc: 0.9842 - val_loss: 0.8491 - val_acc: 0.7264 - val_top5-acc: 0.9814 - lr: 0.0050\n",
      "Epoch 40/50\n",
      "88/88 [==============================] - 20s 233ms/step - loss: 12.2417 - acc: 0.5122 - top5-acc: 0.8489 - val_loss: 11.4520 - val_acc: 0.2786 - val_top5-acc: 0.6532 - lr: 0.0050\n",
      "Epoch 41/50\n",
      "88/88 [==============================] - 20s 233ms/step - loss: 3.6717 - acc: 0.4148 - top5-acc: 0.8592 - val_loss: 1.1719 - val_acc: 0.5912 - val_top5-acc: 0.9596 - lr: 0.0050\n",
      "Epoch 42/50\n",
      "88/88 [==============================] - 20s 233ms/step - loss: 1.1949 - acc: 0.5781 - top5-acc: 0.9507 - val_loss: 1.0605 - val_acc: 0.6312 - val_top5-acc: 0.9664 - lr: 0.0025\n",
      "Epoch 43/50\n",
      "88/88 [==============================] - 21s 233ms/step - loss: 1.1021 - acc: 0.6115 - top5-acc: 0.9584 - val_loss: 0.9959 - val_acc: 0.6508 - val_top5-acc: 0.9714 - lr: 0.0025\n",
      "Epoch 44/50\n"
     ]
    },
    {
     "name": "stdout",
     "output_type": "stream",
     "text": [
      "88/88 [==============================] - 20s 233ms/step - loss: 1.0313 - acc: 0.6354 - top5-acc: 0.9647 - val_loss: 0.9424 - val_acc: 0.6706 - val_top5-acc: 0.9742 - lr: 0.0025\n",
      "Epoch 45/50\n",
      "88/88 [==============================] - 20s 232ms/step - loss: 0.9713 - acc: 0.6578 - top5-acc: 0.9695 - val_loss: 0.8940 - val_acc: 0.6854 - val_top5-acc: 0.9748 - lr: 0.0025\n",
      "Epoch 46/50\n",
      "88/88 [==============================] - 20s 231ms/step - loss: 0.9223 - acc: 0.6744 - top5-acc: 0.9739 - val_loss: 0.8872 - val_acc: 0.6932 - val_top5-acc: 0.9754 - lr: 0.0025\n",
      "Epoch 47/50\n",
      "88/88 [==============================] - 20s 232ms/step - loss: 0.8904 - acc: 0.6860 - top5-acc: 0.9745 - val_loss: 0.8711 - val_acc: 0.6964 - val_top5-acc: 0.9766 - lr: 0.0012\n",
      "Epoch 48/50\n",
      "88/88 [==============================] - 20s 231ms/step - loss: 0.8729 - acc: 0.6925 - top5-acc: 0.9755 - val_loss: 0.8469 - val_acc: 0.7096 - val_top5-acc: 0.9784 - lr: 0.0012\n",
      "Epoch 49/50\n",
      "88/88 [==============================] - 20s 231ms/step - loss: 0.8518 - acc: 0.7006 - top5-acc: 0.9768 - val_loss: 0.8330 - val_acc: 0.7120 - val_top5-acc: 0.9800 - lr: 0.0012\n",
      "Epoch 50/50\n",
      "88/88 [==============================] - 20s 232ms/step - loss: 0.8333 - acc: 0.7053 - top5-acc: 0.9787 - val_loss: 0.8221 - val_acc: 0.7146 - val_top5-acc: 0.9804 - lr: 0.0012\n",
      "313/313 [==============================] - 15s 47ms/step - loss: 0.8401 - acc: 0.7091 - top5-acc: 0.9778\n",
      "Test accuracy: 70.91%\n",
      "Test top 5 accuracy: 97.78%\n"
     ]
    },
    {
     "name": "stderr",
     "output_type": "stream",
     "text": [
      "WARNING:absl:Found untraced functions such as layer_normalization_12_layer_call_fn, layer_normalization_12_layer_call_and_return_conditional_losses, layer_normalization_13_layer_call_fn, layer_normalization_13_layer_call_and_return_conditional_losses, layer_normalization_14_layer_call_fn while saving (showing 5 of 24). These functions will not be directly callable after loading.\n"
     ]
    },
    {
     "name": "stdout",
     "output_type": "stream",
     "text": [
      "INFO:tensorflow:Assets written to: Results_Article/3A/mlpmixer_CF10_2\\assets\n"
     ]
    },
    {
     "name": "stderr",
     "output_type": "stream",
     "text": [
      "INFO:tensorflow:Assets written to: Results_Article/3A/mlpmixer_CF10_2\\assets\n"
     ]
    }
   ],
   "source": [
    "for k in range(2):\n",
    "    mlpmixer_blocks = keras.Sequential(\n",
    "    [MLPMixerLayer(num_patches, embedding_dim, dropout_rate) for _ in range(num_blocks)] # creates the number of block without a \n",
    "    )\n",
    "    mlpmixer_classifier = build_classifier(mlpmixer_blocks,embedding_dim) # Returns the model\n",
    "    history,accuracy,top_5_accuracy = run_experiment(mlpmixer_classifier)\n",
    "    #Saving Results\n",
    "    #pwd = 'Results_Article/3A/mlpmixer_' + str(date) + '_CF10_' + str(k+1)\n",
    "    pwd = 'Results_Article/3A/mlpmixer_CF10_' + str(k+1)\n",
    "    mlpmixer_classifier.save(pwd)\n",
    "    np.save( pwd + '/history.npy',history.history)\n",
    "    with open(pwd + '/accuracy.pkl','wb') as file:\n",
    "        pickle.dump(accuracy,file)\n",
    "    with open(pwd + '/top5-accuracy.pkl','wb') as file:\n",
    "        pickle.dump(top_5_accuracy,file)"
   ]
  },
  {
   "cell_type": "markdown",
   "metadata": {},
   "source": [
    "Trained with CIFAR 100"
   ]
  },
  {
   "cell_type": "code",
   "execution_count": 20,
   "metadata": {},
   "outputs": [],
   "source": [
    "#Dataset for training \n",
    "num_classes = 100\n",
    "input_shape = (32, 32, 3)\n",
    "(x_train, y_train), (x_test, y_test) = keras.datasets.cifar100.load_data()"
   ]
  },
  {
   "cell_type": "code",
   "execution_count": 21,
   "metadata": {},
   "outputs": [
    {
     "name": "stdout",
     "output_type": "stream",
     "text": [
      "Epoch 1/50\n",
      "88/88 [==============================] - 29s 245ms/step - loss: 5.8978 - acc: 0.0525 - top5-acc: 0.1735 - val_loss: 4.1339 - val_acc: 0.1000 - val_top5-acc: 0.2756 - lr: 0.0050\n",
      "Epoch 2/50\n",
      "88/88 [==============================] - 20s 232ms/step - loss: 3.7259 - acc: 0.1278 - top5-acc: 0.3563 - val_loss: 3.5849 - val_acc: 0.1770 - val_top5-acc: 0.4230 - lr: 0.0050\n",
      "Epoch 3/50\n",
      "88/88 [==============================] - 20s 232ms/step - loss: 3.4363 - acc: 0.1806 - top5-acc: 0.4406 - val_loss: 3.2814 - val_acc: 0.2172 - val_top5-acc: 0.4938 - lr: 0.0050\n",
      "Epoch 4/50\n",
      "88/88 [==============================] - 20s 232ms/step - loss: 3.2665 - acc: 0.2095 - top5-acc: 0.4890 - val_loss: 3.2502 - val_acc: 0.2258 - val_top5-acc: 0.5156 - lr: 0.0050\n",
      "Epoch 5/50\n",
      "88/88 [==============================] - 20s 232ms/step - loss: 3.1360 - acc: 0.2332 - top5-acc: 0.5240 - val_loss: 3.0083 - val_acc: 0.2778 - val_top5-acc: 0.5632 - lr: 0.0050\n",
      "Epoch 6/50\n",
      "88/88 [==============================] - 21s 233ms/step - loss: 3.0284 - acc: 0.2520 - top5-acc: 0.5529 - val_loss: 3.0077 - val_acc: 0.2768 - val_top5-acc: 0.5708 - lr: 0.0050\n",
      "Epoch 7/50\n",
      "88/88 [==============================] - 20s 233ms/step - loss: 2.9308 - acc: 0.2731 - top5-acc: 0.5743 - val_loss: 2.8614 - val_acc: 0.2942 - val_top5-acc: 0.6012 - lr: 0.0050\n",
      "Epoch 8/50\n",
      "88/88 [==============================] - 20s 232ms/step - loss: 2.8385 - acc: 0.2926 - top5-acc: 0.5987 - val_loss: 2.7978 - val_acc: 0.3136 - val_top5-acc: 0.6242 - lr: 0.0050\n",
      "Epoch 9/50\n",
      "88/88 [==============================] - 20s 232ms/step - loss: 2.7858 - acc: 0.3038 - top5-acc: 0.6110 - val_loss: 2.7716 - val_acc: 0.3114 - val_top5-acc: 0.6262 - lr: 0.0050\n",
      "Epoch 10/50\n",
      "88/88 [==============================] - 20s 232ms/step - loss: 2.7179 - acc: 0.3155 - top5-acc: 0.6256 - val_loss: 2.7082 - val_acc: 0.3262 - val_top5-acc: 0.6440 - lr: 0.0050\n",
      "Epoch 11/50\n",
      "88/88 [==============================] - 20s 232ms/step - loss: 2.6739 - acc: 0.3233 - top5-acc: 0.6377 - val_loss: 2.6378 - val_acc: 0.3280 - val_top5-acc: 0.6562 - lr: 0.0050\n",
      "Epoch 12/50\n",
      "88/88 [==============================] - 20s 233ms/step - loss: 2.6131 - acc: 0.3371 - top5-acc: 0.6510 - val_loss: 2.5749 - val_acc: 0.3522 - val_top5-acc: 0.6672 - lr: 0.0050\n",
      "Epoch 13/50\n",
      "88/88 [==============================] - 20s 232ms/step - loss: 2.5848 - acc: 0.3441 - top5-acc: 0.6546 - val_loss: 2.5940 - val_acc: 0.3520 - val_top5-acc: 0.6620 - lr: 0.0050\n",
      "Epoch 14/50\n",
      "88/88 [==============================] - 20s 232ms/step - loss: 2.5426 - acc: 0.3521 - top5-acc: 0.6652 - val_loss: 2.6481 - val_acc: 0.3488 - val_top5-acc: 0.6552 - lr: 0.0050\n",
      "Epoch 15/50\n",
      "88/88 [==============================] - 20s 232ms/step - loss: 2.4918 - acc: 0.3609 - top5-acc: 0.6747 - val_loss: 2.5151 - val_acc: 0.3712 - val_top5-acc: 0.6880 - lr: 0.0050\n",
      "Epoch 16/50\n",
      "88/88 [==============================] - 20s 232ms/step - loss: 2.4635 - acc: 0.3680 - top5-acc: 0.6811 - val_loss: 2.4544 - val_acc: 0.3738 - val_top5-acc: 0.6866 - lr: 0.0050\n",
      "Epoch 17/50\n",
      "88/88 [==============================] - 20s 232ms/step - loss: 2.4538 - acc: 0.3682 - top5-acc: 0.6876 - val_loss: 2.4616 - val_acc: 0.3804 - val_top5-acc: 0.6944 - lr: 0.0050\n",
      "Epoch 18/50\n",
      "88/88 [==============================] - 21s 233ms/step - loss: 2.3978 - acc: 0.3817 - top5-acc: 0.6983 - val_loss: 2.4021 - val_acc: 0.3954 - val_top5-acc: 0.6996 - lr: 0.0050\n",
      "Epoch 19/50\n",
      "88/88 [==============================] - 20s 233ms/step - loss: 2.3883 - acc: 0.3858 - top5-acc: 0.7005 - val_loss: 2.3861 - val_acc: 0.3932 - val_top5-acc: 0.7120 - lr: 0.0050\n",
      "Epoch 20/50\n",
      "88/88 [==============================] - 20s 232ms/step - loss: 2.3475 - acc: 0.3932 - top5-acc: 0.7096 - val_loss: 2.4133 - val_acc: 0.3924 - val_top5-acc: 0.6980 - lr: 0.0050\n",
      "Epoch 21/50\n",
      "88/88 [==============================] - 20s 232ms/step - loss: 2.3345 - acc: 0.3961 - top5-acc: 0.7125 - val_loss: 2.4079 - val_acc: 0.3988 - val_top5-acc: 0.7084 - lr: 0.0050\n",
      "Epoch 22/50\n",
      "88/88 [==============================] - 20s 233ms/step - loss: 2.3168 - acc: 0.3997 - top5-acc: 0.7172 - val_loss: 2.3739 - val_acc: 0.3936 - val_top5-acc: 0.7116 - lr: 0.0050\n",
      "Epoch 23/50\n",
      "88/88 [==============================] - 21s 233ms/step - loss: 2.2764 - acc: 0.4046 - top5-acc: 0.7229 - val_loss: 2.3964 - val_acc: 0.4054 - val_top5-acc: 0.7062 - lr: 0.0050\n",
      "Epoch 24/50\n",
      "88/88 [==============================] - 21s 233ms/step - loss: 2.2353 - acc: 0.4151 - top5-acc: 0.7324 - val_loss: 2.3645 - val_acc: 0.4084 - val_top5-acc: 0.7230 - lr: 0.0050\n",
      "Epoch 25/50\n",
      "88/88 [==============================] - 20s 232ms/step - loss: 10.3033 - acc: 0.2224 - top5-acc: 0.4644 - val_loss: 3.4180 - val_acc: 0.2898 - val_top5-acc: 0.5794 - lr: 0.0050\n",
      "Epoch 26/50\n",
      "88/88 [==============================] - 20s 232ms/step - loss: 2.5498 - acc: 0.3599 - top5-acc: 0.6714 - val_loss: 2.3708 - val_acc: 0.4056 - val_top5-acc: 0.7172 - lr: 0.0050\n",
      "Epoch 27/50\n",
      "88/88 [==============================] - 20s 232ms/step - loss: 2.2295 - acc: 0.4164 - top5-acc: 0.7318 - val_loss: 2.2781 - val_acc: 0.4290 - val_top5-acc: 0.7316 - lr: 0.0050\n",
      "Epoch 28/50\n",
      "88/88 [==============================] - 20s 232ms/step - loss: 2.1066 - acc: 0.4475 - top5-acc: 0.7539 - val_loss: 2.2329 - val_acc: 0.4360 - val_top5-acc: 0.7362 - lr: 0.0050\n",
      "Epoch 29/50\n",
      "88/88 [==============================] - 20s 232ms/step - loss: 2.0332 - acc: 0.4584 - top5-acc: 0.7686 - val_loss: 2.2026 - val_acc: 0.4436 - val_top5-acc: 0.7476 - lr: 0.0050\n",
      "Epoch 30/50\n",
      "88/88 [==============================] - 20s 232ms/step - loss: 2.0021 - acc: 0.4691 - top5-acc: 0.7734 - val_loss: 2.1604 - val_acc: 0.4514 - val_top5-acc: 0.7514 - lr: 0.0050\n",
      "Epoch 31/50\n",
      "88/88 [==============================] - 20s 232ms/step - loss: 1.9635 - acc: 0.4738 - top5-acc: 0.7818 - val_loss: 2.1427 - val_acc: 0.4548 - val_top5-acc: 0.7600 - lr: 0.0050\n",
      "Epoch 32/50\n",
      "88/88 [==============================] - 20s 232ms/step - loss: 1.9292 - acc: 0.4805 - top5-acc: 0.7891 - val_loss: 2.1649 - val_acc: 0.4494 - val_top5-acc: 0.7584 - lr: 0.0050\n",
      "Epoch 33/50\n",
      "88/88 [==============================] - 20s 232ms/step - loss: 1.9311 - acc: 0.4838 - top5-acc: 0.7880 - val_loss: 2.1502 - val_acc: 0.4516 - val_top5-acc: 0.7554 - lr: 0.0050\n",
      "Epoch 34/50\n",
      "88/88 [==============================] - 20s 232ms/step - loss: 1.9030 - acc: 0.4879 - top5-acc: 0.7945 - val_loss: 2.1584 - val_acc: 0.4474 - val_top5-acc: 0.7552 - lr: 0.0050\n",
      "Epoch 35/50\n",
      "88/88 [==============================] - 20s 232ms/step - loss: 1.8906 - acc: 0.4923 - top5-acc: 0.7944 - val_loss: 2.1396 - val_acc: 0.4530 - val_top5-acc: 0.7550 - lr: 0.0050\n",
      "Epoch 36/50\n",
      "88/88 [==============================] - 20s 233ms/step - loss: 1.8619 - acc: 0.4971 - top5-acc: 0.7981 - val_loss: 2.1240 - val_acc: 0.4648 - val_top5-acc: 0.7634 - lr: 0.0050\n",
      "Epoch 37/50\n",
      "88/88 [==============================] - 20s 232ms/step - loss: 1.8773 - acc: 0.4918 - top5-acc: 0.7977 - val_loss: 2.1751 - val_acc: 0.4522 - val_top5-acc: 0.7528 - lr: 0.0050\n",
      "Epoch 38/50\n",
      "88/88 [==============================] - 20s 232ms/step - loss: 1.8594 - acc: 0.4968 - top5-acc: 0.8017 - val_loss: 2.1644 - val_acc: 0.4578 - val_top5-acc: 0.7612 - lr: 0.0050\n",
      "Epoch 39/50\n",
      "88/88 [==============================] - 20s 232ms/step - loss: 1.8420 - acc: 0.5006 - top5-acc: 0.8044 - val_loss: 2.1205 - val_acc: 0.4658 - val_top5-acc: 0.7714 - lr: 0.0050\n",
      "Epoch 40/50\n",
      "88/88 [==============================] - 20s 232ms/step - loss: 1.8273 - acc: 0.5048 - top5-acc: 0.8068 - val_loss: 2.1021 - val_acc: 0.4660 - val_top5-acc: 0.7650 - lr: 0.0050\n",
      "Epoch 41/50\n",
      "88/88 [==============================] - 20s 232ms/step - loss: 1.8367 - acc: 0.5003 - top5-acc: 0.8074 - val_loss: 2.1911 - val_acc: 0.4588 - val_top5-acc: 0.7548 - lr: 0.0050\n",
      "Epoch 42/50\n",
      "88/88 [==============================] - 20s 232ms/step - loss: 1.8212 - acc: 0.5036 - top5-acc: 0.8091 - val_loss: 2.1452 - val_acc: 0.4584 - val_top5-acc: 0.7640 - lr: 0.0050\n",
      "Epoch 43/50\n",
      "88/88 [==============================] - 20s 233ms/step - loss: 1.8115 - acc: 0.5067 - top5-acc: 0.8101 - val_loss: 2.1828 - val_acc: 0.4480 - val_top5-acc: 0.7628 - lr: 0.0050\n",
      "Epoch 44/50\n"
     ]
    },
    {
     "name": "stdout",
     "output_type": "stream",
     "text": [
      "88/88 [==============================] - 20s 232ms/step - loss: 1.8178 - acc: 0.5064 - top5-acc: 0.8112 - val_loss: 2.1940 - val_acc: 0.4554 - val_top5-acc: 0.7596 - lr: 0.0050\n",
      "Epoch 45/50\n",
      "88/88 [==============================] - 20s 231ms/step - loss: 1.8030 - acc: 0.5076 - top5-acc: 0.8149 - val_loss: 2.1243 - val_acc: 0.4674 - val_top5-acc: 0.7666 - lr: 0.0050\n",
      "Epoch 46/50\n",
      "88/88 [==============================] - 20s 232ms/step - loss: 1.6316 - acc: 0.5497 - top5-acc: 0.8391 - val_loss: 2.0414 - val_acc: 0.4878 - val_top5-acc: 0.7824 - lr: 0.0025\n",
      "Epoch 47/50\n",
      "88/88 [==============================] - 20s 232ms/step - loss: 1.5887 - acc: 0.5574 - top5-acc: 0.8473 - val_loss: 2.0375 - val_acc: 0.4798 - val_top5-acc: 0.7810 - lr: 0.0025\n",
      "Epoch 48/50\n",
      "88/88 [==============================] - 20s 232ms/step - loss: 1.5706 - acc: 0.5612 - top5-acc: 0.8509 - val_loss: 2.0713 - val_acc: 0.4856 - val_top5-acc: 0.7770 - lr: 0.0025\n",
      "Epoch 49/50\n",
      "88/88 [==============================] - 20s 232ms/step - loss: 1.5458 - acc: 0.5680 - top5-acc: 0.8536 - val_loss: 2.0648 - val_acc: 0.4850 - val_top5-acc: 0.7846 - lr: 0.0025\n",
      "Epoch 50/50\n",
      "88/88 [==============================] - 20s 232ms/step - loss: 1.5372 - acc: 0.5741 - top5-acc: 0.8556 - val_loss: 2.0345 - val_acc: 0.4918 - val_top5-acc: 0.7802 - lr: 0.0025\n",
      "313/313 [==============================] - 15s 48ms/step - loss: 1.9821 - acc: 0.5014 - top5-acc: 0.7881\n",
      "Test accuracy: 50.14%\n",
      "Test top 5 accuracy: 78.81%\n"
     ]
    },
    {
     "name": "stderr",
     "output_type": "stream",
     "text": [
      "WARNING:absl:Found untraced functions such as layer_normalization_24_layer_call_fn, layer_normalization_24_layer_call_and_return_conditional_losses, layer_normalization_25_layer_call_fn, layer_normalization_25_layer_call_and_return_conditional_losses, layer_normalization_26_layer_call_fn while saving (showing 5 of 24). These functions will not be directly callable after loading.\n"
     ]
    },
    {
     "name": "stdout",
     "output_type": "stream",
     "text": [
      "INFO:tensorflow:Assets written to: Results_Article/3A/mlpmixer_CF100_1\\assets\n"
     ]
    },
    {
     "name": "stderr",
     "output_type": "stream",
     "text": [
      "INFO:tensorflow:Assets written to: Results_Article/3A/mlpmixer_CF100_1\\assets\n"
     ]
    },
    {
     "name": "stdout",
     "output_type": "stream",
     "text": [
      "Epoch 1/50\n",
      "88/88 [==============================] - 29s 244ms/step - loss: 5.8102 - acc: 0.0492 - top5-acc: 0.1748 - val_loss: 4.1710 - val_acc: 0.0894 - val_top5-acc: 0.2924 - lr: 0.0050\n",
      "Epoch 2/50\n",
      "88/88 [==============================] - 20s 232ms/step - loss: 3.7196 - acc: 0.1306 - top5-acc: 0.3597 - val_loss: 3.6789 - val_acc: 0.1656 - val_top5-acc: 0.4002 - lr: 0.0050\n",
      "Epoch 3/50\n",
      "88/88 [==============================] - 20s 232ms/step - loss: 3.4151 - acc: 0.1810 - top5-acc: 0.4476 - val_loss: 3.2782 - val_acc: 0.2206 - val_top5-acc: 0.4924 - lr: 0.0050\n",
      "Epoch 4/50\n",
      "88/88 [==============================] - 20s 232ms/step - loss: 3.2606 - acc: 0.2079 - top5-acc: 0.4919 - val_loss: 3.2293 - val_acc: 0.2394 - val_top5-acc: 0.5224 - lr: 0.0050\n",
      "Epoch 5/50\n",
      "88/88 [==============================] - 20s 232ms/step - loss: 3.0992 - acc: 0.2390 - top5-acc: 0.5336 - val_loss: 3.1670 - val_acc: 0.2442 - val_top5-acc: 0.5484 - lr: 0.0050\n",
      "Epoch 6/50\n",
      "88/88 [==============================] - 20s 232ms/step - loss: 3.0086 - acc: 0.2577 - top5-acc: 0.5569 - val_loss: 2.9952 - val_acc: 0.2760 - val_top5-acc: 0.5716 - lr: 0.0050\n",
      "Epoch 7/50\n",
      "88/88 [==============================] - 20s 232ms/step - loss: 2.8951 - acc: 0.2800 - top5-acc: 0.5845 - val_loss: 2.8395 - val_acc: 0.2928 - val_top5-acc: 0.6086 - lr: 0.0050\n",
      "Epoch 8/50\n",
      "88/88 [==============================] - 20s 232ms/step - loss: 2.8151 - acc: 0.2959 - top5-acc: 0.6062 - val_loss: 2.7511 - val_acc: 0.3166 - val_top5-acc: 0.6256 - lr: 0.0050\n",
      "Epoch 9/50\n",
      "88/88 [==============================] - 20s 232ms/step - loss: 2.7524 - acc: 0.3068 - top5-acc: 0.6196 - val_loss: 2.8198 - val_acc: 0.2994 - val_top5-acc: 0.6124 - lr: 0.0050\n",
      "Epoch 10/50\n",
      "88/88 [==============================] - 20s 232ms/step - loss: 2.6867 - acc: 0.3230 - top5-acc: 0.6336 - val_loss: 2.6776 - val_acc: 0.3296 - val_top5-acc: 0.6416 - lr: 0.0050\n",
      "Epoch 11/50\n",
      "88/88 [==============================] - 20s 232ms/step - loss: 2.6370 - acc: 0.3326 - top5-acc: 0.6460 - val_loss: 2.6178 - val_acc: 0.3448 - val_top5-acc: 0.6584 - lr: 0.0050\n",
      "Epoch 12/50\n",
      "88/88 [==============================] - 20s 232ms/step - loss: 2.5885 - acc: 0.3415 - top5-acc: 0.6555 - val_loss: 2.5932 - val_acc: 0.3478 - val_top5-acc: 0.6588 - lr: 0.0050\n",
      "Epoch 13/50\n",
      "88/88 [==============================] - 20s 233ms/step - loss: 2.5924 - acc: 0.3423 - top5-acc: 0.6573 - val_loss: 2.5442 - val_acc: 0.3566 - val_top5-acc: 0.6666 - lr: 0.0050\n",
      "Epoch 14/50\n",
      "88/88 [==============================] - 20s 232ms/step - loss: 2.5588 - acc: 0.3495 - top5-acc: 0.6626 - val_loss: 2.5194 - val_acc: 0.3658 - val_top5-acc: 0.6810 - lr: 0.0050\n",
      "Epoch 15/50\n",
      "88/88 [==============================] - 20s 232ms/step - loss: 2.4961 - acc: 0.3629 - top5-acc: 0.6765 - val_loss: 2.5018 - val_acc: 0.3654 - val_top5-acc: 0.6774 - lr: 0.0050\n",
      "Epoch 16/50\n",
      "88/88 [==============================] - 20s 232ms/step - loss: 2.4542 - acc: 0.3681 - top5-acc: 0.6858 - val_loss: 2.4759 - val_acc: 0.3742 - val_top5-acc: 0.6842 - lr: 0.0050\n",
      "Epoch 17/50\n",
      "88/88 [==============================] - 20s 231ms/step - loss: 2.4499 - acc: 0.3721 - top5-acc: 0.6869 - val_loss: 2.4119 - val_acc: 0.3848 - val_top5-acc: 0.7092 - lr: 0.0050\n",
      "Epoch 18/50\n",
      "88/88 [==============================] - 20s 232ms/step - loss: 2.3719 - acc: 0.3868 - top5-acc: 0.7027 - val_loss: 2.3947 - val_acc: 0.3890 - val_top5-acc: 0.7070 - lr: 0.0050\n",
      "Epoch 19/50\n",
      "88/88 [==============================] - 20s 232ms/step - loss: 11.2833 - acc: 0.2873 - top5-acc: 0.5519 - val_loss: 27.7968 - val_acc: 0.0556 - val_top5-acc: 0.1848 - lr: 0.0050\n",
      "Epoch 20/50\n",
      "88/88 [==============================] - 20s 232ms/step - loss: 7.6530 - acc: 0.1830 - top5-acc: 0.4210 - val_loss: 2.8140 - val_acc: 0.3128 - val_top5-acc: 0.6174 - lr: 0.0050\n",
      "Epoch 21/50\n",
      "88/88 [==============================] - 20s 232ms/step - loss: 2.6802 - acc: 0.3261 - top5-acc: 0.6374 - val_loss: 2.5780 - val_acc: 0.3666 - val_top5-acc: 0.6676 - lr: 0.0050\n",
      "Epoch 22/50\n",
      "88/88 [==============================] - 20s 232ms/step - loss: 2.4744 - acc: 0.3654 - top5-acc: 0.6811 - val_loss: 2.4649 - val_acc: 0.3816 - val_top5-acc: 0.6900 - lr: 0.0050\n",
      "Epoch 23/50\n",
      "88/88 [==============================] - 20s 233ms/step - loss: 2.3754 - acc: 0.3875 - top5-acc: 0.7018 - val_loss: 2.3705 - val_acc: 0.4050 - val_top5-acc: 0.7006 - lr: 0.0050\n",
      "Epoch 24/50\n",
      "88/88 [==============================] - 20s 232ms/step - loss: 2.2909 - acc: 0.4039 - top5-acc: 0.7180 - val_loss: 2.3370 - val_acc: 0.4096 - val_top5-acc: 0.7092 - lr: 0.0050\n",
      "Epoch 25/50\n",
      "88/88 [==============================] - 20s 232ms/step - loss: 2.2368 - acc: 0.4152 - top5-acc: 0.7295 - val_loss: 2.3141 - val_acc: 0.4134 - val_top5-acc: 0.7210 - lr: 0.0050\n",
      "Epoch 26/50\n",
      "88/88 [==============================] - 20s 232ms/step - loss: 2.1790 - acc: 0.4286 - top5-acc: 0.7399 - val_loss: 2.2702 - val_acc: 0.4244 - val_top5-acc: 0.7222 - lr: 0.0050\n",
      "Epoch 27/50\n",
      "88/88 [==============================] - 20s 232ms/step - loss: 2.1432 - acc: 0.4361 - top5-acc: 0.7475 - val_loss: 2.2590 - val_acc: 0.4250 - val_top5-acc: 0.7242 - lr: 0.0050\n",
      "Epoch 28/50\n",
      "88/88 [==============================] - 20s 233ms/step - loss: 2.1129 - acc: 0.4429 - top5-acc: 0.7526 - val_loss: 2.2661 - val_acc: 0.4284 - val_top5-acc: 0.7280 - lr: 0.0050\n",
      "Epoch 29/50\n",
      "88/88 [==============================] - 20s 232ms/step - loss: 2.0902 - acc: 0.4462 - top5-acc: 0.7572 - val_loss: 2.2347 - val_acc: 0.4368 - val_top5-acc: 0.7302 - lr: 0.0050\n",
      "Epoch 30/50\n",
      "88/88 [==============================] - 20s 233ms/step - loss: 2.0605 - acc: 0.4555 - top5-acc: 0.7630 - val_loss: 2.2571 - val_acc: 0.4314 - val_top5-acc: 0.7312 - lr: 0.0050\n",
      "Epoch 31/50\n",
      "88/88 [==============================] - 20s 233ms/step - loss: 2.0471 - acc: 0.4564 - top5-acc: 0.7659 - val_loss: 2.2090 - val_acc: 0.4384 - val_top5-acc: 0.7382 - lr: 0.0050\n",
      "Epoch 32/50\n",
      "88/88 [==============================] - 20s 232ms/step - loss: 2.0358 - acc: 0.4556 - top5-acc: 0.7690 - val_loss: 2.2010 - val_acc: 0.4386 - val_top5-acc: 0.7410 - lr: 0.0050\n",
      "Epoch 33/50\n",
      "88/88 [==============================] - 20s 232ms/step - loss: 1.9969 - acc: 0.4663 - top5-acc: 0.7773 - val_loss: 2.2345 - val_acc: 0.4360 - val_top5-acc: 0.7360 - lr: 0.0050\n",
      "Epoch 34/50\n",
      "88/88 [==============================] - 20s 233ms/step - loss: 1.9915 - acc: 0.4686 - top5-acc: 0.7776 - val_loss: 2.1889 - val_acc: 0.4476 - val_top5-acc: 0.7452 - lr: 0.0050\n",
      "Epoch 35/50\n",
      "88/88 [==============================] - 21s 233ms/step - loss: 1.9844 - acc: 0.4700 - top5-acc: 0.7797 - val_loss: 2.2066 - val_acc: 0.4438 - val_top5-acc: 0.7406 - lr: 0.0050\n",
      "Epoch 36/50\n",
      "88/88 [==============================] - 21s 233ms/step - loss: 1.9547 - acc: 0.4776 - top5-acc: 0.7814 - val_loss: 2.2166 - val_acc: 0.4416 - val_top5-acc: 0.7382 - lr: 0.0050\n",
      "Epoch 37/50\n",
      "88/88 [==============================] - 21s 234ms/step - loss: 1.9640 - acc: 0.4732 - top5-acc: 0.7815 - val_loss: 2.1912 - val_acc: 0.4478 - val_top5-acc: 0.7534 - lr: 0.0050\n",
      "Epoch 38/50\n",
      "88/88 [==============================] - 21s 233ms/step - loss: 1.9411 - acc: 0.4784 - top5-acc: 0.7836 - val_loss: 2.1793 - val_acc: 0.4452 - val_top5-acc: 0.7510 - lr: 0.0050\n",
      "Epoch 39/50\n",
      "88/88 [==============================] - 21s 234ms/step - loss: 1.9286 - acc: 0.4791 - top5-acc: 0.7907 - val_loss: 2.1675 - val_acc: 0.4476 - val_top5-acc: 0.7454 - lr: 0.0050\n",
      "Epoch 40/50\n",
      "88/88 [==============================] - 21s 233ms/step - loss: 1.9192 - acc: 0.4816 - top5-acc: 0.7933 - val_loss: 2.1823 - val_acc: 0.4488 - val_top5-acc: 0.7428 - lr: 0.0050\n",
      "Epoch 41/50\n",
      "88/88 [==============================] - 21s 233ms/step - loss: 1.9134 - acc: 0.4854 - top5-acc: 0.7907 - val_loss: 2.1821 - val_acc: 0.4526 - val_top5-acc: 0.7466 - lr: 0.0050\n",
      "Epoch 42/50\n",
      "88/88 [==============================] - 21s 234ms/step - loss: 1.9115 - acc: 0.4850 - top5-acc: 0.7916 - val_loss: 2.1639 - val_acc: 0.4562 - val_top5-acc: 0.7540 - lr: 0.0050\n",
      "Epoch 43/50\n",
      "88/88 [==============================] - 21s 233ms/step - loss: 1.8907 - acc: 0.4879 - top5-acc: 0.7956 - val_loss: 2.1656 - val_acc: 0.4464 - val_top5-acc: 0.7550 - lr: 0.0050\n",
      "Epoch 44/50\n"
     ]
    },
    {
     "name": "stdout",
     "output_type": "stream",
     "text": [
      "88/88 [==============================] - 20s 233ms/step - loss: 1.8903 - acc: 0.4901 - top5-acc: 0.7959 - val_loss: 2.1379 - val_acc: 0.4548 - val_top5-acc: 0.7482 - lr: 0.0050\n",
      "Epoch 45/50\n",
      "88/88 [==============================] - 20s 232ms/step - loss: 1.8997 - acc: 0.4881 - top5-acc: 0.7944 - val_loss: 2.1397 - val_acc: 0.4526 - val_top5-acc: 0.7590 - lr: 0.0050\n",
      "Epoch 46/50\n",
      "88/88 [==============================] - 20s 232ms/step - loss: 1.8944 - acc: 0.4908 - top5-acc: 0.7978 - val_loss: 2.1646 - val_acc: 0.4544 - val_top5-acc: 0.7586 - lr: 0.0050\n",
      "Epoch 47/50\n",
      "88/88 [==============================] - 20s 232ms/step - loss: 1.8939 - acc: 0.4912 - top5-acc: 0.7954 - val_loss: 2.2158 - val_acc: 0.4434 - val_top5-acc: 0.7450 - lr: 0.0050\n",
      "Epoch 48/50\n",
      "88/88 [==============================] - 20s 233ms/step - loss: 1.8637 - acc: 0.4958 - top5-acc: 0.8021 - val_loss: 2.1958 - val_acc: 0.4518 - val_top5-acc: 0.7472 - lr: 0.0050\n",
      "Epoch 49/50\n",
      "88/88 [==============================] - 20s 233ms/step - loss: 1.8431 - acc: 0.4995 - top5-acc: 0.8062 - val_loss: 2.2129 - val_acc: 0.4516 - val_top5-acc: 0.7492 - lr: 0.0050\n",
      "Epoch 50/50\n",
      "88/88 [==============================] - 20s 233ms/step - loss: 1.6646 - acc: 0.5444 - top5-acc: 0.8343 - val_loss: 2.0745 - val_acc: 0.4816 - val_top5-acc: 0.7702 - lr: 0.0025\n",
      "313/313 [==============================] - 15s 46ms/step - loss: 1.9920 - acc: 0.4888 - top5-acc: 0.7873\n",
      "Test accuracy: 48.88%\n",
      "Test top 5 accuracy: 78.73%\n"
     ]
    },
    {
     "name": "stderr",
     "output_type": "stream",
     "text": [
      "WARNING:absl:Found untraced functions such as layer_normalization_36_layer_call_fn, layer_normalization_36_layer_call_and_return_conditional_losses, layer_normalization_37_layer_call_fn, layer_normalization_37_layer_call_and_return_conditional_losses, layer_normalization_38_layer_call_fn while saving (showing 5 of 24). These functions will not be directly callable after loading.\n"
     ]
    },
    {
     "name": "stdout",
     "output_type": "stream",
     "text": [
      "INFO:tensorflow:Assets written to: Results_Article/3A/mlpmixer_CF100_2\\assets\n"
     ]
    },
    {
     "name": "stderr",
     "output_type": "stream",
     "text": [
      "INFO:tensorflow:Assets written to: Results_Article/3A/mlpmixer_CF100_2\\assets\n"
     ]
    }
   ],
   "source": [
    "for k in range(2):\n",
    "    mlpmixer_blocks = keras.Sequential(\n",
    "    [MLPMixerLayer(num_patches, embedding_dim, dropout_rate) for _ in range(num_blocks)] # creates the number of block without a \n",
    "    )\n",
    "    mlpmixer_classifier = build_classifier(mlpmixer_blocks,embedding_dim) # Returns the model\n",
    "    history,accuracy,top_5_accuracy = run_experiment(mlpmixer_classifier)\n",
    "    #Saving Results\n",
    "    pwd = 'Results_Article/3A/mlpmixer_CF100_' + str(k+1)\n",
    "    mlpmixer_classifier.save(pwd)\n",
    "    np.save( pwd + '/history.npy',history.history)\n",
    "    with open(pwd + '/accuracy.pkl','wb') as file:\n",
    "        pickle.dump(accuracy,file)\n",
    "    with open(pwd + '/top5-accuracy.pkl','wb') as file:\n",
    "        pickle.dump(top_5_accuracy,file)"
   ]
  },
  {
   "cell_type": "markdown",
   "metadata": {},
   "source": [
    "Untrained"
   ]
  },
  {
   "cell_type": "code",
   "execution_count": 22,
   "metadata": {},
   "outputs": [
    {
     "name": "stdout",
     "output_type": "stream",
     "text": [
      "WARNING:tensorflow:Compiled the loaded model, but the compiled metrics have yet to be built. `model.compile_metrics` will be empty until you train or evaluate the model.\n"
     ]
    },
    {
     "name": "stderr",
     "output_type": "stream",
     "text": [
      "WARNING:tensorflow:Compiled the loaded model, but the compiled metrics have yet to be built. `model.compile_metrics` will be empty until you train or evaluate the model.\n",
      "WARNING:absl:Found untraced functions such as layer_normalization_48_layer_call_fn, layer_normalization_48_layer_call_and_return_conditional_losses, layer_normalization_49_layer_call_fn, layer_normalization_49_layer_call_and_return_conditional_losses, layer_normalization_50_layer_call_fn while saving (showing 5 of 24). These functions will not be directly callable after loading.\n"
     ]
    },
    {
     "name": "stdout",
     "output_type": "stream",
     "text": [
      "INFO:tensorflow:Assets written to: Results_Article/3A/mlpmixer_Untrained\\assets\n"
     ]
    },
    {
     "name": "stderr",
     "output_type": "stream",
     "text": [
      "INFO:tensorflow:Assets written to: Results_Article/3A/mlpmixer_Untrained\\assets\n"
     ]
    }
   ],
   "source": [
    "mlpmixer_blocks = keras.Sequential(\n",
    "[MLPMixerLayer(num_patches, embedding_dim, dropout_rate) for _ in range(num_blocks)] # creates the number of block without a \n",
    ")\n",
    "mlpmixer_classifier = build_classifier(mlpmixer_blocks,embedding_dim) # Returns the model\n",
    "pwd = 'Results_Article/3A/mlpmixer_Untrained'\n",
    "mlpmixer_classifier.save(pwd)\n",
    "#np.save( pwd + '/history_' + str(date) +'.npy',history.history)\n",
    "#with open(pwd + '/accuracy.pkl','wb') as file:\n",
    "#    pickle.dump(accuracy,file)\n",
    "#with open(pwd + '/top5-accuracy.pkl','wb') as file:\n",
    "#    pickle.dump(top_5_accuracy,file)"
   ]
  },
  {
   "cell_type": "markdown",
   "metadata": {},
   "source": [
    "# Load the models"
   ]
  },
  {
   "cell_type": "markdown",
   "metadata": {},
   "source": [
    "Change the path below"
   ]
  },
  {
   "cell_type": "code",
   "execution_count": 23,
   "metadata": {},
   "outputs": [
    {
     "name": "stdout",
     "output_type": "stream",
     "text": [
      "WARNING:tensorflow:No training configuration found in save file, so the model was *not* compiled. Compile it manually.\n"
     ]
    },
    {
     "name": "stderr",
     "output_type": "stream",
     "text": [
      "WARNING:tensorflow:No training configuration found in save file, so the model was *not* compiled. Compile it manually.\n"
     ]
    }
   ],
   "source": [
    "path = 'Results_Article/3A/mlpmixer_'\n",
    "global_models = list()\n",
    "#Call the folder\n",
    "C10_mlpmixer_1 = tf.keras.models.load_model(path + 'CF10_1')\n",
    "global_models.append(C10_mlpmixer_1)\n",
    "C10_mlpmixer_2 = tf.keras.models.load_model(path + 'CF10_2')\n",
    "global_models.append(C10_mlpmixer_2)\n",
    "C100_mlpmixer_1 = tf.keras.models.load_model(path + 'CF100_1')\n",
    "global_models.append(C100_mlpmixer_1)\n",
    "C100_mlpmixer_2 = tf.keras.models.load_model(path + 'CF100_2')\n",
    "global_models.append(C100_mlpmixer_2)\n",
    "Unt_mlpmixer = tf.keras.models.load_model(path + 'Untrained')\n",
    "global_models.append(Unt_mlpmixer)"
   ]
  },
  {
   "cell_type": "code",
   "execution_count": 24,
   "metadata": {},
   "outputs": [
    {
     "data": {
      "text/plain": [
       "keras.engine.functional.Functional"
      ]
     },
     "execution_count": 24,
     "metadata": {},
     "output_type": "execute_result"
    }
   ],
   "source": [
    "type(C10_mlpmixer_1)"
   ]
  },
  {
   "cell_type": "markdown",
   "metadata": {},
   "source": [
    "## Intialization before testing"
   ]
  },
  {
   "cell_type": "code",
   "execution_count": 25,
   "metadata": {},
   "outputs": [],
   "source": [
    "def across_datasets(global_models,batch_prepro,type,sigma):\n",
    "    total_activations = list()\n",
    "    plot_raw = list()\n",
    "    plot_total = list()\n",
    "    for k in range(len(global_models)):\n",
    "        tested_model = global_models[k] \n",
    "        ave_mixer_activations = Prom_Mixer_Activations_Blocks(tested_model,batch_prepro)\n",
    "        total_activations.append(ave_mixer_activations)\n",
    "        \n",
    "    for pairs in set:\n",
    "        comp_1 = total_activations[pairs[0]]\n",
    "        comp_2 = total_activations[pairs[1]]\n",
    "        plot_raw = list()\n",
    "        for i in range(num_blocks):\n",
    "            if type == 'rbf':\n",
    "                inter_row = cka(gram_rbf(comp_1[i],sigma),gram_rbf(comp_2[i],sigma))\n",
    "            elif type == 'linear':\n",
    "                inter_row = cka(gram_linear(comp_1[i]),gram_linear(comp_2[i]))\n",
    "            plot_raw.append(inter_row)\n",
    "        plot_total.append(plot_raw)\n",
    "    return plot_total"
   ]
  },
  {
   "cell_type": "code",
   "execution_count": 26,
   "metadata": {},
   "outputs": [],
   "source": [
    "# The experiment on the paper is with the linear type!\n",
    "#######################################################\n",
    "\n",
    "sigma = None\n",
    "type = 'linear'\n",
    "\n",
    "#Pairs of models that are going to be compared according to the order in the matrix\n",
    "set = [[0,1],[2,3],[0,2],[0,4],[2,4]]\n",
    "label_set = ['CIFAR-10 Net vs. CIFAR-10 Net',\n",
    "            'CIFAR-100 Net vs. CIFAR-100 Net',\n",
    "            'CIFAR-10 Net vs. CIFAR-100 Net ',\n",
    "            'CIFAR-10 Net vs. Untrained',\n",
    "            'CIFAR-100 Net vs. Untrained']\n",
    "num_models_set = len(set)\n"
   ]
  },
  {
   "cell_type": "markdown",
   "metadata": {},
   "source": [
    "### Tested on CIFAR 10"
   ]
  },
  {
   "cell_type": "code",
   "execution_count": 27,
   "metadata": {},
   "outputs": [],
   "source": [
    "# Dataset for testing\n",
    "\n",
    "num_classes = 10\n",
    "input_shape = (32, 32, 3)\n",
    "(x_train, y_train), _ = keras.datasets.cifar10.load_data()"
   ]
  },
  {
   "cell_type": "code",
   "execution_count": 28,
   "metadata": {},
   "outputs": [],
   "source": [
    "#Run Once to Avoid Randomness after setting the testing dataset\n",
    "batch_prepro = Batch_Preprocessing(batch_size)"
   ]
  },
  {
   "cell_type": "code",
   "execution_count": 29,
   "metadata": {},
   "outputs": [
    {
     "name": "stdout",
     "output_type": "stream",
     "text": [
      "WARNING:tensorflow:5 out of the last 5 calls to <function Model.make_predict_function.<locals>.predict_function at 0x0000021F45167E50> triggered tf.function retracing. Tracing is expensive and the excessive number of tracings could be due to (1) creating @tf.function repeatedly in a loop, (2) passing tensors with different shapes, (3) passing Python objects instead of tensors. For (1), please define your @tf.function outside of the loop. For (2), @tf.function has experimental_relax_shapes=True option that relaxes argument shapes that can avoid unnecessary retracing. For (3), please refer to https://www.tensorflow.org/guide/function#controlling_retracing and https://www.tensorflow.org/api_docs/python/tf/function for  more details.\n"
     ]
    },
    {
     "name": "stderr",
     "output_type": "stream",
     "text": [
      "WARNING:tensorflow:5 out of the last 5 calls to <function Model.make_predict_function.<locals>.predict_function at 0x0000021F45167E50> triggered tf.function retracing. Tracing is expensive and the excessive number of tracings could be due to (1) creating @tf.function repeatedly in a loop, (2) passing tensors with different shapes, (3) passing Python objects instead of tensors. For (1), please define your @tf.function outside of the loop. For (2), @tf.function has experimental_relax_shapes=True option that relaxes argument shapes that can avoid unnecessary retracing. For (3), please refer to https://www.tensorflow.org/guide/function#controlling_retracing and https://www.tensorflow.org/api_docs/python/tf/function for  more details.\n"
     ]
    },
    {
     "name": "stdout",
     "output_type": "stream",
     "text": [
      "WARNING:tensorflow:6 out of the last 6 calls to <function Model.make_predict_function.<locals>.predict_function at 0x0000021F6C29A280> triggered tf.function retracing. Tracing is expensive and the excessive number of tracings could be due to (1) creating @tf.function repeatedly in a loop, (2) passing tensors with different shapes, (3) passing Python objects instead of tensors. For (1), please define your @tf.function outside of the loop. For (2), @tf.function has experimental_relax_shapes=True option that relaxes argument shapes that can avoid unnecessary retracing. For (3), please refer to https://www.tensorflow.org/guide/function#controlling_retracing and https://www.tensorflow.org/api_docs/python/tf/function for  more details.\n"
     ]
    },
    {
     "name": "stderr",
     "output_type": "stream",
     "text": [
      "WARNING:tensorflow:6 out of the last 6 calls to <function Model.make_predict_function.<locals>.predict_function at 0x0000021F6C29A280> triggered tf.function retracing. Tracing is expensive and the excessive number of tracings could be due to (1) creating @tf.function repeatedly in a loop, (2) passing tensors with different shapes, (3) passing Python objects instead of tensors. For (1), please define your @tf.function outside of the loop. For (2), @tf.function has experimental_relax_shapes=True option that relaxes argument shapes that can avoid unnecessary retracing. For (3), please refer to https://www.tensorflow.org/guide/function#controlling_retracing and https://www.tensorflow.org/api_docs/python/tf/function for  more details.\n"
     ]
    }
   ],
   "source": [
    "# The experiment on the paper is with the linear type\n",
    "plot_total_1 = across_datasets(global_models,batch_prepro,type,sigma)\n",
    "with open('Results_Article/3A/plot_total_C10.pkl','wb') as file:\n",
    "    pickle.dump(plot_total_1,file)"
   ]
  },
  {
   "cell_type": "markdown",
   "metadata": {},
   "source": [
    "### Tested on CIFAR 100"
   ]
  },
  {
   "cell_type": "code",
   "execution_count": 30,
   "metadata": {},
   "outputs": [],
   "source": [
    "# Dataset for testing\n",
    "\n",
    "num_classes = 100\n",
    "input_shape = (32, 32, 3)\n",
    "(x_train, y_train), _ = keras.datasets.cifar100.load_data()"
   ]
  },
  {
   "cell_type": "code",
   "execution_count": 31,
   "metadata": {},
   "outputs": [],
   "source": [
    "#Run Once to Avoid Randomness after setting the testing dataset\n",
    "batch_prepro = Batch_Preprocessing(batch_size)"
   ]
  },
  {
   "cell_type": "code",
   "execution_count": 32,
   "metadata": {},
   "outputs": [],
   "source": [
    "# The experiment on the paper is with the linear type\n",
    "plot_total_2 = across_datasets(global_models,batch_prepro,type,sigma)\n",
    "with open('Results_Article/3A/plot_total_C100.pkl','wb') as file:\n",
    "    pickle.dump(plot_total_2,file)"
   ]
  },
  {
   "cell_type": "markdown",
   "metadata": {},
   "source": [
    "### Tested on MNIST: (Appendix 6A)"
   ]
  },
  {
   "cell_type": "code",
   "execution_count": 33,
   "metadata": {},
   "outputs": [],
   "source": [
    "# Dataset for testing\n",
    "\n",
    "#num_classes = 10\n",
    "#input_shape = (28, 28)\n",
    "#(x_train, y_train), _ = keras.datasets.mnist.load_data()"
   ]
  },
  {
   "cell_type": "code",
   "execution_count": 34,
   "metadata": {},
   "outputs": [],
   "source": [
    "#Run Once to Avoid Randomness after setting the testing dataset\n",
    "#batch_prepro = Batch_Preprocessing(batch_size)"
   ]
  },
  {
   "cell_type": "code",
   "execution_count": 35,
   "metadata": {},
   "outputs": [],
   "source": [
    "#plot_total_3 = across_datasets(global_models,batch_prepro,type,sigma)\n",
    "#with open('Results_Article/6A/plot_total_MNIST.pkl','wb') as file:\n",
    "#    pickle.dump(plot_total_3,file)"
   ]
  },
  {
   "cell_type": "markdown",
   "metadata": {},
   "source": [
    "# EXPERIMENT 3: VERIFICATIONS (OPTIONAL)"
   ]
  },
  {
   "cell_type": "code",
   "execution_count": 36,
   "metadata": {},
   "outputs": [],
   "source": [
    "path = 'Results_Article/3A'\n",
    "with open(path + '/plot_total_C100.pkl','rb') as file:\n",
    "        tested_plot = pickle.load(file)"
   ]
  },
  {
   "cell_type": "code",
   "execution_count": 37,
   "metadata": {},
   "outputs": [
    {
     "data": {
      "image/png": "[encoded data removed]",
      "text/plain": [
       "<Figure size 432x288 with 1 Axes>"
      ]
     },
     "metadata": {
      "needs_background": "light"
     },
     "output_type": "display_data"
    }
   ],
   "source": [
    "name = '_tested_C100'\n",
    "######################################################\n",
    "x = list(range(1,num_blocks+1))\n",
    "for j in range(num_models_set):\n",
    "    plt.plot(x,tested_plot[j], label = label_set[j])\n",
    "plt.xlabel('Layer')\n",
    "plt.ylabel('CKA ('+ type +')')\n",
    "plt.locator_params(axis='x', nbins=num_blocks)\n",
    "plt.title('Similarity on CIFAR-100')\n",
    "plt.tight_layout()\n",
    "plt.legend()\n",
    "plt.savefig('Results_Article/3A/Similarity_'+ type + name +'.png') \n",
    "plt.show()"
   ]
  }
 ],
 "metadata": {
  "colab": {
   "collapsed_sections": [],
   "name": "mlp_image_classification",
   "provenance": [],
   "toc_visible": true
  },
  "kernelspec": {
   "display_name": "Python 3",
   "language": "python",
   "name": "python3"
  },
  "language_info": {
   "codemirror_mode": {
    "name": "ipython",
    "version": 3
   },
   "file_extension": ".py",
   "mimetype": "text/x-python",
   "name": "python",
   "nbconvert_exporter": "python",
   "pygments_lexer": "ipython3",
   "version": "3.8.8"
  }
 },
 "nbformat": 4,
 "nbformat_minor": 1
}
