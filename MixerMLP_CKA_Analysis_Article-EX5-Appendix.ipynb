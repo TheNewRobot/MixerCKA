{
 "cells": [
  {
   "cell_type": "markdown",
   "metadata": {
    "id": "-zSzgroG_Suq"
   },
   "source": [
    "# Study of Image classification with modern MLP Mixer model and CKA\n",
    "\n",
    "**Author:** [Arturo Flores](https://www.linkedin.com/in/afloresalv/)<br>\n",
    "**Based on (MLP-MIXER):**  https://keras.io/examples/vision/mlp_image_classification/"
   ]
  },
  {
   "cell_type": "markdown",
   "metadata": {
    "id": "U087DdDw_Suy"
   },
   "source": [
    "# Setup for the MLP-Mixer Architecture\n",
    "\n",
    "################################################################"
   ]
  },
  {
   "cell_type": "code",
   "execution_count": 1,
   "metadata": {
    "id": "AnTyoluw_Suz"
   },
   "outputs": [
    {
     "name": "stderr",
     "output_type": "stream",
     "text": [
      "D:\\Program_Files\\Anaconda3\\envs\\AI\\lib\\site-packages\\tensorflow_addons\\utils\\ensure_tf_install.py:67: UserWarning: Tensorflow Addons supports using Python ops for all Tensorflow versions above or equal to 2.5.0 and strictly below 2.8.0 (nightly versions are not supported). \n",
      " The versions of TensorFlow you are currently using is 2.8.0 and is not supported. \n",
      "Some things might work, some things might not.\n",
      "If you were to encounter a bug, do not file an issue.\n",
      "If you want to make sure you're using a tested and supported configuration, either change the TensorFlow version or the TensorFlow Addons's version. \n",
      "You can find the compatibility matrix in TensorFlow Addon's readme:\n",
      "https://github.com/tensorflow/addons\n",
      "  UserWarning,\n"
     ]
    }
   ],
   "source": [
    "import numpy as np\n",
    "import tensorflow as tf\n",
    "from tensorflow import keras\n",
    "from tensorflow.keras import layers\n",
    "import tensorflow_addons as tfa\n",
    "import matplotlib.pyplot as plt \n",
    "from scipy.stats import norm\n",
    "from matplotlib.ticker import FormatStrFormatter\n",
    "import datetime\n",
    "import pickle\n",
    "# Files imported from the sleected GitHub https://cka-similarity.github.io/\n",
    "from CKA_Google import *\n",
    "import seaborn as sns \n",
    "import random\n",
    "import matplotlib.pyplot as plt "
   ]
  },
  {
   "cell_type": "markdown",
   "metadata": {},
   "source": [
    "# Experiment 5 Appendix:"
   ]
  },
  {
   "cell_type": "markdown",
   "metadata": {
    "id": "8DAOrIHu_Su2"
   },
   "source": [
    "## Configure the hyperparameters"
   ]
  },
  {
   "cell_type": "code",
   "execution_count": 2,
   "metadata": {
    "id": "1iMiVS7o_Su3"
   },
   "outputs": [
    {
     "name": "stdout",
     "output_type": "stream",
     "text": [
      "Image size: 224 X 224 = 50176\n",
      "Patch size: 32 X 32 = 1024 \n",
      "Patches per image: 49\n",
      "Elements per patch (3 channels): 3072\n"
     ]
    }
   ],
   "source": [
    "weight_decay = 0.0001\n",
    "batch_size = 512 \n",
    "num_epochs = 50\n",
    "dropout_rate = 0.2\n",
    "learning_rate = 0.005\n",
    "\n",
    "## Selected Architecture: B/32\n",
    "\n",
    "image_size = 224  # We'll resize input images to this size. Square\n",
    "patch_size = 32  # Size of the patches to be extracted from the input images. Square\n",
    "num_patches = (image_size // patch_size) ** 2  # Size of the data array, or sequence length (S)\n",
    "embedding_dim = 384\n",
    "num_blocks = 12 # Fixed number of layers Dimension\n",
    "\n",
    "print(f\"Image size: {image_size} X {image_size} = {image_size ** 2}\")\n",
    "print(f\"Patch size: {patch_size} X {patch_size} = {patch_size ** 2} \")\n",
    "print(f\"Patches per image: {num_patches}\")\n",
    "print(f\"Elements per patch (3 channels): {(patch_size ** 2) * 3}\")\n",
    "\n",
    "now = datetime.datetime.now()\n",
    "date = now.strftime(\"%Y-%m-%d_%H-%M\")\n",
    "path = 'Results_Article/5Appendix/mlpmixer_independent'"
   ]
  },
  {
   "cell_type": "markdown",
   "metadata": {
    "id": "fUuu2OAS_Su0"
   },
   "source": [
    "## Prepare the data"
   ]
  },
  {
   "cell_type": "code",
   "execution_count": 3,
   "metadata": {},
   "outputs": [
    {
     "name": "stdout",
     "output_type": "stream",
     "text": [
      "x_train shape: (50000, 32, 32, 3) - y_train shape: (50000, 1)\n",
      "x_test shape: (10000, 32, 32, 3) - y_test shape: (10000, 1)\n"
     ]
    }
   ],
   "source": [
    "#Dataset for training \n",
    "\n",
    "num_classes = 10\n",
    "input_shape = (32, 32, 3)\n",
    "\n",
    "(x_train, y_train), (x_test, y_test) = keras.datasets.cifar10.load_data()\n",
    "\n",
    "print(f\"x_train shape: {x_train.shape} - y_train shape: {y_train.shape}\")\n",
    "print(f\"x_test shape: {x_test.shape} - y_test shape: {y_test.shape}\")\n",
    "#plt.imshow(x_train[1])"
   ]
  },
  {
   "cell_type": "markdown",
   "metadata": {
    "id": "08mpnEZH_Su5"
   },
   "source": [
    "## Build a classification model"
   ]
  },
  {
   "cell_type": "code",
   "execution_count": 4,
   "metadata": {
    "id": "Ra-bXojQ_Su6"
   },
   "outputs": [],
   "source": [
    "def build_classifier(blocks, embedding_dim, positional_encoding=False):\n",
    "    inputs = layers.Input(shape=input_shape)\n",
    "    # Augment data. \n",
    "    augmented = data_augmentation(inputs)\n",
    "    # Create patches. \n",
    "    patches = Patches(patch_size, num_patches)(augmented)\n",
    "    # Encode patches to generate a [batch_size, num_patches, embedding_dim] tensor.\n",
    "    x = layers.Dense(units=embedding_dim)(patches)\n",
    "    if positional_encoding:\n",
    "        positions = tf.range(start=0, limit=num_patches, delta=1)\n",
    "        position_embedding = layers.Embedding(\n",
    "            input_dim=num_patches, output_dim=embedding_dim\n",
    "        )(positions)\n",
    "        x = x + position_embedding\n",
    "    # Process x using the module blocks. ## (sequential_82)\n",
    "    x = blocks(x)\n",
    "    # Apply global average pooling to generate a [batch_size, embedding_dim] representation tensor. \n",
    "    representation = layers.GlobalAveragePooling1D()(x)\n",
    "    # Apply dropout.\n",
    "    representation = layers.Dropout(rate=dropout_rate)(representation)\n",
    "    # Compute logits outputs.\n",
    "    logits = layers.Dense(num_classes)(representation) \n",
    "    # Create the Keras model.\n",
    "    return keras.Model(inputs=inputs, outputs=logits)\n"
   ]
  },
  {
   "cell_type": "markdown",
   "metadata": {
    "id": "cpQFU8H__Su8"
   },
   "source": [
    "## Define an experiment"
   ]
  },
  {
   "cell_type": "code",
   "execution_count": 5,
   "metadata": {
    "id": "9E1zD2BY_Su8"
   },
   "outputs": [],
   "source": [
    "def run_experiment(model):\n",
    "    # Create Adam optimizer with weight decay. Regularization that penalizes the increase of weight - with a facto alpha - to correct the overfitting\n",
    "    optimizer = tfa.optimizers.AdamW(\n",
    "        learning_rate=learning_rate, weight_decay=weight_decay,\n",
    "    )\n",
    "    # Compile the model.\n",
    "    model.compile(\n",
    "        optimizer=optimizer,\n",
    "        #Negative Log Likelihood = Categorical Cross Entropy\n",
    "        loss=keras.losses.SparseCategoricalCrossentropy(from_logits=True),\n",
    "        metrics=[\n",
    "            keras.metrics.SparseCategoricalAccuracy(name=\"acc\"),\n",
    "            keras.metrics.SparseTopKCategoricalAccuracy(5, name=\"top5-acc\"),\n",
    "        ],\n",
    "    )\n",
    "    # Create a learning rate scheduler callback.\n",
    "    reduce_lr = keras.callbacks.ReduceLROnPlateau(\n",
    "        monitor=\"val_loss\", factor=0.5, patience=5\n",
    "    )\n",
    "    # Create an early stopping regularization callback. \n",
    "    # It ends at a point that corresponds to a minimum of the L2-regularized objective\n",
    "    #early_stopping = tf.keras.callbacks.EarlyStopping(\n",
    "    #    monitor=\"val_loss\", patience=10, restore_best_weights=True\n",
    "    #)\n",
    "    # Fit the model.\n",
    "    history = model.fit(\n",
    "        x=x_train,\n",
    "        y=y_train,\n",
    "        batch_size=batch_size,\n",
    "        epochs=num_epochs,\n",
    "        validation_split=0.1,\n",
    "        callbacks=[reduce_lr],\n",
    "    )\n",
    "\n",
    "    _, accuracy, top_5_accuracy = model.evaluate(x_test, y_test)\n",
    "    print(f\"Test accuracy: {round(accuracy * 100, 2)}%\")\n",
    "    print(f\"Test top 5 accuracy: {round(top_5_accuracy * 100, 2)}%\")\n",
    "\n",
    "    # Return history to plot learning curves.\n",
    "    return history, accuracy, top_5_accuracy"
   ]
  },
  {
   "cell_type": "markdown",
   "metadata": {
    "id": "JxeE0cmM_Su9"
   },
   "source": [
    "## Use data augmentation\n",
    "Their state is not set during training; it must be set before training, either by initializing them from a precomputed constant, or by \"adapting\" them on data."
   ]
  },
  {
   "cell_type": "code",
   "execution_count": 6,
   "metadata": {
    "id": "zh6hFPWX_Su-"
   },
   "outputs": [],
   "source": [
    "data_augmentation = keras.Sequential(\n",
    "    [\n",
    "        layers.Normalization(),\n",
    "        layers.Resizing(image_size, image_size),\n",
    "        layers.RandomFlip(\"horizontal\"),\n",
    "        layers.RandomZoom(\n",
    "            height_factor=0.2, width_factor=0.2\n",
    "        ),\n",
    "    ],\n",
    "    name=\"data_augmentation\",\n",
    ")\n",
    "# Compute the mean and the variance of the training data for normalization.\n",
    "data_augmentation.layers[0].adapt(x_train)\n"
   ]
  },
  {
   "cell_type": "markdown",
   "metadata": {
    "id": "G77cUgiu_Su-"
   },
   "source": [
    "## Implement patch extraction as a layer"
   ]
  },
  {
   "cell_type": "code",
   "execution_count": 7,
   "metadata": {
    "id": "RYKNktXe_Su_"
   },
   "outputs": [],
   "source": [
    "\n",
    "class Patches(layers.Layer):\n",
    "    def __init__(self, patch_size, num_patches):\n",
    "        super(Patches, self).__init__()\n",
    "        self.patch_size = patch_size\n",
    "        self.num_patches = num_patches\n",
    "\n",
    "    def call(self, images):\n",
    "        #Extract the shape dimension in the position 0 = columns\n",
    "        batch_size = tf.shape(images)[0]\n",
    "        patches = tf.image.extract_patches(\n",
    "            images=images,\n",
    "            sizes=[1, self.patch_size, self.patch_size, 1],\n",
    "            #Without overlapping, stride horizontally and vertically\n",
    "            strides=[1, self.patch_size, self.patch_size, 1],\n",
    "            #Rate: Dilation factor [1 1* 1* 1] controls the spacing between the kernel points.\n",
    "            rates=[1, 1, 1, 1],\n",
    "            #Patches contained in the images are considered, no zero padding\n",
    "            padding=\"VALID\",\n",
    "        )\n",
    "        #shape[-1], number of colummns, as well as shape[0]\n",
    "        patch_dims = patches.shape[-1]\n",
    "        patches = tf.reshape(patches, [batch_size, self.num_patches, patch_dims])\n",
    "        return patches\n",
    "\n",
    "    def get_config(self):\n",
    "        config = super(Patches, self).get_config().copy()\n",
    "        config.update ({\n",
    "            'patch_size' : self.patch_size ,\n",
    "            'num_patches' : self.num_patches\n",
    "        })\n",
    "        return config"
   ]
  },
  {
   "cell_type": "markdown",
   "metadata": {
    "id": "l7yehcSS_Su_"
   },
   "source": [
    "## The MLP-Mixer model\n",
    "\n",
    "The MLP-Mixer is an architecture based exclusively on\n",
    "multi-layer perceptrons (MLPs), that contains two types of MLP layers:\n",
    "\n",
    "1. One applied independently to image patches, which mixes the per-location features.\n",
    "2. The other applied across patches (along channels), which mixes spatial information.\n",
    "\n",
    "This is similar to a [depthwise separable convolution based model](https://arxiv.org/pdf/1610.02357.pdf)\n",
    "such as the Xception model, but with two chained dense transforms, no max pooling, and layer normalization\n",
    "instead of batch normalization."
   ]
  },
  {
   "cell_type": "markdown",
   "metadata": {
    "id": "vvwg4e2n_SvA"
   },
   "source": [
    "### Implement the MLP-Mixer module"
   ]
  },
  {
   "cell_type": "code",
   "execution_count": 8,
   "metadata": {
    "id": "dT6wVEki_SvA"
   },
   "outputs": [],
   "source": [
    "\n",
    "class MLPMixerLayer(layers.Layer):\n",
    "    def __init__(self, num_patches, embedding_dim, dropout_rate, *args, **kwargs):\n",
    "        super(MLPMixerLayer, self).__init__(*args, **kwargs)\n",
    "\n",
    "        self.mlp1 = keras.Sequential(\n",
    "            [\n",
    "                layers.Dense(units=num_patches),\n",
    "                tfa.layers.GELU(),\n",
    "                layers.Dense(units=num_patches),\n",
    "                layers.Dropout(rate=dropout_rate),\n",
    "            ]\n",
    "        )\n",
    "\n",
    "        self.mlp2 = keras.Sequential(\n",
    "            [\n",
    "                layers.Dense(units=num_patches),\n",
    "                tfa.layers.GELU(),\n",
    "                layers.Dense(units=embedding_dim),\n",
    "                layers.Dropout(rate=dropout_rate),\n",
    "            ]\n",
    "        )\n",
    "        self.normalize = layers.LayerNormalization(epsilon=1e-6)\n",
    "\n",
    "    def call(self, inputs):\n",
    "        # Apply layer normalization.\n",
    "        x = self.normalize(inputs)\n",
    "        # Transpose inputs from [num_batches, num_patches, hidden_units] to [num_batches, hidden_units, num_patches].\n",
    "        x_channels = tf.linalg.matrix_transpose(x)\n",
    "        # Apply mlp1 on each channel independently.\n",
    "        mlp1_outputs = self.mlp1(x_channels)\n",
    "        # Transpose mlp1_outputs from [num_batches, hidden_dim, num_patches] to [num_batches, num_patches, hidden_units].\n",
    "        mlp1_outputs = tf.linalg.matrix_transpose(mlp1_outputs)\n",
    "        # Add skip connection.\n",
    "        x = mlp1_outputs + inputs\n",
    "        # Apply layer normalization.\n",
    "        x_patches = self.normalize(x)\n",
    "        # Apply mlp2 on each patch independtenly.\n",
    "        mlp2_outputs = self.mlp2(x_patches)\n",
    "        # Add skip connection.\n",
    "        x = x + mlp2_outputs\n",
    "        return x\n",
    "\n",
    "    def get_config(self): \n",
    "        config = super(MLPMixerLayer, self).get_config().copy()\n",
    "        config.update ({\n",
    "            'num_patches' : num_patches,\n",
    "            'embedding_dim' : embedding_dim,\n",
    "            'dropout_rate' : dropout_rate,\n",
    "        })\n",
    "        return config"
   ]
  },
  {
   "cell_type": "markdown",
   "metadata": {
    "id": "zUiufq92_SvA"
   },
   "source": [
    "## Build, train, and evaluate the MLP-Mixer model\n",
    "\n",
    "Note that training the model with the current settings on a V100 GPUs\n",
    "takes around 8 seconds per epoch."
   ]
  },
  {
   "cell_type": "code",
   "execution_count": 9,
   "metadata": {},
   "outputs": [],
   "source": [
    "# Report: Learning Curve\n",
    "def curves(history):\n",
    "    ymax1 = min(history[\"loss\"])\n",
    "    xmax1 = history[\"loss\"].index(ymax1)\n",
    "    ymax2 = min(history[\"val_loss\"])\n",
    "    xmax2 = history[\"val_loss\"].index(ymax2)\n",
    "    plt.title(\"Cross Entropy Loss\")\n",
    "    plt.plot(history[\"loss\"], color = 'blue', label = 'Training')\n",
    "    plt.plot(history[\"val_loss\"], color = 'orange', label = 'Testing')\n",
    "    plt.xlabel(\"Epochs\")\n",
    "    plt.annotate('Max:' + str(round(ymax1,2)) , xy = (xmax1, ymax1), xytext = (xmax1*0.93, 1.07*ymax1), \n",
    "                    arrowprops=dict(facecolor='blue', headwidth= 6, headlength =9))\n",
    "    plt.annotate('Max:' + str(round(ymax2,2)) , xy = (xmax2, ymax2), xytext = (xmax2*0.93, 1.07*ymax2), \n",
    "                    arrowprops=dict(facecolor='goldenrod', headwidth= 6, headlength =9))\n",
    "    plt.xlim([0,num_epochs])\n",
    "    plt.legend()\n",
    "    plt.show()\n",
    "    # Graph accuracy\n",
    "    ymax3 = max(history[\"acc\"])\n",
    "    xmax3 = history[\"acc\"].index(ymax3)\n",
    "    ymax4 = max(history[\"val_acc\"])\n",
    "    xmax4 = history[\"val_acc\"].index(ymax4)\n",
    "    ymax5 = max(history[\"top5-acc\"])\n",
    "    xmax5 = history[\"top5-acc\"].index(ymax5)\n",
    "    ymax6 = max(history[\"val_top5-acc\"])\n",
    "    xmax6 = history[\"val_top5-acc\"].index(ymax6)\n",
    "    plt.subplot(2,1,1)\n",
    "    plt.title('Classification accuracy')\n",
    "    plt.plot(history['acc'], color = 'blue', label = 'Training')\n",
    "    plt.plot(history['val_acc'], color = 'orange', label = 'Testing')\n",
    "    plt.annotate('Max:' + str(round(ymax3,2)) , xy = (xmax3, ymax3), xytext = (xmax3*0.93, 1.2*ymax3), \n",
    "                    arrowprops=dict(facecolor='blue', headwidth= 6, headlength =9))\n",
    "    plt.annotate('Max:' + str(round(ymax4,2)) , xy = (xmax4, ymax4), xytext = (xmax4*0.93, 0.7*ymax4), \n",
    "                    arrowprops=dict(facecolor='goldenrod', headwidth= 6, headlength =9))\n",
    "    plt.subplot(2,1,2)\n",
    "    plt.title('Classification top5-acc')\n",
    "    plt.plot(history['top5-acc'], color = 'blue', label = 'Training')\n",
    "    plt.plot(history['val_top5-acc'], color = 'orange', label = 'Testing')\n",
    "    plt.annotate('Max:' + str(round(ymax5,2)) , xy = (xmax5, ymax5), xytext = (xmax5*0.93, 1.2*ymax5), \n",
    "                    arrowprops=dict(facecolor='blue', headwidth= 6, headlength =9))\n",
    "    plt.annotate('Max:' + str(round(ymax6,2)) , xy = (xmax6, ymax6), xytext = (xmax6*0.87, 1.2*ymax6), \n",
    "                    arrowprops=dict(facecolor='goldenrod', headwidth= 6, headlength =9))\n",
    "    plt.xlim([0,num_epochs])\n",
    "    plt.xlabel(\"Epochs\")\n",
    "    plt.suptitle(\"Learning Curves\")\n",
    "    plt.legend()\n",
    "    plt.tight_layout()\n",
    "    plt.show()"
   ]
  },
  {
   "cell_type": "markdown",
   "metadata": {},
   "source": [
    "## Obtain activations + Visualization"
   ]
  },
  {
   "cell_type": "code",
   "execution_count": 10,
   "metadata": {},
   "outputs": [],
   "source": [
    "# Preprocessing Layers + Patches + One dense layer\n",
    "def Preprocessing(num_example):\n",
    "    augmented = data_augmentation(x_train[num_example])\n",
    "    b = Patches(patch_size, num_patches)(augmented)\n",
    "    a = layers.Dense(units=embedding_dim)(b)\n",
    "    inp = tf.reshape(a,[1,embedding_dim,num_patches])\n",
    "    return inp"
   ]
  },
  {
   "cell_type": "code",
   "execution_count": 11,
   "metadata": {},
   "outputs": [],
   "source": [
    "# Creates a random vector with indexes of a random batch selection and also regularizes the selected batch\n",
    "def Batch_Preprocessing(batch_size):\n",
    "    #Vector with the number of Sample of the Xtrain\n",
    "    a  = list(range(0,x_train.shape[0]))\n",
    "    b = random.sample(a,batch_size)\n",
    "    batch_regularization = list()\n",
    "    for i in range(0,batch_size):\n",
    "        inter_result = Preprocessing(b[i])\n",
    "        batch_regularization.append(inter_result)\n",
    "    return batch_regularization\n"
   ]
  },
  {
   "cell_type": "code",
   "execution_count": 12,
   "metadata": {},
   "outputs": [],
   "source": [
    "def visualize_out(result,layer_number,example):\n",
    "    fig, (ax1, ax2)= plt.subplots(1,2)\n",
    "    ax1.imshow(x_train[example])\n",
    "    ax1.set_title('Original_Figure, Class: #' + str(y_train[example][0]))\n",
    "    ax2.imshow(result[layer_number])\n",
    "    ax2.set_title('Activations of MLP block of the Mixer #: '+ '\"' + str(layer_number) + '\"')\n",
    "    return None"
   ]
  },
  {
   "cell_type": "markdown",
   "metadata": {},
   "source": [
    "### Cumulative"
   ]
  },
  {
   "cell_type": "code",
   "execution_count": 13,
   "metadata": {},
   "outputs": [],
   "source": [
    "def Mixer_Layer_Outputs(model_input, model_output,example):\n",
    "    #The input is fixed to the beginning of the mlp blocks\n",
    "    intermediate_model=tf.keras.models.Model(inputs=model_input.input,outputs=model_output.output)\n",
    "    #This reshape is necessary for the input of the model\n",
    "    example = tf.reshape(example,[1,num_patches,embedding_dim])\n",
    "    #Inference\n",
    "    intermediate_prediction =intermediate_model.predict(example)\n",
    "    #This reshape is standardize the output\n",
    "    layactivation = intermediate_prediction.reshape((embedding_dim,num_patches))\n",
    "    return layactivation"
   ]
  },
  {
   "cell_type": "code",
   "execution_count": 14,
   "metadata": {},
   "outputs": [],
   "source": [
    "## Computes the outputs of each MLP-mixer Layer\n",
    "def Mixer_Activations(model, example):\n",
    "    total_activations = list()\n",
    "    for i in range(num_blocks):\n",
    "        model_input = model.layers[4].layers[0]\n",
    "        model_output = model.layers[4].layers[i]\n",
    "        int_total_activations = Mixer_Layer_Outputs(model_input, model_output, example)\n",
    "        total_activations.append(int_total_activations)\n",
    "    return  total_activations"
   ]
  },
  {
   "cell_type": "code",
   "execution_count": 15,
   "metadata": {},
   "outputs": [],
   "source": [
    "#Average of layer's activation\n",
    "def Prom_Mixer_Activations_Blocks(model,batch_regularization):\n",
    "    sum = list()\n",
    "    for i in range(0,num_blocks):\n",
    "        sum_raw = np.zeros((embedding_dim,num_patches))\n",
    "        sum.append(sum_raw)\n",
    "    for i in range(0,batch_size):\n",
    "        mixer_raw = Mixer_Activations(model,batch_regularization[i])\n",
    "        for i in range(0,num_blocks):\n",
    "            sum[i] = np.add(mixer_raw[i],sum[i])\n",
    "    prom_mixer_activations = [ (number / batch_size)  for number in sum]\n",
    "    return prom_mixer_activations"
   ]
  },
  {
   "cell_type": "markdown",
   "metadata": {},
   "source": [
    "### Independent"
   ]
  },
  {
   "cell_type": "code",
   "execution_count": 16,
   "metadata": {},
   "outputs": [],
   "source": [
    "## Computes the outputs of each MLP-mixer Layer\n",
    "def Mixer_Activations_ind(model, example):\n",
    "    total_activations = list()\n",
    "    for i in range(num_blocks):\n",
    "        model_input = model.layers[4].layers[i]\n",
    "        model_output = model.layers[4].layers[i]\n",
    "        int_total_activations = Mixer_Layer_Outputs(model_input, model_output, example)\n",
    "        total_activations.append(int_total_activations)\n",
    "    return  total_activations"
   ]
  },
  {
   "cell_type": "code",
   "execution_count": 17,
   "metadata": {},
   "outputs": [],
   "source": [
    "def Prom_Mixer_Activations_Blocks_ind(model,batch_regularization):\n",
    "    sum = list()\n",
    "    for i in range(0,num_blocks):\n",
    "        sum_raw = np.zeros((embedding_dim,num_patches))\n",
    "        sum.append(sum_raw)\n",
    "    for i in range(0,batch_size):\n",
    "        mixer_raw = Mixer_Activations_ind(model,batch_regularization[i])\n",
    "        for i in range(0,num_blocks):\n",
    "            sum[i] = np.add(mixer_raw[i],sum[i])\n",
    "    prom_mixer_activations = [ (number / batch_size)  for number in sum]\n",
    "    return prom_mixer_activations "
   ]
  },
  {
   "cell_type": "markdown",
   "metadata": {},
   "source": [
    "# CKA"
   ]
  },
  {
   "cell_type": "code",
   "execution_count": 18,
   "metadata": {},
   "outputs": [],
   "source": [
    "# Calculates a heatmap according to the selection of a CKA_Kernel (preferred) or CKA_Linear\n",
    "def Heatmap(result,type,sigma):\n",
    "    dim = len(result)\n",
    "    k = (dim - 1)\n",
    "    heatmap_CKA = np.zeros((dim,dim))\n",
    "    for i in range(0,dim):\n",
    "        tr = (dim - 1)\n",
    "        for j in range(0,dim):\n",
    "            if type == 'kernel':\n",
    "                heatmap_CKA[k][tr] = cka(gram_rbf(result[i],sigma),gram_rbf(result[j],sigma))\n",
    "            elif type == 'linear':\n",
    "                heatmap_CKA[k][tr] = cka(gram_linear(result[i]),gram_linear(result[j])) \n",
    "            else:\n",
    "                print('There is no such category, try again')\n",
    "                break\n",
    "\n",
    "            tr -= 1\n",
    "        k -= 1\n",
    "    #print('CKA' + type + 'calculated')\n",
    "    return heatmap_CKA"
   ]
  },
  {
   "cell_type": "code",
   "execution_count": 19,
   "metadata": {},
   "outputs": [],
   "source": [
    "#Average of heatmaps (obsolet)\n",
    "def Prom_Mixer_Heatmaps(batch_result,type):\n",
    "    mat_heatmaps = list()\n",
    "    prom_mixer_heatmap_raw = np.zeros((num_blocks,num_blocks))\n",
    "    for i in range(0,batch_size):\n",
    "        mixer_activations_raw = Mixer_Activations(batch_result[i])\n",
    "        heatmap_raw = Heatmap(mixer_activations_raw, type)\n",
    "        mat_heatmaps.append(heatmap_raw)\n",
    "        prom_mixer_heatmap_raw = np.add(heatmap_raw,prom_mixer_heatmap_raw)\n",
    "    prom_mixer_heatmap =  prom_mixer_heatmap_raw/batch_size  \n",
    "    return prom_mixer_heatmap,mat_heatmaps"
   ]
  },
  {
   "cell_type": "code",
   "execution_count": 20,
   "metadata": {},
   "outputs": [],
   "source": [
    "def visualize_Heatmap(heatmap,type,bl):\n",
    "    #Number of thats that you want to appear in the plot\n",
    "    tri = 4\n",
    "    if type == 'kernel' or type == 'linear':\n",
    "        dim = len(heatmap)\n",
    "        axis_labels = list()\n",
    "        for i in range(0,dim):\n",
    "            axis_labels_inter = str('%i'%(i+1))\n",
    "            axis_labels.append(axis_labels_inter)\n",
    "        _, ax = plt.subplots(figsize=(3,3))\n",
    "        ax = sns.heatmap(heatmap, xticklabels=axis_labels[::-1], yticklabels=axis_labels[::-1], ax = ax, annot=bl)\n",
    "        #sns.heatmap(heatmap, xticklabels=2, yticklabels=2, ax = ax, annot=bl, cbar=True)   \n",
    "        ax.invert_xaxis()\n",
    "        ax.axhline(y = 0, color='k',linewidth = 4)\n",
    "        ax.axhline(y = heatmap.shape[1], color = 'k', linewidth = 4)\n",
    "        ax.axvline(x = 0, color ='k',linewidth = 4)\n",
    "        ax.axvline(x = heatmap.shape[0], color = 'k', linewidth = 4)\n",
    "\n",
    "        ax.set_title(\"CKA-\"+ type)   \n",
    "        ax.set_xlabel(\"Layer\")\n",
    "        ax.set_ylabel(\"Layer\")\n",
    "        plt.yticks(rotation=0)\n",
    "        plt.locator_params(axis='x',nbins=tri)\n",
    "        plt.locator_params(axis='y',nbins=tri)\n",
    "        plt.savefig('CKA_'+ type +'.png', dpi=300)\n",
    "        \n",
    "    else:\n",
    "        print('There is no such category, try again')"
   ]
  },
  {
   "cell_type": "code",
   "execution_count": 52,
   "metadata": {},
   "outputs": [],
   "source": [
    "def visualize_Heatmap_mlp(heatmap,type,bl):\n",
    "    #Number of thats that you want to appear in the plot\n",
    "    tri = 5\n",
    "    if type == 'kernel' or type == 'linear':\n",
    "        dim = len(heatmap)\n",
    "        axis_labels = list()\n",
    "        for i in range(0,dim):\n",
    "            axis_labels_inter = str('%i/%i'%((i%2)+1,(i//2)+1))\n",
    "            axis_labels.append(axis_labels_inter)\n",
    "        _, ax = plt.subplots(figsize=(3,3))\n",
    "        ax = sns.heatmap(heatmap, xticklabels=axis_labels[::-1], yticklabels=axis_labels[::-1], ax = ax, annot=bl)\n",
    "        #sns.heatmap(heatmap, xticklabels=2, yticklabels=2, ax = ax, annot=bl, cbar=True)   \n",
    "        ax.invert_xaxis()\n",
    "        ax.axhline(y = 0, color='k',linewidth = 4)\n",
    "        ax.axhline(y = heatmap.shape[1], color = 'k', linewidth = 4)\n",
    "        ax.axvline(x = 0, color ='k',linewidth = 4)\n",
    "        ax.axvline(x = heatmap.shape[0], color = 'k', linewidth = 4)\n",
    "\n",
    "        ax.set_title(\"CKA-\"+ type)   \n",
    "        ax.set_xlabel(\"MLP/Layer\")\n",
    "        ax.set_ylabel(\"MLP/Layer\")\n",
    "        plt.yticks(rotation=0)\n",
    "        plt.xticks(rotation=0)\n",
    "        plt.locator_params(axis='x',nbins=tri)\n",
    "        plt.locator_params(axis='y',nbins=tri)\n",
    "        plt.savefig('CKA_'+ type +'.png', dpi=300)\n",
    "        \n",
    "    else:\n",
    "        print('There is no such category, try again')"
   ]
  },
  {
   "cell_type": "markdown",
   "metadata": {},
   "source": [
    "# Experiment 5 (Appendix) : Explore the independent approach"
   ]
  },
  {
   "cell_type": "markdown",
   "metadata": {},
   "source": [
    "## 5"
   ]
  },
  {
   "cell_type": "markdown",
   "metadata": {},
   "source": [
    "### Mlp1 + mlp2"
   ]
  },
  {
   "cell_type": "code",
   "execution_count": 22,
   "metadata": {},
   "outputs": [],
   "source": [
    "def Mixer_Layer_Outputs2(model,example,shape):\n",
    "    intermediate_model=tf.keras.models.Model(inputs=model.input,outputs=model.output)\n",
    "    #This reshape is necessary for the input of the model\n",
    "    example = tf.reshape(example,[1,shape[0],shape[1]])\n",
    "    #Inference\n",
    "    intermediate_prediction =intermediate_model.predict(example)\n",
    "    #This reshape is standardize the output\n",
    "    layactivation = intermediate_prediction.reshape((embedding_dim,num_patches))\n",
    "    return layactivation"
   ]
  },
  {
   "cell_type": "code",
   "execution_count": 23,
   "metadata": {},
   "outputs": [],
   "source": [
    "## Computes the outputs of each MLP-mixer Layer\n",
    "def Mixer_Activations_2(model,example):\n",
    "    total_activations = list()\n",
    "    for i in range(num_blocks):\n",
    "        #Shape of the input for the mlp1\n",
    "        shape=(embedding_dim,num_patches)\n",
    "        modelf = model.layers[4].layers[i].mlp1\n",
    "        int_total_activations = Mixer_Layer_Outputs2(modelf,example,shape)\n",
    "        #Shape of the input for the mlp2\n",
    "        total_activations.append(int_total_activations)\n",
    "        shape=(num_patches,embedding_dim)\n",
    "        modelf = model.layers[4].layers[i].mlp2\n",
    "        int_total_activations = Mixer_Layer_Outputs2(modelf,example,shape)\n",
    "        total_activations.append(int_total_activations)\n",
    "    return total_activations"
   ]
  },
  {
   "cell_type": "code",
   "execution_count": 24,
   "metadata": {},
   "outputs": [],
   "source": [
    "def Prom_Mixer_Activations_Blocks_2(model,batch_regularization):\n",
    "    sum = list()\n",
    "    for i in range(0,2*num_blocks):\n",
    "        sum_raw = np.zeros((embedding_dim,num_patches))\n",
    "        sum.append(sum_raw)\n",
    "    for i in range(0,batch_size):\n",
    "        mixer_raw = Mixer_Activations_2(model,batch_regularization[i])\n",
    "        for i in range(0,2*num_blocks):\n",
    "            sum[i] = np.add(mixer_raw[i],sum[i])\n",
    "    prom_mixer_activations = [ (number / batch_size)  for number in sum]\n",
    "    return prom_mixer_activations"
   ]
  },
  {
   "cell_type": "code",
   "execution_count": null,
   "metadata": {},
   "outputs": [],
   "source": [
    "mlpmixer_blocks = keras.Sequential(\n",
    "[MLPMixerLayer(num_patches, embedding_dim, dropout_rate) for _ in range(num_blocks)] # creates the number of block without a \n",
    ")\n",
    "mlpmixer_independent= build_classifier(mlpmixer_blocks,embedding_dim) # Returns the model"
   ]
  },
  {
   "cell_type": "code",
   "execution_count": null,
   "metadata": {},
   "outputs": [],
   "source": [
    "#Run once to avoid randomness\n",
    "batch_prepro = Batch_Preprocessing(batch_size)"
   ]
  },
  {
   "cell_type": "code",
   "execution_count": null,
   "metadata": {},
   "outputs": [
    {
     "name": "stdout",
     "output_type": "stream",
     "text": [
      "WARNING:tensorflow:5 out of the last 5 calls to <function Model.make_predict_function.<locals>.predict_function at 0x000001A02BE40EE0> triggered tf.function retracing. Tracing is expensive and the excessive number of tracings could be due to (1) creating @tf.function repeatedly in a loop, (2) passing tensors with different shapes, (3) passing Python objects instead of tensors. For (1), please define your @tf.function outside of the loop. For (2), @tf.function has experimental_relax_shapes=True option that relaxes argument shapes that can avoid unnecessary retracing. For (3), please refer to https://www.tensorflow.org/guide/function#controlling_retracing and https://www.tensorflow.org/api_docs/python/tf/function for  more details.\n",
      "WARNING:tensorflow:6 out of the last 6 calls to <function Model.make_predict_function.<locals>.predict_function at 0x000001A02BDC1F70> triggered tf.function retracing. Tracing is expensive and the excessive number of tracings could be due to (1) creating @tf.function repeatedly in a loop, (2) passing tensors with different shapes, (3) passing Python objects instead of tensors. For (1), please define your @tf.function outside of the loop. For (2), @tf.function has experimental_relax_shapes=True option that relaxes argument shapes that can avoid unnecessary retracing. For (3), please refer to https://www.tensorflow.org/guide/function#controlling_retracing and https://www.tensorflow.org/api_docs/python/tf/function for  more details.\n"
     ]
    },
    {
     "data": {
      "image/png": "[encoded data removed]",
      "text/plain": [
       "<Figure size 216x216 with 2 Axes>"
      ]
     },
     "metadata": {
      "needs_background": "light"
     },
     "output_type": "display_data"
    }
   ],
   "source": [
    "#After training, this cell is going to be same as the after-training heatmap\n",
    "sigma = 1\n",
    "type = 'kernel' # 'kernel' or 'linear'\n",
    "###############################################################################################\n",
    "A5_bt_ave_mixer_activations = Prom_Mixer_Activations_Blocks_2(mlpmixer_independent,batch_prepro)\n",
    "A5_bt_global_heatmap = Heatmap(A5_bt_ave_mixer_activations,type,sigma)\n",
    "visualize_Heatmap_mlp(A5_bt_global_heatmap,type,False)"
   ]
  },
  {
   "cell_type": "code",
   "execution_count": null,
   "metadata": {},
   "outputs": [
    {
     "data": {
      "image/png": "[encoded data removed]",
      "text/plain": [
       "<Figure size 216x216 with 2 Axes>"
      ]
     },
     "metadata": {
      "needs_background": "light"
     },
     "output_type": "display_data"
    }
   ],
   "source": [
    "#Cumulative blocks\n",
    "A5_bt_ave_mixer_activations_block = Prom_Mixer_Activations_Blocks(mlpmixer_independent,batch_prepro)\n",
    "A5_bt_global_heatmap_block = Heatmap(A5_bt_ave_mixer_activations_block,type,sigma)\n",
    "visualize_Heatmap(A5_bt_global_heatmap_block,type,False)"
   ]
  },
  {
   "cell_type": "code",
   "execution_count": null,
   "metadata": {},
   "outputs": [],
   "source": [
    "#Independent blocks\n",
    "A5_bt_ave_mixer_activations_block_ind = Prom_Mixer_Activations_Blocks_ind(mlpmixer_independent,batch_prepro)\n",
    "A5_bt_global_heatmap_block_ind = Heatmap(A5_bt_ave_mixer_activations_block_ind,type,sigma)\n",
    "visualize_Heatmap(A5_bt_global_heatmap_block_ind,type,False)"
   ]
  },
  {
   "cell_type": "code",
   "execution_count": null,
   "metadata": {},
   "outputs": [
    {
     "name": "stdout",
     "output_type": "stream",
     "text": [
      "Epoch 1/50\n",
      "88/88 [==============================] - 20s 173ms/step - loss: 4.6027 - acc: 0.2440 - top5-acc: 0.7303 - val_loss: 1.7254 - val_acc: 0.3920 - val_top5-acc: 0.8830 - lr: 0.0050\n",
      "Epoch 2/50\n",
      "88/88 [==============================] - 14s 164ms/step - loss: 1.6010 - acc: 0.4211 - top5-acc: 0.8966 - val_loss: 1.4514 - val_acc: 0.4764 - val_top5-acc: 0.9230 - lr: 0.0050\n",
      "Epoch 3/50\n",
      "88/88 [==============================] - 14s 164ms/step - loss: 1.4543 - acc: 0.4741 - top5-acc: 0.9218 - val_loss: 1.3501 - val_acc: 0.5100 - val_top5-acc: 0.9432 - lr: 0.0050\n",
      "Epoch 4/50\n",
      "88/88 [==============================] - 15s 165ms/step - loss: 1.3838 - acc: 0.5034 - top5-acc: 0.9295 - val_loss: 1.2631 - val_acc: 0.5532 - val_top5-acc: 0.9456 - lr: 0.0050\n",
      "Epoch 5/50\n",
      "88/88 [==============================] - 14s 164ms/step - loss: 1.3099 - acc: 0.5307 - top5-acc: 0.9388 - val_loss: 1.1978 - val_acc: 0.5708 - val_top5-acc: 0.9528 - lr: 0.0050\n",
      "Epoch 6/50\n",
      "88/88 [==============================] - 14s 164ms/step - loss: 1.2761 - acc: 0.5437 - top5-acc: 0.9434 - val_loss: 1.2330 - val_acc: 0.5658 - val_top5-acc: 0.9534 - lr: 0.0050\n",
      "Epoch 7/50\n",
      "88/88 [==============================] - 14s 164ms/step - loss: 1.2296 - acc: 0.5624 - top5-acc: 0.9487 - val_loss: 1.1581 - val_acc: 0.5954 - val_top5-acc: 0.9532 - lr: 0.0050\n",
      "Epoch 8/50\n",
      "88/88 [==============================] - 14s 164ms/step - loss: 1.1984 - acc: 0.5730 - top5-acc: 0.9513 - val_loss: 1.1721 - val_acc: 0.5892 - val_top5-acc: 0.9598 - lr: 0.0050\n",
      "Epoch 9/50\n",
      "88/88 [==============================] - 14s 164ms/step - loss: 1.1651 - acc: 0.5853 - top5-acc: 0.9547 - val_loss: 1.1758 - val_acc: 0.5960 - val_top5-acc: 0.9594 - lr: 0.0050\n",
      "Epoch 10/50\n",
      "88/88 [==============================] - 14s 164ms/step - loss: 1.1332 - acc: 0.5987 - top5-acc: 0.9562 - val_loss: 1.0664 - val_acc: 0.6298 - val_top5-acc: 0.9624 - lr: 0.0050\n",
      "Epoch 11/50\n",
      "88/88 [==============================] - 14s 164ms/step - loss: 1.1197 - acc: 0.6027 - top5-acc: 0.9581 - val_loss: 1.0558 - val_acc: 0.6352 - val_top5-acc: 0.9642 - lr: 0.0050\n",
      "Epoch 12/50\n",
      "88/88 [==============================] - 14s 164ms/step - loss: 1.0922 - acc: 0.6100 - top5-acc: 0.9608 - val_loss: 1.0115 - val_acc: 0.6464 - val_top5-acc: 0.9678 - lr: 0.0050\n",
      "Epoch 13/50\n",
      "88/88 [==============================] - 14s 164ms/step - loss: 1.0779 - acc: 0.6171 - top5-acc: 0.9628 - val_loss: 1.0065 - val_acc: 0.6444 - val_top5-acc: 0.9678 - lr: 0.0050\n",
      "Epoch 14/50\n",
      "88/88 [==============================] - 14s 164ms/step - loss: 1.0614 - acc: 0.6241 - top5-acc: 0.9630 - val_loss: 1.0163 - val_acc: 0.6506 - val_top5-acc: 0.9678 - lr: 0.0050\n",
      "Epoch 15/50\n",
      "88/88 [==============================] - 14s 165ms/step - loss: 1.0440 - acc: 0.6305 - top5-acc: 0.9641 - val_loss: 0.9964 - val_acc: 0.6528 - val_top5-acc: 0.9670 - lr: 0.0050\n",
      "Epoch 16/50\n",
      "88/88 [==============================] - 14s 164ms/step - loss: 1.0364 - acc: 0.6329 - top5-acc: 0.9648 - val_loss: 1.0150 - val_acc: 0.6482 - val_top5-acc: 0.9726 - lr: 0.0050\n",
      "Epoch 17/50\n",
      "88/88 [==============================] - 14s 164ms/step - loss: 1.0242 - acc: 0.6379 - top5-acc: 0.9651 - val_loss: 1.0678 - val_acc: 0.6354 - val_top5-acc: 0.9684 - lr: 0.0050\n",
      "Epoch 18/50\n",
      "88/88 [==============================] - 14s 164ms/step - loss: 1.0125 - acc: 0.6403 - top5-acc: 0.9674 - val_loss: 0.9527 - val_acc: 0.6592 - val_top5-acc: 0.9726 - lr: 0.0050\n",
      "Epoch 19/50\n",
      "88/88 [==============================] - 14s 165ms/step - loss: 0.9860 - acc: 0.6521 - top5-acc: 0.9682 - val_loss: 0.9388 - val_acc: 0.6740 - val_top5-acc: 0.9762 - lr: 0.0050\n",
      "Epoch 20/50\n",
      "88/88 [==============================] - 15s 165ms/step - loss: 0.9732 - acc: 0.6550 - top5-acc: 0.9693 - val_loss: 0.9354 - val_acc: 0.6722 - val_top5-acc: 0.9744 - lr: 0.0050\n",
      "Epoch 21/50\n",
      "88/88 [==============================] - 15s 165ms/step - loss: 0.9631 - acc: 0.6591 - top5-acc: 0.9703 - val_loss: 0.9442 - val_acc: 0.6728 - val_top5-acc: 0.9756 - lr: 0.0050\n",
      "Epoch 22/50\n",
      "88/88 [==============================] - 14s 165ms/step - loss: 0.9449 - acc: 0.6659 - top5-acc: 0.9723 - val_loss: 0.9244 - val_acc: 0.6800 - val_top5-acc: 0.9746 - lr: 0.0050\n",
      "Epoch 23/50\n",
      "88/88 [==============================] - 14s 164ms/step - loss: 0.9268 - acc: 0.6729 - top5-acc: 0.9728 - val_loss: 0.9635 - val_acc: 0.6758 - val_top5-acc: 0.9750 - lr: 0.0050\n",
      "Epoch 24/50\n",
      "88/88 [==============================] - 14s 164ms/step - loss: 0.9217 - acc: 0.6739 - top5-acc: 0.9722 - val_loss: 0.9063 - val_acc: 0.6884 - val_top5-acc: 0.9748 - lr: 0.0050\n",
      "Epoch 25/50\n",
      "88/88 [==============================] - 14s 164ms/step - loss: 0.9200 - acc: 0.6737 - top5-acc: 0.9738 - val_loss: 0.9184 - val_acc: 0.6884 - val_top5-acc: 0.9770 - lr: 0.0050\n",
      "Epoch 26/50\n",
      "88/88 [==============================] - 14s 164ms/step - loss: 0.8927 - acc: 0.6832 - top5-acc: 0.9753 - val_loss: 0.8757 - val_acc: 0.6972 - val_top5-acc: 0.9788 - lr: 0.0050\n",
      "Epoch 27/50\n",
      "88/88 [==============================] - 14s 164ms/step - loss: 0.8965 - acc: 0.6839 - top5-acc: 0.9747 - val_loss: 0.8806 - val_acc: 0.6952 - val_top5-acc: 0.9748 - lr: 0.0050\n",
      "Epoch 28/50\n",
      "88/88 [==============================] - 15s 165ms/step - loss: 0.9041 - acc: 0.6807 - top5-acc: 0.9740 - val_loss: 0.8559 - val_acc: 0.7070 - val_top5-acc: 0.9776 - lr: 0.0050\n",
      "Epoch 29/50\n",
      "88/88 [==============================] - 15s 165ms/step - loss: 0.8793 - acc: 0.6890 - top5-acc: 0.9767 - val_loss: 0.8886 - val_acc: 0.6912 - val_top5-acc: 0.9780 - lr: 0.0050\n",
      "Epoch 30/50\n",
      "88/88 [==============================] - 14s 165ms/step - loss: 0.8753 - acc: 0.6908 - top5-acc: 0.9759 - val_loss: 0.8257 - val_acc: 0.7136 - val_top5-acc: 0.9824 - lr: 0.0050\n",
      "Epoch 31/50\n",
      "88/88 [==============================] - 14s 164ms/step - loss: 0.8623 - acc: 0.6978 - top5-acc: 0.9771 - val_loss: 0.8306 - val_acc: 0.7132 - val_top5-acc: 0.9792 - lr: 0.0050\n",
      "Epoch 32/50\n",
      "88/88 [==============================] - 14s 164ms/step - loss: 0.8622 - acc: 0.6950 - top5-acc: 0.9780 - val_loss: 0.8499 - val_acc: 0.7146 - val_top5-acc: 0.9806 - lr: 0.0050\n",
      "Epoch 33/50\n",
      "88/88 [==============================] - 14s 164ms/step - loss: 0.8473 - acc: 0.7024 - top5-acc: 0.9793 - val_loss: 0.8362 - val_acc: 0.7148 - val_top5-acc: 0.9798 - lr: 0.0050\n",
      "Epoch 34/50\n",
      "88/88 [==============================] - 14s 165ms/step - loss: 0.8449 - acc: 0.7033 - top5-acc: 0.9786 - val_loss: 0.8593 - val_acc: 0.7056 - val_top5-acc: 0.9792 - lr: 0.0050\n",
      "Epoch 35/50\n",
      "88/88 [==============================] - 14s 165ms/step - loss: 0.8352 - acc: 0.7057 - top5-acc: 0.9792 - val_loss: 0.8078 - val_acc: 0.7244 - val_top5-acc: 0.9802 - lr: 0.0050\n",
      "Epoch 36/50\n",
      "88/88 [==============================] - 14s 164ms/step - loss: 0.8240 - acc: 0.7081 - top5-acc: 0.9804 - val_loss: 0.8460 - val_acc: 0.7122 - val_top5-acc: 0.9788 - lr: 0.0050\n",
      "Epoch 37/50\n",
      "88/88 [==============================] - 15s 166ms/step - loss: 0.8301 - acc: 0.7066 - top5-acc: 0.9792 - val_loss: 0.8070 - val_acc: 0.7254 - val_top5-acc: 0.9830 - lr: 0.0050\n",
      "Epoch 38/50\n",
      "88/88 [==============================] - 14s 164ms/step - loss: 0.8169 - acc: 0.7119 - top5-acc: 0.9800 - val_loss: 0.8099 - val_acc: 0.7268 - val_top5-acc: 0.9824 - lr: 0.0050\n",
      "Epoch 39/50\n",
      "88/88 [==============================] - 14s 164ms/step - loss: 0.8162 - acc: 0.7126 - top5-acc: 0.9795 - val_loss: 0.8836 - val_acc: 0.7122 - val_top5-acc: 0.9754 - lr: 0.0050\n",
      "Epoch 40/50\n",
      "88/88 [==============================] - 14s 164ms/step - loss: 0.8093 - acc: 0.7139 - top5-acc: 0.9807 - val_loss: 0.8578 - val_acc: 0.7106 - val_top5-acc: 0.9810 - lr: 0.0050\n",
      "Epoch 41/50\n",
      "88/88 [==============================] - 14s 165ms/step - loss: 0.8261 - acc: 0.7095 - top5-acc: 0.9804 - val_loss: 0.8517 - val_acc: 0.7086 - val_top5-acc: 0.9788 - lr: 0.0050\n",
      "Epoch 42/50\n",
      "88/88 [==============================] - 14s 164ms/step - loss: 0.7928 - acc: 0.7210 - top5-acc: 0.9815 - val_loss: 0.8135 - val_acc: 0.7272 - val_top5-acc: 0.9804 - lr: 0.0050\n",
      "Epoch 43/50\n",
      "88/88 [==============================] - 14s 165ms/step - loss: 0.7098 - acc: 0.7483 - top5-acc: 0.9847 - val_loss: 0.7655 - val_acc: 0.7436 - val_top5-acc: 0.9826 - lr: 0.0025\n",
      "Epoch 44/50\n"
     ]
    },
    {
     "name": "stdout",
     "output_type": "stream",
     "text": [
      "88/88 [==============================] - 14s 164ms/step - loss: 0.6816 - acc: 0.7606 - top5-acc: 0.9868 - val_loss: 0.7325 - val_acc: 0.7558 - val_top5-acc: 0.9844 - lr: 0.0025\n",
      "Epoch 45/50\n",
      "88/88 [==============================] - 14s 164ms/step - loss: 0.6670 - acc: 0.7635 - top5-acc: 0.9871 - val_loss: 0.7734 - val_acc: 0.7484 - val_top5-acc: 0.9828 - lr: 0.0025\n",
      "Epoch 46/50\n",
      "88/88 [==============================] - 14s 165ms/step - loss: 0.6686 - acc: 0.7620 - top5-acc: 0.9874 - val_loss: 0.8011 - val_acc: 0.7358 - val_top5-acc: 0.9824 - lr: 0.0025\n",
      "Epoch 47/50\n",
      "88/88 [==============================] - 14s 164ms/step - loss: 0.6642 - acc: 0.7629 - top5-acc: 0.9882 - val_loss: 0.7632 - val_acc: 0.7446 - val_top5-acc: 0.9816 - lr: 0.0025\n",
      "Epoch 48/50\n",
      "88/88 [==============================] - 14s 164ms/step - loss: 0.6697 - acc: 0.7618 - top5-acc: 0.9871 - val_loss: 0.7699 - val_acc: 0.7414 - val_top5-acc: 0.9860 - lr: 0.0025\n",
      "Epoch 49/50\n",
      "88/88 [==============================] - 14s 164ms/step - loss: 0.6580 - acc: 0.7670 - top5-acc: 0.9876 - val_loss: 0.7478 - val_acc: 0.7530 - val_top5-acc: 0.9860 - lr: 0.0025\n",
      "Epoch 50/50\n",
      "88/88 [==============================] - 14s 164ms/step - loss: 0.6103 - acc: 0.7844 - top5-acc: 0.9904 - val_loss: 0.7167 - val_acc: 0.7616 - val_top5-acc: 0.9862 - lr: 0.0012\n",
      "313/313 [==============================] - 9s 30ms/step - loss: 0.7525 - acc: 0.7567 - top5-acc: 0.9842\n",
      "Test accuracy: 75.67%\n",
      "Test top 5 accuracy: 98.42%\n"
     ]
    },
    {
     "name": "stderr",
     "output_type": "stream",
     "text": [
      "WARNING:absl:Found untraced functions such as layer_normalization_layer_call_fn, layer_normalization_layer_call_and_return_conditional_losses, layer_normalization_1_layer_call_fn, layer_normalization_1_layer_call_and_return_conditional_losses, layer_normalization_2_layer_call_fn while saving (showing 5 of 16). These functions will not be directly callable after loading.\n"
     ]
    },
    {
     "name": "stdout",
     "output_type": "stream",
     "text": [
      "INFO:tensorflow:Assets written to: Results_Article/5Appendix/mlpmixer_independent\\assets\n"
     ]
    },
    {
     "name": "stderr",
     "output_type": "stream",
     "text": [
      "INFO:tensorflow:Assets written to: Results_Article/5Appendix/mlpmixer_independent\\assets\n"
     ]
    }
   ],
   "source": [
    "history = run_experiment(mlpmixer_independent)\n",
    "mlpmixer_independent.save(path)"
   ]
  },
  {
   "cell_type": "code",
   "execution_count": null,
   "metadata": {},
   "outputs": [
    {
     "data": {
      "image/png": "[encoded data removed]",
      "text/plain": [
       "<Figure size 216x216 with 2 Axes>"
      ]
     },
     "metadata": {
      "needs_background": "light"
     },
     "output_type": "display_data"
    }
   ],
   "source": [
    "#After training heatmap\n",
    "A5_at_ave_mixer_activations = Prom_Mixer_Activations_Blocks_2(mlpmixer_independent,batch_prepro)\n",
    "A5_at_global_heatmap = Heatmap(A5_at_ave_mixer_activations,type,sigma)\n",
    "visualize_Heatmap_mlp(A5_at_global_heatmap,type,False)"
   ]
  },
  {
   "cell_type": "code",
   "execution_count": null,
   "metadata": {},
   "outputs": [
    {
     "data": {
      "image/png": "[encoded data removed]",
      "text/plain": [
       "<Figure size 216x216 with 2 Axes>"
      ]
     },
     "metadata": {
      "needs_background": "light"
     },
     "output_type": "display_data"
    }
   ],
   "source": [
    "#Cumulative\n",
    "A5_at_ave_mixer_activations_block = Prom_Mixer_Activations_Blocks(mlpmixer_independent,batch_prepro)\n",
    "A5_at_global_heatmap_block = Heatmap(A5_at_ave_mixer_activations_block,type,sigma)\n",
    "visualize_Heatmap(A5_at_global_heatmap_block,type,False)"
   ]
  },
  {
   "cell_type": "code",
   "execution_count": null,
   "metadata": {},
   "outputs": [],
   "source": [
    "#Independent blocks\n",
    "A5_at_ave_mixer_activations_block_ind = Prom_Mixer_Activations_Blocks_ind(mlpmixer_independent,batch_prepro)\n",
    "A5_at_global_heatmap_block_ind = Heatmap(A5_at_ave_mixer_activations_block_ind,type,sigma)\n",
    "visualize_Heatmap(A5_at_global_heatmap_block_ind,type,False)"
   ]
  },
  {
   "cell_type": "code",
   "execution_count": null,
   "metadata": {},
   "outputs": [],
   "source": [
    "with open(path + '/heatmap_bt_block.pkl','wb') as file:\n",
    "    pickle.dump(A5_bt_global_heatmap_block,file)  \n",
    "with open(path + '/heatmap_bt.pkl','wb') as file:\n",
    "    pickle.dump(A5_bt_global_heatmap,file)\n",
    "with open(path + '/heatmap_bt_block_ind.pkl','wb') as file:\n",
    "    pickle.dump(A5_bt_global_heatmap_block_ind,file) \n",
    "##########################################################################\n",
    "with open(path + '/heatmap_at.pkl','wb') as file:\n",
    "    pickle.dump(A5_at_global_heatmap,file)\n",
    "with open(path + '/heatmap_at_block.pkl','wb') as file:\n",
    "    pickle.dump(A5_at_global_heatmap_block,file) \n",
    "with open(path + '/heatmap_at_block_ind.pkl','wb') as file:\n",
    "    pickle.dump(A5_at_global_heatmap_block_ind,file)"
   ]
  },
  {
   "cell_type": "code",
   "execution_count": 57,
   "metadata": {},
   "outputs": [],
   "source": [
    "#with open(path + '/heatmap_at.pkl','rb') as file:\n",
    "#    tested_hola = pickle.load(file)"
   ]
  },
  {
   "cell_type": "code",
   "execution_count": null,
   "metadata": {},
   "outputs": [],
   "source": [
    "#visualize_Heatmap_mlp(tested_hola,'kernel',False)"
   ]
  }
 ],
 "metadata": {
  "colab": {
   "collapsed_sections": [],
   "name": "mlp_image_classification",
   "provenance": [],
   "toc_visible": true
  },
  "kernelspec": {
   "display_name": "Python 3",
   "language": "python",
   "name": "python3"
  },
  "language_info": {
   "codemirror_mode": {
    "name": "ipython",
    "version": 3
   },
   "file_extension": ".py",
   "mimetype": "text/x-python",
   "name": "python",
   "nbconvert_exporter": "python",
   "pygments_lexer": "ipython3",
   "version": "3.7.0"
  }
 },
 "nbformat": 4,
 "nbformat_minor": 1
}
