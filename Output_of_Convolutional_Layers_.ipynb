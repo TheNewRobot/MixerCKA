{
  "nbformat": 4,
  "nbformat_minor": 0,
  "metadata": {
    "colab": {
      "name": "Output of Convolutional Layers .ipynb",
      "provenance": [],
      "collapsed_sections": []
    },
    "kernelspec": {
      "name": "python3",
      "display_name": "Python 3"
    },
    "accelerator": "TPU"
  },
  "cells": [
    {
      "cell_type": "code",
      "metadata": {
        "id": "B-WUgqWSIpIK"
      },
      "source": [
        "import tensorflow as tf\n",
        "import numpy as np\n",
        "import matplotlib.pyplot as plt"
      ],
      "execution_count": 1,
      "outputs": []
    },
    {
      "cell_type": "code",
      "metadata": {
        "id": "6w68rTmbL3Pd",
        "outputId": "996b83dc-8acb-4038-b5af-4d9b7e438bf7",
        "colab": {
          "base_uri": "https://localhost:8080/",
          "height": 34
        }
      },
      "source": [
        "print(tf.__version__)"
      ],
      "execution_count": null,
      "outputs": [
        {
          "output_type": "stream",
          "text": [
            "1.14.0\n"
          ],
          "name": "stdout"
        }
      ]
    },
    {
      "cell_type": "code",
      "metadata": {
        "id": "TuvYMW8mL4Rs"
      },
      "source": [
        "batch_size=128\n",
        "num_class=10\n"
      ],
      "execution_count": null,
      "outputs": []
    },
    {
      "cell_type": "code",
      "metadata": {
        "id": "77R0wz2LL4UR"
      },
      "source": [
        "IMG_HEIGHT=28\n",
        "IMG_WIDTH=28"
      ],
      "execution_count": null,
      "outputs": []
    },
    {
      "cell_type": "code",
      "metadata": {
        "id": "lEuLvzpWMVf5",
        "outputId": "91eab39e-90fe-48e6-f957-47a9043a17f8",
        "colab": {
          "base_uri": "https://localhost:8080/",
          "height": 50
        }
      },
      "source": [
        "(x_train,y_train),(x_test,y_test)=tf.keras.datasets.mnist.load_data()"
      ],
      "execution_count": null,
      "outputs": [
        {
          "output_type": "stream",
          "text": [
            "Downloading data from https://storage.googleapis.com/tensorflow/tf-keras-datasets/mnist.npz\n",
            "11493376/11490434 [==============================] - 0s 0us/step\n"
          ],
          "name": "stdout"
        }
      ]
    },
    {
      "cell_type": "code",
      "metadata": {
        "id": "5jO1u2i3Mjx8"
      },
      "source": [
        "x_train=x_train.reshape(x_train.shape[0],IMG_HEIGHT,IMG_WIDTH,1)\n",
        "x_test=x_test.reshape(x_test.shape[0],IMG_HEIGHT,IMG_WIDTH,1)\n",
        "\n",
        "input_shape=(IMG_HEIGHT,IMG_WIDTH,1)"
      ],
      "execution_count": null,
      "outputs": []
    },
    {
      "cell_type": "code",
      "metadata": {
        "id": "GzwWAAYrL4W2"
      },
      "source": [
        "x_train=x_train.astype('float32')\n",
        "x_test=x_test.astype('float32')\n",
        "\n",
        "x_train=x_train/255\n",
        "x_test=x_test/255"
      ],
      "execution_count": null,
      "outputs": []
    },
    {
      "cell_type": "code",
      "metadata": {
        "id": "gBhLWxVGL4Zd"
      },
      "source": [
        "model=tf.keras.models.Sequential()\n",
        "\n",
        "model.add(tf.keras.layers.Conv2D(32,(3,3),activation='relu',\n",
        "                              input_shape=input_shape,name='input_layer'))\n",
        "model.add(tf.keras.layers.Conv2D(64,(3,3),activation='relu',name='conv_1'))\n",
        "\n",
        "model.add(tf.keras.layers.MaxPooling2D(pool_size=(2,2),name='pool_1'))\n",
        "model.add(tf.keras.layers.Dropout(0.25,name='dropout_1'))\n",
        "\n",
        "model.add(tf.keras.layers.Flatten(name='flate_1'))\n",
        "\n",
        "model.add(tf.keras.layers.Dense(128,activation='relu',name='dense_1'))\n",
        "model.add(tf.keras.layers.Dropout(0.5,name='dropout_2'))\n",
        "\n",
        "model.add(tf.keras.layers.Dense(num_class,activation='softmax',name='output_layer'))\n",
        "\n",
        "model.summary()"
      ],
      "execution_count": null,
      "outputs": []
    },
    {
      "cell_type": "code",
      "metadata": {
        "id": "aV-vuaUjqwpN"
      },
      "source": [
        "model.compile(loss=tf.keras.losses.sparse_categorical_crossentropy,optimizer='adam',metrics=['accuracy'])\n"
      ],
      "execution_count": null,
      "outputs": []
    },
    {
      "cell_type": "code",
      "metadata": {
        "id": "9tkq16SZL4cA",
        "outputId": "0d105f0c-0801-4331-ee78-640aa30468c5",
        "colab": {
          "base_uri": "https://localhost:8080/",
          "height": 218
        }
      },
      "source": [
        "model.fit(x_train,y_train,batch_size=batch_size,epochs=5,validation_data=(x_test,y_test))"
      ],
      "execution_count": null,
      "outputs": [
        {
          "output_type": "stream",
          "text": [
            "Train on 60000 samples, validate on 10000 samples\n",
            "Epoch 1/5\n",
            "60000/60000 [==============================] - 145s 2ms/sample - loss: 0.2403 - acc: 0.9274 - val_loss: 0.0633 - val_acc: 0.9803\n",
            "Epoch 2/5\n",
            "60000/60000 [==============================] - 147s 2ms/sample - loss: 0.0868 - acc: 0.9747 - val_loss: 0.0417 - val_acc: 0.9853\n",
            "Epoch 3/5\n",
            "60000/60000 [==============================] - 147s 2ms/sample - loss: 0.0644 - acc: 0.9803 - val_loss: 0.0336 - val_acc: 0.9890\n",
            "Epoch 4/5\n",
            "60000/60000 [==============================] - 145s 2ms/sample - loss: 0.0534 - acc: 0.9840 - val_loss: 0.0315 - val_acc: 0.9906\n",
            "Epoch 5/5\n",
            "60000/60000 [==============================] - 145s 2ms/sample - loss: 0.0435 - acc: 0.9864 - val_loss: 0.0330 - val_acc: 0.9889\n"
          ],
          "name": "stdout"
        },
        {
          "output_type": "execute_result",
          "data": {
            "text/plain": [
              "<tensorflow.python.keras.callbacks.History at 0x7f7a0dba2d68>"
            ]
          },
          "metadata": {
            "tags": []
          },
          "execution_count": 11
        }
      ]
    },
    {
      "cell_type": "code",
      "metadata": {
        "id": "Lxs9yAqjL4eb",
        "outputId": "3f8ba029-b202-4082-8d5d-0b8442713056",
        "colab": {
          "base_uri": "https://localhost:8080/",
          "height": 67
        }
      },
      "source": [
        "score=model.evaluate(x_test,y_test)\n",
        "\n",
        "print('Test loss',score[0])\n",
        "print('Test accuracy',score[1])"
      ],
      "execution_count": null,
      "outputs": [
        {
          "output_type": "stream",
          "text": [
            "10000/10000 [==============================] - 6s 635us/sample - loss: 0.0330 - acc: 0.9889\n",
            "Test loss 0.03301563676322985\n",
            "Test accuracy 0.9889\n"
          ],
          "name": "stdout"
        }
      ]
    },
    {
      "cell_type": "code",
      "metadata": {
        "id": "XHS-zYKkL4hA",
        "outputId": "71d16521-0e7c-41c7-cdc5-64d32dc5eb47",
        "colab": {
          "base_uri": "https://localhost:8080/",
          "height": 437
        }
      },
      "source": [
        "model.layers[0]._name='conv_0'\n",
        "print(model.layers[0].name)\n",
        "\n",
        "model.summary()"
      ],
      "execution_count": null,
      "outputs": [
        {
          "output_type": "stream",
          "text": [
            "conv_0\n",
            "Model: \"sequential\"\n",
            "_________________________________________________________________\n",
            "Layer (type)                 Output Shape              Param #   \n",
            "=================================================================\n",
            "conv_0 (Conv2D)              (None, 26, 26, 32)        320       \n",
            "_________________________________________________________________\n",
            "conv_1 (Conv2D)              (None, 24, 24, 64)        18496     \n",
            "_________________________________________________________________\n",
            "pool_1 (MaxPooling2D)        (None, 12, 12, 64)        0         \n",
            "_________________________________________________________________\n",
            "dropout_1 (Dropout)          (None, 12, 12, 64)        0         \n",
            "_________________________________________________________________\n",
            "flate_1 (Flatten)            (None, 9216)              0         \n",
            "_________________________________________________________________\n",
            "dense_1 (Dense)              (None, 128)               1179776   \n",
            "_________________________________________________________________\n",
            "dropout_2 (Dropout)          (None, 128)               0         \n",
            "_________________________________________________________________\n",
            "output_layer (Dense)         (None, 10)                1290      \n",
            "=================================================================\n",
            "Total params: 1,199,882\n",
            "Trainable params: 1,199,882\n",
            "Non-trainable params: 0\n",
            "_________________________________________________________________\n"
          ],
          "name": "stdout"
        }
      ]
    },
    {
      "cell_type": "code",
      "metadata": {
        "id": "DZZh4z0gL4jd",
        "outputId": "3d19972e-78ad-416c-958f-736d242dba4a",
        "colab": {
          "base_uri": "https://localhost:8080/",
          "height": 67
        }
      },
      "source": [
        "score=model.evaluate(x_test,y_test)\n",
        "\n",
        "print('Test loss',score[0])\n",
        "print('Test accuracy',score[1])"
      ],
      "execution_count": null,
      "outputs": [
        {
          "output_type": "stream",
          "text": [
            "10000/10000 [==============================] - 6s 635us/sample - loss: 0.0330 - acc: 0.9889\n",
            "Test loss 0.03301563676322985\n",
            "Test accuracy 0.9889\n"
          ],
          "name": "stdout"
        }
      ]
    },
    {
      "cell_type": "code",
      "metadata": {
        "id": "KOWogdT1L4qZ"
      },
      "source": [
        "def visualize_conv_layer(layer_name):\n",
        "  \n",
        "  layer_output=model.get_layer(layer_name).output\n",
        "\n",
        "  intermediate_model=tf.keras.models.Model(inputs=model.input,outputs=layer_output)\n",
        "\n",
        "  intermediate_prediction=intermediate_model.predict(x_train[2].reshape(1,28,28,1))\n",
        "  \n",
        "  row_size=4\n",
        "  col_size=8\n",
        "  \n",
        "  img_index=0\n",
        "\n",
        "  print(np.shape(intermediate_prediction))\n",
        "  \n",
        "  fig,ax=plt.subplots(row_size,col_size,figsize=(10,8))\n",
        "\n",
        "  for row in range(0,row_size):\n",
        "    for col in range(0,col_size):\n",
        "      ax[row][col].imshow(intermediate_prediction[0, :, :, img_index], cmap='gray')\n",
        "\n",
        "      img_index=img_index+1\n"
      ],
      "execution_count": null,
      "outputs": []
    },
    {
      "cell_type": "code",
      "metadata": {
        "id": "HPZBdOwFNDCo",
        "outputId": "82bb768d-3825-49de-efe8-5fb951e1e3de",
        "colab": {
          "base_uri": "https://localhost:8080/",
          "height": 468
        }
      },
      "source": [
        "visualize_conv_layer('conv_0')"
      ],
      "execution_count": null,
      "outputs": [
        {
          "output_type": "stream",
          "text": [
            "(1, 26, 26, 32)\n"
          ],
          "name": "stdout"
        },
        {
          "output_type": "display_data",
          "data": {
            "image/png": "[encoded data removed]",
            "text/plain": [
              "<Figure size 720x576 with 32 Axes>"
            ]
          },
          "metadata": {
            "tags": []
          }
        }
      ]
    },
    {
      "cell_type": "code",
      "metadata": {
        "id": "3u24pYJBMFI3",
        "colab": {
          "base_uri": "https://localhost:8080/",
          "height": 468
        },
        "outputId": "c5251a81-19b3-454e-dc12-99250746e1da"
      },
      "source": [
        "visualize_conv_layer('conv_1')"
      ],
      "execution_count": null,
      "outputs": [
        {
          "output_type": "stream",
          "text": [
            "(1, 24, 24, 64)\n"
          ],
          "name": "stdout"
        },
        {
          "output_type": "display_data",
          "data": {
            "image/png": "[encoded data removed]",
            "text/plain": [
              "<Figure size 720x576 with 32 Axes>"
            ]
          },
          "metadata": {
            "tags": []
          }
        }
      ]
    },
    {
      "cell_type": "code",
      "metadata": {
        "id": "JePupVXiNDG3"
      },
      "source": [
        ""
      ],
      "execution_count": null,
      "outputs": []
    },
    {
      "cell_type": "code",
      "metadata": {
        "id": "aAT22wWDNDKE"
      },
      "source": [
        ""
      ],
      "execution_count": null,
      "outputs": []
    }
  ]
}