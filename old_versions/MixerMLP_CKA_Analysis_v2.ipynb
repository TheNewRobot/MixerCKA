{
  "cells": [
    {
      "cell_type": "markdown",
      "metadata": {
        "id": "-zSzgroG_Suq"
      },
      "source": [
        "# Study of Image classification with modern MLP Mixer model and CKA\n",
        "\n",
        "**Author:** [Arturo Flores](https://www.linkedin.com/in/afloresalv/)<br>\n",
        "**Based on (MLP-MIXER):**  https://keras.io/examples/vision/mlp_image_classification/"
      ]
    },
    {
      "cell_type": "markdown",
      "metadata": {
        "id": "VmtajQ2N_Suw"
      },
      "source": [
        "## Introduction\n",
        "\n",
        "This example implements three modern attention-free, multi-layer perceptron (MLP) based models for image\n",
        "classification, demonstrated on the CIFAR-100 dataset:\n",
        "\n",
        "1. The [MLP-Mixer](https://arxiv.org/abs/2105.01601) model, by Ilya Tolstikhin et al., based on two types of MLPs.\n",
        "\n",
        "The purpose of the example is not to compare between these models, as they might perform differently on\n",
        "different datasets with well-tuned hyperparameters. Rather, it is to show simple implementations of their\n",
        "main building blocks.\n",
        "\n",
        "This example requires TensorFlow 2.4 or higher, as well as\n",
        "[TensorFlow Addons](https://www.tensorflow.org/addons/overview),\n",
        "which can be installed using the following command:\n",
        "\n",
        "```shell\n",
        "pip install -U tensorflow-addons\n",
        "update tensorflow core to 2.7.0\n",
        "```"
      ]
    },
    {
      "cell_type": "markdown",
      "metadata": {
        "id": "U087DdDw_Suy"
      },
      "source": [
        "## Setup for the MLP-Mixer Architecture"
      ]
    },
    {
      "cell_type": "code",
      "execution_count": 1,
      "metadata": {
        "id": "AnTyoluw_Suz"
      },
      "outputs": [
        {
          "name": "stderr",
          "output_type": "stream",
          "text": [
            "D:\\Program_Files\\Anaconda3\\envs\\dl1\\lib\\site-packages\\tensorflow_addons\\utils\\ensure_tf_install.py:67: UserWarning: Tensorflow Addons supports using Python ops for all Tensorflow versions above or equal to 2.3.0 and strictly below 2.6.0 (nightly versions are not supported). \n",
            " The versions of TensorFlow you are currently using is 2.7.0 and is not supported. \n",
            "Some things might work, some things might not.\n",
            "If you were to encounter a bug, do not file an issue.\n",
            "If you want to make sure you're using a tested and supported configuration, either change the TensorFlow version or the TensorFlow Addons's version. \n",
            "You can find the compatibility matrix in TensorFlow Addon's readme:\n",
            "https://github.com/tensorflow/addons\n",
            "  UserWarning,\n"
          ]
        }
      ],
      "source": [
        "import numpy as np\n",
        "import tensorflow as tf\n",
        "from tensorflow import keras\n",
        "from tensorflow.keras import layers\n",
        "import tensorflow_addons as tfa\n",
        "import matplotlib.pyplot as plt "
      ]
    },
    {
      "cell_type": "markdown",
      "metadata": {
        "id": "fUuu2OAS_Su0"
      },
      "source": [
        "## Prepare the data\n",
        "C1FAR 100 = 100 classes, each 600 images"
      ]
    },
    {
      "cell_type": "code",
      "execution_count": 2,
      "metadata": {
        "id": "z_1Ql-fV_Su1"
      },
      "outputs": [
        {
          "name": "stdout",
          "output_type": "stream",
          "text": [
            "x_train shape: (50000, 32, 32, 3) - y_train shape: (50000, 1)\n",
            "x_test shape: (10000, 32, 32, 3) - y_test shape: (10000, 1)\n"
          ]
        }
      ],
      "source": [
        "num_classes = 100\n",
        "input_shape = (32, 32, 3)\n",
        "\n",
        "(x_train, y_train), (x_test, y_test) = keras.datasets.cifar100.load_data()\n",
        "\n",
        "print(f\"x_train shape: {x_train.shape} - y_train shape: {y_train.shape}\")\n",
        "print(f\"x_test shape: {x_test.shape} - y_test shape: {y_test.shape}\")\n",
        "#plt.imshow(x_train[1])"
      ]
    },
    {
      "cell_type": "markdown",
      "metadata": {
        "id": "8DAOrIHu_Su2"
      },
      "source": [
        "## Configure the hyperparameters"
      ]
    },
    {
      "cell_type": "code",
      "execution_count": 3,
      "metadata": {
        "id": "1iMiVS7o_Su3"
      },
      "outputs": [
        {
          "name": "stdout",
          "output_type": "stream",
          "text": [
            "Image size: 64 X 64 = 4096\n",
            "Patch size: 8 X 8 = 64 \n",
            "Patches per image: 64\n",
            "Elements per patch (3 channels): 192\n"
          ]
        }
      ],
      "source": [
        "weight_decay = 0.0001\n",
        "batch_size = 128 # The paper also fine tunes this to 512\n",
        "num_epochs = 50\n",
        "dropout_rate = 0.2\n",
        "image_size = 64  # We'll resize input images to this size. Square\n",
        "patch_size = 8  # Size of the patches to be extracted from the input images. Square\n",
        "num_patches = (image_size // patch_size) ** 2  # Size of the data array, or sequence length (S)\n",
        "embedding_dim = 256  # Number of hidden units.\n",
        "num_blocks = 4  # Number of Mixer Layers\n",
        "num_example = 10\n",
        "\n",
        "print(f\"Image size: {image_size} X {image_size} = {image_size ** 2}\")\n",
        "print(f\"Patch size: {patch_size} X {patch_size} = {patch_size ** 2} \")\n",
        "print(f\"Patches per image: {num_patches}\")\n",
        "print(f\"Elements per patch (3 channels): {(patch_size ** 2) * 3}\")"
      ]
    },
    {
      "cell_type": "markdown",
      "metadata": {
        "id": "08mpnEZH_Su5"
      },
      "source": [
        "## Build a classification model\n",
        "\n",
        "We implement a method that builds a classifier given the processing blocks. \\\n",
        "Positional Encoding = https://kazemnejad.com/blog/transformer_architecture_positional_encoding/  \n"
      ]
    },
    {
      "cell_type": "code",
      "execution_count": 4,
      "metadata": {
        "id": "Ra-bXojQ_Su6"
      },
      "outputs": [],
      "source": [
        "\n",
        "def build_classifier(blocks, positional_encoding=False):\n",
        "    inputs = layers.Input(shape=input_shape)\n",
        "    # Augment data. \n",
        "    augmented = data_augmentation(inputs)\n",
        "    # Create patches. \n",
        "    patches = Patches(patch_size, num_patches)(augmented)\n",
        "    # Encode patches to generate a [batch_size, num_patches, embedding_dim] tensor.\n",
        "    x = layers.Dense(units=embedding_dim)(patches)\n",
        "    if positional_encoding:\n",
        "        positions = tf.range(start=0, limit=num_patches, delta=1)\n",
        "        position_embedding = layers.Embedding(\n",
        "            input_dim=num_patches, output_dim=embedding_dim\n",
        "        )(positions)\n",
        "        x = x + position_embedding\n",
        "    # Process x using the module blocks. ## (sequential_82)\n",
        "    x = blocks(x)\n",
        "    # Apply global average pooling to generate a [batch_size, embedding_dim] representation tensor. \n",
        "    representation = layers.GlobalAveragePooling1D()(x)\n",
        "    # Apply dropout.\n",
        "    representation = layers.Dropout(rate=dropout_rate)(representation)\n",
        "    # Compute logits outputs.\n",
        "    logits = layers.Dense(num_classes)(representation) \n",
        "    # Create the Keras model.\n",
        "    return keras.Model(inputs=inputs, outputs=logits)\n"
      ]
    },
    {
      "cell_type": "markdown",
      "metadata": {
        "id": "cpQFU8H__Su8"
      },
      "source": [
        "## Define an experiment\n",
        "\n",
        "We implement a utility function to compile, train, and evaluate a given model. \\\n",
        "Adam Algorithm with Weight Decay: https://www.tensorflow.org/addons/api_docs/python/tfa/optimizers/AdamW \\\n",
        "Losses: https://keras.io/api/losses/ \\\n",
        "Reduce learning rate: https://keras.io/api/callbacks/reduce_lr_on_plateau/ \\\n",
        "Logits: https://www.youtube.com/watch?v=icQaFxKa_J0\n"
      ]
    },
    {
      "cell_type": "code",
      "execution_count": 5,
      "metadata": {
        "id": "9E1zD2BY_Su8"
      },
      "outputs": [],
      "source": [
        "\n",
        "def run_experiment(model):\n",
        "    # Create Adam optimizer with weight decay. Regularization that penalizes the increase of weight - with a facto alpha - to correct the overfitting\n",
        "    optimizer = tfa.optimizers.AdamW(\n",
        "        learning_rate=learning_rate, weight_decay=weight_decay,\n",
        "    )\n",
        "    # Compile the model.\n",
        "    model.compile(\n",
        "        optimizer=optimizer,\n",
        "        #Negative Log Likelihood = Categorical Cross Entropy\n",
        "        loss=keras.losses.SparseCategoricalCrossentropy(from_logits=True),\n",
        "        metrics=[\n",
        "            keras.metrics.SparseCategoricalAccuracy(name=\"acc\"),\n",
        "            keras.metrics.SparseTopKCategoricalAccuracy(5, name=\"top5-acc\"),\n",
        "        ],\n",
        "    )\n",
        "    # Create a learning rate scheduler callback.\n",
        "    reduce_lr = keras.callbacks.ReduceLROnPlateau(\n",
        "        monitor=\"val_loss\", factor=0.5, patience=5\n",
        "    )\n",
        "    # Create an early stopping regularization callback. \n",
        "    # It ends at a point that corresponds to a minimum of the L2-regularized objective\n",
        "    early_stopping = tf.keras.callbacks.EarlyStopping(\n",
        "        monitor=\"val_loss\", patience=10, restore_best_weights=True\n",
        "    )\n",
        "    # Fit the model.\n",
        "    history = model.fit(\n",
        "        x=x_train,\n",
        "        y=y_train,\n",
        "        batch_size=batch_size,\n",
        "        epochs=num_epochs,\n",
        "        validation_split=0.1,\n",
        "        callbacks=[early_stopping, reduce_lr],\n",
        "    )\n",
        "\n",
        "    _, accuracy, top_5_accuracy = model.evaluate(x_test, y_test)\n",
        "    print(f\"Test accuracy: {round(accuracy * 100, 2)}%\")\n",
        "    print(f\"Test top 5 accuracy: {round(top_5_accuracy * 100, 2)}%\")\n",
        "\n",
        "    # Return history to plot learning curves.\n",
        "    return history\n"
      ]
    },
    {
      "cell_type": "markdown",
      "metadata": {
        "id": "JxeE0cmM_Su9"
      },
      "source": [
        "## Use data augmentation\n",
        "Their state is not set during training; it must be set before training, either by initializing them from a precomputed constant, or by \"adapting\" them on data."
      ]
    },
    {
      "cell_type": "code",
      "execution_count": 6,
      "metadata": {
        "id": "zh6hFPWX_Su-"
      },
      "outputs": [],
      "source": [
        "data_augmentation = keras.Sequential(\n",
        "    [\n",
        "        layers.Normalization(),\n",
        "        layers.Resizing(image_size, image_size),\n",
        "        layers.RandomFlip(\"horizontal\"),\n",
        "        layers.RandomZoom(\n",
        "            height_factor=0.2, width_factor=0.2\n",
        "        ),\n",
        "    ],\n",
        "    name=\"data_augmentation\",\n",
        ")\n",
        "# Compute the mean and the variance of the training data for normalization.\n",
        "data_augmentation.layers[0].adapt(x_train)\n"
      ]
    },
    {
      "cell_type": "markdown",
      "metadata": {
        "id": "G77cUgiu_Su-"
      },
      "source": [
        "## Implement patch extraction as a layer\n",
        "Atributes and heritage: https://pythones.net/funcion-super-en-python-bien-explicada-ejemplos-oop/ \\\n",
        "Extract Patches: https://www.tensorflow.org/api_docs/python/tf/image/extract_patches \\\n",
        "Reshape: https://www.tensorflow.org/api_docs/python/tf/reshape \\\n",
        "If one component of shape is the special value -1, the size of that dimension is computed so that the total size remains constant. \\\n",
        "Preprocessing data: https://www.tensorflow.org/guide/keras/preprocessing_layers"
      ]
    },
    {
      "cell_type": "code",
      "execution_count": 7,
      "metadata": {
        "id": "RYKNktXe_Su_"
      },
      "outputs": [],
      "source": [
        "\n",
        "class Patches(layers.Layer):\n",
        "    def __init__(self, patch_size, num_patches):\n",
        "        super(Patches, self).__init__()\n",
        "        self.patch_size = patch_size\n",
        "        self.num_patches = num_patches\n",
        "\n",
        "    def call(self, images):\n",
        "        #Extract the shape dimension in the position 0 = columns\n",
        "        batch_size = tf.shape(images)[0]\n",
        "        patches = tf.image.extract_patches(\n",
        "            images=images,\n",
        "            sizes=[1, self.patch_size, self.patch_size, 1],\n",
        "            #Without overlapping, stride horizontally and vertically\n",
        "            strides=[1, self.patch_size, self.patch_size, 1],\n",
        "            #Rate: Dilation factor [1 1* 1* 1] controls the spacing between the kernel points.\n",
        "            rates=[1, 1, 1, 1],\n",
        "            #Patches contained in the images are considered, no zero padding\n",
        "            padding=\"VALID\",\n",
        "        )\n",
        "        #shape[-1], number of colummns, as well as shape[0]\n",
        "        patch_dims = patches.shape[-1]\n",
        "        patches = tf.reshape(patches, [batch_size, self.num_patches, patch_dims])\n",
        "        return patches\n"
      ]
    },
    {
      "cell_type": "markdown",
      "metadata": {
        "id": "l7yehcSS_Su_"
      },
      "source": [
        "## The MLP-Mixer model\n",
        "\n",
        "The MLP-Mixer is an architecture based exclusively on\n",
        "multi-layer perceptrons (MLPs), that contains two types of MLP layers:\n",
        "\n",
        "1. One applied independently to image patches, which mixes the per-location features.\n",
        "2. The other applied across patches (along channels), which mixes spatial information.\n",
        "\n",
        "This is similar to a [depthwise separable convolution based model](https://arxiv.org/pdf/1610.02357.pdf)\n",
        "such as the Xception model, but with two chained dense transforms, no max pooling, and layer normalization\n",
        "instead of batch normalization."
      ]
    },
    {
      "cell_type": "markdown",
      "metadata": {
        "id": "vvwg4e2n_SvA"
      },
      "source": [
        "### Implement the MLP-Mixer module"
      ]
    },
    {
      "cell_type": "code",
      "execution_count": 8,
      "metadata": {
        "id": "dT6wVEki_SvA"
      },
      "outputs": [],
      "source": [
        "\n",
        "class MLPMixerLayer(layers.Layer):\n",
        "    def __init__(self, num_patches, hidden_units, dropout_rate, *args, **kwargs):\n",
        "        super(MLPMixerLayer, self).__init__(*args, **kwargs)\n",
        "\n",
        "        self.mlp1 = keras.Sequential(\n",
        "            [\n",
        "                layers.Dense(units=num_patches),\n",
        "                tfa.layers.GELU(),\n",
        "                layers.Dense(units=num_patches),\n",
        "                layers.Dropout(rate=dropout_rate),\n",
        "            ]\n",
        "        )\n",
        "\n",
        "        self.mlp2 = keras.Sequential(\n",
        "            [\n",
        "                layers.Dense(units=num_patches),\n",
        "                tfa.layers.GELU(),\n",
        "                layers.Dense(units=embedding_dim),\n",
        "                layers.Dropout(rate=dropout_rate),\n",
        "            ]\n",
        "        )\n",
        "        self.normalize = layers.LayerNormalization(epsilon=1e-6)\n",
        "\n",
        "    def call(self, inputs):\n",
        "        # Apply layer normalization.\n",
        "        x = self.normalize(inputs)\n",
        "        # Transpose inputs from [num_batches, num_patches, hidden_units] to [num_batches, hidden_units, num_patches].\n",
        "        x_channels = tf.linalg.matrix_transpose(x)\n",
        "        # Apply mlp1 on each channel independently.\n",
        "        mlp1_outputs = self.mlp1(x_channels)\n",
        "        # Transpose mlp1_outputs from [num_batches, hidden_dim, num_patches] to [num_batches, num_patches, hidden_units].\n",
        "        mlp1_outputs = tf.linalg.matrix_transpose(mlp1_outputs)\n",
        "        # Add skip connection.\n",
        "        x = mlp1_outputs + inputs\n",
        "        # Apply layer normalization.\n",
        "        x_patches = self.normalize(x)\n",
        "        # Apply mlp2 on each patch independtenly.\n",
        "        mlp2_outputs = self.mlp2(x_patches)\n",
        "        # Add skip connection.\n",
        "        x = x + mlp2_outputs\n",
        "        return x"
      ]
    },
    {
      "cell_type": "markdown",
      "metadata": {
        "id": "zUiufq92_SvA"
      },
      "source": [
        "### Build, train, and evaluate the MLP-Mixer model\n",
        "\n",
        "Note that training the model with the current settings on a V100 GPUs\n",
        "takes around 8 seconds per epoch."
      ]
    },
    {
      "cell_type": "code",
      "execution_count": 9,
      "metadata": {},
      "outputs": [],
      "source": [
        "# Report: Learning Curve\n",
        "def curves(histories):\n",
        "    plt.title(\"Cross Entropy Loss\")\n",
        "    plt.plot(histories.history[\"loss\"], color = 'blue', label = 'Entramiento')\n",
        "    plt.plot(histories.history[\"val_loss\"], color = 'orange', label = 'Testing')\n",
        "    plt.xlabel(\"Epochs\")\n",
        "    plt.legend()\n",
        "    plt.show()\n",
        "    # Graph accuracy\n",
        "    plt.subplot(2,1,1)\n",
        "    plt.title('Classification accuracy')\n",
        "    plt.plot(histories.history['acc'], color = 'blue', label = 'Entramiento')\n",
        "    plt.plot(histories.history['val_acc'], color = 'orange', label = 'Testing')\n",
        "    plt.subplot(2,1,2)\n",
        "    plt.title('Classification top5-acc')\n",
        "    plt.plot(histories.history['top5-acc'], color = 'blue', label = 'Entramiento')\n",
        "    plt.plot(histories.history['val_top5-acc'], color = 'orange', label = 'Testing')\n",
        "    plt.xlabel(\"Epochs\")\n",
        "    plt.legend()\n",
        "    plt.tight_layout()\n",
        "    plt.show()"
      ]
    },
    {
      "cell_type": "code",
      "execution_count": 10,
      "metadata": {},
      "outputs": [
        {
          "name": "stderr",
          "output_type": "stream",
          "text": [
            "C:\\Users\\artur\\AppData\\Roaming\\Python\\Python37\\site-packages\\tensorflow\\python\\autograph\\impl\\api.py:377: UserWarning: Default value of `approximate` is changed from `True` to `False`\n",
            "  return py_builtins.overload_of(f)(*args)\n"
          ]
        },
        {
          "name": "stdout",
          "output_type": "stream",
          "text": [
            "Epoch 1/50\n",
            "352/352 [==============================] - 58s 148ms/step - loss: 3.8288 - acc: 0.1192 - top5-acc: 0.3320 - val_loss: 3.6122 - val_acc: 0.1734 - val_top5-acc: 0.4162 - lr: 0.0050\n",
            "Epoch 2/50\n",
            "352/352 [==============================] - 48s 137ms/step - loss: 3.3579 - acc: 0.1930 - top5-acc: 0.4654 - val_loss: 3.2379 - val_acc: 0.2212 - val_top5-acc: 0.4984 - lr: 0.0050\n",
            "Epoch 3/50\n",
            "352/352 [==============================] - 58s 164ms/step - loss: 3.1578 - acc: 0.2311 - top5-acc: 0.5179 - val_loss: 3.0594 - val_acc: 0.2552 - val_top5-acc: 0.5572 - lr: 0.0050\n",
            "Epoch 4/50\n",
            "352/352 [==============================] - 55s 157ms/step - loss: 2.9935 - acc: 0.2616 - top5-acc: 0.5620 - val_loss: 2.8391 - val_acc: 0.2920 - val_top5-acc: 0.5970 - lr: 0.0050\n",
            "Epoch 5/50\n",
            "352/352 [==============================] - 54s 153ms/step - loss: 2.8900 - acc: 0.2819 - top5-acc: 0.5864 - val_loss: 2.9287 - val_acc: 0.2894 - val_top5-acc: 0.5962 - lr: 0.0050\n",
            "Epoch 6/50\n",
            "352/352 [==============================] - 53s 151ms/step - loss: 2.7977 - acc: 0.2991 - top5-acc: 0.6078 - val_loss: 2.7301 - val_acc: 0.3208 - val_top5-acc: 0.6272 - lr: 0.0050\n",
            "Epoch 7/50\n",
            "352/352 [==============================] - 54s 154ms/step - loss: 2.7115 - acc: 0.3151 - top5-acc: 0.6285 - val_loss: 2.7065 - val_acc: 0.3244 - val_top5-acc: 0.6326 - lr: 0.0050\n",
            "Epoch 8/50\n",
            "352/352 [==============================] - 54s 154ms/step - loss: 2.6441 - acc: 0.3305 - top5-acc: 0.6430 - val_loss: 2.7343 - val_acc: 0.3274 - val_top5-acc: 0.6342 - lr: 0.0050\n",
            "Epoch 9/50\n",
            "352/352 [==============================] - 55s 155ms/step - loss: 2.6099 - acc: 0.3362 - top5-acc: 0.6521 - val_loss: 2.6637 - val_acc: 0.3438 - val_top5-acc: 0.6482 - lr: 0.0050\n",
            "Epoch 10/50\n",
            "352/352 [==============================] - 55s 155ms/step - loss: 2.5745 - acc: 0.3429 - top5-acc: 0.6584 - val_loss: 2.6010 - val_acc: 0.3612 - val_top5-acc: 0.6570 - lr: 0.0050\n",
            "Epoch 11/50\n",
            "352/352 [==============================] - 54s 155ms/step - loss: 2.5347 - acc: 0.3496 - top5-acc: 0.6680 - val_loss: 2.5685 - val_acc: 0.3688 - val_top5-acc: 0.6686 - lr: 0.0050\n",
            "Epoch 12/50\n",
            "352/352 [==============================] - 55s 155ms/step - loss: 2.4981 - acc: 0.3570 - top5-acc: 0.6751 - val_loss: 2.4964 - val_acc: 0.3762 - val_top5-acc: 0.6904 - lr: 0.0050\n",
            "Epoch 13/50\n",
            "352/352 [==============================] - 55s 155ms/step - loss: 2.4714 - acc: 0.3639 - top5-acc: 0.6831 - val_loss: 2.4808 - val_acc: 0.3686 - val_top5-acc: 0.6966 - lr: 0.0050\n",
            "Epoch 14/50\n",
            "352/352 [==============================] - 55s 155ms/step - loss: 2.4408 - acc: 0.3706 - top5-acc: 0.6880 - val_loss: 2.4825 - val_acc: 0.3726 - val_top5-acc: 0.6940 - lr: 0.0050\n",
            "Epoch 15/50\n",
            "352/352 [==============================] - 55s 156ms/step - loss: 2.4274 - acc: 0.3711 - top5-acc: 0.6913 - val_loss: 2.6229 - val_acc: 0.3574 - val_top5-acc: 0.6660 - lr: 0.0050\n",
            "Epoch 16/50\n",
            "352/352 [==============================] - 55s 156ms/step - loss: 2.3973 - acc: 0.3775 - top5-acc: 0.6986 - val_loss: 2.5485 - val_acc: 0.3802 - val_top5-acc: 0.6800 - lr: 0.0050\n",
            "Epoch 17/50\n",
            "352/352 [==============================] - 55s 156ms/step - loss: 2.3656 - acc: 0.3844 - top5-acc: 0.7032 - val_loss: 2.4411 - val_acc: 0.3898 - val_top5-acc: 0.7076 - lr: 0.0050\n",
            "Epoch 18/50\n",
            "352/352 [==============================] - 54s 154ms/step - loss: 2.3418 - acc: 0.3895 - top5-acc: 0.7084 - val_loss: 2.5165 - val_acc: 0.3834 - val_top5-acc: 0.6922 - lr: 0.0050\n",
            "Epoch 19/50\n",
            "352/352 [==============================] - 55s 155ms/step - loss: 2.3178 - acc: 0.3953 - top5-acc: 0.7129 - val_loss: 2.4414 - val_acc: 0.3958 - val_top5-acc: 0.7118 - lr: 0.0050\n",
            "Epoch 20/50\n",
            "352/352 [==============================] - 55s 156ms/step - loss: 2.3082 - acc: 0.3960 - top5-acc: 0.7164 - val_loss: 2.4720 - val_acc: 0.3870 - val_top5-acc: 0.7018 - lr: 0.0050\n",
            "Epoch 21/50\n",
            "352/352 [==============================] - 57s 161ms/step - loss: 2.2781 - acc: 0.4054 - top5-acc: 0.7218 - val_loss: 2.4405 - val_acc: 0.3890 - val_top5-acc: 0.7072 - lr: 0.0050\n",
            "Epoch 22/50\n",
            "352/352 [==============================] - 54s 153ms/step - loss: 2.2763 - acc: 0.4033 - top5-acc: 0.7233 - val_loss: 2.3116 - val_acc: 0.4134 - val_top5-acc: 0.7234 - lr: 0.0050\n",
            "Epoch 23/50\n",
            "352/352 [==============================] - 55s 156ms/step - loss: 2.2519 - acc: 0.4085 - top5-acc: 0.7272 - val_loss: 2.3796 - val_acc: 0.4014 - val_top5-acc: 0.7140 - lr: 0.0050\n",
            "Epoch 24/50\n",
            "352/352 [==============================] - 55s 156ms/step - loss: 2.2311 - acc: 0.4136 - top5-acc: 0.7317 - val_loss: 2.3134 - val_acc: 0.4150 - val_top5-acc: 0.7256 - lr: 0.0050\n",
            "Epoch 25/50\n",
            "352/352 [==============================] - 55s 157ms/step - loss: 2.2188 - acc: 0.4153 - top5-acc: 0.7343 - val_loss: 2.3310 - val_acc: 0.4224 - val_top5-acc: 0.7226 - lr: 0.0050\n",
            "Epoch 26/50\n",
            "352/352 [==============================] - 55s 157ms/step - loss: 2.2039 - acc: 0.4165 - top5-acc: 0.7358 - val_loss: 2.3819 - val_acc: 0.4106 - val_top5-acc: 0.7274 - lr: 0.0050\n",
            "Epoch 27/50\n",
            "352/352 [==============================] - 55s 156ms/step - loss: 2.2049 - acc: 0.4196 - top5-acc: 0.7363 - val_loss: 2.4037 - val_acc: 0.4002 - val_top5-acc: 0.7132 - lr: 0.0050\n",
            "Epoch 28/50\n",
            "352/352 [==============================] - 55s 155ms/step - loss: 1.9709 - acc: 0.4700 - top5-acc: 0.7777 - val_loss: 2.1433 - val_acc: 0.4538 - val_top5-acc: 0.7520 - lr: 0.0025\n",
            "Epoch 29/50\n",
            "352/352 [==============================] - 55s 157ms/step - loss: 1.9152 - acc: 0.4832 - top5-acc: 0.7906 - val_loss: 2.1429 - val_acc: 0.4514 - val_top5-acc: 0.7596 - lr: 0.0025\n",
            "Epoch 30/50\n",
            "352/352 [==============================] - 55s 157ms/step - loss: 1.9018 - acc: 0.4856 - top5-acc: 0.7922 - val_loss: 2.1161 - val_acc: 0.4580 - val_top5-acc: 0.7620 - lr: 0.0025\n",
            "Epoch 31/50\n",
            "352/352 [==============================] - 55s 156ms/step - loss: 1.8858 - acc: 0.4892 - top5-acc: 0.7957 - val_loss: 2.1043 - val_acc: 0.4594 - val_top5-acc: 0.7676 - lr: 0.0025\n",
            "Epoch 32/50\n",
            "352/352 [==============================] - 55s 156ms/step - loss: 1.8801 - acc: 0.4883 - top5-acc: 0.7990 - val_loss: 2.0924 - val_acc: 0.4620 - val_top5-acc: 0.7696 - lr: 0.0025\n",
            "Epoch 33/50\n",
            "352/352 [==============================] - 55s 157ms/step - loss: 1.8658 - acc: 0.4920 - top5-acc: 0.7976 - val_loss: 2.0973 - val_acc: 0.4690 - val_top5-acc: 0.7700 - lr: 0.0025\n",
            "Epoch 34/50\n",
            "352/352 [==============================] - 55s 156ms/step - loss: 1.8664 - acc: 0.4955 - top5-acc: 0.8006 - val_loss: 2.1173 - val_acc: 0.4610 - val_top5-acc: 0.7666 - lr: 0.0025\n",
            "Epoch 35/50\n",
            "352/352 [==============================] - 56s 158ms/step - loss: 1.8479 - acc: 0.4976 - top5-acc: 0.8032 - val_loss: 2.0987 - val_acc: 0.4666 - val_top5-acc: 0.7656 - lr: 0.0025\n",
            "Epoch 36/50\n",
            "352/352 [==============================] - 53s 149ms/step - loss: 1.8507 - acc: 0.4985 - top5-acc: 0.7992 - val_loss: 2.0712 - val_acc: 0.4614 - val_top5-acc: 0.7708 - lr: 0.0025\n",
            "Epoch 37/50\n",
            "352/352 [==============================] - 54s 153ms/step - loss: 1.8340 - acc: 0.4996 - top5-acc: 0.8073 - val_loss: 2.0734 - val_acc: 0.4634 - val_top5-acc: 0.7662 - lr: 0.0025\n",
            "Epoch 38/50\n",
            "352/352 [==============================] - 54s 155ms/step - loss: 1.8316 - acc: 0.4984 - top5-acc: 0.8052 - val_loss: 2.0894 - val_acc: 0.4692 - val_top5-acc: 0.7716 - lr: 0.0025\n",
            "Epoch 39/50\n",
            "352/352 [==============================] - 54s 155ms/step - loss: 1.8233 - acc: 0.5021 - top5-acc: 0.8073 - val_loss: 2.0519 - val_acc: 0.4666 - val_top5-acc: 0.7746 - lr: 0.0025\n",
            "Epoch 40/50\n",
            "352/352 [==============================] - 55s 155ms/step - loss: 1.8260 - acc: 0.5034 - top5-acc: 0.8079 - val_loss: 2.0584 - val_acc: 0.4728 - val_top5-acc: 0.7708 - lr: 0.0025\n",
            "Epoch 41/50\n",
            "352/352 [==============================] - 54s 154ms/step - loss: 1.8220 - acc: 0.5021 - top5-acc: 0.8083 - val_loss: 2.0734 - val_acc: 0.4634 - val_top5-acc: 0.7696 - lr: 0.0025\n",
            "Epoch 42/50\n",
            "352/352 [==============================] - 54s 154ms/step - loss: 1.8092 - acc: 0.5042 - top5-acc: 0.8108 - val_loss: 2.0580 - val_acc: 0.4734 - val_top5-acc: 0.7754 - lr: 0.0025\n",
            "Epoch 43/50\n",
            "352/352 [==============================] - 54s 155ms/step - loss: 1.8026 - acc: 0.5059 - top5-acc: 0.8110 - val_loss: 2.0750 - val_acc: 0.4768 - val_top5-acc: 0.7688 - lr: 0.0025\n",
            "Epoch 44/50\n",
            "352/352 [==============================] - 54s 155ms/step - loss: 1.8038 - acc: 0.5056 - top5-acc: 0.8115 - val_loss: 2.1397 - val_acc: 0.4510 - val_top5-acc: 0.7586 - lr: 0.0025\n",
            "Epoch 45/50\n",
            "352/352 [==============================] - 55s 156ms/step - loss: 1.6543 - acc: 0.5434 - top5-acc: 0.8358 - val_loss: 2.0267 - val_acc: 0.4814 - val_top5-acc: 0.7830 - lr: 0.0012\n",
            "Epoch 46/50\n",
            "352/352 [==============================] - 55s 156ms/step - loss: 1.6264 - acc: 0.5491 - top5-acc: 0.8419 - val_loss: 1.9566 - val_acc: 0.4914 - val_top5-acc: 0.7856 - lr: 0.0012\n",
            "Epoch 47/50\n",
            "352/352 [==============================] - 55s 155ms/step - loss: 1.6255 - acc: 0.5499 - top5-acc: 0.8409 - val_loss: 1.9998 - val_acc: 0.4872 - val_top5-acc: 0.7894 - lr: 0.0012\n",
            "Epoch 48/50\n",
            "352/352 [==============================] - 55s 156ms/step - loss: 1.6204 - acc: 0.5507 - top5-acc: 0.8420 - val_loss: 1.9653 - val_acc: 0.4894 - val_top5-acc: 0.7888 - lr: 0.0012\n",
            "Epoch 49/50\n",
            "352/352 [==============================] - 56s 158ms/step - loss: 1.6225 - acc: 0.5496 - top5-acc: 0.8413 - val_loss: 2.0053 - val_acc: 0.4870 - val_top5-acc: 0.7904 - lr: 0.0012\n",
            "Epoch 50/50\n",
            "352/352 [==============================] - 55s 155ms/step - loss: 1.6218 - acc: 0.5492 - top5-acc: 0.8423 - val_loss: 2.0311 - val_acc: 0.4794 - val_top5-acc: 0.7782 - lr: 0.0012\n",
            "313/313 [==============================] - 11s 36ms/step - loss: 1.9715 - acc: 0.4903 - top5-acc: 0.7853\n",
            "Test accuracy: 49.03%\n",
            "Test top 5 accuracy: 78.53%\n"
          ]
        }
      ],
      "source": [
        "mlpmixer_blocks = keras.Sequential(\n",
        "    [MLPMixerLayer(num_patches, embedding_dim, dropout_rate) for _ in range(num_blocks)] # creates the number of block without a \n",
        ")\n",
        "learning_rate = 0.005\n",
        "mlpmixer_classifier = build_classifier(mlpmixer_blocks) # Returns the model\n",
        "history = run_experiment(mlpmixer_classifier)"
      ]
    },
    {
      "cell_type": "code",
      "execution_count": 11,
      "metadata": {},
      "outputs": [
        {
          "name": "stdout",
          "output_type": "stream",
          "text": [
            "Model: \"model\"\n",
            "_________________________________________________________________\n",
            " Layer (type)                Output Shape              Param #   \n",
            "=================================================================\n",
            " input_1 (InputLayer)        [(None, 32, 32, 3)]       0         \n",
            "                                                                 \n",
            " data_augmentation (Sequenti  (None, 64, 64, 3)        7         \n",
            " al)                                                             \n",
            "                                                                 \n",
            " patches (Patches)           (None, 64, 192)           0         \n",
            "                                                                 \n",
            " dense_16 (Dense)            (None, 64, 256)           49408     \n",
            "                                                                 \n",
            " sequential_8 (Sequential)   (None, 64, 256)           167680    \n",
            "                                                                 \n",
            " global_average_pooling1d (G  (None, 256)              0         \n",
            " lobalAveragePooling1D)                                          \n",
            "                                                                 \n",
            " dropout_8 (Dropout)         (None, 256)               0         \n",
            "                                                                 \n",
            " dense_17 (Dense)            (None, 100)               25700     \n",
            "                                                                 \n",
            "=================================================================\n",
            "Total params: 242,795\n",
            "Trainable params: 242,788\n",
            "Non-trainable params: 7\n",
            "_________________________________________________________________\n"
          ]
        }
      ],
      "source": [
        "#Show the structure of the Mixer-MLP \n",
        "mlpmixer_classifier.summary()"
      ]
    },
    {
      "cell_type": "code",
      "execution_count": 12,
      "metadata": {},
      "outputs": [
        {
          "name": "stdout",
          "output_type": "stream",
          "text": [
            "Model: \"sequential\"\n",
            "_________________________________________________________________\n",
            " Layer (type)                Output Shape              Param #   \n",
            "=================================================================\n",
            " dense (Dense)               (None, 256, 64)           4160      \n",
            "                                                                 \n",
            " gelu (GELU)                 (None, 256, 64)           0         \n",
            "                                                                 \n",
            " dense_1 (Dense)             (None, 256, 64)           4160      \n",
            "                                                                 \n",
            " dropout (Dropout)           (None, 256, 64)           0         \n",
            "                                                                 \n",
            "=================================================================\n",
            "Total params: 8,320\n",
            "Trainable params: 8,320\n",
            "Non-trainable params: 0\n",
            "_________________________________________________________________\n"
          ]
        }
      ],
      "source": [
        "#Show the structure of a mlp1 (the first block of the Mixer-MLP layer) \n",
        "mlpmixer_classifier.layers[4].layers[0].mlp1.summary()"
      ]
    },
    {
      "cell_type": "code",
      "execution_count": 13,
      "metadata": {},
      "outputs": [
        {
          "name": "stdout",
          "output_type": "stream",
          "text": [
            "Model: \"sequential_1\"\n",
            "_________________________________________________________________\n",
            " Layer (type)                Output Shape              Param #   \n",
            "=================================================================\n",
            " dense_2 (Dense)             (None, 64, 64)            16448     \n",
            "                                                                 \n",
            " gelu_1 (GELU)               (None, 64, 64)            0         \n",
            "                                                                 \n",
            " dense_3 (Dense)             (None, 64, 256)           16640     \n",
            "                                                                 \n",
            " dropout_1 (Dropout)         (None, 64, 256)           0         \n",
            "                                                                 \n",
            "=================================================================\n",
            "Total params: 33,088\n",
            "Trainable params: 33,088\n",
            "Non-trainable params: 0\n",
            "_________________________________________________________________\n"
          ]
        }
      ],
      "source": [
        "#Show the structure of a mlp2 (the second block of the Mixer-MLP layer) \n",
        "mlpmixer_classifier.layers[4].layers[0].mlp2.summary()"
      ]
    },
    {
      "cell_type": "code",
      "execution_count": 14,
      "metadata": {},
      "outputs": [
        {
          "data": {
            "image/png": "[encoded data removed]",
            "text/plain": [
              "<Figure size 432x288 with 1 Axes>"
            ]
          },
          "metadata": {
            "needs_background": "light"
          },
          "output_type": "display_data"
        },
        {
          "data": {
            "image/png": "[encoded data removed]",
            "text/plain": [
              "<Figure size 432x288 with 2 Axes>"
            ]
          },
          "metadata": {
            "needs_background": "light"
          },
          "output_type": "display_data"
        }
      ],
      "source": [
        "curves(history)"
      ]
    },
    {
      "cell_type": "markdown",
      "metadata": {
        "id": "_1R6tSH2_SvC"
      },
      "source": [
        "The MLP-Mixer model tends to have much less number of parameters compared\n",
        "to convolutional and transformer-based models, which leads to less training and\n",
        "serving computational cost.\n",
        "\n",
        "As mentioned in the [MLP-Mixer](https://arxiv.org/abs/2105.01601) paper,\n",
        "when pre-trained on large datasets, or with modern regularization schemes,\n",
        "the MLP-Mixer attains competitive scores to state-of-the-art models.\n",
        "You can obtain better results by increasing the embedding dimensions,\n",
        "increasing the number of mixer blocks, and training the model for longer.\n",
        "You may also try to increase the size of the input images and use different patch sizes."
      ]
    },
    {
      "cell_type": "markdown",
      "metadata": {},
      "source": [
        "## Visualization of activations of each MLP-Mixer block -V2.0\n",
        "Considering just the input and output of the whole block (mlp1 + mlp2)"
      ]
    },
    {
      "cell_type": "code",
      "execution_count": 15,
      "metadata": {},
      "outputs": [],
      "source": [
        "def visualize_out(result,layer_number,example):\n",
        "    fig, (ax1, ax2)= plt.subplots(1,2)\n",
        "    ax1.imshow(x_train[example])\n",
        "    ax1.set_title('Original_Figure, Class: #' + str(y_train[example][0]))\n",
        "    ax2.imshow(result[layer_number])\n",
        "    ax2.set_title('Activations of MLP block of the Mixer #: '+ '\"' + str(layer_number) + '\"')\n",
        "    print(\"Shape of the example (width,height,channels)\")\n",
        "    print(np.shape(x_train[example]))\n",
        "    return None"
      ]
    },
    {
      "cell_type": "code",
      "execution_count": 16,
      "metadata": {},
      "outputs": [],
      "source": [
        "# Preprocessing Layers + Patches + One dense layer\n",
        "def Regularization(num_example):\n",
        "    augmented = data_augmentation(x_train[num_example])\n",
        "    b = Patches(patch_size, num_patches)(augmented)\n",
        "    a = layers.Dense(units=embedding_dim)(b)\n",
        "    inp = tf.reshape(a,[1,embedding_dim,num_patches])\n",
        "    return inp"
      ]
    },
    {
      "cell_type": "code",
      "execution_count": 53,
      "metadata": {},
      "outputs": [],
      "source": [
        "## Computes the outputs of each MLP-mixer Layer\n",
        "def Mixer_Activations(example):\n",
        "    total_activations = list()\n",
        "    for i in range(num_blocks):\n",
        "        #Shape of the input for the mlp1\n",
        "        model = mlpmixer_classifier.layers[4].layers[i]\n",
        "        int_total_activations = Mixer_Layer_Outputs(model,example)\n",
        "        #Shape of the input for the mlp2\n",
        "        total_activations.append(int_total_activations)\n",
        "    return total_activations"
      ]
    },
    {
      "cell_type": "code",
      "execution_count": 52,
      "metadata": {},
      "outputs": [],
      "source": [
        "# Runs the prediction and the partial model to obtain the activations\n",
        "def Mixer_Layer_Outputs(model,example):\n",
        "    intermediate_model=tf.keras.models.Model(inputs=model.input,outputs=model.output)\n",
        "    #This reshape is necessary for the input of the model\n",
        "    example = tf.reshape(example,[1,num_patches,embedding_dim])\n",
        "    #Inference\n",
        "    intermediate_prediction =intermediate_model.predict(example)\n",
        "    #This reshape is standardize the output\n",
        "    layactivation = intermediate_prediction.reshape((embedding_dim,num_patches))\n",
        "    return layactivation"
      ]
    },
    {
      "cell_type": "code",
      "execution_count": 19,
      "metadata": {},
      "outputs": [],
      "source": [
        "#Run separtely to avoid randomness\n",
        "example = Regularization(num_example)"
      ]
    },
    {
      "cell_type": "code",
      "execution_count": 54,
      "metadata": {},
      "outputs": [
        {
          "name": "stderr",
          "output_type": "stream",
          "text": [
            "C:\\Users\\artur\\AppData\\Roaming\\Python\\Python37\\site-packages\\tensorflow\\python\\autograph\\impl\\api.py:377: UserWarning: Default value of `approximate` is changed from `True` to `False`\n",
            "  return py_builtins.overload_of(f)(*args)\n"
          ]
        }
      ],
      "source": [
        "result = Mixer_Activations(example)"
      ]
    },
    {
      "cell_type": "code",
      "execution_count": 55,
      "metadata": {},
      "outputs": [
        {
          "data": {
            "text/plain": [
              "4"
            ]
          },
          "execution_count": 55,
          "metadata": {},
          "output_type": "execute_result"
        }
      ],
      "source": [
        "len(result)"
      ]
    },
    {
      "cell_type": "code",
      "execution_count": 56,
      "metadata": {},
      "outputs": [
        {
          "name": "stdout",
          "output_type": "stream",
          "text": [
            "Shape of the example (width,height,channels)\n",
            "(32, 32, 3)\n"
          ]
        },
        {
          "data": {
            "image/png": "[encoded data removed]",
            "text/plain": [
              "<Figure size 432x288 with 2 Axes>"
            ]
          },
          "metadata": {
            "needs_background": "light"
          },
          "output_type": "display_data"
        }
      ],
      "source": [
        "#Select a MixerBlock and visualize the activation\n",
        "n_MixerLayer = 3\n",
        "visualize_out(result,n_MixerLayer,num_example)"
      ]
    },
    {
      "cell_type": "markdown",
      "metadata": {},
      "source": [
        "## CKA Kernel"
      ]
    },
    {
      "cell_type": "markdown",
      "metadata": {},
      "source": [
        "### Setup additional libraries\n",
        "\n",
        "Selected GitHub: https://github.com/yuanli2333/CKA-Centered-Kernel-Alignment/blob/master/CKA.ipynb \\\n",
        "GitHub2: https://github.com/jayroxis/CKA-similarity/blob/main/CKA.ipynb \\\n",
        "Paper: https://arxiv.org/pdf/1905.00414.pdf"
      ]
    },
    {
      "cell_type": "code",
      "execution_count": 22,
      "metadata": {},
      "outputs": [],
      "source": [
        "# Files imported from the sleected GitHub\n",
        "from CKA import linear_CKA, kernel_CKA\n",
        "import seaborn as sns "
      ]
    },
    {
      "cell_type": "code",
      "execution_count": 23,
      "metadata": {},
      "outputs": [],
      "source": [
        "# Calculates a heatmap according to the selection of a CKA_Kernel (preferred) or CKA_Linear\n",
        "def Heatmap(result,type):\n",
        "    dim = len(result)\n",
        "    heatmap_CKA = np.zeros((dim,dim))\n",
        "    for i in range(0,dim):\n",
        "        for j in range(0,dim):\n",
        "            if type == 'kernel':\n",
        "                heatmap_CKA[i][j] = kernel_CKA(result[i],result[j])\n",
        "            elif type == 'linear':\n",
        "                heatmap_CKA[i][j] = linear_CKA(result[i],result[j])  \n",
        "            else:\n",
        "                print('There is no such category, try again')\n",
        "                break\n",
        "    print('CKA' + type + 'calculated')\n",
        "    return heatmap_CKA"
      ]
    },
    {
      "cell_type": "code",
      "execution_count": 65,
      "metadata": {},
      "outputs": [],
      "source": [
        "# Outputs an image of the heatmap\n",
        "def visualize_Heatmap(heatmap,type,bl):\n",
        "    if type == 'kernel' or type == 'linear':\n",
        "        dim = len(heatmap)\n",
        "        axis_labels = list()\n",
        "        for i in range(0,dim):\n",
        "            axis_labels_inter = str('L%i'%(i+1))\n",
        "            axis_labels.append(axis_labels_inter)\n",
        "        _,ax = plt.subplots(figsize=(10,10))\n",
        "        ax.set_title('Similarity Measures - Index: CKA-'+ type)\n",
        "        sns.heatmap(heatmap, xticklabels=axis_labels, yticklabels=axis_labels, ax = ax, annot=bl)\n",
        "        ax.set_xlabel('L=# MixerLayer')\n",
        "        plt.savefig('CKA_'+ type +'.png', dpi=300)\n",
        "    else:\n",
        "        print('There is no such category, try again')\n"
      ]
    },
    {
      "cell_type": "code",
      "execution_count": 25,
      "metadata": {},
      "outputs": [
        {
          "data": {
            "text/plain": [
              "<matplotlib.image.AxesImage at 0x26704559b00>"
            ]
          },
          "execution_count": 25,
          "metadata": {},
          "output_type": "execute_result"
        },
        {
          "data": {
            "image/png": "[encoded data removed]",
            "text/plain": [
              "<Figure size 432x288 with 1 Axes>"
            ]
          },
          "metadata": {
            "needs_background": "light"
          },
          "output_type": "display_data"
        }
      ],
      "source": [
        "# Random sample\n",
        "ax1 = plt.axes()\n",
        "ax1.set_title('Original_Figure, Class: #' + str(y_train[num_example][0]))\n",
        "plt.imshow(x_train[num_example])\n"
      ]
    },
    {
      "cell_type": "code",
      "execution_count": 62,
      "metadata": {},
      "outputs": [
        {
          "name": "stdout",
          "output_type": "stream",
          "text": [
            "CKAkernelcalculated\n"
          ]
        },
        {
          "data": {
            "image/png": "[encoded data removed]",
            "text/plain": [
              "<Figure size 720x720 with 2 Axes>"
            ]
          },
          "metadata": {
            "needs_background": "light"
          },
          "output_type": "display_data"
        }
      ],
      "source": [
        "## Heatmap of activations of the random sample\n",
        "heatmap_CKA_raw = Heatmap(result,'kernel')\n",
        "visualize_Heatmap(heatmap_CKA_raw,'kernel',True)"
      ]
    },
    {
      "cell_type": "markdown",
      "metadata": {},
      "source": [
        "## CKA Kernel for a Batch\n",
        "\n",
        "We apply previous methods to calculate this"
      ]
    },
    {
      "cell_type": "code",
      "execution_count": 27,
      "metadata": {},
      "outputs": [],
      "source": [
        "import random"
      ]
    },
    {
      "cell_type": "code",
      "execution_count": 57,
      "metadata": {},
      "outputs": [],
      "source": [
        "# Creates a random vector with indexes of a random batch selection and also regularizes the selected batch\n",
        "def Batch_Regularization(batch_size):\n",
        "    #Vector with the number of Sample of the Xtrain\n",
        "    a  = list(range(0,x_train.shape[0]))\n",
        "    b = random.sample(a,batch_size)\n",
        "    batch_regularization = list()\n",
        "    for i in range(0,batch_size):\n",
        "        inter_result = Regularization(b[i])\n",
        "        batch_regularization.append(inter_result)\n",
        "    return batch_regularization\n"
      ]
    },
    {
      "cell_type": "code",
      "execution_count": 58,
      "metadata": {},
      "outputs": [],
      "source": [
        "#First Approach\n",
        "def Prom_Mixer_Activations_Blocks(batch_regularization):\n",
        "    sum = list()\n",
        "    for i in range(0,num_blocks):\n",
        "        sum_raw = np.zeros((embedding_dim,num_patches))\n",
        "        sum.append(sum_raw)\n",
        "    for i in range(0,batch_size):\n",
        "        mixer_raw = Mixer_Activations(batch_regularization[i])\n",
        "        for i in range(0,num_blocks):\n",
        "            sum[i] = np.add(mixer_raw[i],sum[i])\n",
        "    prom_mixer_activations = [ (number / batch_size)  for number in sum]\n",
        "    return prom_mixer_activations"
      ]
    },
    {
      "cell_type": "code",
      "execution_count": 59,
      "metadata": {},
      "outputs": [],
      "source": [
        "#Second Approach\n",
        "def Prom_Mixer_Heatmaps(batch_result,type):\n",
        "    mat_heatmaps = list()\n",
        "    prom_mixer_heatmap_raw = np.zeros((num_blocks,num_blocks))\n",
        "    for i in range(0,batch_size):\n",
        "        mixer_activations_raw = Mixer_Activations(batch_result[i])\n",
        "        heatmap_raw = Heatmap(mixer_activations_raw, type)\n",
        "        mat_heatmaps.append(heatmap_raw)\n",
        "        prom_mixer_heatmap_raw = np.add(heatmap_raw,prom_mixer_heatmap_raw)\n",
        "    prom_mixer_heatmap =  prom_mixer_heatmap_raw/128  \n",
        "    return prom_mixer_heatmap,mat_heatmaps\n",
        "        "
      ]
    },
    {
      "cell_type": "code",
      "execution_count": 31,
      "metadata": {},
      "outputs": [],
      "source": [
        "#Run separtely to avoid randomness\n",
        "batch_regularized = Batch_Regularization(batch_size)"
      ]
    },
    {
      "cell_type": "code",
      "execution_count": 66,
      "metadata": {},
      "outputs": [
        {
          "name": "stdout",
          "output_type": "stream",
          "text": [
            "CKAkernelcalculated\n"
          ]
        },
        {
          "data": {
            "image/png": "[encoded data removed]",
            "text/plain": [
              "<Figure size 720x720 with 2 Axes>"
            ]
          },
          "metadata": {
            "needs_background": "light"
          },
          "output_type": "display_data"
        }
      ],
      "source": [
        "#First Approach\n",
        "prom_mixer_activations = Prom_Mixer_Activations_Blocks(batch_regularized)\n",
        "global_heatmap = Heatmap(prom_mixer_activations,'kernel')\n",
        "visualize_Heatmap(global_heatmap,'kernel',True)"
      ]
    },
    {
      "cell_type": "code",
      "execution_count": 67,
      "metadata": {},
      "outputs": [
        {
          "name": "stdout",
          "output_type": "stream",
          "text": [
            "CKAkernelcalculated\n",
            "CKAkernelcalculated\n",
            "CKAkernelcalculated\n",
            "CKAkernelcalculated\n",
            "CKAkernelcalculated\n",
            "CKAkernelcalculated\n",
            "CKAkernelcalculated\n",
            "CKAkernelcalculated\n",
            "CKAkernelcalculated\n",
            "CKAkernelcalculated\n",
            "CKAkernelcalculated\n",
            "CKAkernelcalculated\n",
            "CKAkernelcalculated\n",
            "CKAkernelcalculated\n",
            "CKAkernelcalculated\n",
            "CKAkernelcalculated\n",
            "CKAkernelcalculated\n",
            "CKAkernelcalculated\n",
            "CKAkernelcalculated\n",
            "CKAkernelcalculated\n",
            "CKAkernelcalculated\n",
            "CKAkernelcalculated\n",
            "CKAkernelcalculated\n",
            "CKAkernelcalculated\n",
            "CKAkernelcalculated\n",
            "CKAkernelcalculated\n",
            "CKAkernelcalculated\n",
            "CKAkernelcalculated\n",
            "CKAkernelcalculated\n",
            "CKAkernelcalculated\n",
            "CKAkernelcalculated\n",
            "CKAkernelcalculated\n",
            "CKAkernelcalculated\n",
            "CKAkernelcalculated\n",
            "CKAkernelcalculated\n",
            "CKAkernelcalculated\n",
            "CKAkernelcalculated\n",
            "CKAkernelcalculated\n",
            "CKAkernelcalculated\n",
            "CKAkernelcalculated\n",
            "CKAkernelcalculated\n",
            "CKAkernelcalculated\n",
            "CKAkernelcalculated\n",
            "CKAkernelcalculated\n",
            "CKAkernelcalculated\n",
            "CKAkernelcalculated\n",
            "CKAkernelcalculated\n",
            "CKAkernelcalculated\n",
            "CKAkernelcalculated\n",
            "CKAkernelcalculated\n",
            "CKAkernelcalculated\n",
            "CKAkernelcalculated\n",
            "CKAkernelcalculated\n",
            "CKAkernelcalculated\n",
            "CKAkernelcalculated\n",
            "CKAkernelcalculated\n",
            "CKAkernelcalculated\n",
            "CKAkernelcalculated\n",
            "CKAkernelcalculated\n",
            "CKAkernelcalculated\n",
            "CKAkernelcalculated\n",
            "CKAkernelcalculated\n",
            "CKAkernelcalculated\n",
            "CKAkernelcalculated\n",
            "CKAkernelcalculated\n",
            "CKAkernelcalculated\n",
            "CKAkernelcalculated\n",
            "CKAkernelcalculated\n",
            "CKAkernelcalculated\n",
            "CKAkernelcalculated\n",
            "CKAkernelcalculated\n",
            "CKAkernelcalculated\n",
            "CKAkernelcalculated\n",
            "CKAkernelcalculated\n",
            "CKAkernelcalculated\n",
            "CKAkernelcalculated\n",
            "CKAkernelcalculated\n",
            "CKAkernelcalculated\n",
            "CKAkernelcalculated\n",
            "CKAkernelcalculated\n",
            "CKAkernelcalculated\n",
            "CKAkernelcalculated\n",
            "CKAkernelcalculated\n",
            "CKAkernelcalculated\n",
            "CKAkernelcalculated\n",
            "CKAkernelcalculated\n",
            "CKAkernelcalculated\n",
            "CKAkernelcalculated\n",
            "CKAkernelcalculated\n",
            "CKAkernelcalculated\n",
            "CKAkernelcalculated\n",
            "CKAkernelcalculated\n",
            "CKAkernelcalculated\n",
            "CKAkernelcalculated\n",
            "CKAkernelcalculated\n",
            "CKAkernelcalculated\n",
            "CKAkernelcalculated\n",
            "CKAkernelcalculated\n",
            "CKAkernelcalculated\n",
            "CKAkernelcalculated\n",
            "CKAkernelcalculated\n",
            "CKAkernelcalculated\n",
            "CKAkernelcalculated\n",
            "CKAkernelcalculated\n",
            "CKAkernelcalculated\n",
            "CKAkernelcalculated\n",
            "CKAkernelcalculated\n",
            "CKAkernelcalculated\n",
            "CKAkernelcalculated\n",
            "CKAkernelcalculated\n",
            "CKAkernelcalculated\n",
            "CKAkernelcalculated\n",
            "CKAkernelcalculated\n",
            "CKAkernelcalculated\n",
            "CKAkernelcalculated\n",
            "CKAkernelcalculated\n",
            "CKAkernelcalculated\n",
            "CKAkernelcalculated\n",
            "CKAkernelcalculated\n",
            "CKAkernelcalculated\n",
            "CKAkernelcalculated\n",
            "CKAkernelcalculated\n",
            "CKAkernelcalculated\n",
            "CKAkernelcalculated\n",
            "CKAkernelcalculated\n",
            "CKAkernelcalculated\n",
            "CKAkernelcalculated\n",
            "CKAkernelcalculated\n"
          ]
        },
        {
          "data": {
            "image/png": "[encoded data removed]",
            "text/plain": [
              "<Figure size 720x720 with 2 Axes>"
            ]
          },
          "metadata": {
            "needs_background": "light"
          },
          "output_type": "display_data"
        }
      ],
      "source": [
        "#Second Approach\n",
        "global_heatmap,total_heatmaps = Prom_Mixer_Heatmaps(batch_regularized,'kernel')\n",
        "visualize_Heatmap(global_heatmap,'kernel',True)"
      ]
    }
  ],
  "metadata": {
    "colab": {
      "collapsed_sections": [],
      "name": "mlp_image_classification",
      "provenance": [],
      "toc_visible": true
    },
    "kernelspec": {
      "display_name": "Python 3",
      "language": "python",
      "name": "python3"
    },
    "language_info": {
      "codemirror_mode": {
        "name": "ipython",
        "version": 3
      },
      "file_extension": ".py",
      "mimetype": "text/x-python",
      "name": "python",
      "nbconvert_exporter": "python",
      "pygments_lexer": "ipython3",
      "version": "3.7.0"
    }
  },
  "nbformat": 4,
  "nbformat_minor": 0
}
